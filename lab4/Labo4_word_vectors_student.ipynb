{
 "cells": [
  {
   "cell_type": "markdown",
   "id": "ac5975ff",
   "metadata": {},
   "source": [
    "<img src=\"https://heig-vd.ch/docs/default-source/doc-global-newsletter/2020-slim.svg\" alt=\"Logo HEIG-VD\" style=\"width: 80px;\" align=\"right\"/>\n",
    "\n",
    "# Cours APN - Labo 4 : Visualisation de vecteurs de mots\n",
    "\n",
    "## Résumé\n",
    "Le but de ce laboratoire est de visualiser des vecteurs de mots grâce à des méthodes de réduction de dimensionnalité.  La visualisation permettra de deviner plus facilement le \"mot du jour\" dans le jeu en ligne [Cémantix](https://cemantix.certitudes.org/)."
   ]
  },
  {
   "cell_type": "markdown",
   "id": "b142169f",
   "metadata": {},
   "source": [
    "## 1. Prise en main de word2vec\n",
    "\n",
    "Le modèle Word2vec contient des _embeddings_ des mots qui sont appris automatiquement à partir de textes.  Chaque mot est donc représenté par un vecteur dans un espace avec plusieurs centaines de dimensions (p.ex. 300 ou 500).  Dans cet espace, les mots de sens ou d'usage proches ont des vecteurs proches (les _embeddings_ capturent la similarité entre mots).  Mais la dimensionnalité de l'espace fait qu'il est difficile de visualiser les vecteurs de mots.\n",
    "\n",
    "La librairie [Gensim](https://radimrehurek.com/gensim/index.html) permet de charger un modèle Word2vec existant (avec la fonction `load_word2vec_format(...)`) et de manipuler les vecteurs de mots (instances de la classe `KeyedVectors`).  On peut notamment utiliser la fonction `similarity(w1, w2)` qui retourne le cosinus des vecteurs correspondant aux mots `w1` et `w2`, à condition que ceux-ci soient connus du modèle.  On peut aussi utiliser la fonction `most_similar([w])` qui retourne les mots voisins d'un ou plusieurs mots.  La [documentation de KeyedVectors](https://radimrehurek.com/gensim/models/keyedvectors.html) fournit des exemples utiles.\n",
    "\n",
    "Veuillez télécharger l'_un des deux_ modèles word2vec suivants, déjà entraînés, mis à disposition par [J.-Ph. Fauconnier](https://fauconnier.github.io/#data):\n",
    "- [frWac_no_postag_no_phrase_500_cbow_cut100.bin](https://embeddings.net/embeddings/frWac_no_postag_no_phrase_500_cbow_cut100.bin) - plus petit (229 Mo), mais pas identique au modèle utilisé pour Cémantix ;\n",
    "- [frWac_no_postag_phrase_500_cbow_cut10.bin](https://embeddings.net/embeddings/frWac_no_postag_phrase_500_cbow_cut10.bin) - bien plus grand (2 Go) donc assez gourmand en mémoire, mais qui est exactement celui utilisé pour Cémantix.\n",
    "Veuillez placer le modèle choisi dans le dossier `gensim-data` de votre dossier utilisateur."
   ]
  },
  {
   "cell_type": "code",
   "execution_count": 2,
   "id": "d1ec9fe2",
   "metadata": {},
   "outputs": [],
   "source": [
    "# Téléchargement, si nécessaire.\n",
    "# import wget\n",
    "# url = 'https://embeddings.net/embeddings/frWac_no_postag_no_phrase_500_cbow_cut100.bin'\n",
    "# wget.download(url, path_to_model)"
   ]
  },
  {
   "cell_type": "code",
   "execution_count": 3,
   "id": "e84d558a",
   "metadata": {},
   "outputs": [],
   "source": [
    "from gensim.models import KeyedVectors"
   ]
  },
  {
   "cell_type": "code",
   "execution_count": 4,
   "id": "3711012d",
   "metadata": {},
   "outputs": [],
   "source": [
    "path_to_model = \"C:\\\\Users\\\\Julien\\\\Documents\\\\HEIG-VD\\\\S5_2024\\\\APN\\\\APN\\\\lab4\\\\frWac_no_postag_phrase_500_cbow_cut10.bin\" # à adapter"
   ]
  },
  {
   "cell_type": "code",
   "execution_count": 5,
   "id": "114bdda7",
   "metadata": {},
   "outputs": [],
   "source": [
    "model = KeyedVectors.load_word2vec_format(path_to_model, binary=True, unicode_errors=\"ignore\")"
   ]
  },
  {
   "cell_type": "markdown",
   "id": "86c45ba9",
   "metadata": {},
   "source": [
    "a. Choisissez deux mots de sens proches `w1` et `w2`, et un autre plus différent noté `w3`. Affichez la similarité selon word2vec (cosinus) entre chaque paire de mots.  Ces valeurs correspondent-elles à vos intuitions ?"
   ]
  },
  {
   "cell_type": "code",
   "execution_count": 6,
   "id": "a7170b8a",
   "metadata": {},
   "outputs": [
    {
     "name": "stdout",
     "output_type": "stream",
     "text": [
      "Similarité entre 'chat' et 'félin': 0.5748\n",
      "Similarité entre 'chat' et 'lapper': 0.1546\n",
      "Similarité entre 'félin' et 'lapper': 0.1847\n"
     ]
    }
   ],
   "source": [
    "w1 = 'chat'\n",
    "w2 = 'félin'\n",
    "w3 = 'lapper'\n",
    "\n",
    "sim_w1_w2 = model.similarity(w1, w2)\n",
    "sim_w1_w3 = model.similarity(w1, w3)\n",
    "sim_w2_w3 = model.similarity(w2, w3)\n",
    "\n",
    "print(f\"Similarité entre '{w1}' et '{w2}': {sim_w1_w2:.4f}\")\n",
    "print(f\"Similarité entre '{w1}' et '{w3}': {sim_w1_w3:.4f}\")\n",
    "print(f\"Similarité entre '{w2}' et '{w3}': {sim_w2_w3:.4f}\")\n"
   ]
  },
  {
   "cell_type": "markdown",
   "id": "b9ac52e3",
   "metadata": {},
   "source": [
    "b. Affichez les 10 mots les plus proches de `w1` selon word2vec avec pour chacun sa similarité avec `w1`. "
   ]
  },
  {
   "cell_type": "code",
   "execution_count": 7,
   "id": "0919678c",
   "metadata": {},
   "outputs": [
    {
     "name": "stdout",
     "output_type": "stream",
     "text": [
      "Les 10 mots les plus proches de 'chat\n",
      "minou: 0.6335\n",
      "matou: 0.6266\n",
      "petit_chatte: 0.6141\n",
      "chatte: 0.5922\n",
      "miauler: 0.5909\n",
      "chaton: 0.5889\n",
      "quoi_fouetter: 0.5832\n",
      "félin: 0.5748\n",
      "chien: 0.5650\n",
      "chats: 0.5555\n"
     ]
    }
   ],
   "source": [
    "w1 = 'chat'\n",
    "#mots voisins\n",
    "neighbour_words = model.most_similar(w1, topn=10)\n",
    "print(f\"Les 10 mots les plus proches de '{w1}\")\n",
    "\n",
    "for word, similarity in neighbour_words:\n",
    "    print(f\"{word}: {similarity:.4f}\")"
   ]
  },
  {
   "cell_type": "markdown",
   "id": "e763f4aa",
   "metadata": {},
   "source": [
    "c. Quels sont les 15 premiers coefficients du vecteur (_embedding_) du mot `w1` ? Quelle est la dimension de ce vecteur ?  Quelle est la taille du vocabulaire connu du modèle ?  Vous pouvez simplement écrire les commandes répondant à ces questions."
   ]
  },
  {
   "cell_type": "code",
   "execution_count": 8,
   "id": "a373edde",
   "metadata": {},
   "outputs": [
    {
     "name": "stdout",
     "output_type": "stream",
     "text": [
      "Les 15 premiers coefficients pour 'chat':\n",
      "[-0.5510563  -0.22379288  0.72409904 -0.82713395 -0.68234926  2.0828469\n",
      " -0.30507645  0.400353    0.9901076  -1.2962811   1.2319442   1.5554144\n",
      "  0.3478864  -1.6153904  -0.585831  ]\n",
      "La dimension du vecteur'chat': 500\n",
      "Taille du vocabulaire du modèle : 1081995\n"
     ]
    }
   ],
   "source": [
    "w1 = 'chat'\n",
    "print(f\"Les 15 premiers coefficients pour '{w1}':\")\n",
    "print(model[w1][:15])\n",
    "\n",
    "print(f\"La dimension du vecteur'{w1}': {len(model[w1])}\")\n",
    "\n",
    "print(f\"Taille du vocabulaire du modèle : {len(model.index_to_key)}\")\n"
   ]
  },
  {
   "cell_type": "markdown",
   "id": "136d3ca3",
   "metadata": {},
   "source": [
    "d. Veuillez écrire une fonction appelée `neighbors` selon les spécifications suivantes.  Cette fonction servira plus loin pour l'affichage.\n",
    "* input : modèle, liste de mots, nombre de voisins (`topn`) ;\n",
    "* output : liste de mots voisins de chacun des mots de l'input, représentés par un dictionnaire expliqué ci-après ;\n",
    "* fonctionnement : pour _chacun_ des mots donnés en input, la fonction teste si le mot est dans le vocabulaire du modèle word2vec (sinon elle ne le considère pas), puis demande au modèle la liste des `topn` mots voisins ; pour chacun de ces mots, la fonction construit un `dict` à 4 champs : \n",
    "  - mot voisin\n",
    "  - similarité\n",
    "  - mot de départ\n",
    "  - code de couleur associé au mot de départ : 1, 2, etc.\n",
    "\n",
    "**Exemple** : si on appelle la fonction avec \\['école'\\], le début du résultat sera :\n",
    "```\n",
    "[{'neighbor': 'scolaire',\n",
    "  'similarity': 0.7114928364753723,\n",
    "  'ref_word': 'école',\n",
    "  'color_code': 1}, ...\n",
    "```"
   ]
  },
  {
   "cell_type": "code",
   "execution_count": 9,
   "id": "60b01480",
   "metadata": {},
   "outputs": [],
   "source": [
    "def neighbors(model, word_list, topn = 5):\n",
    "    results = []\n",
    "    for idx, word in enumerate(word_list):\n",
    "        if word in model:\n",
    "\n",
    "            similar_words = model.most_similar(word, topn=topn)\n",
    "            \n",
    "            for neighbor, similarity in similar_words:\n",
    "                results.append({\n",
    "                    'neighbor': neighbor,\n",
    "                    'similarity': similarity,\n",
    "                    'ref_word': word,\n",
    "                    'color_code': idx + 1})\n",
    "        else:\n",
    "            print(f\"Le mot '{word}' n'est pas dans le vocabulaire du modèle.\")\n",
    "    \n",
    "    return results"
   ]
  },
  {
   "cell_type": "code",
   "execution_count": 10,
   "id": "28cd119b",
   "metadata": {},
   "outputs": [
    {
     "name": "stdout",
     "output_type": "stream",
     "text": [
      "[{'neighbor': 'minou', 'similarity': 0.6334686875343323, 'ref_word': 'chat', 'color_code': 1}, {'neighbor': 'matou', 'similarity': 0.626587450504303, 'ref_word': 'chat', 'color_code': 1}, {'neighbor': 'petit_chatte', 'similarity': 0.6141418218612671, 'ref_word': 'chat', 'color_code': 1}, {'neighbor': 'étude', 'similarity': 0.6593688726425171, 'ref_word': 'étudier', 'color_code': 2}, {'neighbor': 'analyser', 'similarity': 0.6340749263763428, 'ref_word': 'étudier', 'color_code': 2}, {'neighbor': 'approfondir', 'similarity': 0.5609511733055115, 'ref_word': 'étudier', 'color_code': 2}]\n"
     ]
    }
   ],
   "source": [
    "# Tester avec cet appel :\n",
    "print(neighbors(model, ['chat', 'étudier'], 3))"
   ]
  },
  {
   "cell_type": "markdown",
   "id": "11d19cd5",
   "metadata": {},
   "source": [
    "## 2. Affichage simple des voisins d'un mot\n",
    "\n",
    "Pour commencer, veuillez étudier et exécuter le code fourni en exemple : `Labo4_plotly.ipynb`.  Cela vous montrera comment utiliser l'affichage 2D/3D avec `plotly.js`, et vous permettra de traiter les questions suivantes.\n",
    "\n",
    "Veuillez écrire et exécuter une fonction qui effectue les opérations suivantes, étant donné un mot en entrée :\n",
    "* obtenir les vecteurs word2vec du mot et de ses `topn` plus proches voisins ;\n",
    "* transformer ces vecteurs en 2D par l'ACP ;\n",
    "* afficher en 2D chaque points correspondant à un mot, avec comme étiquette le mot lui-même.\n",
    "\n",
    "**Notes:** cette fonction sert de version préliminaire à une fonction plus générique demandée ci-dessous.  Il n'est pas demandé de distinguer le mot entré des mots voisins, dans l'affichage (même type de points).  Il n'est pas nécessaire pour l'instant d'utiliser la fonction `neighbors`."
   ]
  },
  {
   "cell_type": "code",
   "execution_count": 11,
   "id": "c35a4625",
   "metadata": {},
   "outputs": [],
   "source": [
    "import plotly\n",
    "import numpy as np\n",
    "import plotly.graph_objs as go\n",
    "from sklearn.decomposition import PCA"
   ]
  },
  {
   "cell_type": "code",
   "execution_count": 12,
   "id": "0cd4156a",
   "metadata": {},
   "outputs": [],
   "source": [
    "def display_PCA_2D_neighbors(model, word, topn = 5):\n",
    "    if word not in model:\n",
    "        print(f\"Le mot '{word}' n'est pas dans le vocabulaire du modèle.\")\n",
    "        return\n",
    "    \n",
    "    similar_words = model.most_similar(word, topn=topn)\n",
    "    words = [word] + [w[0] for w in similar_words]  # Liste de mots incluant le mot de départ\n",
    "    vectors = np.array([model[w] for w in words])   # Récupérer les vecteurs correspondants\n",
    "    \n",
    "    pca = PCA(n_components=2)\n",
    "    vectors_2d = pca.fit_transform(vectors)\n",
    "    \n",
    "    trace = go.Scatter(\n",
    "        x=vectors_2d[:, 0],\n",
    "        y=vectors_2d[:, 1],\n",
    "        mode='markers+text',\n",
    "        text=words,\n",
    "        textposition='top center',\n",
    "        marker=dict(size=10, color='blue')\n",
    "    )\n",
    "    layout = go.Layout(\n",
    "        title=f\"Projection 2D de '{word}' et de ses voisins\",\n",
    "        xaxis=dict(title='CP 1'),\n",
    "        yaxis=dict(title='CP 2'),\n",
    "        showlegend=False\n",
    "    )\n",
    "\n",
    "    fig = go.Figure(data=[trace], layout=layout)\n",
    "    fig.show()"
   ]
  },
  {
   "cell_type": "code",
   "execution_count": 13,
   "id": "ba143b79",
   "metadata": {},
   "outputs": [
    {
     "data": {
      "application/vnd.plotly.v1+json": {
       "config": {
        "plotlyServerURL": "https://plot.ly"
       },
       "data": [
        {
         "marker": {
          "color": "blue",
          "size": 10
         },
         "mode": "markers+text",
         "text": [
          "chat",
          "minou",
          "matou",
          "petit_chatte",
          "chatte",
          "miauler",
          "chaton",
          "quoi_fouetter",
          "félin",
          "chien",
          "chats",
          "comportementaliste_spécialiste",
          "miaulement",
          "toutou",
          "ragdoll",
          "chien_chat",
          "chiens",
          "souris_danser",
          "chat_tigré",
          "blogs_profile_ou",
          "gros_matou"
         ],
         "textposition": "top center",
         "type": "scatter",
         "x": [
          -3.652456521987915,
          -2.796438455581665,
          -0.4063856899738312,
          -0.9731664061546326,
          -3.177701950073242,
          0.854726254940033,
          -7.152242660522461,
          6.4975810050964355,
          2.0853521823883057,
          -10.021227836608887,
          -0.3510477840900421,
          7.817939281463623,
          2.773651599884033,
          -9.08459758758545,
          3.410712957382202,
          -4.905318737030029,
          -9.659889221191406,
          7.545124530792236,
          6.625531196594238,
          8.972261428833008,
          5.597592830657959
         ],
         "y": [
          3.0976104736328125,
          3.9720664024353027,
          3.7613883018493652,
          5.506980895996094,
          10.872886657714844,
          3.2924959659576416,
          11.369356155395508,
          -1.8319326639175415,
          3.619497299194336,
          -6.61375617980957,
          -5.566887855529785,
          -3.2381670475006104,
          1.7369621992111206,
          -3.2057437896728516,
          -0.9900428652763367,
          -7.601845741271973,
          -10.14073657989502,
          -2.3084921836853027,
          -1.8173397779464722,
          -3.1532862186431885,
          -0.7610011696815491
         ]
        }
       ],
       "layout": {
        "showlegend": false,
        "template": {
         "data": {
          "bar": [
           {
            "error_x": {
             "color": "#2a3f5f"
            },
            "error_y": {
             "color": "#2a3f5f"
            },
            "marker": {
             "line": {
              "color": "#E5ECF6",
              "width": 0.5
             },
             "pattern": {
              "fillmode": "overlay",
              "size": 10,
              "solidity": 0.2
             }
            },
            "type": "bar"
           }
          ],
          "barpolar": [
           {
            "marker": {
             "line": {
              "color": "#E5ECF6",
              "width": 0.5
             },
             "pattern": {
              "fillmode": "overlay",
              "size": 10,
              "solidity": 0.2
             }
            },
            "type": "barpolar"
           }
          ],
          "carpet": [
           {
            "aaxis": {
             "endlinecolor": "#2a3f5f",
             "gridcolor": "white",
             "linecolor": "white",
             "minorgridcolor": "white",
             "startlinecolor": "#2a3f5f"
            },
            "baxis": {
             "endlinecolor": "#2a3f5f",
             "gridcolor": "white",
             "linecolor": "white",
             "minorgridcolor": "white",
             "startlinecolor": "#2a3f5f"
            },
            "type": "carpet"
           }
          ],
          "choropleth": [
           {
            "colorbar": {
             "outlinewidth": 0,
             "ticks": ""
            },
            "type": "choropleth"
           }
          ],
          "contour": [
           {
            "colorbar": {
             "outlinewidth": 0,
             "ticks": ""
            },
            "colorscale": [
             [
              0,
              "#0d0887"
             ],
             [
              0.1111111111111111,
              "#46039f"
             ],
             [
              0.2222222222222222,
              "#7201a8"
             ],
             [
              0.3333333333333333,
              "#9c179e"
             ],
             [
              0.4444444444444444,
              "#bd3786"
             ],
             [
              0.5555555555555556,
              "#d8576b"
             ],
             [
              0.6666666666666666,
              "#ed7953"
             ],
             [
              0.7777777777777778,
              "#fb9f3a"
             ],
             [
              0.8888888888888888,
              "#fdca26"
             ],
             [
              1,
              "#f0f921"
             ]
            ],
            "type": "contour"
           }
          ],
          "contourcarpet": [
           {
            "colorbar": {
             "outlinewidth": 0,
             "ticks": ""
            },
            "type": "contourcarpet"
           }
          ],
          "heatmap": [
           {
            "colorbar": {
             "outlinewidth": 0,
             "ticks": ""
            },
            "colorscale": [
             [
              0,
              "#0d0887"
             ],
             [
              0.1111111111111111,
              "#46039f"
             ],
             [
              0.2222222222222222,
              "#7201a8"
             ],
             [
              0.3333333333333333,
              "#9c179e"
             ],
             [
              0.4444444444444444,
              "#bd3786"
             ],
             [
              0.5555555555555556,
              "#d8576b"
             ],
             [
              0.6666666666666666,
              "#ed7953"
             ],
             [
              0.7777777777777778,
              "#fb9f3a"
             ],
             [
              0.8888888888888888,
              "#fdca26"
             ],
             [
              1,
              "#f0f921"
             ]
            ],
            "type": "heatmap"
           }
          ],
          "heatmapgl": [
           {
            "colorbar": {
             "outlinewidth": 0,
             "ticks": ""
            },
            "colorscale": [
             [
              0,
              "#0d0887"
             ],
             [
              0.1111111111111111,
              "#46039f"
             ],
             [
              0.2222222222222222,
              "#7201a8"
             ],
             [
              0.3333333333333333,
              "#9c179e"
             ],
             [
              0.4444444444444444,
              "#bd3786"
             ],
             [
              0.5555555555555556,
              "#d8576b"
             ],
             [
              0.6666666666666666,
              "#ed7953"
             ],
             [
              0.7777777777777778,
              "#fb9f3a"
             ],
             [
              0.8888888888888888,
              "#fdca26"
             ],
             [
              1,
              "#f0f921"
             ]
            ],
            "type": "heatmapgl"
           }
          ],
          "histogram": [
           {
            "marker": {
             "pattern": {
              "fillmode": "overlay",
              "size": 10,
              "solidity": 0.2
             }
            },
            "type": "histogram"
           }
          ],
          "histogram2d": [
           {
            "colorbar": {
             "outlinewidth": 0,
             "ticks": ""
            },
            "colorscale": [
             [
              0,
              "#0d0887"
             ],
             [
              0.1111111111111111,
              "#46039f"
             ],
             [
              0.2222222222222222,
              "#7201a8"
             ],
             [
              0.3333333333333333,
              "#9c179e"
             ],
             [
              0.4444444444444444,
              "#bd3786"
             ],
             [
              0.5555555555555556,
              "#d8576b"
             ],
             [
              0.6666666666666666,
              "#ed7953"
             ],
             [
              0.7777777777777778,
              "#fb9f3a"
             ],
             [
              0.8888888888888888,
              "#fdca26"
             ],
             [
              1,
              "#f0f921"
             ]
            ],
            "type": "histogram2d"
           }
          ],
          "histogram2dcontour": [
           {
            "colorbar": {
             "outlinewidth": 0,
             "ticks": ""
            },
            "colorscale": [
             [
              0,
              "#0d0887"
             ],
             [
              0.1111111111111111,
              "#46039f"
             ],
             [
              0.2222222222222222,
              "#7201a8"
             ],
             [
              0.3333333333333333,
              "#9c179e"
             ],
             [
              0.4444444444444444,
              "#bd3786"
             ],
             [
              0.5555555555555556,
              "#d8576b"
             ],
             [
              0.6666666666666666,
              "#ed7953"
             ],
             [
              0.7777777777777778,
              "#fb9f3a"
             ],
             [
              0.8888888888888888,
              "#fdca26"
             ],
             [
              1,
              "#f0f921"
             ]
            ],
            "type": "histogram2dcontour"
           }
          ],
          "mesh3d": [
           {
            "colorbar": {
             "outlinewidth": 0,
             "ticks": ""
            },
            "type": "mesh3d"
           }
          ],
          "parcoords": [
           {
            "line": {
             "colorbar": {
              "outlinewidth": 0,
              "ticks": ""
             }
            },
            "type": "parcoords"
           }
          ],
          "pie": [
           {
            "automargin": true,
            "type": "pie"
           }
          ],
          "scatter": [
           {
            "fillpattern": {
             "fillmode": "overlay",
             "size": 10,
             "solidity": 0.2
            },
            "type": "scatter"
           }
          ],
          "scatter3d": [
           {
            "line": {
             "colorbar": {
              "outlinewidth": 0,
              "ticks": ""
             }
            },
            "marker": {
             "colorbar": {
              "outlinewidth": 0,
              "ticks": ""
             }
            },
            "type": "scatter3d"
           }
          ],
          "scattercarpet": [
           {
            "marker": {
             "colorbar": {
              "outlinewidth": 0,
              "ticks": ""
             }
            },
            "type": "scattercarpet"
           }
          ],
          "scattergeo": [
           {
            "marker": {
             "colorbar": {
              "outlinewidth": 0,
              "ticks": ""
             }
            },
            "type": "scattergeo"
           }
          ],
          "scattergl": [
           {
            "marker": {
             "colorbar": {
              "outlinewidth": 0,
              "ticks": ""
             }
            },
            "type": "scattergl"
           }
          ],
          "scattermapbox": [
           {
            "marker": {
             "colorbar": {
              "outlinewidth": 0,
              "ticks": ""
             }
            },
            "type": "scattermapbox"
           }
          ],
          "scatterpolar": [
           {
            "marker": {
             "colorbar": {
              "outlinewidth": 0,
              "ticks": ""
             }
            },
            "type": "scatterpolar"
           }
          ],
          "scatterpolargl": [
           {
            "marker": {
             "colorbar": {
              "outlinewidth": 0,
              "ticks": ""
             }
            },
            "type": "scatterpolargl"
           }
          ],
          "scatterternary": [
           {
            "marker": {
             "colorbar": {
              "outlinewidth": 0,
              "ticks": ""
             }
            },
            "type": "scatterternary"
           }
          ],
          "surface": [
           {
            "colorbar": {
             "outlinewidth": 0,
             "ticks": ""
            },
            "colorscale": [
             [
              0,
              "#0d0887"
             ],
             [
              0.1111111111111111,
              "#46039f"
             ],
             [
              0.2222222222222222,
              "#7201a8"
             ],
             [
              0.3333333333333333,
              "#9c179e"
             ],
             [
              0.4444444444444444,
              "#bd3786"
             ],
             [
              0.5555555555555556,
              "#d8576b"
             ],
             [
              0.6666666666666666,
              "#ed7953"
             ],
             [
              0.7777777777777778,
              "#fb9f3a"
             ],
             [
              0.8888888888888888,
              "#fdca26"
             ],
             [
              1,
              "#f0f921"
             ]
            ],
            "type": "surface"
           }
          ],
          "table": [
           {
            "cells": {
             "fill": {
              "color": "#EBF0F8"
             },
             "line": {
              "color": "white"
             }
            },
            "header": {
             "fill": {
              "color": "#C8D4E3"
             },
             "line": {
              "color": "white"
             }
            },
            "type": "table"
           }
          ]
         },
         "layout": {
          "annotationdefaults": {
           "arrowcolor": "#2a3f5f",
           "arrowhead": 0,
           "arrowwidth": 1
          },
          "autotypenumbers": "strict",
          "coloraxis": {
           "colorbar": {
            "outlinewidth": 0,
            "ticks": ""
           }
          },
          "colorscale": {
           "diverging": [
            [
             0,
             "#8e0152"
            ],
            [
             0.1,
             "#c51b7d"
            ],
            [
             0.2,
             "#de77ae"
            ],
            [
             0.3,
             "#f1b6da"
            ],
            [
             0.4,
             "#fde0ef"
            ],
            [
             0.5,
             "#f7f7f7"
            ],
            [
             0.6,
             "#e6f5d0"
            ],
            [
             0.7,
             "#b8e186"
            ],
            [
             0.8,
             "#7fbc41"
            ],
            [
             0.9,
             "#4d9221"
            ],
            [
             1,
             "#276419"
            ]
           ],
           "sequential": [
            [
             0,
             "#0d0887"
            ],
            [
             0.1111111111111111,
             "#46039f"
            ],
            [
             0.2222222222222222,
             "#7201a8"
            ],
            [
             0.3333333333333333,
             "#9c179e"
            ],
            [
             0.4444444444444444,
             "#bd3786"
            ],
            [
             0.5555555555555556,
             "#d8576b"
            ],
            [
             0.6666666666666666,
             "#ed7953"
            ],
            [
             0.7777777777777778,
             "#fb9f3a"
            ],
            [
             0.8888888888888888,
             "#fdca26"
            ],
            [
             1,
             "#f0f921"
            ]
           ],
           "sequentialminus": [
            [
             0,
             "#0d0887"
            ],
            [
             0.1111111111111111,
             "#46039f"
            ],
            [
             0.2222222222222222,
             "#7201a8"
            ],
            [
             0.3333333333333333,
             "#9c179e"
            ],
            [
             0.4444444444444444,
             "#bd3786"
            ],
            [
             0.5555555555555556,
             "#d8576b"
            ],
            [
             0.6666666666666666,
             "#ed7953"
            ],
            [
             0.7777777777777778,
             "#fb9f3a"
            ],
            [
             0.8888888888888888,
             "#fdca26"
            ],
            [
             1,
             "#f0f921"
            ]
           ]
          },
          "colorway": [
           "#636efa",
           "#EF553B",
           "#00cc96",
           "#ab63fa",
           "#FFA15A",
           "#19d3f3",
           "#FF6692",
           "#B6E880",
           "#FF97FF",
           "#FECB52"
          ],
          "font": {
           "color": "#2a3f5f"
          },
          "geo": {
           "bgcolor": "white",
           "lakecolor": "white",
           "landcolor": "#E5ECF6",
           "showlakes": true,
           "showland": true,
           "subunitcolor": "white"
          },
          "hoverlabel": {
           "align": "left"
          },
          "hovermode": "closest",
          "mapbox": {
           "style": "light"
          },
          "paper_bgcolor": "white",
          "plot_bgcolor": "#E5ECF6",
          "polar": {
           "angularaxis": {
            "gridcolor": "white",
            "linecolor": "white",
            "ticks": ""
           },
           "bgcolor": "#E5ECF6",
           "radialaxis": {
            "gridcolor": "white",
            "linecolor": "white",
            "ticks": ""
           }
          },
          "scene": {
           "xaxis": {
            "backgroundcolor": "#E5ECF6",
            "gridcolor": "white",
            "gridwidth": 2,
            "linecolor": "white",
            "showbackground": true,
            "ticks": "",
            "zerolinecolor": "white"
           },
           "yaxis": {
            "backgroundcolor": "#E5ECF6",
            "gridcolor": "white",
            "gridwidth": 2,
            "linecolor": "white",
            "showbackground": true,
            "ticks": "",
            "zerolinecolor": "white"
           },
           "zaxis": {
            "backgroundcolor": "#E5ECF6",
            "gridcolor": "white",
            "gridwidth": 2,
            "linecolor": "white",
            "showbackground": true,
            "ticks": "",
            "zerolinecolor": "white"
           }
          },
          "shapedefaults": {
           "line": {
            "color": "#2a3f5f"
           }
          },
          "ternary": {
           "aaxis": {
            "gridcolor": "white",
            "linecolor": "white",
            "ticks": ""
           },
           "baxis": {
            "gridcolor": "white",
            "linecolor": "white",
            "ticks": ""
           },
           "bgcolor": "#E5ECF6",
           "caxis": {
            "gridcolor": "white",
            "linecolor": "white",
            "ticks": ""
           }
          },
          "title": {
           "x": 0.05
          },
          "xaxis": {
           "automargin": true,
           "gridcolor": "white",
           "linecolor": "white",
           "ticks": "",
           "title": {
            "standoff": 15
           },
           "zerolinecolor": "white",
           "zerolinewidth": 2
          },
          "yaxis": {
           "automargin": true,
           "gridcolor": "white",
           "linecolor": "white",
           "ticks": "",
           "title": {
            "standoff": 15
           },
           "zerolinecolor": "white",
           "zerolinewidth": 2
          }
         }
        },
        "title": {
         "text": "Projection 2D de 'chat' et de ses voisins"
        },
        "xaxis": {
         "title": {
          "text": "CP 1"
         }
        },
        "yaxis": {
         "title": {
          "text": "CP 2"
         }
        }
       }
      }
     },
     "metadata": {},
     "output_type": "display_data"
    }
   ],
   "source": [
    "display_PCA_2D_neighbors(model, 'chat', 20)"
   ]
  },
  {
   "cell_type": "markdown",
   "id": "82f594e0",
   "metadata": {},
   "source": [
    "## 3. Affichage configurable des voisins de plusieurs mots\n",
    "\n",
    "Le but maintenant est d'écrire une fonction `display_dimred_neighbors` qui affiche sur un seul graphique les mots voisins de chaque mot d'une liste de mots donnés.  Vous utiliserez ici la fonction auxiliaire `neighbors` définie plus haut  Les paramètres suivants seront passés à la fonction `display_dimred_neighbors` :\n",
    "\n",
    "* `model` - le nom du modèle word2vec\n",
    "* `word_list` - liste de mots dont on veut afficher les voisins (s'ils existent dans `model`)\n",
    "* `n_components` - dimensionnalité de l'affichage, 2 ou 3\n",
    "* `topn` - nombre de voisins à afficher pour chaque mot \n",
    "* `method` - **méthode de réduction de dimensionnalité : pca, mds, isomap, tsne, ou umap**\n",
    "* `n_neighbors`- nombre de voisins considérés par la méthode (applicable à isomap, umap, et tsne (appelé alors `perplexity`)).\n",
    "\n",
    "Trois tests sont demandés à la question 4, mais vous pouvez en exécuter d'autres et les inclure ici."
   ]
  },
  {
   "cell_type": "code",
   "execution_count": 14,
   "id": "9fcd5af4",
   "metadata": {},
   "outputs": [],
   "source": [
    "from sklearn.decomposition import PCA\n",
    "from sklearn.manifold import MDS\n",
    "from sklearn.manifold import Isomap\n",
    "from sklearn.manifold import TSNE\n",
    "from umap import UMAP # Attention, installer le module nommé 'umap-learn' (avec conda install)."
   ]
  },
  {
   "cell_type": "code",
   "execution_count": 62,
   "id": "84c9d33f",
   "metadata": {},
   "outputs": [
    {
     "name": "stderr",
     "output_type": "stream",
     "text": [
      "c:\\Users\\Julien\\miniconda3\\envs\\PCD\\Lib\\site-packages\\umap\\umap_.py:1952: UserWarning:\n",
      "\n",
      "n_jobs value 1 overridden to 1 by setting random_state. Use no seed for parallelism.\n",
      "\n"
     ]
    },
    {
     "data": {
      "application/vnd.plotly.v1+json": {
       "config": {
        "plotlyServerURL": "https://plot.ly"
       },
       "data": [
        {
         "marker": {
          "color": "rgba(93, 164, 214, 0.8)",
          "size": 10
         },
         "mode": "markers+text",
         "text": [
          "chien",
          "minou",
          "petit_chatte",
          "aboyer",
          "chat",
          "toutou",
          "chiens",
          "matou",
          "cocker",
          "chienne",
          "chatte",
          "miauler"
         ],
         "textposition": "top center",
         "type": "scatter",
         "x": [
          5.5268049240112305,
          9.518691062927246,
          9.247085571289062,
          5.795844554901123,
          9.123507499694824,
          5.091268062591553,
          4.973935127258301,
          8.730151176452637,
          6.520998001098633,
          6.083415985107422,
          8.757946968078613,
          8.020922660827637
         ],
         "y": [
          2.948380470275879,
          1.1387149095535278,
          2.4001145362854004,
          2.232943058013916,
          1.6778532266616821,
          3.5409038066864014,
          2.6964755058288574,
          1.0678021907806396,
          2.9403064250946045,
          3.5681638717651367,
          2.153280019760132,
          0.9417107105255127
         ]
        }
       ],
       "layout": {
        "height": 1000,
        "scene": {
         "xaxis": {
          "title": {
           "text": "Composante 1"
          }
         },
         "yaxis": {
          "title": {
           "text": "Composante 2"
          }
         }
        },
        "showlegend": false,
        "template": {
         "data": {
          "bar": [
           {
            "error_x": {
             "color": "#2a3f5f"
            },
            "error_y": {
             "color": "#2a3f5f"
            },
            "marker": {
             "line": {
              "color": "#E5ECF6",
              "width": 0.5
             },
             "pattern": {
              "fillmode": "overlay",
              "size": 10,
              "solidity": 0.2
             }
            },
            "type": "bar"
           }
          ],
          "barpolar": [
           {
            "marker": {
             "line": {
              "color": "#E5ECF6",
              "width": 0.5
             },
             "pattern": {
              "fillmode": "overlay",
              "size": 10,
              "solidity": 0.2
             }
            },
            "type": "barpolar"
           }
          ],
          "carpet": [
           {
            "aaxis": {
             "endlinecolor": "#2a3f5f",
             "gridcolor": "white",
             "linecolor": "white",
             "minorgridcolor": "white",
             "startlinecolor": "#2a3f5f"
            },
            "baxis": {
             "endlinecolor": "#2a3f5f",
             "gridcolor": "white",
             "linecolor": "white",
             "minorgridcolor": "white",
             "startlinecolor": "#2a3f5f"
            },
            "type": "carpet"
           }
          ],
          "choropleth": [
           {
            "colorbar": {
             "outlinewidth": 0,
             "ticks": ""
            },
            "type": "choropleth"
           }
          ],
          "contour": [
           {
            "colorbar": {
             "outlinewidth": 0,
             "ticks": ""
            },
            "colorscale": [
             [
              0,
              "#0d0887"
             ],
             [
              0.1111111111111111,
              "#46039f"
             ],
             [
              0.2222222222222222,
              "#7201a8"
             ],
             [
              0.3333333333333333,
              "#9c179e"
             ],
             [
              0.4444444444444444,
              "#bd3786"
             ],
             [
              0.5555555555555556,
              "#d8576b"
             ],
             [
              0.6666666666666666,
              "#ed7953"
             ],
             [
              0.7777777777777778,
              "#fb9f3a"
             ],
             [
              0.8888888888888888,
              "#fdca26"
             ],
             [
              1,
              "#f0f921"
             ]
            ],
            "type": "contour"
           }
          ],
          "contourcarpet": [
           {
            "colorbar": {
             "outlinewidth": 0,
             "ticks": ""
            },
            "type": "contourcarpet"
           }
          ],
          "heatmap": [
           {
            "colorbar": {
             "outlinewidth": 0,
             "ticks": ""
            },
            "colorscale": [
             [
              0,
              "#0d0887"
             ],
             [
              0.1111111111111111,
              "#46039f"
             ],
             [
              0.2222222222222222,
              "#7201a8"
             ],
             [
              0.3333333333333333,
              "#9c179e"
             ],
             [
              0.4444444444444444,
              "#bd3786"
             ],
             [
              0.5555555555555556,
              "#d8576b"
             ],
             [
              0.6666666666666666,
              "#ed7953"
             ],
             [
              0.7777777777777778,
              "#fb9f3a"
             ],
             [
              0.8888888888888888,
              "#fdca26"
             ],
             [
              1,
              "#f0f921"
             ]
            ],
            "type": "heatmap"
           }
          ],
          "heatmapgl": [
           {
            "colorbar": {
             "outlinewidth": 0,
             "ticks": ""
            },
            "colorscale": [
             [
              0,
              "#0d0887"
             ],
             [
              0.1111111111111111,
              "#46039f"
             ],
             [
              0.2222222222222222,
              "#7201a8"
             ],
             [
              0.3333333333333333,
              "#9c179e"
             ],
             [
              0.4444444444444444,
              "#bd3786"
             ],
             [
              0.5555555555555556,
              "#d8576b"
             ],
             [
              0.6666666666666666,
              "#ed7953"
             ],
             [
              0.7777777777777778,
              "#fb9f3a"
             ],
             [
              0.8888888888888888,
              "#fdca26"
             ],
             [
              1,
              "#f0f921"
             ]
            ],
            "type": "heatmapgl"
           }
          ],
          "histogram": [
           {
            "marker": {
             "pattern": {
              "fillmode": "overlay",
              "size": 10,
              "solidity": 0.2
             }
            },
            "type": "histogram"
           }
          ],
          "histogram2d": [
           {
            "colorbar": {
             "outlinewidth": 0,
             "ticks": ""
            },
            "colorscale": [
             [
              0,
              "#0d0887"
             ],
             [
              0.1111111111111111,
              "#46039f"
             ],
             [
              0.2222222222222222,
              "#7201a8"
             ],
             [
              0.3333333333333333,
              "#9c179e"
             ],
             [
              0.4444444444444444,
              "#bd3786"
             ],
             [
              0.5555555555555556,
              "#d8576b"
             ],
             [
              0.6666666666666666,
              "#ed7953"
             ],
             [
              0.7777777777777778,
              "#fb9f3a"
             ],
             [
              0.8888888888888888,
              "#fdca26"
             ],
             [
              1,
              "#f0f921"
             ]
            ],
            "type": "histogram2d"
           }
          ],
          "histogram2dcontour": [
           {
            "colorbar": {
             "outlinewidth": 0,
             "ticks": ""
            },
            "colorscale": [
             [
              0,
              "#0d0887"
             ],
             [
              0.1111111111111111,
              "#46039f"
             ],
             [
              0.2222222222222222,
              "#7201a8"
             ],
             [
              0.3333333333333333,
              "#9c179e"
             ],
             [
              0.4444444444444444,
              "#bd3786"
             ],
             [
              0.5555555555555556,
              "#d8576b"
             ],
             [
              0.6666666666666666,
              "#ed7953"
             ],
             [
              0.7777777777777778,
              "#fb9f3a"
             ],
             [
              0.8888888888888888,
              "#fdca26"
             ],
             [
              1,
              "#f0f921"
             ]
            ],
            "type": "histogram2dcontour"
           }
          ],
          "mesh3d": [
           {
            "colorbar": {
             "outlinewidth": 0,
             "ticks": ""
            },
            "type": "mesh3d"
           }
          ],
          "parcoords": [
           {
            "line": {
             "colorbar": {
              "outlinewidth": 0,
              "ticks": ""
             }
            },
            "type": "parcoords"
           }
          ],
          "pie": [
           {
            "automargin": true,
            "type": "pie"
           }
          ],
          "scatter": [
           {
            "fillpattern": {
             "fillmode": "overlay",
             "size": 10,
             "solidity": 0.2
            },
            "type": "scatter"
           }
          ],
          "scatter3d": [
           {
            "line": {
             "colorbar": {
              "outlinewidth": 0,
              "ticks": ""
             }
            },
            "marker": {
             "colorbar": {
              "outlinewidth": 0,
              "ticks": ""
             }
            },
            "type": "scatter3d"
           }
          ],
          "scattercarpet": [
           {
            "marker": {
             "colorbar": {
              "outlinewidth": 0,
              "ticks": ""
             }
            },
            "type": "scattercarpet"
           }
          ],
          "scattergeo": [
           {
            "marker": {
             "colorbar": {
              "outlinewidth": 0,
              "ticks": ""
             }
            },
            "type": "scattergeo"
           }
          ],
          "scattergl": [
           {
            "marker": {
             "colorbar": {
              "outlinewidth": 0,
              "ticks": ""
             }
            },
            "type": "scattergl"
           }
          ],
          "scattermapbox": [
           {
            "marker": {
             "colorbar": {
              "outlinewidth": 0,
              "ticks": ""
             }
            },
            "type": "scattermapbox"
           }
          ],
          "scatterpolar": [
           {
            "marker": {
             "colorbar": {
              "outlinewidth": 0,
              "ticks": ""
             }
            },
            "type": "scatterpolar"
           }
          ],
          "scatterpolargl": [
           {
            "marker": {
             "colorbar": {
              "outlinewidth": 0,
              "ticks": ""
             }
            },
            "type": "scatterpolargl"
           }
          ],
          "scatterternary": [
           {
            "marker": {
             "colorbar": {
              "outlinewidth": 0,
              "ticks": ""
             }
            },
            "type": "scatterternary"
           }
          ],
          "surface": [
           {
            "colorbar": {
             "outlinewidth": 0,
             "ticks": ""
            },
            "colorscale": [
             [
              0,
              "#0d0887"
             ],
             [
              0.1111111111111111,
              "#46039f"
             ],
             [
              0.2222222222222222,
              "#7201a8"
             ],
             [
              0.3333333333333333,
              "#9c179e"
             ],
             [
              0.4444444444444444,
              "#bd3786"
             ],
             [
              0.5555555555555556,
              "#d8576b"
             ],
             [
              0.6666666666666666,
              "#ed7953"
             ],
             [
              0.7777777777777778,
              "#fb9f3a"
             ],
             [
              0.8888888888888888,
              "#fdca26"
             ],
             [
              1,
              "#f0f921"
             ]
            ],
            "type": "surface"
           }
          ],
          "table": [
           {
            "cells": {
             "fill": {
              "color": "#EBF0F8"
             },
             "line": {
              "color": "white"
             }
            },
            "header": {
             "fill": {
              "color": "#C8D4E3"
             },
             "line": {
              "color": "white"
             }
            },
            "type": "table"
           }
          ]
         },
         "layout": {
          "annotationdefaults": {
           "arrowcolor": "#2a3f5f",
           "arrowhead": 0,
           "arrowwidth": 1
          },
          "autotypenumbers": "strict",
          "coloraxis": {
           "colorbar": {
            "outlinewidth": 0,
            "ticks": ""
           }
          },
          "colorscale": {
           "diverging": [
            [
             0,
             "#8e0152"
            ],
            [
             0.1,
             "#c51b7d"
            ],
            [
             0.2,
             "#de77ae"
            ],
            [
             0.3,
             "#f1b6da"
            ],
            [
             0.4,
             "#fde0ef"
            ],
            [
             0.5,
             "#f7f7f7"
            ],
            [
             0.6,
             "#e6f5d0"
            ],
            [
             0.7,
             "#b8e186"
            ],
            [
             0.8,
             "#7fbc41"
            ],
            [
             0.9,
             "#4d9221"
            ],
            [
             1,
             "#276419"
            ]
           ],
           "sequential": [
            [
             0,
             "#0d0887"
            ],
            [
             0.1111111111111111,
             "#46039f"
            ],
            [
             0.2222222222222222,
             "#7201a8"
            ],
            [
             0.3333333333333333,
             "#9c179e"
            ],
            [
             0.4444444444444444,
             "#bd3786"
            ],
            [
             0.5555555555555556,
             "#d8576b"
            ],
            [
             0.6666666666666666,
             "#ed7953"
            ],
            [
             0.7777777777777778,
             "#fb9f3a"
            ],
            [
             0.8888888888888888,
             "#fdca26"
            ],
            [
             1,
             "#f0f921"
            ]
           ],
           "sequentialminus": [
            [
             0,
             "#0d0887"
            ],
            [
             0.1111111111111111,
             "#46039f"
            ],
            [
             0.2222222222222222,
             "#7201a8"
            ],
            [
             0.3333333333333333,
             "#9c179e"
            ],
            [
             0.4444444444444444,
             "#bd3786"
            ],
            [
             0.5555555555555556,
             "#d8576b"
            ],
            [
             0.6666666666666666,
             "#ed7953"
            ],
            [
             0.7777777777777778,
             "#fb9f3a"
            ],
            [
             0.8888888888888888,
             "#fdca26"
            ],
            [
             1,
             "#f0f921"
            ]
           ]
          },
          "colorway": [
           "#636efa",
           "#EF553B",
           "#00cc96",
           "#ab63fa",
           "#FFA15A",
           "#19d3f3",
           "#FF6692",
           "#B6E880",
           "#FF97FF",
           "#FECB52"
          ],
          "font": {
           "color": "#2a3f5f"
          },
          "geo": {
           "bgcolor": "white",
           "lakecolor": "white",
           "landcolor": "#E5ECF6",
           "showlakes": true,
           "showland": true,
           "subunitcolor": "white"
          },
          "hoverlabel": {
           "align": "left"
          },
          "hovermode": "closest",
          "mapbox": {
           "style": "light"
          },
          "paper_bgcolor": "white",
          "plot_bgcolor": "#E5ECF6",
          "polar": {
           "angularaxis": {
            "gridcolor": "white",
            "linecolor": "white",
            "ticks": ""
           },
           "bgcolor": "#E5ECF6",
           "radialaxis": {
            "gridcolor": "white",
            "linecolor": "white",
            "ticks": ""
           }
          },
          "scene": {
           "xaxis": {
            "backgroundcolor": "#E5ECF6",
            "gridcolor": "white",
            "gridwidth": 2,
            "linecolor": "white",
            "showbackground": true,
            "ticks": "",
            "zerolinecolor": "white"
           },
           "yaxis": {
            "backgroundcolor": "#E5ECF6",
            "gridcolor": "white",
            "gridwidth": 2,
            "linecolor": "white",
            "showbackground": true,
            "ticks": "",
            "zerolinecolor": "white"
           },
           "zaxis": {
            "backgroundcolor": "#E5ECF6",
            "gridcolor": "white",
            "gridwidth": 2,
            "linecolor": "white",
            "showbackground": true,
            "ticks": "",
            "zerolinecolor": "white"
           }
          },
          "shapedefaults": {
           "line": {
            "color": "#2a3f5f"
           }
          },
          "ternary": {
           "aaxis": {
            "gridcolor": "white",
            "linecolor": "white",
            "ticks": ""
           },
           "baxis": {
            "gridcolor": "white",
            "linecolor": "white",
            "ticks": ""
           },
           "bgcolor": "#E5ECF6",
           "caxis": {
            "gridcolor": "white",
            "linecolor": "white",
            "ticks": ""
           }
          },
          "title": {
           "x": 0.05
          },
          "xaxis": {
           "automargin": true,
           "gridcolor": "white",
           "linecolor": "white",
           "ticks": "",
           "title": {
            "standoff": 15
           },
           "zerolinecolor": "white",
           "zerolinewidth": 2
          },
          "yaxis": {
           "automargin": true,
           "gridcolor": "white",
           "linecolor": "white",
           "ticks": "",
           "title": {
            "standoff": 15
           },
           "zerolinecolor": "white",
           "zerolinewidth": 2
          }
         }
        },
        "title": {
         "text": "Projection 2D des voisins de chat, chien par UMAP"
        },
        "width": 1200,
        "xaxis": {
         "title": {
          "text": "Composante 1"
         }
        },
        "yaxis": {
         "title": {
          "text": "Composante 2"
         }
        }
       }
      }
     },
     "metadata": {},
     "output_type": "display_data"
    },
    {
     "data": {
      "text/plain": [
       "['chien',\n",
       " 'minou',\n",
       " 'petit_chatte',\n",
       " 'aboyer',\n",
       " 'chat',\n",
       " 'toutou',\n",
       " 'chiens',\n",
       " 'matou',\n",
       " 'cocker',\n",
       " 'chienne',\n",
       " 'chatte',\n",
       " 'miauler']"
      ]
     },
     "execution_count": 62,
     "metadata": {},
     "output_type": "execute_result"
    }
   ],
   "source": [
    "def display_dimred_neighbors(model, word_list, n_components = 3, topn = 5, method = 'pca', n_neighbors = 5):\n",
    "    # Obtenir les voisins pour chaque mot à partir de la fonction `neighbors`\n",
    "    all_neighbors = neighbors(model, word_list, topn=topn)\n",
    "    \n",
    "    # Vérifier si des voisins ont été trouvés\n",
    "    if not all_neighbors:\n",
    "        print(\"Aucun mot voisin n'a été trouvé.\")\n",
    "        return\n",
    "    \n",
    "    # Récupérer les vecteurs et les étiquettes\n",
    "    words = [entry['neighbor'] for entry in all_neighbors] + [entry['ref_word'] for entry in all_neighbors]\n",
    "    unique_words = list(set(words))  # Eliminer les doublons\n",
    "    vectors = np.array([model[word] for word in unique_words])\n",
    "\n",
    "    \n",
    "    # Choisir la méthode de réduction de dimensionnalité\n",
    "    if method == 'pca':\n",
    "        reducer = PCA(n_components=n_components)\n",
    "    elif method == 'mds':\n",
    "        reducer = MDS(n_components=n_components, n_init=4, max_iter=300)\n",
    "    elif method == 'isomap':\n",
    "        reducer = Isomap(n_components=n_components, n_neighbors=n_neighbors)\n",
    "    elif method == 'tsne':\n",
    "        reducer = TSNE(n_components=n_components, perplexity=n_neighbors, n_iter=500, random_state=42)\n",
    "    elif method == 'umap':\n",
    "        reducer = UMAP(n_components=n_components, n_neighbors=n_neighbors, random_state=42)\n",
    "    else:\n",
    "        raise ValueError(\"Méthode de réduction de dimensionnalité non reconnue.\")\n",
    "    \n",
    "    # Réduction des vecteurs en n dimensions\n",
    "    vectors_reduced = reducer.fit_transform(vectors)\n",
    "    \n",
    "    # Création des traces pour l'affichage\n",
    "    if n_components == 2:\n",
    "        trace = go.Scatter(\n",
    "            x=vectors_reduced[:, 0],\n",
    "            y=vectors_reduced[:, 1],\n",
    "            mode='markers+text',\n",
    "            text=unique_words,\n",
    "            marker=dict(size=10, color='rgba(93, 164, 214, 0.8)'),\n",
    "            textposition='top center'\n",
    "        )\n",
    "    elif n_components == 3:\n",
    "        trace = go.Scatter3d(\n",
    "            x=vectors_reduced[:, 0],\n",
    "            y=vectors_reduced[:, 1],\n",
    "            z=vectors_reduced[:, 2],\n",
    "            mode='markers+text',\n",
    "            text=unique_words,\n",
    "            marker=dict(size=5, color='rgba(255, 0, 0, 0.8)'),\n",
    "            textposition='top center'\n",
    "        )\n",
    "    \n",
    "    # Définir le layout\n",
    "    layout = go.Layout(\n",
    "        title=f\"Projection {n_components}D des voisins de {', '.join(word_list)} par {method.upper()}\",\n",
    "        width=1200,\n",
    "        height=1000,\n",
    "        scene=dict(\n",
    "            xaxis=dict(title='Composante 1'),\n",
    "            yaxis=dict(title='Composante 2'),\n",
    "            zaxis=dict(title='Composante 3') if n_components == 3 else None\n",
    "        ),\n",
    "        xaxis=dict(title='Composante 1') if n_components == 2 else None,\n",
    "        yaxis=dict(title='Composante 2') if n_components == 2 else None,\n",
    "        showlegend=False\n",
    "    )\n",
    "    \n",
    "    # Créer et afficher la figure\n",
    "    fig = go.Figure(data=[trace], layout=layout)\n",
    "    fig.show()\n",
    "    return unique_words\n",
    "\n",
    "# Exemple d'utilisation\n",
    "display_dimred_neighbors(model, ['chat', 'chien'], n_components=2, topn=5, method='umap')"
   ]
  },
  {
   "cell_type": "markdown",
   "id": "85bab949",
   "metadata": {},
   "source": [
    "## 4. Application à l'étude des mots voisins dans word2vec\n",
    "\n",
    "Veuillez choisir quatre mots (`word_list = [m1, m2, m3, m4]`) de façon à ce que m1 et m2 soient très proches par leur sens ou leur usage, m3 un peu plus éloigné, et m4 très éloigné.  L'objectif de cette question est d'étudier la distribution des mots voisins de ces quatre mots (entre 10 et 50) par une visualisation en 2D ou en 3D des vecteurs de mots.  \n",
    "\n",
    "En expérimentant avec plusieurs configurations (méthode de réduction de dimensionnalité, valeur de `n_neighbors`, nombre de voisins `topn`), veuillez répondre aux questions suivantes, à l'aide d'un ou plusieurs graphiques par question :\n",
    "\n",
    "**a.** si on utilise une méthode de réduction de dimensionnalité linéaire (PCA ou MDS métrique), les quatre groupes de mots sont-ils clairement séparés dans word2vec ?\n",
    "\n",
    "**b.** si on utilise une méthode de réduction de dimensionnalité non-linéaire (Isomap, t-SNE ou UMAP), peut-on mieux mettre en évidence les quatre groupes de mots ?  Quels sont les meilleurs paramètres que vous avez trouvés permettant de bien identifier les quatre ensembles ?\n",
    "\n",
    "**c.** inversement, trouvez-vous des paramètres qui aboutissent à cinq clusters ? ou à trois ?"
   ]
  },
  {
   "cell_type": "code",
   "execution_count": 43,
   "id": "e1ad49f1",
   "metadata": {},
   "outputs": [],
   "source": [
    "# Insérer ici la liste de mots.\n",
    "mots = ['grecque', 'latin', 'oublier', 'nourriture']"
   ]
  },
  {
   "cell_type": "code",
   "execution_count": 148,
   "id": "f6879e09",
   "metadata": {},
   "outputs": [
    {
     "data": {
      "application/vnd.plotly.v1+json": {
       "config": {
        "plotlyServerURL": "https://plot.ly"
       },
       "data": [
        {
         "marker": {
          "color": "rgba(255, 0, 0, 0.8)",
          "size": 5
         },
         "mode": "markers+text",
         "text": [
          "dire",
          "nouriture",
          "là",
          "nourrir",
          "jamais",
          "hellènes",
          "ration_quotidien",
          "ne",
          "gréco-",
          "latin_médiéval",
          "greque",
          "ve_siècle_av_jésus-christ",
          "ionien",
          "grecquer",
          "falloir",
          "oublier",
          "vivres",
          "grecs",
          "hellénique",
          "iiie_siècle_av_jésus-christ",
          "mot_latin",
          "proie_vivant",
          "latiniser",
          "pâtée",
          "langue_vulgaire",
          "rien",
          "étymologie",
          "racine_grec",
          "grammairien",
          "grec",
          "verbe_latin",
          "affamer",
          "nourriture",
          "aliment",
          "mais",
          "nourriture_sain",
          "manger",
          "latiniste",
          "pas",
          "latin",
          "toujours",
          "grecque",
          "quand"
         ],
         "textposition": "top center",
         "type": "scatter3d",
         "x": [
          -6.288455486297607,
          -5.442409038543701,
          -6.703448295593262,
          -6.284543037414551,
          -7.161020278930664,
          1.638086199760437,
          -3.06010103225708,
          -7.532951831817627,
          4.505522727966309,
          7.411875247955322,
          1.9810558557510376,
          3.692758798599243,
          6.546274185180664,
          5.517796993255615,
          -8.357555389404297,
          -6.13130521774292,
          -8.151331901550293,
          7.552677631378174,
          9.239381790161133,
          4.0279083251953125,
          11.915115356445312,
          -2.542842388153076,
          5.146373271942139,
          -6.778570175170898,
          6.2802958488464355,
          -7.865640163421631,
          13.980607032775879,
          5.694478511810303,
          10.09306812286377,
          12.216920852661133,
          3.236905097961426,
          -9.446356773376465,
          -10.839452743530273,
          -5.704153060913086,
          -6.574577331542969,
          -3.3607709407806396,
          -10.755138397216797,
          8.787592887878418,
          -7.872262477874756,
          13.868159294128418,
          -6.171847343444824,
          7.416886806488037,
          -7.72498893737793
         ],
         "y": [
          -9.01242733001709,
          4.348903179168701,
          -8.016894340515137,
          5.016504287719727,
          -7.815266132354736,
          0.8008767366409302,
          4.22847318649292,
          -9.203022956848145,
          0.9845223426818848,
          0.6180983781814575,
          0.6821199655532837,
          1.5519458055496216,
          1.6066381931304932,
          1.3400158882141113,
          -7.904649257659912,
          -5.585824966430664,
          15.028264999389648,
          1.1890745162963867,
          3.1955502033233643,
          2.0043537616729736,
          -1.2378489971160889,
          4.102285385131836,
          0.34496769309043884,
          6.505963325500488,
          -0.20986032485961914,
          -8.67934513092041,
          -2.257075786590576,
          0.5091220736503601,
          -2.895627975463867,
          -0.3339369297027588,
          -0.22885805368423462,
          8.511950492858887,
          13.634064674377441,
          10.399107933044434,
          -8.024170875549316,
          5.372861862182617,
          3.6785197257995605,
          -1.7541347742080688,
          -9.06733512878418,
          -2.195955991744995,
          -6.183528900146484,
          1.6955745220184326,
          -6.743989944458008
         ],
         "z": [
          -1.2179630994796753,
          -0.49382078647613525,
          0.4484778046607971,
          -0.4191596806049347,
          1.071492314338684,
          3.625786066055298,
          0.14040033519268036,
          0.18680644035339355,
          3.5025792121887207,
          -1.7899705171585083,
          2.413987874984741,
          4.202081680297852,
          5.664351463317871,
          4.1190185546875,
          0.29653099179267883,
          0.8783338069915771,
          0.32840415835380554,
          7.135518550872803,
          10.087748527526855,
          4.288639068603516,
          -7.783528804779053,
          0.26172003149986267,
          0.26489925384521484,
          -3.2977726459503174,
          -2.211205244064331,
          -0.14545440673828125,
          -12.348910331726074,
          -1.3506494760513306,
          -3.9325742721557617,
          3.219172239303589,
          -1.7033203840255737,
          0.6882144808769226,
          -3.8013997077941895,
          -5.228117942810059,
          0.49779120087623596,
          -0.2789742350578308,
          -4.655823230743408,
          -0.6330344080924988,
          -0.2782623767852783,
          -8.562822341918945,
          1.1994502544403076,
          5.705904960632324,
          -0.09456471353769302
         ]
        }
       ],
       "layout": {
        "height": 1000,
        "scene": {
         "xaxis": {
          "title": {
           "text": "Composante 1"
          }
         },
         "yaxis": {
          "title": {
           "text": "Composante 2"
          }
         },
         "zaxis": {
          "title": {
           "text": "Composante 3"
          }
         }
        },
        "showlegend": false,
        "template": {
         "data": {
          "bar": [
           {
            "error_x": {
             "color": "#2a3f5f"
            },
            "error_y": {
             "color": "#2a3f5f"
            },
            "marker": {
             "line": {
              "color": "#E5ECF6",
              "width": 0.5
             },
             "pattern": {
              "fillmode": "overlay",
              "size": 10,
              "solidity": 0.2
             }
            },
            "type": "bar"
           }
          ],
          "barpolar": [
           {
            "marker": {
             "line": {
              "color": "#E5ECF6",
              "width": 0.5
             },
             "pattern": {
              "fillmode": "overlay",
              "size": 10,
              "solidity": 0.2
             }
            },
            "type": "barpolar"
           }
          ],
          "carpet": [
           {
            "aaxis": {
             "endlinecolor": "#2a3f5f",
             "gridcolor": "white",
             "linecolor": "white",
             "minorgridcolor": "white",
             "startlinecolor": "#2a3f5f"
            },
            "baxis": {
             "endlinecolor": "#2a3f5f",
             "gridcolor": "white",
             "linecolor": "white",
             "minorgridcolor": "white",
             "startlinecolor": "#2a3f5f"
            },
            "type": "carpet"
           }
          ],
          "choropleth": [
           {
            "colorbar": {
             "outlinewidth": 0,
             "ticks": ""
            },
            "type": "choropleth"
           }
          ],
          "contour": [
           {
            "colorbar": {
             "outlinewidth": 0,
             "ticks": ""
            },
            "colorscale": [
             [
              0,
              "#0d0887"
             ],
             [
              0.1111111111111111,
              "#46039f"
             ],
             [
              0.2222222222222222,
              "#7201a8"
             ],
             [
              0.3333333333333333,
              "#9c179e"
             ],
             [
              0.4444444444444444,
              "#bd3786"
             ],
             [
              0.5555555555555556,
              "#d8576b"
             ],
             [
              0.6666666666666666,
              "#ed7953"
             ],
             [
              0.7777777777777778,
              "#fb9f3a"
             ],
             [
              0.8888888888888888,
              "#fdca26"
             ],
             [
              1,
              "#f0f921"
             ]
            ],
            "type": "contour"
           }
          ],
          "contourcarpet": [
           {
            "colorbar": {
             "outlinewidth": 0,
             "ticks": ""
            },
            "type": "contourcarpet"
           }
          ],
          "heatmap": [
           {
            "colorbar": {
             "outlinewidth": 0,
             "ticks": ""
            },
            "colorscale": [
             [
              0,
              "#0d0887"
             ],
             [
              0.1111111111111111,
              "#46039f"
             ],
             [
              0.2222222222222222,
              "#7201a8"
             ],
             [
              0.3333333333333333,
              "#9c179e"
             ],
             [
              0.4444444444444444,
              "#bd3786"
             ],
             [
              0.5555555555555556,
              "#d8576b"
             ],
             [
              0.6666666666666666,
              "#ed7953"
             ],
             [
              0.7777777777777778,
              "#fb9f3a"
             ],
             [
              0.8888888888888888,
              "#fdca26"
             ],
             [
              1,
              "#f0f921"
             ]
            ],
            "type": "heatmap"
           }
          ],
          "heatmapgl": [
           {
            "colorbar": {
             "outlinewidth": 0,
             "ticks": ""
            },
            "colorscale": [
             [
              0,
              "#0d0887"
             ],
             [
              0.1111111111111111,
              "#46039f"
             ],
             [
              0.2222222222222222,
              "#7201a8"
             ],
             [
              0.3333333333333333,
              "#9c179e"
             ],
             [
              0.4444444444444444,
              "#bd3786"
             ],
             [
              0.5555555555555556,
              "#d8576b"
             ],
             [
              0.6666666666666666,
              "#ed7953"
             ],
             [
              0.7777777777777778,
              "#fb9f3a"
             ],
             [
              0.8888888888888888,
              "#fdca26"
             ],
             [
              1,
              "#f0f921"
             ]
            ],
            "type": "heatmapgl"
           }
          ],
          "histogram": [
           {
            "marker": {
             "pattern": {
              "fillmode": "overlay",
              "size": 10,
              "solidity": 0.2
             }
            },
            "type": "histogram"
           }
          ],
          "histogram2d": [
           {
            "colorbar": {
             "outlinewidth": 0,
             "ticks": ""
            },
            "colorscale": [
             [
              0,
              "#0d0887"
             ],
             [
              0.1111111111111111,
              "#46039f"
             ],
             [
              0.2222222222222222,
              "#7201a8"
             ],
             [
              0.3333333333333333,
              "#9c179e"
             ],
             [
              0.4444444444444444,
              "#bd3786"
             ],
             [
              0.5555555555555556,
              "#d8576b"
             ],
             [
              0.6666666666666666,
              "#ed7953"
             ],
             [
              0.7777777777777778,
              "#fb9f3a"
             ],
             [
              0.8888888888888888,
              "#fdca26"
             ],
             [
              1,
              "#f0f921"
             ]
            ],
            "type": "histogram2d"
           }
          ],
          "histogram2dcontour": [
           {
            "colorbar": {
             "outlinewidth": 0,
             "ticks": ""
            },
            "colorscale": [
             [
              0,
              "#0d0887"
             ],
             [
              0.1111111111111111,
              "#46039f"
             ],
             [
              0.2222222222222222,
              "#7201a8"
             ],
             [
              0.3333333333333333,
              "#9c179e"
             ],
             [
              0.4444444444444444,
              "#bd3786"
             ],
             [
              0.5555555555555556,
              "#d8576b"
             ],
             [
              0.6666666666666666,
              "#ed7953"
             ],
             [
              0.7777777777777778,
              "#fb9f3a"
             ],
             [
              0.8888888888888888,
              "#fdca26"
             ],
             [
              1,
              "#f0f921"
             ]
            ],
            "type": "histogram2dcontour"
           }
          ],
          "mesh3d": [
           {
            "colorbar": {
             "outlinewidth": 0,
             "ticks": ""
            },
            "type": "mesh3d"
           }
          ],
          "parcoords": [
           {
            "line": {
             "colorbar": {
              "outlinewidth": 0,
              "ticks": ""
             }
            },
            "type": "parcoords"
           }
          ],
          "pie": [
           {
            "automargin": true,
            "type": "pie"
           }
          ],
          "scatter": [
           {
            "fillpattern": {
             "fillmode": "overlay",
             "size": 10,
             "solidity": 0.2
            },
            "type": "scatter"
           }
          ],
          "scatter3d": [
           {
            "line": {
             "colorbar": {
              "outlinewidth": 0,
              "ticks": ""
             }
            },
            "marker": {
             "colorbar": {
              "outlinewidth": 0,
              "ticks": ""
             }
            },
            "type": "scatter3d"
           }
          ],
          "scattercarpet": [
           {
            "marker": {
             "colorbar": {
              "outlinewidth": 0,
              "ticks": ""
             }
            },
            "type": "scattercarpet"
           }
          ],
          "scattergeo": [
           {
            "marker": {
             "colorbar": {
              "outlinewidth": 0,
              "ticks": ""
             }
            },
            "type": "scattergeo"
           }
          ],
          "scattergl": [
           {
            "marker": {
             "colorbar": {
              "outlinewidth": 0,
              "ticks": ""
             }
            },
            "type": "scattergl"
           }
          ],
          "scattermapbox": [
           {
            "marker": {
             "colorbar": {
              "outlinewidth": 0,
              "ticks": ""
             }
            },
            "type": "scattermapbox"
           }
          ],
          "scatterpolar": [
           {
            "marker": {
             "colorbar": {
              "outlinewidth": 0,
              "ticks": ""
             }
            },
            "type": "scatterpolar"
           }
          ],
          "scatterpolargl": [
           {
            "marker": {
             "colorbar": {
              "outlinewidth": 0,
              "ticks": ""
             }
            },
            "type": "scatterpolargl"
           }
          ],
          "scatterternary": [
           {
            "marker": {
             "colorbar": {
              "outlinewidth": 0,
              "ticks": ""
             }
            },
            "type": "scatterternary"
           }
          ],
          "surface": [
           {
            "colorbar": {
             "outlinewidth": 0,
             "ticks": ""
            },
            "colorscale": [
             [
              0,
              "#0d0887"
             ],
             [
              0.1111111111111111,
              "#46039f"
             ],
             [
              0.2222222222222222,
              "#7201a8"
             ],
             [
              0.3333333333333333,
              "#9c179e"
             ],
             [
              0.4444444444444444,
              "#bd3786"
             ],
             [
              0.5555555555555556,
              "#d8576b"
             ],
             [
              0.6666666666666666,
              "#ed7953"
             ],
             [
              0.7777777777777778,
              "#fb9f3a"
             ],
             [
              0.8888888888888888,
              "#fdca26"
             ],
             [
              1,
              "#f0f921"
             ]
            ],
            "type": "surface"
           }
          ],
          "table": [
           {
            "cells": {
             "fill": {
              "color": "#EBF0F8"
             },
             "line": {
              "color": "white"
             }
            },
            "header": {
             "fill": {
              "color": "#C8D4E3"
             },
             "line": {
              "color": "white"
             }
            },
            "type": "table"
           }
          ]
         },
         "layout": {
          "annotationdefaults": {
           "arrowcolor": "#2a3f5f",
           "arrowhead": 0,
           "arrowwidth": 1
          },
          "autotypenumbers": "strict",
          "coloraxis": {
           "colorbar": {
            "outlinewidth": 0,
            "ticks": ""
           }
          },
          "colorscale": {
           "diverging": [
            [
             0,
             "#8e0152"
            ],
            [
             0.1,
             "#c51b7d"
            ],
            [
             0.2,
             "#de77ae"
            ],
            [
             0.3,
             "#f1b6da"
            ],
            [
             0.4,
             "#fde0ef"
            ],
            [
             0.5,
             "#f7f7f7"
            ],
            [
             0.6,
             "#e6f5d0"
            ],
            [
             0.7,
             "#b8e186"
            ],
            [
             0.8,
             "#7fbc41"
            ],
            [
             0.9,
             "#4d9221"
            ],
            [
             1,
             "#276419"
            ]
           ],
           "sequential": [
            [
             0,
             "#0d0887"
            ],
            [
             0.1111111111111111,
             "#46039f"
            ],
            [
             0.2222222222222222,
             "#7201a8"
            ],
            [
             0.3333333333333333,
             "#9c179e"
            ],
            [
             0.4444444444444444,
             "#bd3786"
            ],
            [
             0.5555555555555556,
             "#d8576b"
            ],
            [
             0.6666666666666666,
             "#ed7953"
            ],
            [
             0.7777777777777778,
             "#fb9f3a"
            ],
            [
             0.8888888888888888,
             "#fdca26"
            ],
            [
             1,
             "#f0f921"
            ]
           ],
           "sequentialminus": [
            [
             0,
             "#0d0887"
            ],
            [
             0.1111111111111111,
             "#46039f"
            ],
            [
             0.2222222222222222,
             "#7201a8"
            ],
            [
             0.3333333333333333,
             "#9c179e"
            ],
            [
             0.4444444444444444,
             "#bd3786"
            ],
            [
             0.5555555555555556,
             "#d8576b"
            ],
            [
             0.6666666666666666,
             "#ed7953"
            ],
            [
             0.7777777777777778,
             "#fb9f3a"
            ],
            [
             0.8888888888888888,
             "#fdca26"
            ],
            [
             1,
             "#f0f921"
            ]
           ]
          },
          "colorway": [
           "#636efa",
           "#EF553B",
           "#00cc96",
           "#ab63fa",
           "#FFA15A",
           "#19d3f3",
           "#FF6692",
           "#B6E880",
           "#FF97FF",
           "#FECB52"
          ],
          "font": {
           "color": "#2a3f5f"
          },
          "geo": {
           "bgcolor": "white",
           "lakecolor": "white",
           "landcolor": "#E5ECF6",
           "showlakes": true,
           "showland": true,
           "subunitcolor": "white"
          },
          "hoverlabel": {
           "align": "left"
          },
          "hovermode": "closest",
          "mapbox": {
           "style": "light"
          },
          "paper_bgcolor": "white",
          "plot_bgcolor": "#E5ECF6",
          "polar": {
           "angularaxis": {
            "gridcolor": "white",
            "linecolor": "white",
            "ticks": ""
           },
           "bgcolor": "#E5ECF6",
           "radialaxis": {
            "gridcolor": "white",
            "linecolor": "white",
            "ticks": ""
           }
          },
          "scene": {
           "xaxis": {
            "backgroundcolor": "#E5ECF6",
            "gridcolor": "white",
            "gridwidth": 2,
            "linecolor": "white",
            "showbackground": true,
            "ticks": "",
            "zerolinecolor": "white"
           },
           "yaxis": {
            "backgroundcolor": "#E5ECF6",
            "gridcolor": "white",
            "gridwidth": 2,
            "linecolor": "white",
            "showbackground": true,
            "ticks": "",
            "zerolinecolor": "white"
           },
           "zaxis": {
            "backgroundcolor": "#E5ECF6",
            "gridcolor": "white",
            "gridwidth": 2,
            "linecolor": "white",
            "showbackground": true,
            "ticks": "",
            "zerolinecolor": "white"
           }
          },
          "shapedefaults": {
           "line": {
            "color": "#2a3f5f"
           }
          },
          "ternary": {
           "aaxis": {
            "gridcolor": "white",
            "linecolor": "white",
            "ticks": ""
           },
           "baxis": {
            "gridcolor": "white",
            "linecolor": "white",
            "ticks": ""
           },
           "bgcolor": "#E5ECF6",
           "caxis": {
            "gridcolor": "white",
            "linecolor": "white",
            "ticks": ""
           }
          },
          "title": {
           "x": 0.05
          },
          "xaxis": {
           "automargin": true,
           "gridcolor": "white",
           "linecolor": "white",
           "ticks": "",
           "title": {
            "standoff": 15
           },
           "zerolinecolor": "white",
           "zerolinewidth": 2
          },
          "yaxis": {
           "automargin": true,
           "gridcolor": "white",
           "linecolor": "white",
           "ticks": "",
           "title": {
            "standoff": 15
           },
           "zerolinecolor": "white",
           "zerolinewidth": 2
          }
         }
        },
        "title": {
         "text": "Projection 3D des voisins de grecque, latin, oublier, nourriture par PCA"
        },
        "width": 1200
       }
      }
     },
     "metadata": {},
     "output_type": "display_data"
    },
    {
     "data": {
      "application/vnd.plotly.v1+json": {
       "config": {
        "plotlyServerURL": "https://plot.ly"
       },
       "data": [
        {
         "marker": {
          "color": "rgba(255, 0, 0, 0.8)",
          "size": 5
         },
         "mode": "markers+text",
         "text": [
          "dire",
          "nouriture",
          "là",
          "nourrir",
          "jamais",
          "hellènes",
          "ration_quotidien",
          "ne",
          "gréco-",
          "latin_médiéval",
          "greque",
          "ve_siècle_av_jésus-christ",
          "ionien",
          "grecquer",
          "falloir",
          "oublier",
          "vivres",
          "grecs",
          "hellénique",
          "iiie_siècle_av_jésus-christ",
          "mot_latin",
          "proie_vivant",
          "latiniser",
          "pâtée",
          "langue_vulgaire",
          "rien",
          "étymologie",
          "racine_grec",
          "grammairien",
          "grec",
          "verbe_latin",
          "affamer",
          "nourriture",
          "aliment",
          "mais",
          "nourriture_sain",
          "manger",
          "latiniste",
          "pas",
          "latin",
          "toujours",
          "grecque",
          "quand"
         ],
         "textposition": "top center",
         "type": "scatter3d",
         "x": [
          4.4103208033900545,
          3.209771589621083,
          7.482450677862749,
          -8.221942039629399,
          8.609043264596949,
          1.0147780244609186,
          -2.8437161448492745,
          -0.8842248870692188,
          1.892469333897745,
          -8.377675965025263,
          0.041702752643125,
          3.057851340273678,
          4.9905601276975675,
          -0.10628796831603395,
          2.336765959179811,
          10.695457792247376,
          -3.9082408627595364,
          15.203301637928883,
          9.587939782933331,
          0.43078445951884997,
          -12.764082570717518,
          -1.2058526062771526,
          -4.680408839173859,
          6.431542616227847,
          -12.257281551673236,
          6.398723577831531,
          -15.651195222877238,
          -4.187926685481837,
          -3.0341085723265047,
          3.405545277257358,
          -4.79818570254921,
          16.535282012506027,
          -1.8777745204274943,
          -16.88847542432277,
          0.36208320181562853,
          -6.056525710579471,
          11.2018696080804,
          -13.626415098620024,
          1.4131336066341087,
          -7.922068804398131,
          -0.43594554622777915,
          4.577324436595583,
          6.439632840100346
         ],
         "y": [
          -10.319338890408876,
          9.970228852651829,
          -7.285203620404681,
          7.030595257277973,
          -4.714980713706965,
          -0.23563671239642386,
          5.803857208175716,
          -8.259848922577635,
          -3.428644024733207,
          1.077759955910942,
          1.0828201833875464,
          1.3801422792889098,
          -1.6402584317329443,
          0.3049709732296347,
          -1.9985474166233024,
          -1.9209089684087783,
          25.413683336517256,
          -3.579351902409444,
          -5.975724918275221,
          2.9651141639342575,
          -7.097401637160042,
          7.615492090276813,
          -0.21516083469530445,
          16.06210594373477,
          -2.6621540687818945,
          -7.279614593219524,
          -1.6139948340345758,
          -4.938992432204598,
          -17.366203766021133,
          -9.466067486650273,
          -2.326062181782362,
          12.748544602460523,
          19.722600557039762,
          12.009830012091818,
          -6.625800349574011,
          7.588654070226551,
          10.907015555212604,
          -12.519667897610079,
          -6.445753151897089,
          -14.234678961583645,
          -2.748550193978821,
          4.480836309465224,
          -1.2657044400113049
         ],
         "z": [
          -7.906282061554532,
          -4.9707986754497435,
          -6.831338455398934,
          -12.948015623899368,
          -8.883637439341824,
          1.631061631036392,
          -3.1495019958931367,
          -12.367907886748526,
          4.974743099875185,
          7.727841776279685,
          1.9166818670985628,
          5.138145072255091,
          9.551717168353736,
          8.533902881017958,
          -14.763930142216578,
          -5.388601006971337,
          6.120481932743431,
          11.149492656561057,
          13.669621132515825,
          6.194507150215814,
          10.87354456964633,
          -0.3553648927901052,
          5.3858337887462495,
          -0.11737763580770696,
          1.508427773335725,
          -10.998963983464723,
          17.27676745823645,
          4.612949367094965,
          5.32109587853256,
          15.940114414033843,
          0.6612159167231781,
          -1.6147606338085034,
          -9.529000610414185,
          -7.450420900654086,
          -9.551667169787637,
          -3.0413503211452775,
          -13.478252844612635,
          -0.13983071279690532,
          -12.199150020584616,
          12.955612070152364,
          -9.527175998246536,
          14.447826384914753,
          -10.378254977782287
         ]
        }
       ],
       "layout": {
        "height": 1000,
        "scene": {
         "xaxis": {
          "title": {
           "text": "Composante 1"
          }
         },
         "yaxis": {
          "title": {
           "text": "Composante 2"
          }
         },
         "zaxis": {
          "title": {
           "text": "Composante 3"
          }
         }
        },
        "showlegend": false,
        "template": {
         "data": {
          "bar": [
           {
            "error_x": {
             "color": "#2a3f5f"
            },
            "error_y": {
             "color": "#2a3f5f"
            },
            "marker": {
             "line": {
              "color": "#E5ECF6",
              "width": 0.5
             },
             "pattern": {
              "fillmode": "overlay",
              "size": 10,
              "solidity": 0.2
             }
            },
            "type": "bar"
           }
          ],
          "barpolar": [
           {
            "marker": {
             "line": {
              "color": "#E5ECF6",
              "width": 0.5
             },
             "pattern": {
              "fillmode": "overlay",
              "size": 10,
              "solidity": 0.2
             }
            },
            "type": "barpolar"
           }
          ],
          "carpet": [
           {
            "aaxis": {
             "endlinecolor": "#2a3f5f",
             "gridcolor": "white",
             "linecolor": "white",
             "minorgridcolor": "white",
             "startlinecolor": "#2a3f5f"
            },
            "baxis": {
             "endlinecolor": "#2a3f5f",
             "gridcolor": "white",
             "linecolor": "white",
             "minorgridcolor": "white",
             "startlinecolor": "#2a3f5f"
            },
            "type": "carpet"
           }
          ],
          "choropleth": [
           {
            "colorbar": {
             "outlinewidth": 0,
             "ticks": ""
            },
            "type": "choropleth"
           }
          ],
          "contour": [
           {
            "colorbar": {
             "outlinewidth": 0,
             "ticks": ""
            },
            "colorscale": [
             [
              0,
              "#0d0887"
             ],
             [
              0.1111111111111111,
              "#46039f"
             ],
             [
              0.2222222222222222,
              "#7201a8"
             ],
             [
              0.3333333333333333,
              "#9c179e"
             ],
             [
              0.4444444444444444,
              "#bd3786"
             ],
             [
              0.5555555555555556,
              "#d8576b"
             ],
             [
              0.6666666666666666,
              "#ed7953"
             ],
             [
              0.7777777777777778,
              "#fb9f3a"
             ],
             [
              0.8888888888888888,
              "#fdca26"
             ],
             [
              1,
              "#f0f921"
             ]
            ],
            "type": "contour"
           }
          ],
          "contourcarpet": [
           {
            "colorbar": {
             "outlinewidth": 0,
             "ticks": ""
            },
            "type": "contourcarpet"
           }
          ],
          "heatmap": [
           {
            "colorbar": {
             "outlinewidth": 0,
             "ticks": ""
            },
            "colorscale": [
             [
              0,
              "#0d0887"
             ],
             [
              0.1111111111111111,
              "#46039f"
             ],
             [
              0.2222222222222222,
              "#7201a8"
             ],
             [
              0.3333333333333333,
              "#9c179e"
             ],
             [
              0.4444444444444444,
              "#bd3786"
             ],
             [
              0.5555555555555556,
              "#d8576b"
             ],
             [
              0.6666666666666666,
              "#ed7953"
             ],
             [
              0.7777777777777778,
              "#fb9f3a"
             ],
             [
              0.8888888888888888,
              "#fdca26"
             ],
             [
              1,
              "#f0f921"
             ]
            ],
            "type": "heatmap"
           }
          ],
          "heatmapgl": [
           {
            "colorbar": {
             "outlinewidth": 0,
             "ticks": ""
            },
            "colorscale": [
             [
              0,
              "#0d0887"
             ],
             [
              0.1111111111111111,
              "#46039f"
             ],
             [
              0.2222222222222222,
              "#7201a8"
             ],
             [
              0.3333333333333333,
              "#9c179e"
             ],
             [
              0.4444444444444444,
              "#bd3786"
             ],
             [
              0.5555555555555556,
              "#d8576b"
             ],
             [
              0.6666666666666666,
              "#ed7953"
             ],
             [
              0.7777777777777778,
              "#fb9f3a"
             ],
             [
              0.8888888888888888,
              "#fdca26"
             ],
             [
              1,
              "#f0f921"
             ]
            ],
            "type": "heatmapgl"
           }
          ],
          "histogram": [
           {
            "marker": {
             "pattern": {
              "fillmode": "overlay",
              "size": 10,
              "solidity": 0.2
             }
            },
            "type": "histogram"
           }
          ],
          "histogram2d": [
           {
            "colorbar": {
             "outlinewidth": 0,
             "ticks": ""
            },
            "colorscale": [
             [
              0,
              "#0d0887"
             ],
             [
              0.1111111111111111,
              "#46039f"
             ],
             [
              0.2222222222222222,
              "#7201a8"
             ],
             [
              0.3333333333333333,
              "#9c179e"
             ],
             [
              0.4444444444444444,
              "#bd3786"
             ],
             [
              0.5555555555555556,
              "#d8576b"
             ],
             [
              0.6666666666666666,
              "#ed7953"
             ],
             [
              0.7777777777777778,
              "#fb9f3a"
             ],
             [
              0.8888888888888888,
              "#fdca26"
             ],
             [
              1,
              "#f0f921"
             ]
            ],
            "type": "histogram2d"
           }
          ],
          "histogram2dcontour": [
           {
            "colorbar": {
             "outlinewidth": 0,
             "ticks": ""
            },
            "colorscale": [
             [
              0,
              "#0d0887"
             ],
             [
              0.1111111111111111,
              "#46039f"
             ],
             [
              0.2222222222222222,
              "#7201a8"
             ],
             [
              0.3333333333333333,
              "#9c179e"
             ],
             [
              0.4444444444444444,
              "#bd3786"
             ],
             [
              0.5555555555555556,
              "#d8576b"
             ],
             [
              0.6666666666666666,
              "#ed7953"
             ],
             [
              0.7777777777777778,
              "#fb9f3a"
             ],
             [
              0.8888888888888888,
              "#fdca26"
             ],
             [
              1,
              "#f0f921"
             ]
            ],
            "type": "histogram2dcontour"
           }
          ],
          "mesh3d": [
           {
            "colorbar": {
             "outlinewidth": 0,
             "ticks": ""
            },
            "type": "mesh3d"
           }
          ],
          "parcoords": [
           {
            "line": {
             "colorbar": {
              "outlinewidth": 0,
              "ticks": ""
             }
            },
            "type": "parcoords"
           }
          ],
          "pie": [
           {
            "automargin": true,
            "type": "pie"
           }
          ],
          "scatter": [
           {
            "fillpattern": {
             "fillmode": "overlay",
             "size": 10,
             "solidity": 0.2
            },
            "type": "scatter"
           }
          ],
          "scatter3d": [
           {
            "line": {
             "colorbar": {
              "outlinewidth": 0,
              "ticks": ""
             }
            },
            "marker": {
             "colorbar": {
              "outlinewidth": 0,
              "ticks": ""
             }
            },
            "type": "scatter3d"
           }
          ],
          "scattercarpet": [
           {
            "marker": {
             "colorbar": {
              "outlinewidth": 0,
              "ticks": ""
             }
            },
            "type": "scattercarpet"
           }
          ],
          "scattergeo": [
           {
            "marker": {
             "colorbar": {
              "outlinewidth": 0,
              "ticks": ""
             }
            },
            "type": "scattergeo"
           }
          ],
          "scattergl": [
           {
            "marker": {
             "colorbar": {
              "outlinewidth": 0,
              "ticks": ""
             }
            },
            "type": "scattergl"
           }
          ],
          "scattermapbox": [
           {
            "marker": {
             "colorbar": {
              "outlinewidth": 0,
              "ticks": ""
             }
            },
            "type": "scattermapbox"
           }
          ],
          "scatterpolar": [
           {
            "marker": {
             "colorbar": {
              "outlinewidth": 0,
              "ticks": ""
             }
            },
            "type": "scatterpolar"
           }
          ],
          "scatterpolargl": [
           {
            "marker": {
             "colorbar": {
              "outlinewidth": 0,
              "ticks": ""
             }
            },
            "type": "scatterpolargl"
           }
          ],
          "scatterternary": [
           {
            "marker": {
             "colorbar": {
              "outlinewidth": 0,
              "ticks": ""
             }
            },
            "type": "scatterternary"
           }
          ],
          "surface": [
           {
            "colorbar": {
             "outlinewidth": 0,
             "ticks": ""
            },
            "colorscale": [
             [
              0,
              "#0d0887"
             ],
             [
              0.1111111111111111,
              "#46039f"
             ],
             [
              0.2222222222222222,
              "#7201a8"
             ],
             [
              0.3333333333333333,
              "#9c179e"
             ],
             [
              0.4444444444444444,
              "#bd3786"
             ],
             [
              0.5555555555555556,
              "#d8576b"
             ],
             [
              0.6666666666666666,
              "#ed7953"
             ],
             [
              0.7777777777777778,
              "#fb9f3a"
             ],
             [
              0.8888888888888888,
              "#fdca26"
             ],
             [
              1,
              "#f0f921"
             ]
            ],
            "type": "surface"
           }
          ],
          "table": [
           {
            "cells": {
             "fill": {
              "color": "#EBF0F8"
             },
             "line": {
              "color": "white"
             }
            },
            "header": {
             "fill": {
              "color": "#C8D4E3"
             },
             "line": {
              "color": "white"
             }
            },
            "type": "table"
           }
          ]
         },
         "layout": {
          "annotationdefaults": {
           "arrowcolor": "#2a3f5f",
           "arrowhead": 0,
           "arrowwidth": 1
          },
          "autotypenumbers": "strict",
          "coloraxis": {
           "colorbar": {
            "outlinewidth": 0,
            "ticks": ""
           }
          },
          "colorscale": {
           "diverging": [
            [
             0,
             "#8e0152"
            ],
            [
             0.1,
             "#c51b7d"
            ],
            [
             0.2,
             "#de77ae"
            ],
            [
             0.3,
             "#f1b6da"
            ],
            [
             0.4,
             "#fde0ef"
            ],
            [
             0.5,
             "#f7f7f7"
            ],
            [
             0.6,
             "#e6f5d0"
            ],
            [
             0.7,
             "#b8e186"
            ],
            [
             0.8,
             "#7fbc41"
            ],
            [
             0.9,
             "#4d9221"
            ],
            [
             1,
             "#276419"
            ]
           ],
           "sequential": [
            [
             0,
             "#0d0887"
            ],
            [
             0.1111111111111111,
             "#46039f"
            ],
            [
             0.2222222222222222,
             "#7201a8"
            ],
            [
             0.3333333333333333,
             "#9c179e"
            ],
            [
             0.4444444444444444,
             "#bd3786"
            ],
            [
             0.5555555555555556,
             "#d8576b"
            ],
            [
             0.6666666666666666,
             "#ed7953"
            ],
            [
             0.7777777777777778,
             "#fb9f3a"
            ],
            [
             0.8888888888888888,
             "#fdca26"
            ],
            [
             1,
             "#f0f921"
            ]
           ],
           "sequentialminus": [
            [
             0,
             "#0d0887"
            ],
            [
             0.1111111111111111,
             "#46039f"
            ],
            [
             0.2222222222222222,
             "#7201a8"
            ],
            [
             0.3333333333333333,
             "#9c179e"
            ],
            [
             0.4444444444444444,
             "#bd3786"
            ],
            [
             0.5555555555555556,
             "#d8576b"
            ],
            [
             0.6666666666666666,
             "#ed7953"
            ],
            [
             0.7777777777777778,
             "#fb9f3a"
            ],
            [
             0.8888888888888888,
             "#fdca26"
            ],
            [
             1,
             "#f0f921"
            ]
           ]
          },
          "colorway": [
           "#636efa",
           "#EF553B",
           "#00cc96",
           "#ab63fa",
           "#FFA15A",
           "#19d3f3",
           "#FF6692",
           "#B6E880",
           "#FF97FF",
           "#FECB52"
          ],
          "font": {
           "color": "#2a3f5f"
          },
          "geo": {
           "bgcolor": "white",
           "lakecolor": "white",
           "landcolor": "#E5ECF6",
           "showlakes": true,
           "showland": true,
           "subunitcolor": "white"
          },
          "hoverlabel": {
           "align": "left"
          },
          "hovermode": "closest",
          "mapbox": {
           "style": "light"
          },
          "paper_bgcolor": "white",
          "plot_bgcolor": "#E5ECF6",
          "polar": {
           "angularaxis": {
            "gridcolor": "white",
            "linecolor": "white",
            "ticks": ""
           },
           "bgcolor": "#E5ECF6",
           "radialaxis": {
            "gridcolor": "white",
            "linecolor": "white",
            "ticks": ""
           }
          },
          "scene": {
           "xaxis": {
            "backgroundcolor": "#E5ECF6",
            "gridcolor": "white",
            "gridwidth": 2,
            "linecolor": "white",
            "showbackground": true,
            "ticks": "",
            "zerolinecolor": "white"
           },
           "yaxis": {
            "backgroundcolor": "#E5ECF6",
            "gridcolor": "white",
            "gridwidth": 2,
            "linecolor": "white",
            "showbackground": true,
            "ticks": "",
            "zerolinecolor": "white"
           },
           "zaxis": {
            "backgroundcolor": "#E5ECF6",
            "gridcolor": "white",
            "gridwidth": 2,
            "linecolor": "white",
            "showbackground": true,
            "ticks": "",
            "zerolinecolor": "white"
           }
          },
          "shapedefaults": {
           "line": {
            "color": "#2a3f5f"
           }
          },
          "ternary": {
           "aaxis": {
            "gridcolor": "white",
            "linecolor": "white",
            "ticks": ""
           },
           "baxis": {
            "gridcolor": "white",
            "linecolor": "white",
            "ticks": ""
           },
           "bgcolor": "#E5ECF6",
           "caxis": {
            "gridcolor": "white",
            "linecolor": "white",
            "ticks": ""
           }
          },
          "title": {
           "x": 0.05
          },
          "xaxis": {
           "automargin": true,
           "gridcolor": "white",
           "linecolor": "white",
           "ticks": "",
           "title": {
            "standoff": 15
           },
           "zerolinecolor": "white",
           "zerolinewidth": 2
          },
          "yaxis": {
           "automargin": true,
           "gridcolor": "white",
           "linecolor": "white",
           "ticks": "",
           "title": {
            "standoff": 15
           },
           "zerolinecolor": "white",
           "zerolinewidth": 2
          }
         }
        },
        "title": {
         "text": "Projection 3D des voisins de grecque, latin, oublier, nourriture par MDS"
        },
        "width": 1200
       }
      }
     },
     "metadata": {},
     "output_type": "display_data"
    },
    {
     "data": {
      "text/plain": [
       "['dire',\n",
       " 'nouriture',\n",
       " 'là',\n",
       " 'nourrir',\n",
       " 'jamais',\n",
       " 'hellènes',\n",
       " 'ration_quotidien',\n",
       " 'ne',\n",
       " 'gréco-',\n",
       " 'latin_médiéval',\n",
       " 'greque',\n",
       " 've_siècle_av_jésus-christ',\n",
       " 'ionien',\n",
       " 'grecquer',\n",
       " 'falloir',\n",
       " 'oublier',\n",
       " 'vivres',\n",
       " 'grecs',\n",
       " 'hellénique',\n",
       " 'iiie_siècle_av_jésus-christ',\n",
       " 'mot_latin',\n",
       " 'proie_vivant',\n",
       " 'latiniser',\n",
       " 'pâtée',\n",
       " 'langue_vulgaire',\n",
       " 'rien',\n",
       " 'étymologie',\n",
       " 'racine_grec',\n",
       " 'grammairien',\n",
       " 'grec',\n",
       " 'verbe_latin',\n",
       " 'affamer',\n",
       " 'nourriture',\n",
       " 'aliment',\n",
       " 'mais',\n",
       " 'nourriture_sain',\n",
       " 'manger',\n",
       " 'latiniste',\n",
       " 'pas',\n",
       " 'latin',\n",
       " 'toujours',\n",
       " 'grecque',\n",
       " 'quand']"
      ]
     },
     "execution_count": 148,
     "metadata": {},
     "output_type": "execute_result"
    }
   ],
   "source": [
    "# Question 4a\n",
    "display_dimred_neighbors(model, mots, n_components=3, topn=10, method='pca', n_neighbors=10)\n",
    "display_dimred_neighbors(model, mots, n_components=3, topn=10, method='mds', n_neighbors=10)\n",
    "#\n",
    "# En utilisant la méthode PCA, on peut voir que les mots 'latin' et 'grecque' sont proches l'un de l'autre (meme cluster)\n",
    "# Nous observons également un cluster différent pour 'nourriture' et 'oublier'\n",
    "# En revanche pour la méthode MDS, les mots 'latin' et 'grecque' sont plus éloignés l'un de l'autre ainsi que la densité en plus homogène, les clusters ne sont plus évidents de manière visuelle.\n",
    "# A noter que la position des différents cluster reste la même pour les deux méthodes.\n",
    "\n"
   ]
  },
  {
   "cell_type": "code",
   "execution_count": null,
   "id": "328fd322",
   "metadata": {},
   "outputs": [
    {
     "name": "stderr",
     "output_type": "stream",
     "text": [
      "c:\\Users\\Julien\\miniconda3\\envs\\PCD\\Lib\\site-packages\\sklearn\\manifold\\_t_sne.py:1162: FutureWarning:\n",
      "\n",
      "'n_iter' was renamed to 'max_iter' in version 1.5 and will be removed in 1.7.\n",
      "\n"
     ]
    },
    {
     "data": {
      "application/vnd.plotly.v1+json": {
       "config": {
        "plotlyServerURL": "https://plot.ly"
       },
       "data": [
        {
         "marker": {
          "color": "rgba(255, 0, 0, 0.8)",
          "size": 5
         },
         "mode": "markers+text",
         "text": [
          "dire",
          "nouriture",
          "là",
          "nourrir",
          "jamais",
          "hellènes",
          "ration_quotidien",
          "ne",
          "gréco-",
          "latin_médiéval",
          "greque",
          "ve_siècle_av_jésus-christ",
          "ionien",
          "grecquer",
          "falloir",
          "oublier",
          "vivres",
          "grecs",
          "hellénique",
          "iiie_siècle_av_jésus-christ",
          "mot_latin",
          "proie_vivant",
          "latiniser",
          "pâtée",
          "langue_vulgaire",
          "rien",
          "étymologie",
          "racine_grec",
          "grammairien",
          "grec",
          "verbe_latin",
          "affamer",
          "nourriture",
          "aliment",
          "mais",
          "nourriture_sain",
          "manger",
          "latiniste",
          "pas",
          "latin",
          "toujours",
          "grecque",
          "quand"
         ],
         "textposition": "top center",
         "type": "scatter3d",
         "x": [
          41.14497375488281,
          41.241703033447266,
          22.625717163085938,
          -29.1428279876709,
          4.214847564697266,
          7.711124897003174,
          -26.660602569580078,
          13.483521461486816,
          16.049551010131836,
          -8.954329490661621,
          -4.268741607666016,
          28.110708236694336,
          17.14735984802246,
          0.806593120098114,
          38.52903366088867,
          -10.877174377441406,
          -51.9664421081543,
          -10.340692520141602,
          -1.0981000661849976,
          17.767099380493164,
          14.65859603881836,
          3.187480926513672,
          -18.323923110961914,
          -30.377004623413086,
          -49.714744567871094,
          17.451904296875,
          28.43039894104004,
          24.560771942138672,
          -25.632896423339844,
          -10.321839332580566,
          7.554464817047119,
          73.10356140136719,
          -51.60337448120117,
          -50.430824279785156,
          17.523221969604492,
          44.01888656616211,
          -17.31064796447754,
          55.05304718017578,
          26.186851501464844,
          9.525157928466797,
          2.203937530517578,
          3.343813180923462,
          -5.655898094177246
         ],
         "y": [
          10.266107559204102,
          -44.6776123046875,
          -4.177272796630859,
          -45.36366271972656,
          31.006145477294922,
          -10.745532035827637,
          5.124816417694092,
          46.379173278808594,
          1.7425798177719116,
          11.1937837600708,
          -15.901006698608398,
          -19.060691833496094,
          -40.74464416503906,
          -41.379085540771484,
          37.790618896484375,
          12.262395858764648,
          12.773016929626465,
          -51.38009262084961,
          7.936842441558838,
          -28.028013229370117,
          -3.3573672771453857,
          29.70240020751953,
          -13.352359771728516,
          -11.981400489807129,
          2.8765482902526855,
          37.00163269042969,
          -14.831795692443848,
          6.7200927734375,
          15.873748779296875,
          86.35710906982422,
          1.0159752368927002,
          9.665879249572754,
          -5.360762596130371,
          21.24199676513672,
          11.529035568237305,
          -46.49687194824219,
          49.26653289794922,
          35.70820999145508,
          26.021406173706055,
          7.408123970031738,
          10.043448448181152,
          -36.03095626831055,
          36.66978073120117
         ],
         "z": [
          -33.28857421875,
          -20.175626754760742,
          -36.713741302490234,
          36.78668975830078,
          -55.18352127075195,
          17.867673873901367,
          -9.924556732177734,
          37.4539794921875,
          7.903226852416992,
          33.71852493286133,
          10.637481689453125,
          4.492624282836914,
          25.950532913208008,
          -2.745737314224243,
          -19.87145233154297,
          -53.15412902832031,
          13.620058059692383,
          -44.90017318725586,
          -2.0677056312561035,
          11.710358619689941,
          58.153263092041016,
          7.093153476715088,
          23.543346405029297,
          -24.913713455200195,
          -51.08238983154297,
          -48.022216796875,
          62.29132843017578,
          40.47801971435547,
          40.29618453979492,
          9.339634895324707,
          37.226531982421875,
          -19.34564781188965,
          12.739773750305176,
          -18.63371467590332,
          -28.983074188232422,
          6.264674663543701,
          -11.974881172180176,
          22.28046989440918,
          -30.051563262939453,
          72.50900268554688,
          -37.560550689697266,
          -20.004959106445312,
          -22.240028381347656
         ]
        }
       ],
       "layout": {
        "height": 1000,
        "scene": {
         "xaxis": {
          "title": {
           "text": "Composante 1"
          }
         },
         "yaxis": {
          "title": {
           "text": "Composante 2"
          }
         },
         "zaxis": {
          "title": {
           "text": "Composante 3"
          }
         }
        },
        "showlegend": false,
        "template": {
         "data": {
          "bar": [
           {
            "error_x": {
             "color": "#2a3f5f"
            },
            "error_y": {
             "color": "#2a3f5f"
            },
            "marker": {
             "line": {
              "color": "#E5ECF6",
              "width": 0.5
             },
             "pattern": {
              "fillmode": "overlay",
              "size": 10,
              "solidity": 0.2
             }
            },
            "type": "bar"
           }
          ],
          "barpolar": [
           {
            "marker": {
             "line": {
              "color": "#E5ECF6",
              "width": 0.5
             },
             "pattern": {
              "fillmode": "overlay",
              "size": 10,
              "solidity": 0.2
             }
            },
            "type": "barpolar"
           }
          ],
          "carpet": [
           {
            "aaxis": {
             "endlinecolor": "#2a3f5f",
             "gridcolor": "white",
             "linecolor": "white",
             "minorgridcolor": "white",
             "startlinecolor": "#2a3f5f"
            },
            "baxis": {
             "endlinecolor": "#2a3f5f",
             "gridcolor": "white",
             "linecolor": "white",
             "minorgridcolor": "white",
             "startlinecolor": "#2a3f5f"
            },
            "type": "carpet"
           }
          ],
          "choropleth": [
           {
            "colorbar": {
             "outlinewidth": 0,
             "ticks": ""
            },
            "type": "choropleth"
           }
          ],
          "contour": [
           {
            "colorbar": {
             "outlinewidth": 0,
             "ticks": ""
            },
            "colorscale": [
             [
              0,
              "#0d0887"
             ],
             [
              0.1111111111111111,
              "#46039f"
             ],
             [
              0.2222222222222222,
              "#7201a8"
             ],
             [
              0.3333333333333333,
              "#9c179e"
             ],
             [
              0.4444444444444444,
              "#bd3786"
             ],
             [
              0.5555555555555556,
              "#d8576b"
             ],
             [
              0.6666666666666666,
              "#ed7953"
             ],
             [
              0.7777777777777778,
              "#fb9f3a"
             ],
             [
              0.8888888888888888,
              "#fdca26"
             ],
             [
              1,
              "#f0f921"
             ]
            ],
            "type": "contour"
           }
          ],
          "contourcarpet": [
           {
            "colorbar": {
             "outlinewidth": 0,
             "ticks": ""
            },
            "type": "contourcarpet"
           }
          ],
          "heatmap": [
           {
            "colorbar": {
             "outlinewidth": 0,
             "ticks": ""
            },
            "colorscale": [
             [
              0,
              "#0d0887"
             ],
             [
              0.1111111111111111,
              "#46039f"
             ],
             [
              0.2222222222222222,
              "#7201a8"
             ],
             [
              0.3333333333333333,
              "#9c179e"
             ],
             [
              0.4444444444444444,
              "#bd3786"
             ],
             [
              0.5555555555555556,
              "#d8576b"
             ],
             [
              0.6666666666666666,
              "#ed7953"
             ],
             [
              0.7777777777777778,
              "#fb9f3a"
             ],
             [
              0.8888888888888888,
              "#fdca26"
             ],
             [
              1,
              "#f0f921"
             ]
            ],
            "type": "heatmap"
           }
          ],
          "heatmapgl": [
           {
            "colorbar": {
             "outlinewidth": 0,
             "ticks": ""
            },
            "colorscale": [
             [
              0,
              "#0d0887"
             ],
             [
              0.1111111111111111,
              "#46039f"
             ],
             [
              0.2222222222222222,
              "#7201a8"
             ],
             [
              0.3333333333333333,
              "#9c179e"
             ],
             [
              0.4444444444444444,
              "#bd3786"
             ],
             [
              0.5555555555555556,
              "#d8576b"
             ],
             [
              0.6666666666666666,
              "#ed7953"
             ],
             [
              0.7777777777777778,
              "#fb9f3a"
             ],
             [
              0.8888888888888888,
              "#fdca26"
             ],
             [
              1,
              "#f0f921"
             ]
            ],
            "type": "heatmapgl"
           }
          ],
          "histogram": [
           {
            "marker": {
             "pattern": {
              "fillmode": "overlay",
              "size": 10,
              "solidity": 0.2
             }
            },
            "type": "histogram"
           }
          ],
          "histogram2d": [
           {
            "colorbar": {
             "outlinewidth": 0,
             "ticks": ""
            },
            "colorscale": [
             [
              0,
              "#0d0887"
             ],
             [
              0.1111111111111111,
              "#46039f"
             ],
             [
              0.2222222222222222,
              "#7201a8"
             ],
             [
              0.3333333333333333,
              "#9c179e"
             ],
             [
              0.4444444444444444,
              "#bd3786"
             ],
             [
              0.5555555555555556,
              "#d8576b"
             ],
             [
              0.6666666666666666,
              "#ed7953"
             ],
             [
              0.7777777777777778,
              "#fb9f3a"
             ],
             [
              0.8888888888888888,
              "#fdca26"
             ],
             [
              1,
              "#f0f921"
             ]
            ],
            "type": "histogram2d"
           }
          ],
          "histogram2dcontour": [
           {
            "colorbar": {
             "outlinewidth": 0,
             "ticks": ""
            },
            "colorscale": [
             [
              0,
              "#0d0887"
             ],
             [
              0.1111111111111111,
              "#46039f"
             ],
             [
              0.2222222222222222,
              "#7201a8"
             ],
             [
              0.3333333333333333,
              "#9c179e"
             ],
             [
              0.4444444444444444,
              "#bd3786"
             ],
             [
              0.5555555555555556,
              "#d8576b"
             ],
             [
              0.6666666666666666,
              "#ed7953"
             ],
             [
              0.7777777777777778,
              "#fb9f3a"
             ],
             [
              0.8888888888888888,
              "#fdca26"
             ],
             [
              1,
              "#f0f921"
             ]
            ],
            "type": "histogram2dcontour"
           }
          ],
          "mesh3d": [
           {
            "colorbar": {
             "outlinewidth": 0,
             "ticks": ""
            },
            "type": "mesh3d"
           }
          ],
          "parcoords": [
           {
            "line": {
             "colorbar": {
              "outlinewidth": 0,
              "ticks": ""
             }
            },
            "type": "parcoords"
           }
          ],
          "pie": [
           {
            "automargin": true,
            "type": "pie"
           }
          ],
          "scatter": [
           {
            "fillpattern": {
             "fillmode": "overlay",
             "size": 10,
             "solidity": 0.2
            },
            "type": "scatter"
           }
          ],
          "scatter3d": [
           {
            "line": {
             "colorbar": {
              "outlinewidth": 0,
              "ticks": ""
             }
            },
            "marker": {
             "colorbar": {
              "outlinewidth": 0,
              "ticks": ""
             }
            },
            "type": "scatter3d"
           }
          ],
          "scattercarpet": [
           {
            "marker": {
             "colorbar": {
              "outlinewidth": 0,
              "ticks": ""
             }
            },
            "type": "scattercarpet"
           }
          ],
          "scattergeo": [
           {
            "marker": {
             "colorbar": {
              "outlinewidth": 0,
              "ticks": ""
             }
            },
            "type": "scattergeo"
           }
          ],
          "scattergl": [
           {
            "marker": {
             "colorbar": {
              "outlinewidth": 0,
              "ticks": ""
             }
            },
            "type": "scattergl"
           }
          ],
          "scattermapbox": [
           {
            "marker": {
             "colorbar": {
              "outlinewidth": 0,
              "ticks": ""
             }
            },
            "type": "scattermapbox"
           }
          ],
          "scatterpolar": [
           {
            "marker": {
             "colorbar": {
              "outlinewidth": 0,
              "ticks": ""
             }
            },
            "type": "scatterpolar"
           }
          ],
          "scatterpolargl": [
           {
            "marker": {
             "colorbar": {
              "outlinewidth": 0,
              "ticks": ""
             }
            },
            "type": "scatterpolargl"
           }
          ],
          "scatterternary": [
           {
            "marker": {
             "colorbar": {
              "outlinewidth": 0,
              "ticks": ""
             }
            },
            "type": "scatterternary"
           }
          ],
          "surface": [
           {
            "colorbar": {
             "outlinewidth": 0,
             "ticks": ""
            },
            "colorscale": [
             [
              0,
              "#0d0887"
             ],
             [
              0.1111111111111111,
              "#46039f"
             ],
             [
              0.2222222222222222,
              "#7201a8"
             ],
             [
              0.3333333333333333,
              "#9c179e"
             ],
             [
              0.4444444444444444,
              "#bd3786"
             ],
             [
              0.5555555555555556,
              "#d8576b"
             ],
             [
              0.6666666666666666,
              "#ed7953"
             ],
             [
              0.7777777777777778,
              "#fb9f3a"
             ],
             [
              0.8888888888888888,
              "#fdca26"
             ],
             [
              1,
              "#f0f921"
             ]
            ],
            "type": "surface"
           }
          ],
          "table": [
           {
            "cells": {
             "fill": {
              "color": "#EBF0F8"
             },
             "line": {
              "color": "white"
             }
            },
            "header": {
             "fill": {
              "color": "#C8D4E3"
             },
             "line": {
              "color": "white"
             }
            },
            "type": "table"
           }
          ]
         },
         "layout": {
          "annotationdefaults": {
           "arrowcolor": "#2a3f5f",
           "arrowhead": 0,
           "arrowwidth": 1
          },
          "autotypenumbers": "strict",
          "coloraxis": {
           "colorbar": {
            "outlinewidth": 0,
            "ticks": ""
           }
          },
          "colorscale": {
           "diverging": [
            [
             0,
             "#8e0152"
            ],
            [
             0.1,
             "#c51b7d"
            ],
            [
             0.2,
             "#de77ae"
            ],
            [
             0.3,
             "#f1b6da"
            ],
            [
             0.4,
             "#fde0ef"
            ],
            [
             0.5,
             "#f7f7f7"
            ],
            [
             0.6,
             "#e6f5d0"
            ],
            [
             0.7,
             "#b8e186"
            ],
            [
             0.8,
             "#7fbc41"
            ],
            [
             0.9,
             "#4d9221"
            ],
            [
             1,
             "#276419"
            ]
           ],
           "sequential": [
            [
             0,
             "#0d0887"
            ],
            [
             0.1111111111111111,
             "#46039f"
            ],
            [
             0.2222222222222222,
             "#7201a8"
            ],
            [
             0.3333333333333333,
             "#9c179e"
            ],
            [
             0.4444444444444444,
             "#bd3786"
            ],
            [
             0.5555555555555556,
             "#d8576b"
            ],
            [
             0.6666666666666666,
             "#ed7953"
            ],
            [
             0.7777777777777778,
             "#fb9f3a"
            ],
            [
             0.8888888888888888,
             "#fdca26"
            ],
            [
             1,
             "#f0f921"
            ]
           ],
           "sequentialminus": [
            [
             0,
             "#0d0887"
            ],
            [
             0.1111111111111111,
             "#46039f"
            ],
            [
             0.2222222222222222,
             "#7201a8"
            ],
            [
             0.3333333333333333,
             "#9c179e"
            ],
            [
             0.4444444444444444,
             "#bd3786"
            ],
            [
             0.5555555555555556,
             "#d8576b"
            ],
            [
             0.6666666666666666,
             "#ed7953"
            ],
            [
             0.7777777777777778,
             "#fb9f3a"
            ],
            [
             0.8888888888888888,
             "#fdca26"
            ],
            [
             1,
             "#f0f921"
            ]
           ]
          },
          "colorway": [
           "#636efa",
           "#EF553B",
           "#00cc96",
           "#ab63fa",
           "#FFA15A",
           "#19d3f3",
           "#FF6692",
           "#B6E880",
           "#FF97FF",
           "#FECB52"
          ],
          "font": {
           "color": "#2a3f5f"
          },
          "geo": {
           "bgcolor": "white",
           "lakecolor": "white",
           "landcolor": "#E5ECF6",
           "showlakes": true,
           "showland": true,
           "subunitcolor": "white"
          },
          "hoverlabel": {
           "align": "left"
          },
          "hovermode": "closest",
          "mapbox": {
           "style": "light"
          },
          "paper_bgcolor": "white",
          "plot_bgcolor": "#E5ECF6",
          "polar": {
           "angularaxis": {
            "gridcolor": "white",
            "linecolor": "white",
            "ticks": ""
           },
           "bgcolor": "#E5ECF6",
           "radialaxis": {
            "gridcolor": "white",
            "linecolor": "white",
            "ticks": ""
           }
          },
          "scene": {
           "xaxis": {
            "backgroundcolor": "#E5ECF6",
            "gridcolor": "white",
            "gridwidth": 2,
            "linecolor": "white",
            "showbackground": true,
            "ticks": "",
            "zerolinecolor": "white"
           },
           "yaxis": {
            "backgroundcolor": "#E5ECF6",
            "gridcolor": "white",
            "gridwidth": 2,
            "linecolor": "white",
            "showbackground": true,
            "ticks": "",
            "zerolinecolor": "white"
           },
           "zaxis": {
            "backgroundcolor": "#E5ECF6",
            "gridcolor": "white",
            "gridwidth": 2,
            "linecolor": "white",
            "showbackground": true,
            "ticks": "",
            "zerolinecolor": "white"
           }
          },
          "shapedefaults": {
           "line": {
            "color": "#2a3f5f"
           }
          },
          "ternary": {
           "aaxis": {
            "gridcolor": "white",
            "linecolor": "white",
            "ticks": ""
           },
           "baxis": {
            "gridcolor": "white",
            "linecolor": "white",
            "ticks": ""
           },
           "bgcolor": "#E5ECF6",
           "caxis": {
            "gridcolor": "white",
            "linecolor": "white",
            "ticks": ""
           }
          },
          "title": {
           "x": 0.05
          },
          "xaxis": {
           "automargin": true,
           "gridcolor": "white",
           "linecolor": "white",
           "ticks": "",
           "title": {
            "standoff": 15
           },
           "zerolinecolor": "white",
           "zerolinewidth": 2
          },
          "yaxis": {
           "automargin": true,
           "gridcolor": "white",
           "linecolor": "white",
           "ticks": "",
           "title": {
            "standoff": 15
           },
           "zerolinecolor": "white",
           "zerolinewidth": 2
          }
         }
        },
        "title": {
         "text": "Projection 3D des voisins de grecque, latin, oublier, nourriture par TSNE"
        },
        "width": 1200
       }
      }
     },
     "metadata": {},
     "output_type": "display_data"
    },
    {
     "data": {
      "application/vnd.plotly.v1+json": {
       "config": {
        "plotlyServerURL": "https://plot.ly"
       },
       "data": [
        {
         "marker": {
          "color": "rgba(255, 0, 0, 0.8)",
          "size": 5
         },
         "mode": "markers+text",
         "text": [
          "dire",
          "nouriture",
          "là",
          "nourrir",
          "jamais",
          "hellènes",
          "ration_quotidien",
          "ne",
          "gréco-",
          "latin_médiéval",
          "greque",
          "ve_siècle_av_jésus-christ",
          "ionien",
          "grecquer",
          "falloir",
          "oublier",
          "vivres",
          "grecs",
          "hellénique",
          "iiie_siècle_av_jésus-christ",
          "mot_latin",
          "proie_vivant",
          "latiniser",
          "pâtée",
          "langue_vulgaire",
          "rien",
          "étymologie",
          "racine_grec",
          "grammairien",
          "grec",
          "verbe_latin",
          "affamer",
          "nourriture",
          "aliment",
          "mais",
          "nourriture_sain",
          "manger",
          "latiniste",
          "pas",
          "latin",
          "toujours",
          "grecque",
          "quand"
         ],
         "textposition": "top center",
         "type": "scatter3d",
         "x": [
          50.01518249511719,
          2.9506731033325195,
          49.72138595581055,
          -10.20652961730957,
          60.54615020751953,
          -13.259263038635254,
          -2.5420196056365967,
          67.85999298095703,
          -19.494464874267578,
          -28.748266220092773,
          -18.627586364746094,
          -18.849214553833008,
          -27.610612869262695,
          -20.24922752380371,
          60.73743438720703,
          61.795841217041016,
          -11.642300605773926,
          -33.358245849609375,
          -30.192312240600586,
          -19.313119888305664,
          -32.507232666015625,
          -10.621002197265625,
          -21.005691528320312,
          -9.209026336669922,
          -30.348068237304688,
          71.25511932373047,
          -36.24908447265625,
          -20.80259895324707,
          -34.24860763549805,
          -34.876853942871094,
          -19.90765380859375,
          -10.459506034851074,
          -10.490551948547363,
          -10.320545196533203,
          58.95476531982422,
          -9.978927612304688,
          19.124290466308594,
          -32.70846939086914,
          61.05876159667969,
          -46.62673568725586,
          50.75182342529297,
          -30.384510040283203,
          40.066856384277344
         ],
         "y": [
          -2.8175528049468994,
          9.505711555480957,
          -2.9275286197662354,
          23.05314826965332,
          -4.802905082702637,
          -2.036835193634033,
          7.15271520614624,
          -6.563406944274902,
          -4.245528697967529,
          -4.830238342285156,
          -0.5268511772155762,
          -3.341381788253784,
          -8.712029457092285,
          -4.719456195831299,
          -4.6255035400390625,
          -4.740584373474121,
          35.62386703491211,
          -10.061907768249512,
          -5.9515557289123535,
          -4.341501235961914,
          -11.829459190368652,
          9.487287521362305,
          -4.927229404449463,
          20.065614700317383,
          -8.696422576904297,
          -7.185601234436035,
          -12.206583976745605,
          -4.436114311218262,
          -9.286240577697754,
          -14.516748428344727,
          -4.754645824432373,
          25.807924270629883,
          29.177776336669922,
          24.23013687133789,
          -4.724971294403076,
          12.39476490020752,
          2.9429056644439697,
          -7.169038772583008,
          -5.1910014152526855,
          -17.84285545349121,
          -3.260359764099121,
          -6.915890216827393,
          -1.2539033889770508
         ],
         "z": [
          0.22847992181777954,
          2.2712478637695312,
          0.25050050020217896,
          2.0248396396636963,
          0.16025181114673615,
          -0.21951359510421753,
          0.4669051170349121,
          0.1686679869890213,
          -9.658971786499023,
          12.700113296508789,
          1.8184950351715088,
          -5.635571002960205,
          -15.378235816955566,
          -9.540782928466797,
          0.15794897079467773,
          0.14909900724887848,
          -1.4739195108413696,
          -21.937110900878906,
          -21.63971519470215,
          -6.002612590789795,
          23.360145568847656,
          1.740699291229248,
          3.3364436626434326,
          1.788536787033081,
          14.083642959594727,
          0.14235033094882965,
          23.807861328125,
          8.489694595336914,
          14.852238655090332,
          -13.158686637878418,
          8.348745346069336,
          1.9580439329147339,
          1.5286290645599365,
          1.8650791645050049,
          0.2057868093252182,
          0.015249008312821388,
          0.41110795736312866,
          -21.317934036254883,
          0.19494660198688507,
          17.148351669311523,
          0.24749137461185455,
          -18.273313522338867,
          0.3147687315940857
         ]
        }
       ],
       "layout": {
        "height": 1000,
        "scene": {
         "xaxis": {
          "title": {
           "text": "Composante 1"
          }
         },
         "yaxis": {
          "title": {
           "text": "Composante 2"
          }
         },
         "zaxis": {
          "title": {
           "text": "Composante 3"
          }
         }
        },
        "showlegend": false,
        "template": {
         "data": {
          "bar": [
           {
            "error_x": {
             "color": "#2a3f5f"
            },
            "error_y": {
             "color": "#2a3f5f"
            },
            "marker": {
             "line": {
              "color": "#E5ECF6",
              "width": 0.5
             },
             "pattern": {
              "fillmode": "overlay",
              "size": 10,
              "solidity": 0.2
             }
            },
            "type": "bar"
           }
          ],
          "barpolar": [
           {
            "marker": {
             "line": {
              "color": "#E5ECF6",
              "width": 0.5
             },
             "pattern": {
              "fillmode": "overlay",
              "size": 10,
              "solidity": 0.2
             }
            },
            "type": "barpolar"
           }
          ],
          "carpet": [
           {
            "aaxis": {
             "endlinecolor": "#2a3f5f",
             "gridcolor": "white",
             "linecolor": "white",
             "minorgridcolor": "white",
             "startlinecolor": "#2a3f5f"
            },
            "baxis": {
             "endlinecolor": "#2a3f5f",
             "gridcolor": "white",
             "linecolor": "white",
             "minorgridcolor": "white",
             "startlinecolor": "#2a3f5f"
            },
            "type": "carpet"
           }
          ],
          "choropleth": [
           {
            "colorbar": {
             "outlinewidth": 0,
             "ticks": ""
            },
            "type": "choropleth"
           }
          ],
          "contour": [
           {
            "colorbar": {
             "outlinewidth": 0,
             "ticks": ""
            },
            "colorscale": [
             [
              0,
              "#0d0887"
             ],
             [
              0.1111111111111111,
              "#46039f"
             ],
             [
              0.2222222222222222,
              "#7201a8"
             ],
             [
              0.3333333333333333,
              "#9c179e"
             ],
             [
              0.4444444444444444,
              "#bd3786"
             ],
             [
              0.5555555555555556,
              "#d8576b"
             ],
             [
              0.6666666666666666,
              "#ed7953"
             ],
             [
              0.7777777777777778,
              "#fb9f3a"
             ],
             [
              0.8888888888888888,
              "#fdca26"
             ],
             [
              1,
              "#f0f921"
             ]
            ],
            "type": "contour"
           }
          ],
          "contourcarpet": [
           {
            "colorbar": {
             "outlinewidth": 0,
             "ticks": ""
            },
            "type": "contourcarpet"
           }
          ],
          "heatmap": [
           {
            "colorbar": {
             "outlinewidth": 0,
             "ticks": ""
            },
            "colorscale": [
             [
              0,
              "#0d0887"
             ],
             [
              0.1111111111111111,
              "#46039f"
             ],
             [
              0.2222222222222222,
              "#7201a8"
             ],
             [
              0.3333333333333333,
              "#9c179e"
             ],
             [
              0.4444444444444444,
              "#bd3786"
             ],
             [
              0.5555555555555556,
              "#d8576b"
             ],
             [
              0.6666666666666666,
              "#ed7953"
             ],
             [
              0.7777777777777778,
              "#fb9f3a"
             ],
             [
              0.8888888888888888,
              "#fdca26"
             ],
             [
              1,
              "#f0f921"
             ]
            ],
            "type": "heatmap"
           }
          ],
          "heatmapgl": [
           {
            "colorbar": {
             "outlinewidth": 0,
             "ticks": ""
            },
            "colorscale": [
             [
              0,
              "#0d0887"
             ],
             [
              0.1111111111111111,
              "#46039f"
             ],
             [
              0.2222222222222222,
              "#7201a8"
             ],
             [
              0.3333333333333333,
              "#9c179e"
             ],
             [
              0.4444444444444444,
              "#bd3786"
             ],
             [
              0.5555555555555556,
              "#d8576b"
             ],
             [
              0.6666666666666666,
              "#ed7953"
             ],
             [
              0.7777777777777778,
              "#fb9f3a"
             ],
             [
              0.8888888888888888,
              "#fdca26"
             ],
             [
              1,
              "#f0f921"
             ]
            ],
            "type": "heatmapgl"
           }
          ],
          "histogram": [
           {
            "marker": {
             "pattern": {
              "fillmode": "overlay",
              "size": 10,
              "solidity": 0.2
             }
            },
            "type": "histogram"
           }
          ],
          "histogram2d": [
           {
            "colorbar": {
             "outlinewidth": 0,
             "ticks": ""
            },
            "colorscale": [
             [
              0,
              "#0d0887"
             ],
             [
              0.1111111111111111,
              "#46039f"
             ],
             [
              0.2222222222222222,
              "#7201a8"
             ],
             [
              0.3333333333333333,
              "#9c179e"
             ],
             [
              0.4444444444444444,
              "#bd3786"
             ],
             [
              0.5555555555555556,
              "#d8576b"
             ],
             [
              0.6666666666666666,
              "#ed7953"
             ],
             [
              0.7777777777777778,
              "#fb9f3a"
             ],
             [
              0.8888888888888888,
              "#fdca26"
             ],
             [
              1,
              "#f0f921"
             ]
            ],
            "type": "histogram2d"
           }
          ],
          "histogram2dcontour": [
           {
            "colorbar": {
             "outlinewidth": 0,
             "ticks": ""
            },
            "colorscale": [
             [
              0,
              "#0d0887"
             ],
             [
              0.1111111111111111,
              "#46039f"
             ],
             [
              0.2222222222222222,
              "#7201a8"
             ],
             [
              0.3333333333333333,
              "#9c179e"
             ],
             [
              0.4444444444444444,
              "#bd3786"
             ],
             [
              0.5555555555555556,
              "#d8576b"
             ],
             [
              0.6666666666666666,
              "#ed7953"
             ],
             [
              0.7777777777777778,
              "#fb9f3a"
             ],
             [
              0.8888888888888888,
              "#fdca26"
             ],
             [
              1,
              "#f0f921"
             ]
            ],
            "type": "histogram2dcontour"
           }
          ],
          "mesh3d": [
           {
            "colorbar": {
             "outlinewidth": 0,
             "ticks": ""
            },
            "type": "mesh3d"
           }
          ],
          "parcoords": [
           {
            "line": {
             "colorbar": {
              "outlinewidth": 0,
              "ticks": ""
             }
            },
            "type": "parcoords"
           }
          ],
          "pie": [
           {
            "automargin": true,
            "type": "pie"
           }
          ],
          "scatter": [
           {
            "fillpattern": {
             "fillmode": "overlay",
             "size": 10,
             "solidity": 0.2
            },
            "type": "scatter"
           }
          ],
          "scatter3d": [
           {
            "line": {
             "colorbar": {
              "outlinewidth": 0,
              "ticks": ""
             }
            },
            "marker": {
             "colorbar": {
              "outlinewidth": 0,
              "ticks": ""
             }
            },
            "type": "scatter3d"
           }
          ],
          "scattercarpet": [
           {
            "marker": {
             "colorbar": {
              "outlinewidth": 0,
              "ticks": ""
             }
            },
            "type": "scattercarpet"
           }
          ],
          "scattergeo": [
           {
            "marker": {
             "colorbar": {
              "outlinewidth": 0,
              "ticks": ""
             }
            },
            "type": "scattergeo"
           }
          ],
          "scattergl": [
           {
            "marker": {
             "colorbar": {
              "outlinewidth": 0,
              "ticks": ""
             }
            },
            "type": "scattergl"
           }
          ],
          "scattermapbox": [
           {
            "marker": {
             "colorbar": {
              "outlinewidth": 0,
              "ticks": ""
             }
            },
            "type": "scattermapbox"
           }
          ],
          "scatterpolar": [
           {
            "marker": {
             "colorbar": {
              "outlinewidth": 0,
              "ticks": ""
             }
            },
            "type": "scatterpolar"
           }
          ],
          "scatterpolargl": [
           {
            "marker": {
             "colorbar": {
              "outlinewidth": 0,
              "ticks": ""
             }
            },
            "type": "scatterpolargl"
           }
          ],
          "scatterternary": [
           {
            "marker": {
             "colorbar": {
              "outlinewidth": 0,
              "ticks": ""
             }
            },
            "type": "scatterternary"
           }
          ],
          "surface": [
           {
            "colorbar": {
             "outlinewidth": 0,
             "ticks": ""
            },
            "colorscale": [
             [
              0,
              "#0d0887"
             ],
             [
              0.1111111111111111,
              "#46039f"
             ],
             [
              0.2222222222222222,
              "#7201a8"
             ],
             [
              0.3333333333333333,
              "#9c179e"
             ],
             [
              0.4444444444444444,
              "#bd3786"
             ],
             [
              0.5555555555555556,
              "#d8576b"
             ],
             [
              0.6666666666666666,
              "#ed7953"
             ],
             [
              0.7777777777777778,
              "#fb9f3a"
             ],
             [
              0.8888888888888888,
              "#fdca26"
             ],
             [
              1,
              "#f0f921"
             ]
            ],
            "type": "surface"
           }
          ],
          "table": [
           {
            "cells": {
             "fill": {
              "color": "#EBF0F8"
             },
             "line": {
              "color": "white"
             }
            },
            "header": {
             "fill": {
              "color": "#C8D4E3"
             },
             "line": {
              "color": "white"
             }
            },
            "type": "table"
           }
          ]
         },
         "layout": {
          "annotationdefaults": {
           "arrowcolor": "#2a3f5f",
           "arrowhead": 0,
           "arrowwidth": 1
          },
          "autotypenumbers": "strict",
          "coloraxis": {
           "colorbar": {
            "outlinewidth": 0,
            "ticks": ""
           }
          },
          "colorscale": {
           "diverging": [
            [
             0,
             "#8e0152"
            ],
            [
             0.1,
             "#c51b7d"
            ],
            [
             0.2,
             "#de77ae"
            ],
            [
             0.3,
             "#f1b6da"
            ],
            [
             0.4,
             "#fde0ef"
            ],
            [
             0.5,
             "#f7f7f7"
            ],
            [
             0.6,
             "#e6f5d0"
            ],
            [
             0.7,
             "#b8e186"
            ],
            [
             0.8,
             "#7fbc41"
            ],
            [
             0.9,
             "#4d9221"
            ],
            [
             1,
             "#276419"
            ]
           ],
           "sequential": [
            [
             0,
             "#0d0887"
            ],
            [
             0.1111111111111111,
             "#46039f"
            ],
            [
             0.2222222222222222,
             "#7201a8"
            ],
            [
             0.3333333333333333,
             "#9c179e"
            ],
            [
             0.4444444444444444,
             "#bd3786"
            ],
            [
             0.5555555555555556,
             "#d8576b"
            ],
            [
             0.6666666666666666,
             "#ed7953"
            ],
            [
             0.7777777777777778,
             "#fb9f3a"
            ],
            [
             0.8888888888888888,
             "#fdca26"
            ],
            [
             1,
             "#f0f921"
            ]
           ],
           "sequentialminus": [
            [
             0,
             "#0d0887"
            ],
            [
             0.1111111111111111,
             "#46039f"
            ],
            [
             0.2222222222222222,
             "#7201a8"
            ],
            [
             0.3333333333333333,
             "#9c179e"
            ],
            [
             0.4444444444444444,
             "#bd3786"
            ],
            [
             0.5555555555555556,
             "#d8576b"
            ],
            [
             0.6666666666666666,
             "#ed7953"
            ],
            [
             0.7777777777777778,
             "#fb9f3a"
            ],
            [
             0.8888888888888888,
             "#fdca26"
            ],
            [
             1,
             "#f0f921"
            ]
           ]
          },
          "colorway": [
           "#636efa",
           "#EF553B",
           "#00cc96",
           "#ab63fa",
           "#FFA15A",
           "#19d3f3",
           "#FF6692",
           "#B6E880",
           "#FF97FF",
           "#FECB52"
          ],
          "font": {
           "color": "#2a3f5f"
          },
          "geo": {
           "bgcolor": "white",
           "lakecolor": "white",
           "landcolor": "#E5ECF6",
           "showlakes": true,
           "showland": true,
           "subunitcolor": "white"
          },
          "hoverlabel": {
           "align": "left"
          },
          "hovermode": "closest",
          "mapbox": {
           "style": "light"
          },
          "paper_bgcolor": "white",
          "plot_bgcolor": "#E5ECF6",
          "polar": {
           "angularaxis": {
            "gridcolor": "white",
            "linecolor": "white",
            "ticks": ""
           },
           "bgcolor": "#E5ECF6",
           "radialaxis": {
            "gridcolor": "white",
            "linecolor": "white",
            "ticks": ""
           }
          },
          "scene": {
           "xaxis": {
            "backgroundcolor": "#E5ECF6",
            "gridcolor": "white",
            "gridwidth": 2,
            "linecolor": "white",
            "showbackground": true,
            "ticks": "",
            "zerolinecolor": "white"
           },
           "yaxis": {
            "backgroundcolor": "#E5ECF6",
            "gridcolor": "white",
            "gridwidth": 2,
            "linecolor": "white",
            "showbackground": true,
            "ticks": "",
            "zerolinecolor": "white"
           },
           "zaxis": {
            "backgroundcolor": "#E5ECF6",
            "gridcolor": "white",
            "gridwidth": 2,
            "linecolor": "white",
            "showbackground": true,
            "ticks": "",
            "zerolinecolor": "white"
           }
          },
          "shapedefaults": {
           "line": {
            "color": "#2a3f5f"
           }
          },
          "ternary": {
           "aaxis": {
            "gridcolor": "white",
            "linecolor": "white",
            "ticks": ""
           },
           "baxis": {
            "gridcolor": "white",
            "linecolor": "white",
            "ticks": ""
           },
           "bgcolor": "#E5ECF6",
           "caxis": {
            "gridcolor": "white",
            "linecolor": "white",
            "ticks": ""
           }
          },
          "title": {
           "x": 0.05
          },
          "xaxis": {
           "automargin": true,
           "gridcolor": "white",
           "linecolor": "white",
           "ticks": "",
           "title": {
            "standoff": 15
           },
           "zerolinecolor": "white",
           "zerolinewidth": 2
          },
          "yaxis": {
           "automargin": true,
           "gridcolor": "white",
           "linecolor": "white",
           "ticks": "",
           "title": {
            "standoff": 15
           },
           "zerolinecolor": "white",
           "zerolinewidth": 2
          }
         }
        },
        "title": {
         "text": "Projection 3D des voisins de grecque, latin, oublier, nourriture par ISOMAP"
        },
        "width": 1200
       }
      }
     },
     "metadata": {},
     "output_type": "display_data"
    },
    {
     "name": "stderr",
     "output_type": "stream",
     "text": [
      "c:\\Users\\Julien\\miniconda3\\envs\\PCD\\Lib\\site-packages\\umap\\umap_.py:1952: UserWarning:\n",
      "\n",
      "n_jobs value 1 overridden to 1 by setting random_state. Use no seed for parallelism.\n",
      "\n"
     ]
    },
    {
     "data": {
      "application/vnd.plotly.v1+json": {
       "config": {
        "plotlyServerURL": "https://plot.ly"
       },
       "data": [
        {
         "marker": {
          "color": "rgba(255, 0, 0, 0.8)",
          "size": 5
         },
         "mode": "markers+text",
         "text": [
          "dire",
          "nouriture",
          "là",
          "nourrir",
          "jamais",
          "hellènes",
          "ration_quotidien",
          "ne",
          "gréco-",
          "latin_médiéval",
          "greque",
          "ve_siècle_av_jésus-christ",
          "ionien",
          "grecquer",
          "falloir",
          "oublier",
          "vivres",
          "grecs",
          "hellénique",
          "iiie_siècle_av_jésus-christ",
          "mot_latin",
          "proie_vivant",
          "latiniser",
          "pâtée",
          "langue_vulgaire",
          "rien",
          "étymologie",
          "racine_grec",
          "grammairien",
          "grec",
          "verbe_latin",
          "affamer",
          "nourriture",
          "aliment",
          "mais",
          "nourriture_sain",
          "manger",
          "latiniste",
          "pas",
          "latin",
          "toujours",
          "grecque",
          "quand"
         ],
         "textposition": "top center",
         "type": "scatter3d",
         "x": [
          -1.84531831741333,
          5.959761142730713,
          -1.7073451280593872,
          5.376922130584717,
          -1.7052444219589233,
          15.28103256225586,
          6.057254791259766,
          -2.2735326290130615,
          14.992371559143066,
          15.215124130249023,
          15.273316383361816,
          14.938553810119629,
          14.355010986328125,
          15.522822380065918,
          -2.246026039123535,
          -1.549827218055725,
          5.941640853881836,
          13.84438419342041,
          14.725695610046387,
          14.697417259216309,
          14.524259567260742,
          5.658366680145264,
          15.109881401062012,
          5.90495491027832,
          14.887008666992188,
          -1.8662151098251343,
          14.430806159973145,
          14.84282398223877,
          15.035390853881836,
          13.996368408203125,
          15.122495651245117,
          6.1452765464782715,
          5.687256336212158,
          5.49025297164917,
          -2.002504348754883,
          5.3742451667785645,
          -1.2910181283950806,
          15.263190269470215,
          -1.8843421936035156,
          14.195091247558594,
          -1.7595763206481934,
          15.436903953552246,
          -1.4502661228179932
         ],
         "y": [
          -0.20688103139400482,
          18.007715225219727,
          -0.6277875900268555,
          17.820417404174805,
          0.5798072814941406,
          11.304141998291016,
          18.34925079345703,
          0.02207503840327263,
          11.575455665588379,
          10.925519943237305,
          11.39699935913086,
          11.603492736816406,
          11.201330184936523,
          11.809432029724121,
          0.1506042182445526,
          0.3504897654056549,
          18.74042510986328,
          10.651022911071777,
          11.446196556091309,
          11.465190887451172,
          10.380098342895508,
          17.591466903686523,
          11.275688171386719,
          17.503042221069336,
          10.824885368347168,
          0.5889649987220764,
          10.581433296203613,
          10.590988159179688,
          11.154338836669922,
          10.755074501037598,
          10.673336029052734,
          18.034910202026367,
          18.57146453857422,
          18.498044967651367,
          -0.19863809645175934,
          18.264142990112305,
          -0.970861554145813,
          11.752862930297852,
          0.23255175352096558,
          10.455988883972168,
          0.06897246092557907,
          12.035399436950684,
          -0.8392601609230042
         ],
         "z": [
          1.640705943107605,
          15.776344299316406,
          2.2728898525238037,
          15.821372032165527,
          2.287463426589966,
          2.3671252727508545,
          15.743255615234375,
          1.8250648975372314,
          1.6287248134613037,
          3.6141350269317627,
          2.8997464179992676,
          2.44704532623291,
          1.5977426767349243,
          1.8170872926712036,
          1.6022623777389526,
          2.6026082038879395,
          15.3086576461792,
          1.561905860900879,
          1.3917453289031982,
          2.1660401821136475,
          2.7744252681732178,
          15.666646003723145,
          3.4618842601776123,
          15.871027946472168,
          3.6377928256988525,
          1.889276385307312,
          2.988025188446045,
          2.810969829559326,
          3.8360097408294678,
          1.7740529775619507,
          3.043748617172241,
          15.549720764160156,
          15.41726016998291,
          15.777787208557129,
          2.0923240184783936,
          15.573750495910645,
          2.0246598720550537,
          1.5492581129074097,
          1.5556997060775757,
          2.5023865699768066,
          2.517023801803589,
          1.5921598672866821,
          2.067748546600342
         ]
        }
       ],
       "layout": {
        "height": 1000,
        "scene": {
         "xaxis": {
          "title": {
           "text": "Composante 1"
          }
         },
         "yaxis": {
          "title": {
           "text": "Composante 2"
          }
         },
         "zaxis": {
          "title": {
           "text": "Composante 3"
          }
         }
        },
        "showlegend": false,
        "template": {
         "data": {
          "bar": [
           {
            "error_x": {
             "color": "#2a3f5f"
            },
            "error_y": {
             "color": "#2a3f5f"
            },
            "marker": {
             "line": {
              "color": "#E5ECF6",
              "width": 0.5
             },
             "pattern": {
              "fillmode": "overlay",
              "size": 10,
              "solidity": 0.2
             }
            },
            "type": "bar"
           }
          ],
          "barpolar": [
           {
            "marker": {
             "line": {
              "color": "#E5ECF6",
              "width": 0.5
             },
             "pattern": {
              "fillmode": "overlay",
              "size": 10,
              "solidity": 0.2
             }
            },
            "type": "barpolar"
           }
          ],
          "carpet": [
           {
            "aaxis": {
             "endlinecolor": "#2a3f5f",
             "gridcolor": "white",
             "linecolor": "white",
             "minorgridcolor": "white",
             "startlinecolor": "#2a3f5f"
            },
            "baxis": {
             "endlinecolor": "#2a3f5f",
             "gridcolor": "white",
             "linecolor": "white",
             "minorgridcolor": "white",
             "startlinecolor": "#2a3f5f"
            },
            "type": "carpet"
           }
          ],
          "choropleth": [
           {
            "colorbar": {
             "outlinewidth": 0,
             "ticks": ""
            },
            "type": "choropleth"
           }
          ],
          "contour": [
           {
            "colorbar": {
             "outlinewidth": 0,
             "ticks": ""
            },
            "colorscale": [
             [
              0,
              "#0d0887"
             ],
             [
              0.1111111111111111,
              "#46039f"
             ],
             [
              0.2222222222222222,
              "#7201a8"
             ],
             [
              0.3333333333333333,
              "#9c179e"
             ],
             [
              0.4444444444444444,
              "#bd3786"
             ],
             [
              0.5555555555555556,
              "#d8576b"
             ],
             [
              0.6666666666666666,
              "#ed7953"
             ],
             [
              0.7777777777777778,
              "#fb9f3a"
             ],
             [
              0.8888888888888888,
              "#fdca26"
             ],
             [
              1,
              "#f0f921"
             ]
            ],
            "type": "contour"
           }
          ],
          "contourcarpet": [
           {
            "colorbar": {
             "outlinewidth": 0,
             "ticks": ""
            },
            "type": "contourcarpet"
           }
          ],
          "heatmap": [
           {
            "colorbar": {
             "outlinewidth": 0,
             "ticks": ""
            },
            "colorscale": [
             [
              0,
              "#0d0887"
             ],
             [
              0.1111111111111111,
              "#46039f"
             ],
             [
              0.2222222222222222,
              "#7201a8"
             ],
             [
              0.3333333333333333,
              "#9c179e"
             ],
             [
              0.4444444444444444,
              "#bd3786"
             ],
             [
              0.5555555555555556,
              "#d8576b"
             ],
             [
              0.6666666666666666,
              "#ed7953"
             ],
             [
              0.7777777777777778,
              "#fb9f3a"
             ],
             [
              0.8888888888888888,
              "#fdca26"
             ],
             [
              1,
              "#f0f921"
             ]
            ],
            "type": "heatmap"
           }
          ],
          "heatmapgl": [
           {
            "colorbar": {
             "outlinewidth": 0,
             "ticks": ""
            },
            "colorscale": [
             [
              0,
              "#0d0887"
             ],
             [
              0.1111111111111111,
              "#46039f"
             ],
             [
              0.2222222222222222,
              "#7201a8"
             ],
             [
              0.3333333333333333,
              "#9c179e"
             ],
             [
              0.4444444444444444,
              "#bd3786"
             ],
             [
              0.5555555555555556,
              "#d8576b"
             ],
             [
              0.6666666666666666,
              "#ed7953"
             ],
             [
              0.7777777777777778,
              "#fb9f3a"
             ],
             [
              0.8888888888888888,
              "#fdca26"
             ],
             [
              1,
              "#f0f921"
             ]
            ],
            "type": "heatmapgl"
           }
          ],
          "histogram": [
           {
            "marker": {
             "pattern": {
              "fillmode": "overlay",
              "size": 10,
              "solidity": 0.2
             }
            },
            "type": "histogram"
           }
          ],
          "histogram2d": [
           {
            "colorbar": {
             "outlinewidth": 0,
             "ticks": ""
            },
            "colorscale": [
             [
              0,
              "#0d0887"
             ],
             [
              0.1111111111111111,
              "#46039f"
             ],
             [
              0.2222222222222222,
              "#7201a8"
             ],
             [
              0.3333333333333333,
              "#9c179e"
             ],
             [
              0.4444444444444444,
              "#bd3786"
             ],
             [
              0.5555555555555556,
              "#d8576b"
             ],
             [
              0.6666666666666666,
              "#ed7953"
             ],
             [
              0.7777777777777778,
              "#fb9f3a"
             ],
             [
              0.8888888888888888,
              "#fdca26"
             ],
             [
              1,
              "#f0f921"
             ]
            ],
            "type": "histogram2d"
           }
          ],
          "histogram2dcontour": [
           {
            "colorbar": {
             "outlinewidth": 0,
             "ticks": ""
            },
            "colorscale": [
             [
              0,
              "#0d0887"
             ],
             [
              0.1111111111111111,
              "#46039f"
             ],
             [
              0.2222222222222222,
              "#7201a8"
             ],
             [
              0.3333333333333333,
              "#9c179e"
             ],
             [
              0.4444444444444444,
              "#bd3786"
             ],
             [
              0.5555555555555556,
              "#d8576b"
             ],
             [
              0.6666666666666666,
              "#ed7953"
             ],
             [
              0.7777777777777778,
              "#fb9f3a"
             ],
             [
              0.8888888888888888,
              "#fdca26"
             ],
             [
              1,
              "#f0f921"
             ]
            ],
            "type": "histogram2dcontour"
           }
          ],
          "mesh3d": [
           {
            "colorbar": {
             "outlinewidth": 0,
             "ticks": ""
            },
            "type": "mesh3d"
           }
          ],
          "parcoords": [
           {
            "line": {
             "colorbar": {
              "outlinewidth": 0,
              "ticks": ""
             }
            },
            "type": "parcoords"
           }
          ],
          "pie": [
           {
            "automargin": true,
            "type": "pie"
           }
          ],
          "scatter": [
           {
            "fillpattern": {
             "fillmode": "overlay",
             "size": 10,
             "solidity": 0.2
            },
            "type": "scatter"
           }
          ],
          "scatter3d": [
           {
            "line": {
             "colorbar": {
              "outlinewidth": 0,
              "ticks": ""
             }
            },
            "marker": {
             "colorbar": {
              "outlinewidth": 0,
              "ticks": ""
             }
            },
            "type": "scatter3d"
           }
          ],
          "scattercarpet": [
           {
            "marker": {
             "colorbar": {
              "outlinewidth": 0,
              "ticks": ""
             }
            },
            "type": "scattercarpet"
           }
          ],
          "scattergeo": [
           {
            "marker": {
             "colorbar": {
              "outlinewidth": 0,
              "ticks": ""
             }
            },
            "type": "scattergeo"
           }
          ],
          "scattergl": [
           {
            "marker": {
             "colorbar": {
              "outlinewidth": 0,
              "ticks": ""
             }
            },
            "type": "scattergl"
           }
          ],
          "scattermapbox": [
           {
            "marker": {
             "colorbar": {
              "outlinewidth": 0,
              "ticks": ""
             }
            },
            "type": "scattermapbox"
           }
          ],
          "scatterpolar": [
           {
            "marker": {
             "colorbar": {
              "outlinewidth": 0,
              "ticks": ""
             }
            },
            "type": "scatterpolar"
           }
          ],
          "scatterpolargl": [
           {
            "marker": {
             "colorbar": {
              "outlinewidth": 0,
              "ticks": ""
             }
            },
            "type": "scatterpolargl"
           }
          ],
          "scatterternary": [
           {
            "marker": {
             "colorbar": {
              "outlinewidth": 0,
              "ticks": ""
             }
            },
            "type": "scatterternary"
           }
          ],
          "surface": [
           {
            "colorbar": {
             "outlinewidth": 0,
             "ticks": ""
            },
            "colorscale": [
             [
              0,
              "#0d0887"
             ],
             [
              0.1111111111111111,
              "#46039f"
             ],
             [
              0.2222222222222222,
              "#7201a8"
             ],
             [
              0.3333333333333333,
              "#9c179e"
             ],
             [
              0.4444444444444444,
              "#bd3786"
             ],
             [
              0.5555555555555556,
              "#d8576b"
             ],
             [
              0.6666666666666666,
              "#ed7953"
             ],
             [
              0.7777777777777778,
              "#fb9f3a"
             ],
             [
              0.8888888888888888,
              "#fdca26"
             ],
             [
              1,
              "#f0f921"
             ]
            ],
            "type": "surface"
           }
          ],
          "table": [
           {
            "cells": {
             "fill": {
              "color": "#EBF0F8"
             },
             "line": {
              "color": "white"
             }
            },
            "header": {
             "fill": {
              "color": "#C8D4E3"
             },
             "line": {
              "color": "white"
             }
            },
            "type": "table"
           }
          ]
         },
         "layout": {
          "annotationdefaults": {
           "arrowcolor": "#2a3f5f",
           "arrowhead": 0,
           "arrowwidth": 1
          },
          "autotypenumbers": "strict",
          "coloraxis": {
           "colorbar": {
            "outlinewidth": 0,
            "ticks": ""
           }
          },
          "colorscale": {
           "diverging": [
            [
             0,
             "#8e0152"
            ],
            [
             0.1,
             "#c51b7d"
            ],
            [
             0.2,
             "#de77ae"
            ],
            [
             0.3,
             "#f1b6da"
            ],
            [
             0.4,
             "#fde0ef"
            ],
            [
             0.5,
             "#f7f7f7"
            ],
            [
             0.6,
             "#e6f5d0"
            ],
            [
             0.7,
             "#b8e186"
            ],
            [
             0.8,
             "#7fbc41"
            ],
            [
             0.9,
             "#4d9221"
            ],
            [
             1,
             "#276419"
            ]
           ],
           "sequential": [
            [
             0,
             "#0d0887"
            ],
            [
             0.1111111111111111,
             "#46039f"
            ],
            [
             0.2222222222222222,
             "#7201a8"
            ],
            [
             0.3333333333333333,
             "#9c179e"
            ],
            [
             0.4444444444444444,
             "#bd3786"
            ],
            [
             0.5555555555555556,
             "#d8576b"
            ],
            [
             0.6666666666666666,
             "#ed7953"
            ],
            [
             0.7777777777777778,
             "#fb9f3a"
            ],
            [
             0.8888888888888888,
             "#fdca26"
            ],
            [
             1,
             "#f0f921"
            ]
           ],
           "sequentialminus": [
            [
             0,
             "#0d0887"
            ],
            [
             0.1111111111111111,
             "#46039f"
            ],
            [
             0.2222222222222222,
             "#7201a8"
            ],
            [
             0.3333333333333333,
             "#9c179e"
            ],
            [
             0.4444444444444444,
             "#bd3786"
            ],
            [
             0.5555555555555556,
             "#d8576b"
            ],
            [
             0.6666666666666666,
             "#ed7953"
            ],
            [
             0.7777777777777778,
             "#fb9f3a"
            ],
            [
             0.8888888888888888,
             "#fdca26"
            ],
            [
             1,
             "#f0f921"
            ]
           ]
          },
          "colorway": [
           "#636efa",
           "#EF553B",
           "#00cc96",
           "#ab63fa",
           "#FFA15A",
           "#19d3f3",
           "#FF6692",
           "#B6E880",
           "#FF97FF",
           "#FECB52"
          ],
          "font": {
           "color": "#2a3f5f"
          },
          "geo": {
           "bgcolor": "white",
           "lakecolor": "white",
           "landcolor": "#E5ECF6",
           "showlakes": true,
           "showland": true,
           "subunitcolor": "white"
          },
          "hoverlabel": {
           "align": "left"
          },
          "hovermode": "closest",
          "mapbox": {
           "style": "light"
          },
          "paper_bgcolor": "white",
          "plot_bgcolor": "#E5ECF6",
          "polar": {
           "angularaxis": {
            "gridcolor": "white",
            "linecolor": "white",
            "ticks": ""
           },
           "bgcolor": "#E5ECF6",
           "radialaxis": {
            "gridcolor": "white",
            "linecolor": "white",
            "ticks": ""
           }
          },
          "scene": {
           "xaxis": {
            "backgroundcolor": "#E5ECF6",
            "gridcolor": "white",
            "gridwidth": 2,
            "linecolor": "white",
            "showbackground": true,
            "ticks": "",
            "zerolinecolor": "white"
           },
           "yaxis": {
            "backgroundcolor": "#E5ECF6",
            "gridcolor": "white",
            "gridwidth": 2,
            "linecolor": "white",
            "showbackground": true,
            "ticks": "",
            "zerolinecolor": "white"
           },
           "zaxis": {
            "backgroundcolor": "#E5ECF6",
            "gridcolor": "white",
            "gridwidth": 2,
            "linecolor": "white",
            "showbackground": true,
            "ticks": "",
            "zerolinecolor": "white"
           }
          },
          "shapedefaults": {
           "line": {
            "color": "#2a3f5f"
           }
          },
          "ternary": {
           "aaxis": {
            "gridcolor": "white",
            "linecolor": "white",
            "ticks": ""
           },
           "baxis": {
            "gridcolor": "white",
            "linecolor": "white",
            "ticks": ""
           },
           "bgcolor": "#E5ECF6",
           "caxis": {
            "gridcolor": "white",
            "linecolor": "white",
            "ticks": ""
           }
          },
          "title": {
           "x": 0.05
          },
          "xaxis": {
           "automargin": true,
           "gridcolor": "white",
           "linecolor": "white",
           "ticks": "",
           "title": {
            "standoff": 15
           },
           "zerolinecolor": "white",
           "zerolinewidth": 2
          },
          "yaxis": {
           "automargin": true,
           "gridcolor": "white",
           "linecolor": "white",
           "ticks": "",
           "title": {
            "standoff": 15
           },
           "zerolinecolor": "white",
           "zerolinewidth": 2
          }
         }
        },
        "title": {
         "text": "Projection 3D des voisins de grecque, latin, oublier, nourriture par UMAP"
        },
        "width": 1200
       }
      }
     },
     "metadata": {},
     "output_type": "display_data"
    },
    {
     "data": {
      "text/plain": [
       "['dire',\n",
       " 'nouriture',\n",
       " 'là',\n",
       " 'nourrir',\n",
       " 'jamais',\n",
       " 'hellènes',\n",
       " 'ration_quotidien',\n",
       " 'ne',\n",
       " 'gréco-',\n",
       " 'latin_médiéval',\n",
       " 'greque',\n",
       " 've_siècle_av_jésus-christ',\n",
       " 'ionien',\n",
       " 'grecquer',\n",
       " 'falloir',\n",
       " 'oublier',\n",
       " 'vivres',\n",
       " 'grecs',\n",
       " 'hellénique',\n",
       " 'iiie_siècle_av_jésus-christ',\n",
       " 'mot_latin',\n",
       " 'proie_vivant',\n",
       " 'latiniser',\n",
       " 'pâtée',\n",
       " 'langue_vulgaire',\n",
       " 'rien',\n",
       " 'étymologie',\n",
       " 'racine_grec',\n",
       " 'grammairien',\n",
       " 'grec',\n",
       " 'verbe_latin',\n",
       " 'affamer',\n",
       " 'nourriture',\n",
       " 'aliment',\n",
       " 'mais',\n",
       " 'nourriture_sain',\n",
       " 'manger',\n",
       " 'latiniste',\n",
       " 'pas',\n",
       " 'latin',\n",
       " 'toujours',\n",
       " 'grecque',\n",
       " 'quand']"
      ]
     },
     "execution_count": 144,
     "metadata": {},
     "output_type": "execute_result"
    }
   ],
   "source": [
    "# Question 4b\n",
    "display_dimred_neighbors(model, mots, n_components=3, topn=10, method='tsne', n_neighbors=3)\n",
    "display_dimred_neighbors(model, mots, n_components=3, topn=10, method='isomap', n_neighbors=3)\n",
    "display_dimred_neighbors(model, mots, n_components=3, topn=10, method='umap', n_neighbors=3)\n",
    "# Avec la méthode TSNE, on observe que les clusters sont très proches les uns des autres, même les mots dont la distance sémantique est grande.\n",
    "# Avec la méthode Isomap, on observe que les clusters sont plus éloignés les uns des autres, mais les mots 'latin' et 'grecque' sont plus proches l'un de l'autre. Nous observons\n",
    "# également un 'point' de contact entre les 3 mots.\n",
    "# Avec la méthode UMAP, on observe que les clusters sont plus éloignés les uns des autres, nous obtenons de vrais clusters distincts pour chaque mot."
   ]
  },
  {
   "cell_type": "code",
   "execution_count": null,
   "id": "ff07e3ab",
   "metadata": {},
   "outputs": [
    {
     "name": "stderr",
     "output_type": "stream",
     "text": [
      "c:\\Users\\Julien\\miniconda3\\envs\\PCD\\Lib\\site-packages\\umap\\umap_.py:1952: UserWarning:\n",
      "\n",
      "n_jobs value 1 overridden to 1 by setting random_state. Use no seed for parallelism.\n",
      "\n"
     ]
    },
    {
     "data": {
      "application/vnd.plotly.v1+json": {
       "config": {
        "plotlyServerURL": "https://plot.ly"
       },
       "data": [
        {
         "marker": {
          "color": "rgba(255, 0, 0, 0.8)",
          "size": 5
         },
         "mode": "markers+text",
         "text": [
          "dire",
          "excrément",
          "là",
          "nourrir",
          "jamais",
          "lui",
          "régime_alimentaire",
          "ne",
          "vouloir",
          "latin_médiéval",
          "ve_siècle_av_jésus-christ",
          "ionien",
          "achille_tatius",
          "grecquer",
          "proie_vivant",
          "iiie_siècle_av_jésus-christ",
          "hellénistique",
          "latiniser",
          "pâtée",
          "époque_mycénien",
          "etymologie",
          "affamer",
          "verbe_latin",
          "aliment",
          "car",
          "latiniste",
          "origine_germanique",
          "toujours",
          "nouriture",
          "penser",
          "ration_quotidien",
          "gréco-",
          "peut-être",
          "caput",
          "nourriture_abondant",
          "racine_indo-_européen",
          "vivres",
          "hellénique",
          "nourriture",
          "héraclée",
          "mais",
          "pas",
          "latin",
          "grecques",
          "perses",
          "quand",
          "juste",
          "greque",
          "victuaille",
          "nourrir_exclusivement",
          "tellement",
          "rien",
          "étymologie",
          "racine_grec",
          "grec",
          "dorien",
          "croire",
          "heureusement",
          "frugal",
          "poème_homérique",
          "sinon",
          "grecque",
          "ménandre",
          "hellènes",
          "clitophon",
          "ration_alimentaire",
          "denrée",
          "gréco-_latin",
          "gaffiot",
          "traduction_latin",
          "falloir",
          "oublier",
          "grecs",
          "mot_latin",
          "langue_vulgaire",
          "latin_grec",
          "grammairien",
          "latins",
          "nourriture_sain",
          "manger",
          "latin_vulgaire",
          "ration_journalier",
          "nourrissage"
         ],
         "textposition": "top center",
         "type": "scatter3d",
         "x": [
          -4.346435070037842,
          5.317213535308838,
          -4.390337944030762,
          5.04346227645874,
          -4.944375514984131,
          -4.501635551452637,
          5.5544538497924805,
          -4.812225818634033,
          -4.475372314453125,
          6.2126240730285645,
          7.588369846343994,
          8.135845184326172,
          6.7870659828186035,
          7.270273685455322,
          5.235306739807129,
          7.931044101715088,
          7.985459804534912,
          6.33950138092041,
          5.5099406242370605,
          7.133952617645264,
          5.560716152191162,
          5.254104137420654,
          5.829784393310547,
          5.719144344329834,
          -4.613768577575684,
          6.379021644592285,
          5.683333873748779,
          -4.826934337615967,
          4.90621280670166,
          -4.450078010559082,
          5.449787616729736,
          7.601129055023193,
          -4.9176459312438965,
          6.130054473876953,
          5.764021396636963,
          5.71563720703125,
          5.314762115478516,
          7.901169300079346,
          5.1838836669921875,
          7.405423641204834,
          -4.488528728485107,
          -4.477329254150391,
          6.097807884216309,
          6.882969856262207,
          7.51458740234375,
          -4.428784370422363,
          -4.297595500946045,
          6.865288257598877,
          5.091079235076904,
          5.134142875671387,
          -4.698629856109619,
          -4.771829605102539,
          5.634303092956543,
          5.710759162902832,
          7.941821575164795,
          8.305961608886719,
          -4.3095808029174805,
          -4.669650077819824,
          5.015573978424072,
          7.862608909606934,
          -4.269618988037109,
          7.57090425491333,
          6.966796875,
          7.248448371887207,
          6.600022792816162,
          5.640150547027588,
          5.570211410522461,
          7.182828903198242,
          6.098897933959961,
          6.4373779296875,
          -4.306719779968262,
          -5.066087245941162,
          8.18124008178711,
          5.663484573364258,
          6.320895195007324,
          6.378890514373779,
          6.625235557556152,
          6.802358627319336,
          5.276871204376221,
          4.513864994049072,
          6.048620700836182,
          5.928450584411621,
          5.517080307006836
         ],
         "y": [
          7.633224010467529,
          12.408476829528809,
          8.131682395935059,
          12.649794578552246,
          8.112006187438965,
          7.579578876495361,
          12.076956748962402,
          8.208174705505371,
          7.572473526000977,
          11.555252075195312,
          11.593936920166016,
          11.705832481384277,
          11.640830039978027,
          11.785256385803223,
          12.225278854370117,
          11.782447814941406,
          11.836373329162598,
          11.654779434204102,
          12.569103240966797,
          11.185333251953125,
          11.559617042541504,
          12.871227264404297,
          11.41833782196045,
          11.885414123535156,
          8.00583267211914,
          11.301377296447754,
          11.566533088684082,
          7.818601131439209,
          12.165801048278809,
          7.881270408630371,
          12.610054969787598,
          11.344063758850098,
          8.215725898742676,
          11.045869827270508,
          12.675640106201172,
          11.182655334472656,
          12.142797470092773,
          11.601153373718262,
          11.934100151062012,
          11.64818000793457,
          8.328554153442383,
          8.17370891571045,
          11.879178047180176,
          11.370530128479004,
          11.109461784362793,
          7.848464012145996,
          8.214510917663574,
          11.172136306762695,
          12.66611385345459,
          12.884516716003418,
          7.982892990112305,
          8.486315727233887,
          11.807011604309082,
          11.461100578308105,
          11.659507751464844,
          11.529000282287598,
          7.770017147064209,
          8.29665756225586,
          12.871068000793457,
          11.198890686035156,
          8.38860034942627,
          11.551263809204102,
          11.756063461303711,
          11.05976676940918,
          11.569321632385254,
          12.032373428344727,
          12.344657897949219,
          11.682450294494629,
          11.285618782043457,
          11.050601959228516,
          8.481983184814453,
          8.106891632080078,
          11.500256538391113,
          11.794456481933594,
          11.378474235534668,
          11.061384201049805,
          11.68877124786377,
          11.03950023651123,
          12.37385082244873,
          12.177745819091797,
          10.939138412475586,
          12.193410873413086,
          12.541467666625977
         ],
         "z": [
          -1.715256690979004,
          4.193024158477783,
          -1.0068811178207397,
          3.9527387619018555,
          -1.1404027938842773,
          -1.3095183372497559,
          3.847316026687622,
          -1.603293776512146,
          -1.5954645872116089,
          6.207117557525635,
          5.041603088378906,
          5.61565637588501,
          5.1454997062683105,
          5.262824058532715,
          4.138744831085205,
          5.195946216583252,
          5.36875057220459,
          5.844566822052002,
          3.8496434688568115,
          4.943484306335449,
          6.270583152770996,
          3.9482054710388184,
          5.942488670349121,
          3.86570143699646,
          -1.775978446006775,
          5.255115032196045,
          6.038909435272217,
          -1.2472014427185059,
          3.8359873294830322,
          -1.788826823234558,
          3.558483123779297,
          5.772106647491455,
          -1.8623969554901123,
          6.122657775878906,
          4.141190052032471,
          6.289423942565918,
          3.2201929092407227,
          5.765292644500732,
          3.506408214569092,
          4.755943298339844,
          -1.330715537071228,
          -1.611750602722168,
          6.6496782302856445,
          4.642367362976074,
          4.9110846519470215,
          -0.7607518434524536,
          -1.202163815498352,
          5.147859573364258,
          3.233428955078125,
          4.061467170715332,
          -0.8316433429718018,
          -1.1399811506271362,
          6.61806583404541,
          6.574423313140869,
          6.209005832672119,
          5.557137489318848,
          -1.9061009883880615,
          -0.7846612334251404,
          3.4920520782470703,
          5.2480998039245605,
          -1.4529955387115479,
          5.271735668182373,
          4.952449321746826,
          4.742411136627197,
          4.821859836578369,
          3.7536306381225586,
          3.266223430633545,
          6.150557041168213,
          5.452511787414551,
          5.936763286590576,
          -1.646811842918396,
          -1.2179856300354004,
          6.046032905578613,
          6.571412563323975,
          6.290499210357666,
          5.0911478996276855,
          6.302855968475342,
          5.955024719238281,
          3.49861216545105,
          3.5056660175323486,
          5.582639694213867,
          3.4134135246276855,
          4.37729549407959
         ]
        }
       ],
       "layout": {
        "height": 1000,
        "scene": {
         "xaxis": {
          "title": {
           "text": "Composante 1"
          }
         },
         "yaxis": {
          "title": {
           "text": "Composante 2"
          }
         },
         "zaxis": {
          "title": {
           "text": "Composante 3"
          }
         }
        },
        "showlegend": false,
        "template": {
         "data": {
          "bar": [
           {
            "error_x": {
             "color": "#2a3f5f"
            },
            "error_y": {
             "color": "#2a3f5f"
            },
            "marker": {
             "line": {
              "color": "#E5ECF6",
              "width": 0.5
             },
             "pattern": {
              "fillmode": "overlay",
              "size": 10,
              "solidity": 0.2
             }
            },
            "type": "bar"
           }
          ],
          "barpolar": [
           {
            "marker": {
             "line": {
              "color": "#E5ECF6",
              "width": 0.5
             },
             "pattern": {
              "fillmode": "overlay",
              "size": 10,
              "solidity": 0.2
             }
            },
            "type": "barpolar"
           }
          ],
          "carpet": [
           {
            "aaxis": {
             "endlinecolor": "#2a3f5f",
             "gridcolor": "white",
             "linecolor": "white",
             "minorgridcolor": "white",
             "startlinecolor": "#2a3f5f"
            },
            "baxis": {
             "endlinecolor": "#2a3f5f",
             "gridcolor": "white",
             "linecolor": "white",
             "minorgridcolor": "white",
             "startlinecolor": "#2a3f5f"
            },
            "type": "carpet"
           }
          ],
          "choropleth": [
           {
            "colorbar": {
             "outlinewidth": 0,
             "ticks": ""
            },
            "type": "choropleth"
           }
          ],
          "contour": [
           {
            "colorbar": {
             "outlinewidth": 0,
             "ticks": ""
            },
            "colorscale": [
             [
              0,
              "#0d0887"
             ],
             [
              0.1111111111111111,
              "#46039f"
             ],
             [
              0.2222222222222222,
              "#7201a8"
             ],
             [
              0.3333333333333333,
              "#9c179e"
             ],
             [
              0.4444444444444444,
              "#bd3786"
             ],
             [
              0.5555555555555556,
              "#d8576b"
             ],
             [
              0.6666666666666666,
              "#ed7953"
             ],
             [
              0.7777777777777778,
              "#fb9f3a"
             ],
             [
              0.8888888888888888,
              "#fdca26"
             ],
             [
              1,
              "#f0f921"
             ]
            ],
            "type": "contour"
           }
          ],
          "contourcarpet": [
           {
            "colorbar": {
             "outlinewidth": 0,
             "ticks": ""
            },
            "type": "contourcarpet"
           }
          ],
          "heatmap": [
           {
            "colorbar": {
             "outlinewidth": 0,
             "ticks": ""
            },
            "colorscale": [
             [
              0,
              "#0d0887"
             ],
             [
              0.1111111111111111,
              "#46039f"
             ],
             [
              0.2222222222222222,
              "#7201a8"
             ],
             [
              0.3333333333333333,
              "#9c179e"
             ],
             [
              0.4444444444444444,
              "#bd3786"
             ],
             [
              0.5555555555555556,
              "#d8576b"
             ],
             [
              0.6666666666666666,
              "#ed7953"
             ],
             [
              0.7777777777777778,
              "#fb9f3a"
             ],
             [
              0.8888888888888888,
              "#fdca26"
             ],
             [
              1,
              "#f0f921"
             ]
            ],
            "type": "heatmap"
           }
          ],
          "heatmapgl": [
           {
            "colorbar": {
             "outlinewidth": 0,
             "ticks": ""
            },
            "colorscale": [
             [
              0,
              "#0d0887"
             ],
             [
              0.1111111111111111,
              "#46039f"
             ],
             [
              0.2222222222222222,
              "#7201a8"
             ],
             [
              0.3333333333333333,
              "#9c179e"
             ],
             [
              0.4444444444444444,
              "#bd3786"
             ],
             [
              0.5555555555555556,
              "#d8576b"
             ],
             [
              0.6666666666666666,
              "#ed7953"
             ],
             [
              0.7777777777777778,
              "#fb9f3a"
             ],
             [
              0.8888888888888888,
              "#fdca26"
             ],
             [
              1,
              "#f0f921"
             ]
            ],
            "type": "heatmapgl"
           }
          ],
          "histogram": [
           {
            "marker": {
             "pattern": {
              "fillmode": "overlay",
              "size": 10,
              "solidity": 0.2
             }
            },
            "type": "histogram"
           }
          ],
          "histogram2d": [
           {
            "colorbar": {
             "outlinewidth": 0,
             "ticks": ""
            },
            "colorscale": [
             [
              0,
              "#0d0887"
             ],
             [
              0.1111111111111111,
              "#46039f"
             ],
             [
              0.2222222222222222,
              "#7201a8"
             ],
             [
              0.3333333333333333,
              "#9c179e"
             ],
             [
              0.4444444444444444,
              "#bd3786"
             ],
             [
              0.5555555555555556,
              "#d8576b"
             ],
             [
              0.6666666666666666,
              "#ed7953"
             ],
             [
              0.7777777777777778,
              "#fb9f3a"
             ],
             [
              0.8888888888888888,
              "#fdca26"
             ],
             [
              1,
              "#f0f921"
             ]
            ],
            "type": "histogram2d"
           }
          ],
          "histogram2dcontour": [
           {
            "colorbar": {
             "outlinewidth": 0,
             "ticks": ""
            },
            "colorscale": [
             [
              0,
              "#0d0887"
             ],
             [
              0.1111111111111111,
              "#46039f"
             ],
             [
              0.2222222222222222,
              "#7201a8"
             ],
             [
              0.3333333333333333,
              "#9c179e"
             ],
             [
              0.4444444444444444,
              "#bd3786"
             ],
             [
              0.5555555555555556,
              "#d8576b"
             ],
             [
              0.6666666666666666,
              "#ed7953"
             ],
             [
              0.7777777777777778,
              "#fb9f3a"
             ],
             [
              0.8888888888888888,
              "#fdca26"
             ],
             [
              1,
              "#f0f921"
             ]
            ],
            "type": "histogram2dcontour"
           }
          ],
          "mesh3d": [
           {
            "colorbar": {
             "outlinewidth": 0,
             "ticks": ""
            },
            "type": "mesh3d"
           }
          ],
          "parcoords": [
           {
            "line": {
             "colorbar": {
              "outlinewidth": 0,
              "ticks": ""
             }
            },
            "type": "parcoords"
           }
          ],
          "pie": [
           {
            "automargin": true,
            "type": "pie"
           }
          ],
          "scatter": [
           {
            "fillpattern": {
             "fillmode": "overlay",
             "size": 10,
             "solidity": 0.2
            },
            "type": "scatter"
           }
          ],
          "scatter3d": [
           {
            "line": {
             "colorbar": {
              "outlinewidth": 0,
              "ticks": ""
             }
            },
            "marker": {
             "colorbar": {
              "outlinewidth": 0,
              "ticks": ""
             }
            },
            "type": "scatter3d"
           }
          ],
          "scattercarpet": [
           {
            "marker": {
             "colorbar": {
              "outlinewidth": 0,
              "ticks": ""
             }
            },
            "type": "scattercarpet"
           }
          ],
          "scattergeo": [
           {
            "marker": {
             "colorbar": {
              "outlinewidth": 0,
              "ticks": ""
             }
            },
            "type": "scattergeo"
           }
          ],
          "scattergl": [
           {
            "marker": {
             "colorbar": {
              "outlinewidth": 0,
              "ticks": ""
             }
            },
            "type": "scattergl"
           }
          ],
          "scattermapbox": [
           {
            "marker": {
             "colorbar": {
              "outlinewidth": 0,
              "ticks": ""
             }
            },
            "type": "scattermapbox"
           }
          ],
          "scatterpolar": [
           {
            "marker": {
             "colorbar": {
              "outlinewidth": 0,
              "ticks": ""
             }
            },
            "type": "scatterpolar"
           }
          ],
          "scatterpolargl": [
           {
            "marker": {
             "colorbar": {
              "outlinewidth": 0,
              "ticks": ""
             }
            },
            "type": "scatterpolargl"
           }
          ],
          "scatterternary": [
           {
            "marker": {
             "colorbar": {
              "outlinewidth": 0,
              "ticks": ""
             }
            },
            "type": "scatterternary"
           }
          ],
          "surface": [
           {
            "colorbar": {
             "outlinewidth": 0,
             "ticks": ""
            },
            "colorscale": [
             [
              0,
              "#0d0887"
             ],
             [
              0.1111111111111111,
              "#46039f"
             ],
             [
              0.2222222222222222,
              "#7201a8"
             ],
             [
              0.3333333333333333,
              "#9c179e"
             ],
             [
              0.4444444444444444,
              "#bd3786"
             ],
             [
              0.5555555555555556,
              "#d8576b"
             ],
             [
              0.6666666666666666,
              "#ed7953"
             ],
             [
              0.7777777777777778,
              "#fb9f3a"
             ],
             [
              0.8888888888888888,
              "#fdca26"
             ],
             [
              1,
              "#f0f921"
             ]
            ],
            "type": "surface"
           }
          ],
          "table": [
           {
            "cells": {
             "fill": {
              "color": "#EBF0F8"
             },
             "line": {
              "color": "white"
             }
            },
            "header": {
             "fill": {
              "color": "#C8D4E3"
             },
             "line": {
              "color": "white"
             }
            },
            "type": "table"
           }
          ]
         },
         "layout": {
          "annotationdefaults": {
           "arrowcolor": "#2a3f5f",
           "arrowhead": 0,
           "arrowwidth": 1
          },
          "autotypenumbers": "strict",
          "coloraxis": {
           "colorbar": {
            "outlinewidth": 0,
            "ticks": ""
           }
          },
          "colorscale": {
           "diverging": [
            [
             0,
             "#8e0152"
            ],
            [
             0.1,
             "#c51b7d"
            ],
            [
             0.2,
             "#de77ae"
            ],
            [
             0.3,
             "#f1b6da"
            ],
            [
             0.4,
             "#fde0ef"
            ],
            [
             0.5,
             "#f7f7f7"
            ],
            [
             0.6,
             "#e6f5d0"
            ],
            [
             0.7,
             "#b8e186"
            ],
            [
             0.8,
             "#7fbc41"
            ],
            [
             0.9,
             "#4d9221"
            ],
            [
             1,
             "#276419"
            ]
           ],
           "sequential": [
            [
             0,
             "#0d0887"
            ],
            [
             0.1111111111111111,
             "#46039f"
            ],
            [
             0.2222222222222222,
             "#7201a8"
            ],
            [
             0.3333333333333333,
             "#9c179e"
            ],
            [
             0.4444444444444444,
             "#bd3786"
            ],
            [
             0.5555555555555556,
             "#d8576b"
            ],
            [
             0.6666666666666666,
             "#ed7953"
            ],
            [
             0.7777777777777778,
             "#fb9f3a"
            ],
            [
             0.8888888888888888,
             "#fdca26"
            ],
            [
             1,
             "#f0f921"
            ]
           ],
           "sequentialminus": [
            [
             0,
             "#0d0887"
            ],
            [
             0.1111111111111111,
             "#46039f"
            ],
            [
             0.2222222222222222,
             "#7201a8"
            ],
            [
             0.3333333333333333,
             "#9c179e"
            ],
            [
             0.4444444444444444,
             "#bd3786"
            ],
            [
             0.5555555555555556,
             "#d8576b"
            ],
            [
             0.6666666666666666,
             "#ed7953"
            ],
            [
             0.7777777777777778,
             "#fb9f3a"
            ],
            [
             0.8888888888888888,
             "#fdca26"
            ],
            [
             1,
             "#f0f921"
            ]
           ]
          },
          "colorway": [
           "#636efa",
           "#EF553B",
           "#00cc96",
           "#ab63fa",
           "#FFA15A",
           "#19d3f3",
           "#FF6692",
           "#B6E880",
           "#FF97FF",
           "#FECB52"
          ],
          "font": {
           "color": "#2a3f5f"
          },
          "geo": {
           "bgcolor": "white",
           "lakecolor": "white",
           "landcolor": "#E5ECF6",
           "showlakes": true,
           "showland": true,
           "subunitcolor": "white"
          },
          "hoverlabel": {
           "align": "left"
          },
          "hovermode": "closest",
          "mapbox": {
           "style": "light"
          },
          "paper_bgcolor": "white",
          "plot_bgcolor": "#E5ECF6",
          "polar": {
           "angularaxis": {
            "gridcolor": "white",
            "linecolor": "white",
            "ticks": ""
           },
           "bgcolor": "#E5ECF6",
           "radialaxis": {
            "gridcolor": "white",
            "linecolor": "white",
            "ticks": ""
           }
          },
          "scene": {
           "xaxis": {
            "backgroundcolor": "#E5ECF6",
            "gridcolor": "white",
            "gridwidth": 2,
            "linecolor": "white",
            "showbackground": true,
            "ticks": "",
            "zerolinecolor": "white"
           },
           "yaxis": {
            "backgroundcolor": "#E5ECF6",
            "gridcolor": "white",
            "gridwidth": 2,
            "linecolor": "white",
            "showbackground": true,
            "ticks": "",
            "zerolinecolor": "white"
           },
           "zaxis": {
            "backgroundcolor": "#E5ECF6",
            "gridcolor": "white",
            "gridwidth": 2,
            "linecolor": "white",
            "showbackground": true,
            "ticks": "",
            "zerolinecolor": "white"
           }
          },
          "shapedefaults": {
           "line": {
            "color": "#2a3f5f"
           }
          },
          "ternary": {
           "aaxis": {
            "gridcolor": "white",
            "linecolor": "white",
            "ticks": ""
           },
           "baxis": {
            "gridcolor": "white",
            "linecolor": "white",
            "ticks": ""
           },
           "bgcolor": "#E5ECF6",
           "caxis": {
            "gridcolor": "white",
            "linecolor": "white",
            "ticks": ""
           }
          },
          "title": {
           "x": 0.05
          },
          "xaxis": {
           "automargin": true,
           "gridcolor": "white",
           "linecolor": "white",
           "ticks": "",
           "title": {
            "standoff": 15
           },
           "zerolinecolor": "white",
           "zerolinewidth": 2
          },
          "yaxis": {
           "automargin": true,
           "gridcolor": "white",
           "linecolor": "white",
           "ticks": "",
           "title": {
            "standoff": 15
           },
           "zerolinecolor": "white",
           "zerolinewidth": 2
          }
         }
        },
        "title": {
         "text": "Projection 3D des voisins de grecque, latin, oublier, nourriture par UMAP"
        },
        "width": 1200
       }
      }
     },
     "metadata": {},
     "output_type": "display_data"
    },
    {
     "data": {
      "text/plain": [
       "['dire',\n",
       " 'excrément',\n",
       " 'là',\n",
       " 'nourrir',\n",
       " 'jamais',\n",
       " 'lui',\n",
       " 'régime_alimentaire',\n",
       " 'ne',\n",
       " 'vouloir',\n",
       " 'latin_médiéval',\n",
       " 've_siècle_av_jésus-christ',\n",
       " 'ionien',\n",
       " 'achille_tatius',\n",
       " 'grecquer',\n",
       " 'proie_vivant',\n",
       " 'iiie_siècle_av_jésus-christ',\n",
       " 'hellénistique',\n",
       " 'latiniser',\n",
       " 'pâtée',\n",
       " 'époque_mycénien',\n",
       " 'etymologie',\n",
       " 'affamer',\n",
       " 'verbe_latin',\n",
       " 'aliment',\n",
       " 'car',\n",
       " 'latiniste',\n",
       " 'origine_germanique',\n",
       " 'toujours',\n",
       " 'nouriture',\n",
       " 'penser',\n",
       " 'ration_quotidien',\n",
       " 'gréco-',\n",
       " 'peut-être',\n",
       " 'caput',\n",
       " 'nourriture_abondant',\n",
       " 'racine_indo-_européen',\n",
       " 'vivres',\n",
       " 'hellénique',\n",
       " 'nourriture',\n",
       " 'héraclée',\n",
       " 'mais',\n",
       " 'pas',\n",
       " 'latin',\n",
       " 'grecques',\n",
       " 'perses',\n",
       " 'quand',\n",
       " 'juste',\n",
       " 'greque',\n",
       " 'victuaille',\n",
       " 'nourrir_exclusivement',\n",
       " 'tellement',\n",
       " 'rien',\n",
       " 'étymologie',\n",
       " 'racine_grec',\n",
       " 'grec',\n",
       " 'dorien',\n",
       " 'croire',\n",
       " 'heureusement',\n",
       " 'frugal',\n",
       " 'poème_homérique',\n",
       " 'sinon',\n",
       " 'grecque',\n",
       " 'ménandre',\n",
       " 'hellènes',\n",
       " 'clitophon',\n",
       " 'ration_alimentaire',\n",
       " 'denrée',\n",
       " 'gréco-_latin',\n",
       " 'gaffiot',\n",
       " 'traduction_latin',\n",
       " 'falloir',\n",
       " 'oublier',\n",
       " 'grecs',\n",
       " 'mot_latin',\n",
       " 'langue_vulgaire',\n",
       " 'latin_grec',\n",
       " 'grammairien',\n",
       " 'latins',\n",
       " 'nourriture_sain',\n",
       " 'manger',\n",
       " 'latin_vulgaire',\n",
       " 'ration_journalier',\n",
       " 'nourrissage']"
      ]
     },
     "execution_count": 163,
     "metadata": {},
     "output_type": "execute_result"
    }
   ],
   "source": [
    "# Question 4c\n",
    "display_dimred_neighbors(model, mots, n_components=3, topn=20, method='umap', n_neighbors=10)\n",
    "# obtenons un cluster plus grand pour les mots 'latin' et 'grecque' avec cette méthode. Nous pourrions considérer que celui ci forme deux sous cluster distincts.\n",
    "# Par exemple des noms d'auteurs et des concepts grammaticaux\n",
    "# "
   ]
  },
  {
   "cell_type": "markdown",
   "id": "6b7f9433",
   "metadata": {},
   "source": [
    "## 5. Outil d'assistance pour le jeu Cémantix\n",
    "\n",
    "Le jeu en ligne [Cémantix](https://cemantix.certitudes.org/) (aussi proposé sur le site [Dictaly](https://www.dictaly.com/semantiques/))  demande de deviner le *mot du jour* en l'approchant peu à peu par des mots candidats.  Pour chacun, le système indique pour sa similarité word2vec avec le *mot du jour*, ce qui permet de se rapprocher graduellement de la solution.  Expérimentez d'abord un court instant avec le jeu 😀.\n",
    "\n",
    "L'objectif de cette question est de visualiser les voisinages de mots, pour vous aider à proposer des mots candidats et trouver plus vite la solution.  La procédure est la suivante :\n",
    "* essayez trois mots au hasard dans Cémantix\n",
    "* affichez 20-30 mots voisins de ces trois mots grâce à la fonction `display_dimred_neighbors`\n",
    "* à l'aide des mots affichés, essayez des mots candidats dans Cémantix\n",
    "* changez l'affichage en remplaçant les trois mots par de meilleurs mots\n",
    "* continuez jusqu'à trouver le *mot du jour*\n",
    "\n",
    "**Notes**\n",
    "* si vous le souhaitez, vous pouvez utiliser le modèle word2vec identique à celui de Cémantix, qui est frWac_no_postag_phrase_500_cbow_cut10.bin fourni par [J.-Ph. Fauconnier](https://fauconnier.github.io/#data)\n",
    "* ce modèle fait environ 2.3 Go et contient aussi des expressions de plusieurs mots (séparés par '_')\n",
    "* vous pouvez choisir d'utiliser le petit ou le grand modèle, sachant qu'avec le premier, les suggestions sont moins pertinentes\n",
    "* Cémantix ignore les expressions de plusieurs mots présentes dans le grand modèle -- vous pouvez choisir de le faire ou non."
   ]
  },
  {
   "cell_type": "markdown",
   "id": "1f8589ce",
   "metadata": {},
   "source": []
  },
  {
   "cell_type": "code",
   "execution_count": 165,
   "id": "0acf3589",
   "metadata": {
    "scrolled": false
   },
   "outputs": [
    {
     "data": {
      "application/vnd.plotly.v1+json": {
       "config": {
        "plotlyServerURL": "https://plot.ly"
       },
       "data": [
        {
         "marker": {
          "color": "rgba(255, 0, 0, 0.8)",
          "size": 5
         },
         "mode": "markers+text",
         "text": [
          "salles",
          "spatial",
          "paysage",
          "rez-de-chaussée",
          "réfectoire",
          "conférencier",
          "salle_attenant",
          "lieux",
          "conférence",
          "urbain",
          "amphithéâtre",
          "privilégier",
          "er_étage",
          "table-ronde",
          "vestiaire_douche",
          "conférence_plénier",
          "séminaire",
          "dimension",
          "conference",
          "espaces",
          "hall",
          "espace_interstitiel",
          "culturel",
          "coorganiser",
          "conférence_débattre",
          "organiser_conjointement",
          "espace",
          "gymnase",
          "séance_inaugural",
          "élément_structurant",
          "cafétéria",
          "spatialité",
          "spatialement",
          "dimension_spatial",
          "colloque",
          "table_rond",
          "salle_modulable",
          "symposium",
          "aménager",
          "espace_privatif",
          "espace_scénique",
          "paysager",
          "conférence-débat",
          "rotonde",
          "trame_urbain",
          "salle",
          "étage",
          "conférencier_inviter",
          "cheminement_piéton",
          "conferences",
          "tables-ronde",
          "table_chaise",
          "locaux",
          "conférences",
          "conférence_inaugural",
          "vaste_hall",
          "cafeteria",
          "tissu_urbain",
          "conférences-débat",
          "co-_organiser",
          "salle_polyvalent",
          "auditorium",
          "rez-d_chaussée"
         ],
         "textposition": "top center",
         "type": "scatter3d",
         "x": [
          -1.885392665863037,
          -4.898400783538818,
          -7.732406139373779,
          -9.137373924255371,
          -6.748387336730957,
          8.291092872619629,
          -3.1978957653045654,
          -6.66412353515625,
          13.650606155395508,
          -7.099197864532471,
          3.14640474319458,
          -5.68123197555542,
          -4.182349681854248,
          11.029138565063477,
          -4.623162746429443,
          11.908185958862305,
          10.812002182006836,
          -6.5522613525390625,
          12.919296264648438,
          -1.0947990417480469,
          -4.132094860076904,
          -5.335659503936768,
          -2.961641311645508,
          5.284198760986328,
          11.646077156066895,
          10.650252342224121,
          -7.395869255065918,
          -6.902103900909424,
          4.119647979736328,
          -6.209222793579102,
          -5.877727508544922,
          -5.032602787017822,
          -6.546546936035156,
          -4.422029495239258,
          14.976095199584961,
          14.132643699645996,
          -0.5659067034721375,
          12.684276580810547,
          -12.340184211730957,
          -5.340536117553711,
          -6.517168045043945,
          -11.25426197052002,
          14.784111022949219,
          -3.657325267791748,
          -5.485747814178467,
          -4.185585975646973,
          -7.62016487121582,
          8.157487869262695,
          -8.52873706817627,
          8.061272621154785,
          7.014575004577637,
          -5.252988338470459,
          -6.643651485443115,
          11.753227233886719,
          8.14198112487793,
          -5.561921119689941,
          -3.782041311264038,
          -11.059133529663086,
          8.744399070739746,
          12.551416397094727,
          -3.2095210552215576,
          4.586949825286865,
          -3.727980136871338
         ],
         "y": [
          8.392577171325684,
          -11.967012405395508,
          -10.973106384277344,
          10.772107124328613,
          10.969484329223633,
          0.44371429085731506,
          1.7353979349136353,
          -2.973647356033325,
          0.12610213458538055,
          -13.019582748413086,
          7.848079681396484,
          -7.623352527618408,
          7.296485900878906,
          -2.3051178455352783,
          0.9217328429222107,
          -1.1112838983535767,
          -1.9593545198440552,
          -9.637571334838867,
          0.257372111082077,
          -4.5063395500183105,
          11.247552871704102,
          -4.887068271636963,
          -6.967618465423584,
          -1.5962488651275635,
          2.2725753784179688,
          -0.5055671334266663,
          -5.110668182373047,
          10.778424263000488,
          -0.637840986251831,
          -7.912777423858643,
          11.393523216247559,
          -7.747962474822998,
          -8.085663795471191,
          -10.801321029663086,
          -5.940857887268066,
          -2.3210997581481934,
          3.747786521911621,
          -4.05824613571167,
          1.9751319885253906,
          -0.3567054271697998,
          0.05011185631155968,
          -9.387885093688965,
          1.841052770614624,
          6.620997428894043,
          -4.409638404846191,
          12.5014066696167,
          9.58721923828125,
          -1.7323518991470337,
          -2.760241985321045,
          0.3131508529186249,
          -2.5141470432281494,
          6.329949378967285,
          8.031632423400879,
          1.6627899408340454,
          -0.906145453453064,
          2.2485191822052,
          4.946102619171143,
          -10.344457626342773,
          0.817179799079895,
          -1.6488014459609985,
          12.056906700134277,
          8.156974792480469,
          1.3677085638046265
         ],
         "z": [
          1.5195997953414917,
          3.8242225646972656,
          -1.9267057180404663,
          2.8587558269500732,
          1.0228371620178223,
          0.9112231135368347,
          2.959149122238159,
          -3.869148015975952,
          -0.1395610272884369,
          -4.657336235046387,
          -3.1696741580963135,
          -1.2920876741409302,
          3.2118897438049316,
          -3.288334846496582,
          3.0224194526672363,
          2.842975378036499,
          -0.7110311985015869,
          2.4520931243896484,
          9.988078117370605,
          -0.8636712431907654,
          1.8661309480667114,
          1.861230492591858,
          -8.33632755279541,
          2.236985445022583,
          -5.4050750732421875,
          -0.3195933401584625,
          -2.1572370529174805,
          -6.064156532287598,
          2.4304041862487793,
          -0.05807105451822281,
          0.3538638651371002,
          3.2376599311828613,
          4.367470741271973,
          3.24862003326416,
          -2.1217563152313232,
          -5.772507667541504,
          0.541780948638916,
          7.202598571777344,
          -2.8095643520355225,
          2.3911683559417725,
          -0.2948979139328003,
          -6.071722030639648,
          -6.899651050567627,
          -0.06677330285310745,
          1.1105103492736816,
          -1.1605582237243652,
          6.686376094818115,
          4.584843158721924,
          -2.209893226623535,
          4.4028191566467285,
          -0.9757360816001892,
          2.9075376987457275,
          -2.846689224243164,
          1.714289665222168,
          2.6102325916290283,
          3.1150989532470703,
          4.767382621765137,
          -3.218452215194702,
          -5.5205979347229,
          -2.3706743717193604,
          -9.000277519226074,
          -6.648472785949707,
          3.9959876537323
         ]
        }
       ],
       "layout": {
        "height": 1000,
        "scene": {
         "xaxis": {
          "title": {
           "text": "Composante 1"
          }
         },
         "yaxis": {
          "title": {
           "text": "Composante 2"
          }
         },
         "zaxis": {
          "title": {
           "text": "Composante 3"
          }
         }
        },
        "showlegend": false,
        "template": {
         "data": {
          "bar": [
           {
            "error_x": {
             "color": "#2a3f5f"
            },
            "error_y": {
             "color": "#2a3f5f"
            },
            "marker": {
             "line": {
              "color": "#E5ECF6",
              "width": 0.5
             },
             "pattern": {
              "fillmode": "overlay",
              "size": 10,
              "solidity": 0.2
             }
            },
            "type": "bar"
           }
          ],
          "barpolar": [
           {
            "marker": {
             "line": {
              "color": "#E5ECF6",
              "width": 0.5
             },
             "pattern": {
              "fillmode": "overlay",
              "size": 10,
              "solidity": 0.2
             }
            },
            "type": "barpolar"
           }
          ],
          "carpet": [
           {
            "aaxis": {
             "endlinecolor": "#2a3f5f",
             "gridcolor": "white",
             "linecolor": "white",
             "minorgridcolor": "white",
             "startlinecolor": "#2a3f5f"
            },
            "baxis": {
             "endlinecolor": "#2a3f5f",
             "gridcolor": "white",
             "linecolor": "white",
             "minorgridcolor": "white",
             "startlinecolor": "#2a3f5f"
            },
            "type": "carpet"
           }
          ],
          "choropleth": [
           {
            "colorbar": {
             "outlinewidth": 0,
             "ticks": ""
            },
            "type": "choropleth"
           }
          ],
          "contour": [
           {
            "colorbar": {
             "outlinewidth": 0,
             "ticks": ""
            },
            "colorscale": [
             [
              0,
              "#0d0887"
             ],
             [
              0.1111111111111111,
              "#46039f"
             ],
             [
              0.2222222222222222,
              "#7201a8"
             ],
             [
              0.3333333333333333,
              "#9c179e"
             ],
             [
              0.4444444444444444,
              "#bd3786"
             ],
             [
              0.5555555555555556,
              "#d8576b"
             ],
             [
              0.6666666666666666,
              "#ed7953"
             ],
             [
              0.7777777777777778,
              "#fb9f3a"
             ],
             [
              0.8888888888888888,
              "#fdca26"
             ],
             [
              1,
              "#f0f921"
             ]
            ],
            "type": "contour"
           }
          ],
          "contourcarpet": [
           {
            "colorbar": {
             "outlinewidth": 0,
             "ticks": ""
            },
            "type": "contourcarpet"
           }
          ],
          "heatmap": [
           {
            "colorbar": {
             "outlinewidth": 0,
             "ticks": ""
            },
            "colorscale": [
             [
              0,
              "#0d0887"
             ],
             [
              0.1111111111111111,
              "#46039f"
             ],
             [
              0.2222222222222222,
              "#7201a8"
             ],
             [
              0.3333333333333333,
              "#9c179e"
             ],
             [
              0.4444444444444444,
              "#bd3786"
             ],
             [
              0.5555555555555556,
              "#d8576b"
             ],
             [
              0.6666666666666666,
              "#ed7953"
             ],
             [
              0.7777777777777778,
              "#fb9f3a"
             ],
             [
              0.8888888888888888,
              "#fdca26"
             ],
             [
              1,
              "#f0f921"
             ]
            ],
            "type": "heatmap"
           }
          ],
          "heatmapgl": [
           {
            "colorbar": {
             "outlinewidth": 0,
             "ticks": ""
            },
            "colorscale": [
             [
              0,
              "#0d0887"
             ],
             [
              0.1111111111111111,
              "#46039f"
             ],
             [
              0.2222222222222222,
              "#7201a8"
             ],
             [
              0.3333333333333333,
              "#9c179e"
             ],
             [
              0.4444444444444444,
              "#bd3786"
             ],
             [
              0.5555555555555556,
              "#d8576b"
             ],
             [
              0.6666666666666666,
              "#ed7953"
             ],
             [
              0.7777777777777778,
              "#fb9f3a"
             ],
             [
              0.8888888888888888,
              "#fdca26"
             ],
             [
              1,
              "#f0f921"
             ]
            ],
            "type": "heatmapgl"
           }
          ],
          "histogram": [
           {
            "marker": {
             "pattern": {
              "fillmode": "overlay",
              "size": 10,
              "solidity": 0.2
             }
            },
            "type": "histogram"
           }
          ],
          "histogram2d": [
           {
            "colorbar": {
             "outlinewidth": 0,
             "ticks": ""
            },
            "colorscale": [
             [
              0,
              "#0d0887"
             ],
             [
              0.1111111111111111,
              "#46039f"
             ],
             [
              0.2222222222222222,
              "#7201a8"
             ],
             [
              0.3333333333333333,
              "#9c179e"
             ],
             [
              0.4444444444444444,
              "#bd3786"
             ],
             [
              0.5555555555555556,
              "#d8576b"
             ],
             [
              0.6666666666666666,
              "#ed7953"
             ],
             [
              0.7777777777777778,
              "#fb9f3a"
             ],
             [
              0.8888888888888888,
              "#fdca26"
             ],
             [
              1,
              "#f0f921"
             ]
            ],
            "type": "histogram2d"
           }
          ],
          "histogram2dcontour": [
           {
            "colorbar": {
             "outlinewidth": 0,
             "ticks": ""
            },
            "colorscale": [
             [
              0,
              "#0d0887"
             ],
             [
              0.1111111111111111,
              "#46039f"
             ],
             [
              0.2222222222222222,
              "#7201a8"
             ],
             [
              0.3333333333333333,
              "#9c179e"
             ],
             [
              0.4444444444444444,
              "#bd3786"
             ],
             [
              0.5555555555555556,
              "#d8576b"
             ],
             [
              0.6666666666666666,
              "#ed7953"
             ],
             [
              0.7777777777777778,
              "#fb9f3a"
             ],
             [
              0.8888888888888888,
              "#fdca26"
             ],
             [
              1,
              "#f0f921"
             ]
            ],
            "type": "histogram2dcontour"
           }
          ],
          "mesh3d": [
           {
            "colorbar": {
             "outlinewidth": 0,
             "ticks": ""
            },
            "type": "mesh3d"
           }
          ],
          "parcoords": [
           {
            "line": {
             "colorbar": {
              "outlinewidth": 0,
              "ticks": ""
             }
            },
            "type": "parcoords"
           }
          ],
          "pie": [
           {
            "automargin": true,
            "type": "pie"
           }
          ],
          "scatter": [
           {
            "fillpattern": {
             "fillmode": "overlay",
             "size": 10,
             "solidity": 0.2
            },
            "type": "scatter"
           }
          ],
          "scatter3d": [
           {
            "line": {
             "colorbar": {
              "outlinewidth": 0,
              "ticks": ""
             }
            },
            "marker": {
             "colorbar": {
              "outlinewidth": 0,
              "ticks": ""
             }
            },
            "type": "scatter3d"
           }
          ],
          "scattercarpet": [
           {
            "marker": {
             "colorbar": {
              "outlinewidth": 0,
              "ticks": ""
             }
            },
            "type": "scattercarpet"
           }
          ],
          "scattergeo": [
           {
            "marker": {
             "colorbar": {
              "outlinewidth": 0,
              "ticks": ""
             }
            },
            "type": "scattergeo"
           }
          ],
          "scattergl": [
           {
            "marker": {
             "colorbar": {
              "outlinewidth": 0,
              "ticks": ""
             }
            },
            "type": "scattergl"
           }
          ],
          "scattermapbox": [
           {
            "marker": {
             "colorbar": {
              "outlinewidth": 0,
              "ticks": ""
             }
            },
            "type": "scattermapbox"
           }
          ],
          "scatterpolar": [
           {
            "marker": {
             "colorbar": {
              "outlinewidth": 0,
              "ticks": ""
             }
            },
            "type": "scatterpolar"
           }
          ],
          "scatterpolargl": [
           {
            "marker": {
             "colorbar": {
              "outlinewidth": 0,
              "ticks": ""
             }
            },
            "type": "scatterpolargl"
           }
          ],
          "scatterternary": [
           {
            "marker": {
             "colorbar": {
              "outlinewidth": 0,
              "ticks": ""
             }
            },
            "type": "scatterternary"
           }
          ],
          "surface": [
           {
            "colorbar": {
             "outlinewidth": 0,
             "ticks": ""
            },
            "colorscale": [
             [
              0,
              "#0d0887"
             ],
             [
              0.1111111111111111,
              "#46039f"
             ],
             [
              0.2222222222222222,
              "#7201a8"
             ],
             [
              0.3333333333333333,
              "#9c179e"
             ],
             [
              0.4444444444444444,
              "#bd3786"
             ],
             [
              0.5555555555555556,
              "#d8576b"
             ],
             [
              0.6666666666666666,
              "#ed7953"
             ],
             [
              0.7777777777777778,
              "#fb9f3a"
             ],
             [
              0.8888888888888888,
              "#fdca26"
             ],
             [
              1,
              "#f0f921"
             ]
            ],
            "type": "surface"
           }
          ],
          "table": [
           {
            "cells": {
             "fill": {
              "color": "#EBF0F8"
             },
             "line": {
              "color": "white"
             }
            },
            "header": {
             "fill": {
              "color": "#C8D4E3"
             },
             "line": {
              "color": "white"
             }
            },
            "type": "table"
           }
          ]
         },
         "layout": {
          "annotationdefaults": {
           "arrowcolor": "#2a3f5f",
           "arrowhead": 0,
           "arrowwidth": 1
          },
          "autotypenumbers": "strict",
          "coloraxis": {
           "colorbar": {
            "outlinewidth": 0,
            "ticks": ""
           }
          },
          "colorscale": {
           "diverging": [
            [
             0,
             "#8e0152"
            ],
            [
             0.1,
             "#c51b7d"
            ],
            [
             0.2,
             "#de77ae"
            ],
            [
             0.3,
             "#f1b6da"
            ],
            [
             0.4,
             "#fde0ef"
            ],
            [
             0.5,
             "#f7f7f7"
            ],
            [
             0.6,
             "#e6f5d0"
            ],
            [
             0.7,
             "#b8e186"
            ],
            [
             0.8,
             "#7fbc41"
            ],
            [
             0.9,
             "#4d9221"
            ],
            [
             1,
             "#276419"
            ]
           ],
           "sequential": [
            [
             0,
             "#0d0887"
            ],
            [
             0.1111111111111111,
             "#46039f"
            ],
            [
             0.2222222222222222,
             "#7201a8"
            ],
            [
             0.3333333333333333,
             "#9c179e"
            ],
            [
             0.4444444444444444,
             "#bd3786"
            ],
            [
             0.5555555555555556,
             "#d8576b"
            ],
            [
             0.6666666666666666,
             "#ed7953"
            ],
            [
             0.7777777777777778,
             "#fb9f3a"
            ],
            [
             0.8888888888888888,
             "#fdca26"
            ],
            [
             1,
             "#f0f921"
            ]
           ],
           "sequentialminus": [
            [
             0,
             "#0d0887"
            ],
            [
             0.1111111111111111,
             "#46039f"
            ],
            [
             0.2222222222222222,
             "#7201a8"
            ],
            [
             0.3333333333333333,
             "#9c179e"
            ],
            [
             0.4444444444444444,
             "#bd3786"
            ],
            [
             0.5555555555555556,
             "#d8576b"
            ],
            [
             0.6666666666666666,
             "#ed7953"
            ],
            [
             0.7777777777777778,
             "#fb9f3a"
            ],
            [
             0.8888888888888888,
             "#fdca26"
            ],
            [
             1,
             "#f0f921"
            ]
           ]
          },
          "colorway": [
           "#636efa",
           "#EF553B",
           "#00cc96",
           "#ab63fa",
           "#FFA15A",
           "#19d3f3",
           "#FF6692",
           "#B6E880",
           "#FF97FF",
           "#FECB52"
          ],
          "font": {
           "color": "#2a3f5f"
          },
          "geo": {
           "bgcolor": "white",
           "lakecolor": "white",
           "landcolor": "#E5ECF6",
           "showlakes": true,
           "showland": true,
           "subunitcolor": "white"
          },
          "hoverlabel": {
           "align": "left"
          },
          "hovermode": "closest",
          "mapbox": {
           "style": "light"
          },
          "paper_bgcolor": "white",
          "plot_bgcolor": "#E5ECF6",
          "polar": {
           "angularaxis": {
            "gridcolor": "white",
            "linecolor": "white",
            "ticks": ""
           },
           "bgcolor": "#E5ECF6",
           "radialaxis": {
            "gridcolor": "white",
            "linecolor": "white",
            "ticks": ""
           }
          },
          "scene": {
           "xaxis": {
            "backgroundcolor": "#E5ECF6",
            "gridcolor": "white",
            "gridwidth": 2,
            "linecolor": "white",
            "showbackground": true,
            "ticks": "",
            "zerolinecolor": "white"
           },
           "yaxis": {
            "backgroundcolor": "#E5ECF6",
            "gridcolor": "white",
            "gridwidth": 2,
            "linecolor": "white",
            "showbackground": true,
            "ticks": "",
            "zerolinecolor": "white"
           },
           "zaxis": {
            "backgroundcolor": "#E5ECF6",
            "gridcolor": "white",
            "gridwidth": 2,
            "linecolor": "white",
            "showbackground": true,
            "ticks": "",
            "zerolinecolor": "white"
           }
          },
          "shapedefaults": {
           "line": {
            "color": "#2a3f5f"
           }
          },
          "ternary": {
           "aaxis": {
            "gridcolor": "white",
            "linecolor": "white",
            "ticks": ""
           },
           "baxis": {
            "gridcolor": "white",
            "linecolor": "white",
            "ticks": ""
           },
           "bgcolor": "#E5ECF6",
           "caxis": {
            "gridcolor": "white",
            "linecolor": "white",
            "ticks": ""
           }
          },
          "title": {
           "x": 0.05
          },
          "xaxis": {
           "automargin": true,
           "gridcolor": "white",
           "linecolor": "white",
           "ticks": "",
           "title": {
            "standoff": 15
           },
           "zerolinecolor": "white",
           "zerolinewidth": 2
          },
          "yaxis": {
           "automargin": true,
           "gridcolor": "white",
           "linecolor": "white",
           "ticks": "",
           "title": {
            "standoff": 15
           },
           "zerolinecolor": "white",
           "zerolinewidth": 2
          }
         }
        },
        "title": {
         "text": "Projection 3D des voisins de salle, conférence, espace par PCA"
        },
        "width": 1200
       }
      }
     },
     "metadata": {},
     "output_type": "display_data"
    }
   ],
   "source": [
    "# candidate_words = ['homme', 'rouge', 'étudier']\n",
    "candidate_words = ['salle', 'conférence', 'espace']\n",
    "m = display_dimred_neighbors(model, candidate_words, n_components=3, topn=20, method='pca', n_neighbors=5)\n"
   ]
  },
  {
   "cell_type": "code",
   "execution_count": 166,
   "id": "2a38eb56",
   "metadata": {},
   "outputs": [
    {
     "data": {
      "text/plain": [
       "['salles',\n",
       " 'spatial',\n",
       " 'paysage',\n",
       " 'rez-de-chaussée',\n",
       " 'réfectoire',\n",
       " 'conférencier',\n",
       " 'salle_attenant',\n",
       " 'lieux',\n",
       " 'conférence',\n",
       " 'urbain',\n",
       " 'amphithéâtre',\n",
       " 'privilégier',\n",
       " 'er_étage',\n",
       " 'table-ronde',\n",
       " 'vestiaire_douche',\n",
       " 'conférence_plénier',\n",
       " 'séminaire',\n",
       " 'dimension',\n",
       " 'conference',\n",
       " 'espaces',\n",
       " 'hall',\n",
       " 'espace_interstitiel',\n",
       " 'culturel',\n",
       " 'coorganiser',\n",
       " 'conférence_débattre',\n",
       " 'organiser_conjointement',\n",
       " 'espace',\n",
       " 'gymnase',\n",
       " 'séance_inaugural',\n",
       " 'élément_structurant',\n",
       " 'cafétéria',\n",
       " 'spatialité',\n",
       " 'spatialement',\n",
       " 'dimension_spatial',\n",
       " 'colloque',\n",
       " 'table_rond',\n",
       " 'salle_modulable',\n",
       " 'symposium',\n",
       " 'aménager',\n",
       " 'espace_privatif',\n",
       " 'espace_scénique',\n",
       " 'paysager',\n",
       " 'conférence-débat',\n",
       " 'rotonde',\n",
       " 'trame_urbain',\n",
       " 'salle',\n",
       " 'étage',\n",
       " 'conférencier_inviter',\n",
       " 'cheminement_piéton',\n",
       " 'conferences',\n",
       " 'tables-ronde',\n",
       " 'table_chaise',\n",
       " 'locaux',\n",
       " 'conférences',\n",
       " 'conférence_inaugural',\n",
       " 'vaste_hall',\n",
       " 'cafeteria',\n",
       " 'tissu_urbain',\n",
       " 'conférences-débat',\n",
       " 'co-_organiser',\n",
       " 'salle_polyvalent',\n",
       " 'auditorium',\n",
       " 'rez-d_chaussée']"
      ]
     },
     "execution_count": 166,
     "metadata": {},
     "output_type": "execute_result"
    }
   ],
   "source": [
    "'atelier' in m\n",
    "# afficher les voisin de atelier\n",
    "m"
   ]
  },
  {
   "cell_type": "markdown",
   "id": "ee8813d7",
   "metadata": {},
   "source": [
    "Veuillez noter ici vos observations sur la procédure, et coller un extrait montrant votre meilleure performance au jeu."
   ]
  },
  {
   "cell_type": "markdown",
   "id": "e1e46ceb",
   "metadata": {},
   "source": [
    "La visualisation des voisions en pca nous aide à démarrer le jeu avec très peu de mots découverts."
   ]
  },
  {
   "cell_type": "markdown",
   "id": "73f6c606",
   "metadata": {},
   "source": [
    "![image.png](c.jpg)"
   ]
  },
  {
   "cell_type": "markdown",
   "id": "154d3b12",
   "metadata": {},
   "source": []
  },
  {
   "cell_type": "markdown",
   "id": "1539000b",
   "metadata": {},
   "source": [
    "**Fin du Labo.**  Veuillez nettoyer ce notebook en gardant seulement les résultats désirés, l'enregistrer, et le soumettre comme devoir sur Cyberlearn."
   ]
  }
 ],
 "metadata": {
  "kernelspec": {
   "display_name": "PCD",
   "language": "python",
   "name": "python3"
  },
  "language_info": {
   "codemirror_mode": {
    "name": "ipython",
    "version": 3
   },
   "file_extension": ".py",
   "mimetype": "text/x-python",
   "name": "python",
   "nbconvert_exporter": "python",
   "pygments_lexer": "ipython3",
   "version": "3.11.7"
  }
 },
 "nbformat": 4,
 "nbformat_minor": 5
}
