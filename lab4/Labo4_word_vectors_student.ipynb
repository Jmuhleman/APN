{
 "cells": [
  {
   "cell_type": "markdown",
   "id": "ac5975ff",
   "metadata": {},
   "source": [
    "<img src=\"https://heig-vd.ch/docs/default-source/doc-global-newsletter/2020-slim.svg\" alt=\"Logo HEIG-VD\" style=\"width: 80px;\" align=\"right\"/>\n",
    "\n",
    "# Cours APN - Labo 4 : Visualisation de vecteurs de mots\n",
    "\n",
    "## Résumé\n",
    "Le but de ce laboratoire est de visualiser des vecteurs de mots grâce à des méthodes de réduction de dimensionnalité.  La visualisation permettra de deviner plus facilement le \"mot du jour\" dans le jeu en ligne [Cémantix](https://cemantix.certitudes.org/)."
   ]
  },
  {
   "cell_type": "markdown",
   "id": "b142169f",
   "metadata": {},
   "source": [
    "## 1. Prise en main de word2vec\n",
    "\n",
    "Le modèle Word2vec contient des _embeddings_ des mots qui sont appris automatiquement à partir de textes.  Chaque mot est donc représenté par un vecteur dans un espace avec plusieurs centaines de dimensions (p.ex. 300 ou 500).  Dans cet espace, les mots de sens ou d'usage proches ont des vecteurs proches (les _embeddings_ capturent la similarité entre mots).  Mais la dimensionnalité de l'espace fait qu'il est difficile de visualiser les vecteurs de mots.\n",
    "\n",
    "La librairie [Gensim](https://radimrehurek.com/gensim/index.html) permet de charger un modèle Word2vec existant (avec la fonction `load_word2vec_format(...)`) et de manipuler les vecteurs de mots (instances de la classe `KeyedVectors`).  On peut notamment utiliser la fonction `similarity(w1, w2)` qui retourne le cosinus des vecteurs correspondant aux mots `w1` et `w2`, à condition que ceux-ci soient connus du modèle.  On peut aussi utiliser la fonction `most_similar([w])` qui retourne les mots voisins d'un ou plusieurs mots.  La [documentation de KeyedVectors](https://radimrehurek.com/gensim/models/keyedvectors.html) fournit des exemples utiles.\n",
    "\n",
    "Veuillez télécharger l'_un des deux_ modèles word2vec suivants, déjà entraînés, mis à disposition par [J.-Ph. Fauconnier](https://fauconnier.github.io/#data):\n",
    "- [frWac_no_postag_no_phrase_500_cbow_cut100.bin](https://embeddings.net/embeddings/frWac_no_postag_no_phrase_500_cbow_cut100.bin) - plus petit (229 Mo), mais pas identique au modèle utilisé pour Cémantix ;\n",
    "- [frWac_no_postag_phrase_500_cbow_cut10.bin](https://embeddings.net/embeddings/frWac_no_postag_phrase_500_cbow_cut10.bin) - bien plus grand (2 Go) donc assez gourmand en mémoire, mais qui est exactement celui utilisé pour Cémantix.\n",
    "Veuillez placer le modèle choisi dans le dossier `gensim-data` de votre dossier utilisateur."
   ]
  },
  {
   "cell_type": "code",
   "execution_count": 36,
   "id": "d1ec9fe2",
   "metadata": {},
   "outputs": [],
   "source": [
    "# Téléchargement, si nécessaire.\n",
    "# import wget\n",
    "# url = 'https://embeddings.net/embeddings/frWac_no_postag_no_phrase_500_cbow_cut100.bin'\n",
    "# wget.download(url, path_to_model)"
   ]
  },
  {
   "cell_type": "code",
   "execution_count": 37,
   "id": "e84d558a",
   "metadata": {},
   "outputs": [],
   "source": [
    "from gensim.models import KeyedVectors"
   ]
  },
  {
   "cell_type": "code",
   "execution_count": 38,
   "id": "3711012d",
   "metadata": {},
   "outputs": [],
   "source": [
    "path_to_model = \"C:\\\\Users\\\\Julien\\\\Documents\\\\HEIG-VD\\\\S5_2024\\\\APN\\\\APN\\\\lab4\\\\frWac_no_postag_phrase_500_cbow_cut10.bin\" # à adapter"
   ]
  },
  {
   "cell_type": "code",
   "execution_count": 39,
   "id": "114bdda7",
   "metadata": {},
   "outputs": [],
   "source": [
    "model = KeyedVectors.load_word2vec_format(path_to_model, binary=True, unicode_errors=\"ignore\")"
   ]
  },
  {
   "cell_type": "markdown",
   "id": "86c45ba9",
   "metadata": {},
   "source": [
    "a. Choisissez deux mots de sens proches `w1` et `w2`, et un autre plus différent noté `w3`. Affichez la similarité selon word2vec (cosinus) entre chaque paire de mots.  Ces valeurs correspondent-elles à vos intuitions ?"
   ]
  },
  {
   "cell_type": "code",
   "execution_count": 40,
   "id": "a7170b8a",
   "metadata": {},
   "outputs": [
    {
     "name": "stdout",
     "output_type": "stream",
     "text": [
      "Similarité entre 'chat' et 'félin': 0.5748\n",
      "Similarité entre 'chat' et 'lapper': 0.1546\n",
      "Similarité entre 'félin' et 'lapper': 0.1847\n"
     ]
    }
   ],
   "source": [
    "w1 = 'chat'\n",
    "w2 = 'félin'\n",
    "w3 = 'lapper'\n",
    "\n",
    "sim_w1_w2 = model.similarity(w1, w2)\n",
    "sim_w1_w3 = model.similarity(w1, w3)\n",
    "sim_w2_w3 = model.similarity(w2, w3)\n",
    "\n",
    "print(f\"Similarité entre '{w1}' et '{w2}': {sim_w1_w2:.4f}\")\n",
    "print(f\"Similarité entre '{w1}' et '{w3}': {sim_w1_w3:.4f}\")\n",
    "print(f\"Similarité entre '{w2}' et '{w3}': {sim_w2_w3:.4f}\")\n"
   ]
  },
  {
   "cell_type": "markdown",
   "id": "b9ac52e3",
   "metadata": {},
   "source": [
    "b. Affichez les 10 mots les plus proches de `w1` selon word2vec avec pour chacun sa similarité avec `w1`. "
   ]
  },
  {
   "cell_type": "code",
   "execution_count": 41,
   "id": "0919678c",
   "metadata": {},
   "outputs": [
    {
     "name": "stdout",
     "output_type": "stream",
     "text": [
      "Les 10 mots les plus proches de 'chat\n",
      "minou: 0.6335\n",
      "matou: 0.6266\n",
      "petit_chatte: 0.6141\n",
      "chatte: 0.5922\n",
      "miauler: 0.5909\n",
      "chaton: 0.5889\n",
      "quoi_fouetter: 0.5832\n",
      "félin: 0.5748\n",
      "chien: 0.5650\n",
      "chats: 0.5555\n"
     ]
    }
   ],
   "source": [
    "w1 = 'chat'\n",
    "#mots voisins\n",
    "neighbour_words = model.most_similar(w1, topn=10)\n",
    "print(f\"Les 10 mots les plus proches de '{w1}\")\n",
    "\n",
    "for word, similarity in neighbour_words:\n",
    "    print(f\"{word}: {similarity:.4f}\")"
   ]
  },
  {
   "cell_type": "markdown",
   "id": "e763f4aa",
   "metadata": {},
   "source": [
    "c. Quels sont les 15 premiers coefficients du vecteur (_embedding_) du mot `w1` ? Quelle est la dimension de ce vecteur ?  Quelle est la taille du vocabulaire connu du modèle ?  Vous pouvez simplement écrire les commandes répondant à ces questions."
   ]
  },
  {
   "cell_type": "code",
   "execution_count": 42,
   "id": "a373edde",
   "metadata": {},
   "outputs": [
    {
     "name": "stdout",
     "output_type": "stream",
     "text": [
      "Les 15 premiers coefficients pour 'chat':\n",
      "[-0.5510563  -0.22379288  0.72409904 -0.82713395 -0.68234926  2.0828469\n",
      " -0.30507645  0.400353    0.9901076  -1.2962811   1.2319442   1.5554144\n",
      "  0.3478864  -1.6153904  -0.585831  ]\n",
      "La dimension du vecteur'chat': 500\n",
      "Taille du vocabulaire du modèle : 1081995\n"
     ]
    }
   ],
   "source": [
    "w1 = 'chat'\n",
    "print(f\"Les 15 premiers coefficients pour '{w1}':\")\n",
    "print(model[w1][:15])\n",
    "\n",
    "print(f\"La dimension du vecteur'{w1}': {len(model[w1])}\")\n",
    "\n",
    "print(f\"Taille du vocabulaire du modèle : {len(model.index_to_key)}\")\n"
   ]
  },
  {
   "cell_type": "markdown",
   "id": "136d3ca3",
   "metadata": {},
   "source": [
    "d. Veuillez écrire une fonction appelée `neighbors` selon les spécifications suivantes.  Cette fonction servira plus loin pour l'affichage.\n",
    "* input : modèle, liste de mots, nombre de voisins (`topn`) ;\n",
    "* output : liste de mots voisins de chacun des mots de l'input, représentés par un dictionnaire expliqué ci-après ;\n",
    "* fonctionnement : pour _chacun_ des mots donnés en input, la fonction teste si le mot est dans le vocabulaire du modèle word2vec (sinon elle ne le considère pas), puis demande au modèle la liste des `topn` mots voisins ; pour chacun de ces mots, la fonction construit un `dict` à 4 champs : \n",
    "  - mot voisin\n",
    "  - similarité\n",
    "  - mot de départ\n",
    "  - code de couleur associé au mot de départ : 1, 2, etc.\n",
    "\n",
    "**Exemple** : si on appelle la fonction avec \\['école'\\], le début du résultat sera :\n",
    "```\n",
    "[{'neighbor': 'scolaire',\n",
    "  'similarity': 0.7114928364753723,\n",
    "  'ref_word': 'école',\n",
    "  'color_code': 1}, ...\n",
    "```"
   ]
  },
  {
   "cell_type": "code",
   "execution_count": 43,
   "id": "60b01480",
   "metadata": {},
   "outputs": [],
   "source": [
    "def neighbors(model, word_list, topn = 5):\n",
    "    results = []\n",
    "    for idx, word in enumerate(word_list):\n",
    "        if word in model:\n",
    "\n",
    "            similar_words = model.most_similar(word, topn=topn)\n",
    "            \n",
    "            for neighbor, similarity in similar_words:\n",
    "                results.append({\n",
    "                    'neighbor': neighbor,\n",
    "                    'similarity': similarity,\n",
    "                    'ref_word': word,\n",
    "                    'color_code': idx + 1})\n",
    "        else:\n",
    "            print(f\"Le mot '{word}' n'est pas dans le vocabulaire du modèle.\")\n",
    "    \n",
    "    return results"
   ]
  },
  {
   "cell_type": "code",
   "execution_count": 44,
   "id": "28cd119b",
   "metadata": {},
   "outputs": [
    {
     "name": "stdout",
     "output_type": "stream",
     "text": [
      "[{'neighbor': 'minou', 'similarity': 0.6334686875343323, 'ref_word': 'chat', 'color_code': 1}, {'neighbor': 'matou', 'similarity': 0.626587450504303, 'ref_word': 'chat', 'color_code': 1}, {'neighbor': 'petit_chatte', 'similarity': 0.6141418218612671, 'ref_word': 'chat', 'color_code': 1}, {'neighbor': 'étude', 'similarity': 0.6593688726425171, 'ref_word': 'étudier', 'color_code': 2}, {'neighbor': 'analyser', 'similarity': 0.6340749263763428, 'ref_word': 'étudier', 'color_code': 2}, {'neighbor': 'approfondir', 'similarity': 0.5609511733055115, 'ref_word': 'étudier', 'color_code': 2}]\n"
     ]
    }
   ],
   "source": [
    "# Tester avec cet appel :\n",
    "print(neighbors(model, ['chat', 'étudier'], 3))"
   ]
  },
  {
   "cell_type": "markdown",
   "id": "11d19cd5",
   "metadata": {},
   "source": [
    "## 2. Affichage simple des voisins d'un mot\n",
    "\n",
    "Pour commencer, veuillez étudier et exécuter le code fourni en exemple : `Labo4_plotly.ipynb`.  Cela vous montrera comment utiliser l'affichage 2D/3D avec `plotly.js`, et vous permettra de traiter les questions suivantes.\n",
    "\n",
    "Veuillez écrire et exécuter une fonction qui effectue les opérations suivantes, étant donné un mot en entrée :\n",
    "* obtenir les vecteurs word2vec du mot et de ses `topn` plus proches voisins ;\n",
    "* transformer ces vecteurs en 2D par l'ACP ;\n",
    "* afficher en 2D chaque points correspondant à un mot, avec comme étiquette le mot lui-même.\n",
    "\n",
    "**Notes:** cette fonction sert de version préliminaire à une fonction plus générique demandée ci-dessous.  Il n'est pas demandé de distinguer le mot entré des mots voisins, dans l'affichage (même type de points).  Il n'est pas nécessaire pour l'instant d'utiliser la fonction `neighbors`."
   ]
  },
  {
   "cell_type": "code",
   "execution_count": 45,
   "id": "c35a4625",
   "metadata": {},
   "outputs": [],
   "source": [
    "import plotly\n",
    "import numpy as np\n",
    "import plotly.graph_objs as go\n",
    "from sklearn.decomposition import PCA"
   ]
  },
  {
   "cell_type": "code",
   "execution_count": 46,
   "id": "0cd4156a",
   "metadata": {},
   "outputs": [],
   "source": [
    "def display_PCA_2D_neighbors(model, word, topn = 5):\n",
    "    if word not in model:\n",
    "        print(f\"Le mot '{word}' n'est pas dans le vocabulaire du modèle.\")\n",
    "        return\n",
    "    \n",
    "    similar_words = model.most_similar(word, topn=topn)\n",
    "    words = [word] + [w[0] for w in similar_words]  # Liste de mots incluant le mot de départ\n",
    "    vectors = np.array([model[w] for w in words])   # Récupérer les vecteurs correspondants\n",
    "    \n",
    "    pca = PCA(n_components=2)\n",
    "    vectors_2d = pca.fit_transform(vectors)\n",
    "    \n",
    "    trace = go.Scatter(\n",
    "        x=vectors_2d[:, 0],\n",
    "        y=vectors_2d[:, 1],\n",
    "        mode='markers+text',\n",
    "        text=words,\n",
    "        textposition='top center',\n",
    "        marker=dict(size=10, color='blue')\n",
    "    )\n",
    "    layout = go.Layout(\n",
    "        title=f\"Projection 2D de '{word}' et de ses voisins\",\n",
    "        xaxis=dict(title='CP 1'),\n",
    "        yaxis=dict(title='CP 2'),\n",
    "        showlegend=False\n",
    "    )\n",
    "\n",
    "    fig = go.Figure(data=[trace], layout=layout)\n",
    "    fig.show()"
   ]
  },
  {
   "cell_type": "code",
   "execution_count": 47,
   "id": "ba143b79",
   "metadata": {},
   "outputs": [
    {
     "data": {
      "application/vnd.plotly.v1+json": {
       "config": {
        "plotlyServerURL": "https://plot.ly"
       },
       "data": [
        {
         "marker": {
          "color": "blue",
          "size": 10
         },
         "mode": "markers+text",
         "text": [
          "chat",
          "minou",
          "matou",
          "petit_chatte",
          "chatte",
          "miauler",
          "chaton",
          "quoi_fouetter",
          "félin",
          "chien",
          "chats",
          "comportementaliste_spécialiste",
          "miaulement",
          "toutou",
          "ragdoll",
          "chien_chat",
          "chiens",
          "souris_danser",
          "chat_tigré",
          "blogs_profile_ou",
          "gros_matou"
         ],
         "textposition": "top center",
         "type": "scatter",
         "x": [
          -3.652456521987915,
          -2.796438455581665,
          -0.4063856899738312,
          -0.9731664061546326,
          -3.177701950073242,
          0.854726254940033,
          -7.152242660522461,
          6.4975810050964355,
          2.0853521823883057,
          -10.021227836608887,
          -0.3510477840900421,
          7.817939281463623,
          2.773651599884033,
          -9.08459758758545,
          3.410712957382202,
          -4.905318737030029,
          -9.659889221191406,
          7.545124530792236,
          6.625531196594238,
          8.972261428833008,
          5.597592830657959
         ],
         "y": [
          3.0976104736328125,
          3.9720664024353027,
          3.7613883018493652,
          5.506980895996094,
          10.872886657714844,
          3.2924959659576416,
          11.369356155395508,
          -1.8319326639175415,
          3.619497299194336,
          -6.61375617980957,
          -5.566887855529785,
          -3.2381670475006104,
          1.7369621992111206,
          -3.2057437896728516,
          -0.9900428652763367,
          -7.601845741271973,
          -10.14073657989502,
          -2.3084921836853027,
          -1.8173397779464722,
          -3.1532862186431885,
          -0.7610011696815491
         ]
        }
       ],
       "layout": {
        "showlegend": false,
        "template": {
         "data": {
          "bar": [
           {
            "error_x": {
             "color": "#2a3f5f"
            },
            "error_y": {
             "color": "#2a3f5f"
            },
            "marker": {
             "line": {
              "color": "#E5ECF6",
              "width": 0.5
             },
             "pattern": {
              "fillmode": "overlay",
              "size": 10,
              "solidity": 0.2
             }
            },
            "type": "bar"
           }
          ],
          "barpolar": [
           {
            "marker": {
             "line": {
              "color": "#E5ECF6",
              "width": 0.5
             },
             "pattern": {
              "fillmode": "overlay",
              "size": 10,
              "solidity": 0.2
             }
            },
            "type": "barpolar"
           }
          ],
          "carpet": [
           {
            "aaxis": {
             "endlinecolor": "#2a3f5f",
             "gridcolor": "white",
             "linecolor": "white",
             "minorgridcolor": "white",
             "startlinecolor": "#2a3f5f"
            },
            "baxis": {
             "endlinecolor": "#2a3f5f",
             "gridcolor": "white",
             "linecolor": "white",
             "minorgridcolor": "white",
             "startlinecolor": "#2a3f5f"
            },
            "type": "carpet"
           }
          ],
          "choropleth": [
           {
            "colorbar": {
             "outlinewidth": 0,
             "ticks": ""
            },
            "type": "choropleth"
           }
          ],
          "contour": [
           {
            "colorbar": {
             "outlinewidth": 0,
             "ticks": ""
            },
            "colorscale": [
             [
              0,
              "#0d0887"
             ],
             [
              0.1111111111111111,
              "#46039f"
             ],
             [
              0.2222222222222222,
              "#7201a8"
             ],
             [
              0.3333333333333333,
              "#9c179e"
             ],
             [
              0.4444444444444444,
              "#bd3786"
             ],
             [
              0.5555555555555556,
              "#d8576b"
             ],
             [
              0.6666666666666666,
              "#ed7953"
             ],
             [
              0.7777777777777778,
              "#fb9f3a"
             ],
             [
              0.8888888888888888,
              "#fdca26"
             ],
             [
              1,
              "#f0f921"
             ]
            ],
            "type": "contour"
           }
          ],
          "contourcarpet": [
           {
            "colorbar": {
             "outlinewidth": 0,
             "ticks": ""
            },
            "type": "contourcarpet"
           }
          ],
          "heatmap": [
           {
            "colorbar": {
             "outlinewidth": 0,
             "ticks": ""
            },
            "colorscale": [
             [
              0,
              "#0d0887"
             ],
             [
              0.1111111111111111,
              "#46039f"
             ],
             [
              0.2222222222222222,
              "#7201a8"
             ],
             [
              0.3333333333333333,
              "#9c179e"
             ],
             [
              0.4444444444444444,
              "#bd3786"
             ],
             [
              0.5555555555555556,
              "#d8576b"
             ],
             [
              0.6666666666666666,
              "#ed7953"
             ],
             [
              0.7777777777777778,
              "#fb9f3a"
             ],
             [
              0.8888888888888888,
              "#fdca26"
             ],
             [
              1,
              "#f0f921"
             ]
            ],
            "type": "heatmap"
           }
          ],
          "heatmapgl": [
           {
            "colorbar": {
             "outlinewidth": 0,
             "ticks": ""
            },
            "colorscale": [
             [
              0,
              "#0d0887"
             ],
             [
              0.1111111111111111,
              "#46039f"
             ],
             [
              0.2222222222222222,
              "#7201a8"
             ],
             [
              0.3333333333333333,
              "#9c179e"
             ],
             [
              0.4444444444444444,
              "#bd3786"
             ],
             [
              0.5555555555555556,
              "#d8576b"
             ],
             [
              0.6666666666666666,
              "#ed7953"
             ],
             [
              0.7777777777777778,
              "#fb9f3a"
             ],
             [
              0.8888888888888888,
              "#fdca26"
             ],
             [
              1,
              "#f0f921"
             ]
            ],
            "type": "heatmapgl"
           }
          ],
          "histogram": [
           {
            "marker": {
             "pattern": {
              "fillmode": "overlay",
              "size": 10,
              "solidity": 0.2
             }
            },
            "type": "histogram"
           }
          ],
          "histogram2d": [
           {
            "colorbar": {
             "outlinewidth": 0,
             "ticks": ""
            },
            "colorscale": [
             [
              0,
              "#0d0887"
             ],
             [
              0.1111111111111111,
              "#46039f"
             ],
             [
              0.2222222222222222,
              "#7201a8"
             ],
             [
              0.3333333333333333,
              "#9c179e"
             ],
             [
              0.4444444444444444,
              "#bd3786"
             ],
             [
              0.5555555555555556,
              "#d8576b"
             ],
             [
              0.6666666666666666,
              "#ed7953"
             ],
             [
              0.7777777777777778,
              "#fb9f3a"
             ],
             [
              0.8888888888888888,
              "#fdca26"
             ],
             [
              1,
              "#f0f921"
             ]
            ],
            "type": "histogram2d"
           }
          ],
          "histogram2dcontour": [
           {
            "colorbar": {
             "outlinewidth": 0,
             "ticks": ""
            },
            "colorscale": [
             [
              0,
              "#0d0887"
             ],
             [
              0.1111111111111111,
              "#46039f"
             ],
             [
              0.2222222222222222,
              "#7201a8"
             ],
             [
              0.3333333333333333,
              "#9c179e"
             ],
             [
              0.4444444444444444,
              "#bd3786"
             ],
             [
              0.5555555555555556,
              "#d8576b"
             ],
             [
              0.6666666666666666,
              "#ed7953"
             ],
             [
              0.7777777777777778,
              "#fb9f3a"
             ],
             [
              0.8888888888888888,
              "#fdca26"
             ],
             [
              1,
              "#f0f921"
             ]
            ],
            "type": "histogram2dcontour"
           }
          ],
          "mesh3d": [
           {
            "colorbar": {
             "outlinewidth": 0,
             "ticks": ""
            },
            "type": "mesh3d"
           }
          ],
          "parcoords": [
           {
            "line": {
             "colorbar": {
              "outlinewidth": 0,
              "ticks": ""
             }
            },
            "type": "parcoords"
           }
          ],
          "pie": [
           {
            "automargin": true,
            "type": "pie"
           }
          ],
          "scatter": [
           {
            "fillpattern": {
             "fillmode": "overlay",
             "size": 10,
             "solidity": 0.2
            },
            "type": "scatter"
           }
          ],
          "scatter3d": [
           {
            "line": {
             "colorbar": {
              "outlinewidth": 0,
              "ticks": ""
             }
            },
            "marker": {
             "colorbar": {
              "outlinewidth": 0,
              "ticks": ""
             }
            },
            "type": "scatter3d"
           }
          ],
          "scattercarpet": [
           {
            "marker": {
             "colorbar": {
              "outlinewidth": 0,
              "ticks": ""
             }
            },
            "type": "scattercarpet"
           }
          ],
          "scattergeo": [
           {
            "marker": {
             "colorbar": {
              "outlinewidth": 0,
              "ticks": ""
             }
            },
            "type": "scattergeo"
           }
          ],
          "scattergl": [
           {
            "marker": {
             "colorbar": {
              "outlinewidth": 0,
              "ticks": ""
             }
            },
            "type": "scattergl"
           }
          ],
          "scattermapbox": [
           {
            "marker": {
             "colorbar": {
              "outlinewidth": 0,
              "ticks": ""
             }
            },
            "type": "scattermapbox"
           }
          ],
          "scatterpolar": [
           {
            "marker": {
             "colorbar": {
              "outlinewidth": 0,
              "ticks": ""
             }
            },
            "type": "scatterpolar"
           }
          ],
          "scatterpolargl": [
           {
            "marker": {
             "colorbar": {
              "outlinewidth": 0,
              "ticks": ""
             }
            },
            "type": "scatterpolargl"
           }
          ],
          "scatterternary": [
           {
            "marker": {
             "colorbar": {
              "outlinewidth": 0,
              "ticks": ""
             }
            },
            "type": "scatterternary"
           }
          ],
          "surface": [
           {
            "colorbar": {
             "outlinewidth": 0,
             "ticks": ""
            },
            "colorscale": [
             [
              0,
              "#0d0887"
             ],
             [
              0.1111111111111111,
              "#46039f"
             ],
             [
              0.2222222222222222,
              "#7201a8"
             ],
             [
              0.3333333333333333,
              "#9c179e"
             ],
             [
              0.4444444444444444,
              "#bd3786"
             ],
             [
              0.5555555555555556,
              "#d8576b"
             ],
             [
              0.6666666666666666,
              "#ed7953"
             ],
             [
              0.7777777777777778,
              "#fb9f3a"
             ],
             [
              0.8888888888888888,
              "#fdca26"
             ],
             [
              1,
              "#f0f921"
             ]
            ],
            "type": "surface"
           }
          ],
          "table": [
           {
            "cells": {
             "fill": {
              "color": "#EBF0F8"
             },
             "line": {
              "color": "white"
             }
            },
            "header": {
             "fill": {
              "color": "#C8D4E3"
             },
             "line": {
              "color": "white"
             }
            },
            "type": "table"
           }
          ]
         },
         "layout": {
          "annotationdefaults": {
           "arrowcolor": "#2a3f5f",
           "arrowhead": 0,
           "arrowwidth": 1
          },
          "autotypenumbers": "strict",
          "coloraxis": {
           "colorbar": {
            "outlinewidth": 0,
            "ticks": ""
           }
          },
          "colorscale": {
           "diverging": [
            [
             0,
             "#8e0152"
            ],
            [
             0.1,
             "#c51b7d"
            ],
            [
             0.2,
             "#de77ae"
            ],
            [
             0.3,
             "#f1b6da"
            ],
            [
             0.4,
             "#fde0ef"
            ],
            [
             0.5,
             "#f7f7f7"
            ],
            [
             0.6,
             "#e6f5d0"
            ],
            [
             0.7,
             "#b8e186"
            ],
            [
             0.8,
             "#7fbc41"
            ],
            [
             0.9,
             "#4d9221"
            ],
            [
             1,
             "#276419"
            ]
           ],
           "sequential": [
            [
             0,
             "#0d0887"
            ],
            [
             0.1111111111111111,
             "#46039f"
            ],
            [
             0.2222222222222222,
             "#7201a8"
            ],
            [
             0.3333333333333333,
             "#9c179e"
            ],
            [
             0.4444444444444444,
             "#bd3786"
            ],
            [
             0.5555555555555556,
             "#d8576b"
            ],
            [
             0.6666666666666666,
             "#ed7953"
            ],
            [
             0.7777777777777778,
             "#fb9f3a"
            ],
            [
             0.8888888888888888,
             "#fdca26"
            ],
            [
             1,
             "#f0f921"
            ]
           ],
           "sequentialminus": [
            [
             0,
             "#0d0887"
            ],
            [
             0.1111111111111111,
             "#46039f"
            ],
            [
             0.2222222222222222,
             "#7201a8"
            ],
            [
             0.3333333333333333,
             "#9c179e"
            ],
            [
             0.4444444444444444,
             "#bd3786"
            ],
            [
             0.5555555555555556,
             "#d8576b"
            ],
            [
             0.6666666666666666,
             "#ed7953"
            ],
            [
             0.7777777777777778,
             "#fb9f3a"
            ],
            [
             0.8888888888888888,
             "#fdca26"
            ],
            [
             1,
             "#f0f921"
            ]
           ]
          },
          "colorway": [
           "#636efa",
           "#EF553B",
           "#00cc96",
           "#ab63fa",
           "#FFA15A",
           "#19d3f3",
           "#FF6692",
           "#B6E880",
           "#FF97FF",
           "#FECB52"
          ],
          "font": {
           "color": "#2a3f5f"
          },
          "geo": {
           "bgcolor": "white",
           "lakecolor": "white",
           "landcolor": "#E5ECF6",
           "showlakes": true,
           "showland": true,
           "subunitcolor": "white"
          },
          "hoverlabel": {
           "align": "left"
          },
          "hovermode": "closest",
          "mapbox": {
           "style": "light"
          },
          "paper_bgcolor": "white",
          "plot_bgcolor": "#E5ECF6",
          "polar": {
           "angularaxis": {
            "gridcolor": "white",
            "linecolor": "white",
            "ticks": ""
           },
           "bgcolor": "#E5ECF6",
           "radialaxis": {
            "gridcolor": "white",
            "linecolor": "white",
            "ticks": ""
           }
          },
          "scene": {
           "xaxis": {
            "backgroundcolor": "#E5ECF6",
            "gridcolor": "white",
            "gridwidth": 2,
            "linecolor": "white",
            "showbackground": true,
            "ticks": "",
            "zerolinecolor": "white"
           },
           "yaxis": {
            "backgroundcolor": "#E5ECF6",
            "gridcolor": "white",
            "gridwidth": 2,
            "linecolor": "white",
            "showbackground": true,
            "ticks": "",
            "zerolinecolor": "white"
           },
           "zaxis": {
            "backgroundcolor": "#E5ECF6",
            "gridcolor": "white",
            "gridwidth": 2,
            "linecolor": "white",
            "showbackground": true,
            "ticks": "",
            "zerolinecolor": "white"
           }
          },
          "shapedefaults": {
           "line": {
            "color": "#2a3f5f"
           }
          },
          "ternary": {
           "aaxis": {
            "gridcolor": "white",
            "linecolor": "white",
            "ticks": ""
           },
           "baxis": {
            "gridcolor": "white",
            "linecolor": "white",
            "ticks": ""
           },
           "bgcolor": "#E5ECF6",
           "caxis": {
            "gridcolor": "white",
            "linecolor": "white",
            "ticks": ""
           }
          },
          "title": {
           "x": 0.05
          },
          "xaxis": {
           "automargin": true,
           "gridcolor": "white",
           "linecolor": "white",
           "ticks": "",
           "title": {
            "standoff": 15
           },
           "zerolinecolor": "white",
           "zerolinewidth": 2
          },
          "yaxis": {
           "automargin": true,
           "gridcolor": "white",
           "linecolor": "white",
           "ticks": "",
           "title": {
            "standoff": 15
           },
           "zerolinecolor": "white",
           "zerolinewidth": 2
          }
         }
        },
        "title": {
         "text": "Projection 2D de 'chat' et de ses voisins"
        },
        "xaxis": {
         "title": {
          "text": "CP 1"
         }
        },
        "yaxis": {
         "title": {
          "text": "CP 2"
         }
        }
       }
      }
     },
     "metadata": {},
     "output_type": "display_data"
    }
   ],
   "source": [
    "display_PCA_2D_neighbors(model, 'chat', 20)"
   ]
  },
  {
   "cell_type": "markdown",
   "id": "82f594e0",
   "metadata": {},
   "source": [
    "## 3. Affichage configurable des voisins de plusieurs mots\n",
    "\n",
    "Le but maintenant est d'écrire une fonction `display_dimred_neighbors` qui affiche sur un seul graphique les mots voisins de chaque mot d'une liste de mots donnés.  Vous utiliserez ici la fonction auxiliaire `neighbors` définie plus haut  Les paramètres suivants seront passés à la fonction `display_dimred_neighbors` :\n",
    "\n",
    "* `model` - le nom du modèle word2vec\n",
    "* `word_list` - liste de mots dont on veut afficher les voisins (s'ils existent dans `model`)\n",
    "* `n_components` - dimensionnalité de l'affichage, 2 ou 3\n",
    "* `topn` - nombre de voisins à afficher pour chaque mot \n",
    "* `method` - **méthode de réduction de dimensionnalité : pca, mds, isomap, tsne, ou umap**\n",
    "* `n_neighbors`- nombre de voisins considérés par la méthode (applicable à isomap, umap, et tsne (appelé alors `perplexity`)).\n",
    "\n",
    "Trois tests sont demandés à la question 4, mais vous pouvez en exécuter d'autres et les inclure ici."
   ]
  },
  {
   "cell_type": "code",
   "execution_count": 48,
   "id": "9fcd5af4",
   "metadata": {},
   "outputs": [],
   "source": [
    "from sklearn.decomposition import PCA\n",
    "from sklearn.manifold import MDS\n",
    "from sklearn.manifold import Isomap\n",
    "from sklearn.manifold import TSNE\n",
    "from umap import UMAP # Attention, installer le module nommé 'umap-learn' (avec conda install)."
   ]
  },
  {
   "cell_type": "code",
   "execution_count": 49,
   "id": "84c9d33f",
   "metadata": {},
   "outputs": [
    {
     "name": "stderr",
     "output_type": "stream",
     "text": [
      "c:\\Users\\Julien\\miniconda3\\envs\\PCD\\Lib\\site-packages\\umap\\umap_.py:1952: UserWarning:\n",
      "\n",
      "n_jobs value 1 overridden to 1 by setting random_state. Use no seed for parallelism.\n",
      "\n"
     ]
    },
    {
     "data": {
      "application/vnd.plotly.v1+json": {
       "config": {
        "plotlyServerURL": "https://plot.ly"
       },
       "data": [
        {
         "marker": {
          "color": "rgba(93, 164, 214, 0.8)",
          "size": 10
         },
         "mode": "markers+text",
         "text": [
          "aboyer",
          "minou",
          "miauler",
          "chat",
          "petit_chatte",
          "toutou",
          "chien",
          "matou",
          "chiens",
          "chienne",
          "cocker",
          "chatte"
         ],
         "textposition": "top center",
         "type": "scatter",
         "x": [
          -2.5308220386505127,
          -0.70528644323349,
          -0.6015771627426147,
          0.013508320786058903,
          -0.7407240867614746,
          -2.627427816390991,
          -2.593337059020996,
          0.039884474128484726,
          -3.0685975551605225,
          -1.9063529968261719,
          -1.8376364707946777,
          -0.1284044235944748
         ],
         "y": [
          8.214645385742188,
          8.49803638458252,
          7.680086135864258,
          8.36886978149414,
          9.155684471130371,
          9.414339065551758,
          8.823820114135742,
          7.681614398956299,
          8.816267013549805,
          9.006834983825684,
          9.606293678283691,
          9.216044425964355
         ]
        }
       ],
       "layout": {
        "height": 1000,
        "scene": {
         "xaxis": {
          "title": {
           "text": "Composante 1"
          }
         },
         "yaxis": {
          "title": {
           "text": "Composante 2"
          }
         }
        },
        "showlegend": false,
        "template": {
         "data": {
          "bar": [
           {
            "error_x": {
             "color": "#2a3f5f"
            },
            "error_y": {
             "color": "#2a3f5f"
            },
            "marker": {
             "line": {
              "color": "#E5ECF6",
              "width": 0.5
             },
             "pattern": {
              "fillmode": "overlay",
              "size": 10,
              "solidity": 0.2
             }
            },
            "type": "bar"
           }
          ],
          "barpolar": [
           {
            "marker": {
             "line": {
              "color": "#E5ECF6",
              "width": 0.5
             },
             "pattern": {
              "fillmode": "overlay",
              "size": 10,
              "solidity": 0.2
             }
            },
            "type": "barpolar"
           }
          ],
          "carpet": [
           {
            "aaxis": {
             "endlinecolor": "#2a3f5f",
             "gridcolor": "white",
             "linecolor": "white",
             "minorgridcolor": "white",
             "startlinecolor": "#2a3f5f"
            },
            "baxis": {
             "endlinecolor": "#2a3f5f",
             "gridcolor": "white",
             "linecolor": "white",
             "minorgridcolor": "white",
             "startlinecolor": "#2a3f5f"
            },
            "type": "carpet"
           }
          ],
          "choropleth": [
           {
            "colorbar": {
             "outlinewidth": 0,
             "ticks": ""
            },
            "type": "choropleth"
           }
          ],
          "contour": [
           {
            "colorbar": {
             "outlinewidth": 0,
             "ticks": ""
            },
            "colorscale": [
             [
              0,
              "#0d0887"
             ],
             [
              0.1111111111111111,
              "#46039f"
             ],
             [
              0.2222222222222222,
              "#7201a8"
             ],
             [
              0.3333333333333333,
              "#9c179e"
             ],
             [
              0.4444444444444444,
              "#bd3786"
             ],
             [
              0.5555555555555556,
              "#d8576b"
             ],
             [
              0.6666666666666666,
              "#ed7953"
             ],
             [
              0.7777777777777778,
              "#fb9f3a"
             ],
             [
              0.8888888888888888,
              "#fdca26"
             ],
             [
              1,
              "#f0f921"
             ]
            ],
            "type": "contour"
           }
          ],
          "contourcarpet": [
           {
            "colorbar": {
             "outlinewidth": 0,
             "ticks": ""
            },
            "type": "contourcarpet"
           }
          ],
          "heatmap": [
           {
            "colorbar": {
             "outlinewidth": 0,
             "ticks": ""
            },
            "colorscale": [
             [
              0,
              "#0d0887"
             ],
             [
              0.1111111111111111,
              "#46039f"
             ],
             [
              0.2222222222222222,
              "#7201a8"
             ],
             [
              0.3333333333333333,
              "#9c179e"
             ],
             [
              0.4444444444444444,
              "#bd3786"
             ],
             [
              0.5555555555555556,
              "#d8576b"
             ],
             [
              0.6666666666666666,
              "#ed7953"
             ],
             [
              0.7777777777777778,
              "#fb9f3a"
             ],
             [
              0.8888888888888888,
              "#fdca26"
             ],
             [
              1,
              "#f0f921"
             ]
            ],
            "type": "heatmap"
           }
          ],
          "heatmapgl": [
           {
            "colorbar": {
             "outlinewidth": 0,
             "ticks": ""
            },
            "colorscale": [
             [
              0,
              "#0d0887"
             ],
             [
              0.1111111111111111,
              "#46039f"
             ],
             [
              0.2222222222222222,
              "#7201a8"
             ],
             [
              0.3333333333333333,
              "#9c179e"
             ],
             [
              0.4444444444444444,
              "#bd3786"
             ],
             [
              0.5555555555555556,
              "#d8576b"
             ],
             [
              0.6666666666666666,
              "#ed7953"
             ],
             [
              0.7777777777777778,
              "#fb9f3a"
             ],
             [
              0.8888888888888888,
              "#fdca26"
             ],
             [
              1,
              "#f0f921"
             ]
            ],
            "type": "heatmapgl"
           }
          ],
          "histogram": [
           {
            "marker": {
             "pattern": {
              "fillmode": "overlay",
              "size": 10,
              "solidity": 0.2
             }
            },
            "type": "histogram"
           }
          ],
          "histogram2d": [
           {
            "colorbar": {
             "outlinewidth": 0,
             "ticks": ""
            },
            "colorscale": [
             [
              0,
              "#0d0887"
             ],
             [
              0.1111111111111111,
              "#46039f"
             ],
             [
              0.2222222222222222,
              "#7201a8"
             ],
             [
              0.3333333333333333,
              "#9c179e"
             ],
             [
              0.4444444444444444,
              "#bd3786"
             ],
             [
              0.5555555555555556,
              "#d8576b"
             ],
             [
              0.6666666666666666,
              "#ed7953"
             ],
             [
              0.7777777777777778,
              "#fb9f3a"
             ],
             [
              0.8888888888888888,
              "#fdca26"
             ],
             [
              1,
              "#f0f921"
             ]
            ],
            "type": "histogram2d"
           }
          ],
          "histogram2dcontour": [
           {
            "colorbar": {
             "outlinewidth": 0,
             "ticks": ""
            },
            "colorscale": [
             [
              0,
              "#0d0887"
             ],
             [
              0.1111111111111111,
              "#46039f"
             ],
             [
              0.2222222222222222,
              "#7201a8"
             ],
             [
              0.3333333333333333,
              "#9c179e"
             ],
             [
              0.4444444444444444,
              "#bd3786"
             ],
             [
              0.5555555555555556,
              "#d8576b"
             ],
             [
              0.6666666666666666,
              "#ed7953"
             ],
             [
              0.7777777777777778,
              "#fb9f3a"
             ],
             [
              0.8888888888888888,
              "#fdca26"
             ],
             [
              1,
              "#f0f921"
             ]
            ],
            "type": "histogram2dcontour"
           }
          ],
          "mesh3d": [
           {
            "colorbar": {
             "outlinewidth": 0,
             "ticks": ""
            },
            "type": "mesh3d"
           }
          ],
          "parcoords": [
           {
            "line": {
             "colorbar": {
              "outlinewidth": 0,
              "ticks": ""
             }
            },
            "type": "parcoords"
           }
          ],
          "pie": [
           {
            "automargin": true,
            "type": "pie"
           }
          ],
          "scatter": [
           {
            "fillpattern": {
             "fillmode": "overlay",
             "size": 10,
             "solidity": 0.2
            },
            "type": "scatter"
           }
          ],
          "scatter3d": [
           {
            "line": {
             "colorbar": {
              "outlinewidth": 0,
              "ticks": ""
             }
            },
            "marker": {
             "colorbar": {
              "outlinewidth": 0,
              "ticks": ""
             }
            },
            "type": "scatter3d"
           }
          ],
          "scattercarpet": [
           {
            "marker": {
             "colorbar": {
              "outlinewidth": 0,
              "ticks": ""
             }
            },
            "type": "scattercarpet"
           }
          ],
          "scattergeo": [
           {
            "marker": {
             "colorbar": {
              "outlinewidth": 0,
              "ticks": ""
             }
            },
            "type": "scattergeo"
           }
          ],
          "scattergl": [
           {
            "marker": {
             "colorbar": {
              "outlinewidth": 0,
              "ticks": ""
             }
            },
            "type": "scattergl"
           }
          ],
          "scattermapbox": [
           {
            "marker": {
             "colorbar": {
              "outlinewidth": 0,
              "ticks": ""
             }
            },
            "type": "scattermapbox"
           }
          ],
          "scatterpolar": [
           {
            "marker": {
             "colorbar": {
              "outlinewidth": 0,
              "ticks": ""
             }
            },
            "type": "scatterpolar"
           }
          ],
          "scatterpolargl": [
           {
            "marker": {
             "colorbar": {
              "outlinewidth": 0,
              "ticks": ""
             }
            },
            "type": "scatterpolargl"
           }
          ],
          "scatterternary": [
           {
            "marker": {
             "colorbar": {
              "outlinewidth": 0,
              "ticks": ""
             }
            },
            "type": "scatterternary"
           }
          ],
          "surface": [
           {
            "colorbar": {
             "outlinewidth": 0,
             "ticks": ""
            },
            "colorscale": [
             [
              0,
              "#0d0887"
             ],
             [
              0.1111111111111111,
              "#46039f"
             ],
             [
              0.2222222222222222,
              "#7201a8"
             ],
             [
              0.3333333333333333,
              "#9c179e"
             ],
             [
              0.4444444444444444,
              "#bd3786"
             ],
             [
              0.5555555555555556,
              "#d8576b"
             ],
             [
              0.6666666666666666,
              "#ed7953"
             ],
             [
              0.7777777777777778,
              "#fb9f3a"
             ],
             [
              0.8888888888888888,
              "#fdca26"
             ],
             [
              1,
              "#f0f921"
             ]
            ],
            "type": "surface"
           }
          ],
          "table": [
           {
            "cells": {
             "fill": {
              "color": "#EBF0F8"
             },
             "line": {
              "color": "white"
             }
            },
            "header": {
             "fill": {
              "color": "#C8D4E3"
             },
             "line": {
              "color": "white"
             }
            },
            "type": "table"
           }
          ]
         },
         "layout": {
          "annotationdefaults": {
           "arrowcolor": "#2a3f5f",
           "arrowhead": 0,
           "arrowwidth": 1
          },
          "autotypenumbers": "strict",
          "coloraxis": {
           "colorbar": {
            "outlinewidth": 0,
            "ticks": ""
           }
          },
          "colorscale": {
           "diverging": [
            [
             0,
             "#8e0152"
            ],
            [
             0.1,
             "#c51b7d"
            ],
            [
             0.2,
             "#de77ae"
            ],
            [
             0.3,
             "#f1b6da"
            ],
            [
             0.4,
             "#fde0ef"
            ],
            [
             0.5,
             "#f7f7f7"
            ],
            [
             0.6,
             "#e6f5d0"
            ],
            [
             0.7,
             "#b8e186"
            ],
            [
             0.8,
             "#7fbc41"
            ],
            [
             0.9,
             "#4d9221"
            ],
            [
             1,
             "#276419"
            ]
           ],
           "sequential": [
            [
             0,
             "#0d0887"
            ],
            [
             0.1111111111111111,
             "#46039f"
            ],
            [
             0.2222222222222222,
             "#7201a8"
            ],
            [
             0.3333333333333333,
             "#9c179e"
            ],
            [
             0.4444444444444444,
             "#bd3786"
            ],
            [
             0.5555555555555556,
             "#d8576b"
            ],
            [
             0.6666666666666666,
             "#ed7953"
            ],
            [
             0.7777777777777778,
             "#fb9f3a"
            ],
            [
             0.8888888888888888,
             "#fdca26"
            ],
            [
             1,
             "#f0f921"
            ]
           ],
           "sequentialminus": [
            [
             0,
             "#0d0887"
            ],
            [
             0.1111111111111111,
             "#46039f"
            ],
            [
             0.2222222222222222,
             "#7201a8"
            ],
            [
             0.3333333333333333,
             "#9c179e"
            ],
            [
             0.4444444444444444,
             "#bd3786"
            ],
            [
             0.5555555555555556,
             "#d8576b"
            ],
            [
             0.6666666666666666,
             "#ed7953"
            ],
            [
             0.7777777777777778,
             "#fb9f3a"
            ],
            [
             0.8888888888888888,
             "#fdca26"
            ],
            [
             1,
             "#f0f921"
            ]
           ]
          },
          "colorway": [
           "#636efa",
           "#EF553B",
           "#00cc96",
           "#ab63fa",
           "#FFA15A",
           "#19d3f3",
           "#FF6692",
           "#B6E880",
           "#FF97FF",
           "#FECB52"
          ],
          "font": {
           "color": "#2a3f5f"
          },
          "geo": {
           "bgcolor": "white",
           "lakecolor": "white",
           "landcolor": "#E5ECF6",
           "showlakes": true,
           "showland": true,
           "subunitcolor": "white"
          },
          "hoverlabel": {
           "align": "left"
          },
          "hovermode": "closest",
          "mapbox": {
           "style": "light"
          },
          "paper_bgcolor": "white",
          "plot_bgcolor": "#E5ECF6",
          "polar": {
           "angularaxis": {
            "gridcolor": "white",
            "linecolor": "white",
            "ticks": ""
           },
           "bgcolor": "#E5ECF6",
           "radialaxis": {
            "gridcolor": "white",
            "linecolor": "white",
            "ticks": ""
           }
          },
          "scene": {
           "xaxis": {
            "backgroundcolor": "#E5ECF6",
            "gridcolor": "white",
            "gridwidth": 2,
            "linecolor": "white",
            "showbackground": true,
            "ticks": "",
            "zerolinecolor": "white"
           },
           "yaxis": {
            "backgroundcolor": "#E5ECF6",
            "gridcolor": "white",
            "gridwidth": 2,
            "linecolor": "white",
            "showbackground": true,
            "ticks": "",
            "zerolinecolor": "white"
           },
           "zaxis": {
            "backgroundcolor": "#E5ECF6",
            "gridcolor": "white",
            "gridwidth": 2,
            "linecolor": "white",
            "showbackground": true,
            "ticks": "",
            "zerolinecolor": "white"
           }
          },
          "shapedefaults": {
           "line": {
            "color": "#2a3f5f"
           }
          },
          "ternary": {
           "aaxis": {
            "gridcolor": "white",
            "linecolor": "white",
            "ticks": ""
           },
           "baxis": {
            "gridcolor": "white",
            "linecolor": "white",
            "ticks": ""
           },
           "bgcolor": "#E5ECF6",
           "caxis": {
            "gridcolor": "white",
            "linecolor": "white",
            "ticks": ""
           }
          },
          "title": {
           "x": 0.05
          },
          "xaxis": {
           "automargin": true,
           "gridcolor": "white",
           "linecolor": "white",
           "ticks": "",
           "title": {
            "standoff": 15
           },
           "zerolinecolor": "white",
           "zerolinewidth": 2
          },
          "yaxis": {
           "automargin": true,
           "gridcolor": "white",
           "linecolor": "white",
           "ticks": "",
           "title": {
            "standoff": 15
           },
           "zerolinecolor": "white",
           "zerolinewidth": 2
          }
         }
        },
        "title": {
         "text": "Projection 2D des voisins de chat, chien par UMAP"
        },
        "width": 1200,
        "xaxis": {
         "title": {
          "text": "Composante 1"
         }
        },
        "yaxis": {
         "title": {
          "text": "Composante 2"
         }
        }
       }
      }
     },
     "metadata": {},
     "output_type": "display_data"
    },
    {
     "data": {
      "text/plain": [
       "['aboyer',\n",
       " 'minou',\n",
       " 'miauler',\n",
       " 'chat',\n",
       " 'petit_chatte',\n",
       " 'toutou',\n",
       " 'chien',\n",
       " 'matou',\n",
       " 'chiens',\n",
       " 'chienne',\n",
       " 'cocker',\n",
       " 'chatte']"
      ]
     },
     "execution_count": 49,
     "metadata": {},
     "output_type": "execute_result"
    }
   ],
   "source": [
    "def display_dimred_neighbors(model, word_list, n_components = 3, topn = 5, method = 'pca', n_neighbors = 5):\n",
    "    # Obtenir les voisins pour chaque mot à partir de la fonction `neighbors`\n",
    "    all_neighbors = neighbors(model, word_list, topn=topn)\n",
    "    \n",
    "    # Vérifier si des voisins ont été trouvés\n",
    "    if not all_neighbors:\n",
    "        print(\"Aucun mot voisin n'a été trouvé.\")\n",
    "        return\n",
    "    \n",
    "    # Récupérer les vecteurs et les étiquettes\n",
    "    words = [entry['neighbor'] for entry in all_neighbors] + [entry['ref_word'] for entry in all_neighbors]\n",
    "    unique_words = list(set(words))  # Eliminer les doublons\n",
    "    vectors = np.array([model[word] for word in unique_words])\n",
    "\n",
    "    \n",
    "    # Choisir la méthode de réduction de dimensionnalité\n",
    "    if method == 'pca':\n",
    "        reducer = PCA(n_components=n_components)\n",
    "    elif method == 'mds':\n",
    "        reducer = MDS(n_components=n_components, n_init=4, max_iter=300)\n",
    "    elif method == 'isomap':\n",
    "        reducer = Isomap(n_components=n_components, n_neighbors=n_neighbors)\n",
    "    elif method == 'tsne':\n",
    "        reducer = TSNE(n_components=n_components, perplexity=n_neighbors, n_iter=500, random_state=42)\n",
    "    elif method == 'umap':\n",
    "        reducer = UMAP(n_components=n_components, n_neighbors=n_neighbors, random_state=42)\n",
    "    else:\n",
    "        raise ValueError(\"Méthode de réduction de dimensionnalité non reconnue.\")\n",
    "    \n",
    "    # Réduction des vecteurs en n dimensions\n",
    "    vectors_reduced = reducer.fit_transform(vectors)\n",
    "    \n",
    "    # Création des traces pour l'affichage\n",
    "    if n_components == 2:\n",
    "        trace = go.Scatter(\n",
    "            x=vectors_reduced[:, 0],\n",
    "            y=vectors_reduced[:, 1],\n",
    "            mode='markers+text',\n",
    "            text=unique_words,\n",
    "            marker=dict(size=10, color='rgba(93, 164, 214, 0.8)'),\n",
    "            textposition='top center'\n",
    "        )\n",
    "    elif n_components == 3:\n",
    "        trace = go.Scatter3d(\n",
    "            x=vectors_reduced[:, 0],\n",
    "            y=vectors_reduced[:, 1],\n",
    "            z=vectors_reduced[:, 2],\n",
    "            mode='markers+text',\n",
    "            text=unique_words,\n",
    "            marker=dict(size=5, color='rgba(255, 0, 0, 0.8)'),\n",
    "            textposition='top center'\n",
    "        )\n",
    "    \n",
    "    # Définir le layout\n",
    "    layout = go.Layout(\n",
    "        title=f\"Projection {n_components}D des voisins de {', '.join(word_list)} par {method.upper()}\",\n",
    "        width=1200,\n",
    "        height=1000,\n",
    "        scene=dict(\n",
    "            xaxis=dict(title='Composante 1'),\n",
    "            yaxis=dict(title='Composante 2'),\n",
    "            zaxis=dict(title='Composante 3') if n_components == 3 else None\n",
    "        ),\n",
    "        xaxis=dict(title='Composante 1') if n_components == 2 else None,\n",
    "        yaxis=dict(title='Composante 2') if n_components == 2 else None,\n",
    "        showlegend=False\n",
    "    )\n",
    "    \n",
    "    # Créer et afficher la figure\n",
    "    fig = go.Figure(data=[trace], layout=layout)\n",
    "    fig.show()\n",
    "    return unique_words\n",
    "\n",
    "# Exemple d'utilisation\n",
    "display_dimred_neighbors(model, ['chat', 'chien'], n_components=2, topn=5, method='umap')"
   ]
  },
  {
   "cell_type": "markdown",
   "id": "85bab949",
   "metadata": {},
   "source": [
    "## 4. Application à l'étude des mots voisins dans word2vec\n",
    "\n",
    "Veuillez choisir quatre mots (`word_list = [m1, m2, m3, m4]`) de façon à ce que m1 et m2 soient très proches par leur sens ou leur usage, m3 un peu plus éloigné, et m4 très éloigné.  L'objectif de cette question est d'étudier la distribution des mots voisins de ces quatre mots (entre 10 et 50) par une visualisation en 2D ou en 3D des vecteurs de mots.  \n",
    "\n",
    "En expérimentant avec plusieurs configurations (méthode de réduction de dimensionnalité, valeur de `n_neighbors`, nombre de voisins `topn`), veuillez répondre aux questions suivantes, à l'aide d'un ou plusieurs graphiques par question :\n",
    "\n",
    "**a.** si on utilise une méthode de réduction de dimensionnalité linéaire (PCA ou MDS métrique), les quatre groupes de mots sont-ils clairement séparés dans word2vec ?\n",
    "\n",
    "**b.** si on utilise une méthode de réduction de dimensionnalité non-linéaire (Isomap, t-SNE ou UMAP), peut-on mieux mettre en évidence les quatre groupes de mots ?  Quels sont les meilleurs paramètres que vous avez trouvés permettant de bien identifier les quatre ensembles ?\n",
    "\n",
    "**c.** inversement, trouvez-vous des paramètres qui aboutissent à cinq clusters ? ou à trois ?"
   ]
  },
  {
   "cell_type": "code",
   "execution_count": 50,
   "id": "e1ad49f1",
   "metadata": {},
   "outputs": [],
   "source": [
    "# Insérer ici la liste de mots.\n",
    "mots = ['grecque', 'latin', 'oublier', 'nourriture']"
   ]
  },
  {
   "cell_type": "code",
   "execution_count": 51,
   "id": "f6879e09",
   "metadata": {},
   "outputs": [
    {
     "data": {
      "application/vnd.plotly.v1+json": {
       "config": {
        "plotlyServerURL": "https://plot.ly"
       },
       "data": [
        {
         "marker": {
          "color": "rgba(255, 0, 0, 0.8)",
          "size": 5
         },
         "mode": "markers+text",
         "text": [
          "langue_vulgaire",
          "iiie_siècle_av_jésus-christ",
          "latin",
          "latiniser",
          "grec",
          "pas",
          "hellénique",
          "toujours",
          "ne",
          "dire",
          "greque",
          "mais",
          "ration_quotidien",
          "proie_vivant",
          "grecquer",
          "rien",
          "mot_latin",
          "hellènes",
          "ionien",
          "latiniste",
          "là",
          "nourrir",
          "affamer",
          "verbe_latin",
          "oublier",
          "étymologie",
          "nouriture",
          "falloir",
          "gréco-",
          "quand",
          "nourriture_sain",
          "vivres",
          "grecs",
          "latin_médiéval",
          "jamais",
          "grammairien",
          "ve_siècle_av_jésus-christ",
          "pâtée",
          "aliment",
          "manger",
          "grecque",
          "nourriture",
          "racine_grec"
         ],
         "textposition": "top center",
         "type": "scatter3d",
         "x": [
          6.280294895172119,
          4.027911186218262,
          13.868160247802734,
          5.146373748779297,
          12.216913223266602,
          -7.872249126434326,
          9.239374160766602,
          -6.17183780670166,
          -7.532937526702881,
          -6.288451671600342,
          1.9810551404953003,
          -6.57456636428833,
          -3.060102701187134,
          -2.5428454875946045,
          5.517794132232666,
          -7.865626335144043,
          11.91511344909668,
          1.6380847692489624,
          6.546267986297607,
          8.787593841552734,
          -6.703434944152832,
          -6.284550189971924,
          -9.446366310119629,
          3.2369062900543213,
          -6.131297588348389,
          13.980600357055664,
          -5.442420959472656,
          -8.357544898986816,
          4.505519866943359,
          -7.724978446960449,
          -3.3607773780822754,
          -8.151350021362305,
          7.55266809463501,
          7.411874771118164,
          -7.161008834838867,
          10.093071937561035,
          3.6927554607391357,
          -6.778578281402588,
          -5.70416259765625,
          -10.755141258239746,
          7.4168806076049805,
          -10.839466094970703,
          5.6944756507873535
         ],
         "y": [
          -0.20985925197601318,
          2.0043578147888184,
          -2.195948362350464,
          0.3449709713459015,
          -0.33393391966819763,
          -9.067337036132812,
          3.1955549716949463,
          -6.183531761169434,
          -9.203028678894043,
          -9.012436866760254,
          0.682121217250824,
          -8.024173736572266,
          4.228471755981445,
          4.102285385131836,
          1.340018630027771,
          -8.679350852966309,
          -1.2378437519073486,
          0.8008777499198914,
          1.606641173362732,
          -1.7541300058364868,
          -8.016901016235352,
          5.0165019035339355,
          8.511944770812988,
          -0.228856161236763,
          -5.585829257965088,
          -2.2570714950561523,
          4.34889554977417,
          -7.904655456542969,
          0.984524667263031,
          -6.74399471282959,
          5.372862339019775,
          15.0282621383667,
          1.1890770196914673,
          0.6181037425994873,
          -7.815271854400635,
          -2.895620346069336,
          1.5519479513168335,
          6.505959510803223,
          10.399109840393066,
          3.678513288497925,
          1.6955779790878296,
          13.634063720703125,
          0.509125292301178
         ],
         "z": [
          -2.2111928462982178,
          4.288645267486572,
          -8.56282901763916,
          0.26490044593811035,
          3.21915864944458,
          -0.27826187014579773,
          10.087745666503906,
          1.1994540691375732,
          0.18680548667907715,
          -1.2179673910140991,
          2.413994073867798,
          0.49778982996940613,
          0.14040446281433105,
          0.2617288827896118,
          4.119021892547607,
          -0.14545485377311707,
          -7.783529281616211,
          3.625793218612671,
          5.664353370666504,
          -0.6330304741859436,
          0.44847652316093445,
          -0.4191620945930481,
          0.6882097721099854,
          -1.7033145427703857,
          0.8783374428749084,
          -12.348912239074707,
          -0.49381303787231445,
          0.2965332865715027,
          3.5025827884674072,
          -0.09456510841846466,
          -0.27896612882614136,
          0.32839906215667725,
          7.135501384735107,
          -1.7899638414382935,
          1.0714935064315796,
          -3.932572603225708,
          4.202087879180908,
          -3.297769784927368,
          -5.228111267089844,
          -4.655831336975098,
          5.705901145935059,
          -3.8014070987701416,
          -1.3506454229354858
         ]
        }
       ],
       "layout": {
        "height": 1000,
        "scene": {
         "xaxis": {
          "title": {
           "text": "Composante 1"
          }
         },
         "yaxis": {
          "title": {
           "text": "Composante 2"
          }
         },
         "zaxis": {
          "title": {
           "text": "Composante 3"
          }
         }
        },
        "showlegend": false,
        "template": {
         "data": {
          "bar": [
           {
            "error_x": {
             "color": "#2a3f5f"
            },
            "error_y": {
             "color": "#2a3f5f"
            },
            "marker": {
             "line": {
              "color": "#E5ECF6",
              "width": 0.5
             },
             "pattern": {
              "fillmode": "overlay",
              "size": 10,
              "solidity": 0.2
             }
            },
            "type": "bar"
           }
          ],
          "barpolar": [
           {
            "marker": {
             "line": {
              "color": "#E5ECF6",
              "width": 0.5
             },
             "pattern": {
              "fillmode": "overlay",
              "size": 10,
              "solidity": 0.2
             }
            },
            "type": "barpolar"
           }
          ],
          "carpet": [
           {
            "aaxis": {
             "endlinecolor": "#2a3f5f",
             "gridcolor": "white",
             "linecolor": "white",
             "minorgridcolor": "white",
             "startlinecolor": "#2a3f5f"
            },
            "baxis": {
             "endlinecolor": "#2a3f5f",
             "gridcolor": "white",
             "linecolor": "white",
             "minorgridcolor": "white",
             "startlinecolor": "#2a3f5f"
            },
            "type": "carpet"
           }
          ],
          "choropleth": [
           {
            "colorbar": {
             "outlinewidth": 0,
             "ticks": ""
            },
            "type": "choropleth"
           }
          ],
          "contour": [
           {
            "colorbar": {
             "outlinewidth": 0,
             "ticks": ""
            },
            "colorscale": [
             [
              0,
              "#0d0887"
             ],
             [
              0.1111111111111111,
              "#46039f"
             ],
             [
              0.2222222222222222,
              "#7201a8"
             ],
             [
              0.3333333333333333,
              "#9c179e"
             ],
             [
              0.4444444444444444,
              "#bd3786"
             ],
             [
              0.5555555555555556,
              "#d8576b"
             ],
             [
              0.6666666666666666,
              "#ed7953"
             ],
             [
              0.7777777777777778,
              "#fb9f3a"
             ],
             [
              0.8888888888888888,
              "#fdca26"
             ],
             [
              1,
              "#f0f921"
             ]
            ],
            "type": "contour"
           }
          ],
          "contourcarpet": [
           {
            "colorbar": {
             "outlinewidth": 0,
             "ticks": ""
            },
            "type": "contourcarpet"
           }
          ],
          "heatmap": [
           {
            "colorbar": {
             "outlinewidth": 0,
             "ticks": ""
            },
            "colorscale": [
             [
              0,
              "#0d0887"
             ],
             [
              0.1111111111111111,
              "#46039f"
             ],
             [
              0.2222222222222222,
              "#7201a8"
             ],
             [
              0.3333333333333333,
              "#9c179e"
             ],
             [
              0.4444444444444444,
              "#bd3786"
             ],
             [
              0.5555555555555556,
              "#d8576b"
             ],
             [
              0.6666666666666666,
              "#ed7953"
             ],
             [
              0.7777777777777778,
              "#fb9f3a"
             ],
             [
              0.8888888888888888,
              "#fdca26"
             ],
             [
              1,
              "#f0f921"
             ]
            ],
            "type": "heatmap"
           }
          ],
          "heatmapgl": [
           {
            "colorbar": {
             "outlinewidth": 0,
             "ticks": ""
            },
            "colorscale": [
             [
              0,
              "#0d0887"
             ],
             [
              0.1111111111111111,
              "#46039f"
             ],
             [
              0.2222222222222222,
              "#7201a8"
             ],
             [
              0.3333333333333333,
              "#9c179e"
             ],
             [
              0.4444444444444444,
              "#bd3786"
             ],
             [
              0.5555555555555556,
              "#d8576b"
             ],
             [
              0.6666666666666666,
              "#ed7953"
             ],
             [
              0.7777777777777778,
              "#fb9f3a"
             ],
             [
              0.8888888888888888,
              "#fdca26"
             ],
             [
              1,
              "#f0f921"
             ]
            ],
            "type": "heatmapgl"
           }
          ],
          "histogram": [
           {
            "marker": {
             "pattern": {
              "fillmode": "overlay",
              "size": 10,
              "solidity": 0.2
             }
            },
            "type": "histogram"
           }
          ],
          "histogram2d": [
           {
            "colorbar": {
             "outlinewidth": 0,
             "ticks": ""
            },
            "colorscale": [
             [
              0,
              "#0d0887"
             ],
             [
              0.1111111111111111,
              "#46039f"
             ],
             [
              0.2222222222222222,
              "#7201a8"
             ],
             [
              0.3333333333333333,
              "#9c179e"
             ],
             [
              0.4444444444444444,
              "#bd3786"
             ],
             [
              0.5555555555555556,
              "#d8576b"
             ],
             [
              0.6666666666666666,
              "#ed7953"
             ],
             [
              0.7777777777777778,
              "#fb9f3a"
             ],
             [
              0.8888888888888888,
              "#fdca26"
             ],
             [
              1,
              "#f0f921"
             ]
            ],
            "type": "histogram2d"
           }
          ],
          "histogram2dcontour": [
           {
            "colorbar": {
             "outlinewidth": 0,
             "ticks": ""
            },
            "colorscale": [
             [
              0,
              "#0d0887"
             ],
             [
              0.1111111111111111,
              "#46039f"
             ],
             [
              0.2222222222222222,
              "#7201a8"
             ],
             [
              0.3333333333333333,
              "#9c179e"
             ],
             [
              0.4444444444444444,
              "#bd3786"
             ],
             [
              0.5555555555555556,
              "#d8576b"
             ],
             [
              0.6666666666666666,
              "#ed7953"
             ],
             [
              0.7777777777777778,
              "#fb9f3a"
             ],
             [
              0.8888888888888888,
              "#fdca26"
             ],
             [
              1,
              "#f0f921"
             ]
            ],
            "type": "histogram2dcontour"
           }
          ],
          "mesh3d": [
           {
            "colorbar": {
             "outlinewidth": 0,
             "ticks": ""
            },
            "type": "mesh3d"
           }
          ],
          "parcoords": [
           {
            "line": {
             "colorbar": {
              "outlinewidth": 0,
              "ticks": ""
             }
            },
            "type": "parcoords"
           }
          ],
          "pie": [
           {
            "automargin": true,
            "type": "pie"
           }
          ],
          "scatter": [
           {
            "fillpattern": {
             "fillmode": "overlay",
             "size": 10,
             "solidity": 0.2
            },
            "type": "scatter"
           }
          ],
          "scatter3d": [
           {
            "line": {
             "colorbar": {
              "outlinewidth": 0,
              "ticks": ""
             }
            },
            "marker": {
             "colorbar": {
              "outlinewidth": 0,
              "ticks": ""
             }
            },
            "type": "scatter3d"
           }
          ],
          "scattercarpet": [
           {
            "marker": {
             "colorbar": {
              "outlinewidth": 0,
              "ticks": ""
             }
            },
            "type": "scattercarpet"
           }
          ],
          "scattergeo": [
           {
            "marker": {
             "colorbar": {
              "outlinewidth": 0,
              "ticks": ""
             }
            },
            "type": "scattergeo"
           }
          ],
          "scattergl": [
           {
            "marker": {
             "colorbar": {
              "outlinewidth": 0,
              "ticks": ""
             }
            },
            "type": "scattergl"
           }
          ],
          "scattermapbox": [
           {
            "marker": {
             "colorbar": {
              "outlinewidth": 0,
              "ticks": ""
             }
            },
            "type": "scattermapbox"
           }
          ],
          "scatterpolar": [
           {
            "marker": {
             "colorbar": {
              "outlinewidth": 0,
              "ticks": ""
             }
            },
            "type": "scatterpolar"
           }
          ],
          "scatterpolargl": [
           {
            "marker": {
             "colorbar": {
              "outlinewidth": 0,
              "ticks": ""
             }
            },
            "type": "scatterpolargl"
           }
          ],
          "scatterternary": [
           {
            "marker": {
             "colorbar": {
              "outlinewidth": 0,
              "ticks": ""
             }
            },
            "type": "scatterternary"
           }
          ],
          "surface": [
           {
            "colorbar": {
             "outlinewidth": 0,
             "ticks": ""
            },
            "colorscale": [
             [
              0,
              "#0d0887"
             ],
             [
              0.1111111111111111,
              "#46039f"
             ],
             [
              0.2222222222222222,
              "#7201a8"
             ],
             [
              0.3333333333333333,
              "#9c179e"
             ],
             [
              0.4444444444444444,
              "#bd3786"
             ],
             [
              0.5555555555555556,
              "#d8576b"
             ],
             [
              0.6666666666666666,
              "#ed7953"
             ],
             [
              0.7777777777777778,
              "#fb9f3a"
             ],
             [
              0.8888888888888888,
              "#fdca26"
             ],
             [
              1,
              "#f0f921"
             ]
            ],
            "type": "surface"
           }
          ],
          "table": [
           {
            "cells": {
             "fill": {
              "color": "#EBF0F8"
             },
             "line": {
              "color": "white"
             }
            },
            "header": {
             "fill": {
              "color": "#C8D4E3"
             },
             "line": {
              "color": "white"
             }
            },
            "type": "table"
           }
          ]
         },
         "layout": {
          "annotationdefaults": {
           "arrowcolor": "#2a3f5f",
           "arrowhead": 0,
           "arrowwidth": 1
          },
          "autotypenumbers": "strict",
          "coloraxis": {
           "colorbar": {
            "outlinewidth": 0,
            "ticks": ""
           }
          },
          "colorscale": {
           "diverging": [
            [
             0,
             "#8e0152"
            ],
            [
             0.1,
             "#c51b7d"
            ],
            [
             0.2,
             "#de77ae"
            ],
            [
             0.3,
             "#f1b6da"
            ],
            [
             0.4,
             "#fde0ef"
            ],
            [
             0.5,
             "#f7f7f7"
            ],
            [
             0.6,
             "#e6f5d0"
            ],
            [
             0.7,
             "#b8e186"
            ],
            [
             0.8,
             "#7fbc41"
            ],
            [
             0.9,
             "#4d9221"
            ],
            [
             1,
             "#276419"
            ]
           ],
           "sequential": [
            [
             0,
             "#0d0887"
            ],
            [
             0.1111111111111111,
             "#46039f"
            ],
            [
             0.2222222222222222,
             "#7201a8"
            ],
            [
             0.3333333333333333,
             "#9c179e"
            ],
            [
             0.4444444444444444,
             "#bd3786"
            ],
            [
             0.5555555555555556,
             "#d8576b"
            ],
            [
             0.6666666666666666,
             "#ed7953"
            ],
            [
             0.7777777777777778,
             "#fb9f3a"
            ],
            [
             0.8888888888888888,
             "#fdca26"
            ],
            [
             1,
             "#f0f921"
            ]
           ],
           "sequentialminus": [
            [
             0,
             "#0d0887"
            ],
            [
             0.1111111111111111,
             "#46039f"
            ],
            [
             0.2222222222222222,
             "#7201a8"
            ],
            [
             0.3333333333333333,
             "#9c179e"
            ],
            [
             0.4444444444444444,
             "#bd3786"
            ],
            [
             0.5555555555555556,
             "#d8576b"
            ],
            [
             0.6666666666666666,
             "#ed7953"
            ],
            [
             0.7777777777777778,
             "#fb9f3a"
            ],
            [
             0.8888888888888888,
             "#fdca26"
            ],
            [
             1,
             "#f0f921"
            ]
           ]
          },
          "colorway": [
           "#636efa",
           "#EF553B",
           "#00cc96",
           "#ab63fa",
           "#FFA15A",
           "#19d3f3",
           "#FF6692",
           "#B6E880",
           "#FF97FF",
           "#FECB52"
          ],
          "font": {
           "color": "#2a3f5f"
          },
          "geo": {
           "bgcolor": "white",
           "lakecolor": "white",
           "landcolor": "#E5ECF6",
           "showlakes": true,
           "showland": true,
           "subunitcolor": "white"
          },
          "hoverlabel": {
           "align": "left"
          },
          "hovermode": "closest",
          "mapbox": {
           "style": "light"
          },
          "paper_bgcolor": "white",
          "plot_bgcolor": "#E5ECF6",
          "polar": {
           "angularaxis": {
            "gridcolor": "white",
            "linecolor": "white",
            "ticks": ""
           },
           "bgcolor": "#E5ECF6",
           "radialaxis": {
            "gridcolor": "white",
            "linecolor": "white",
            "ticks": ""
           }
          },
          "scene": {
           "xaxis": {
            "backgroundcolor": "#E5ECF6",
            "gridcolor": "white",
            "gridwidth": 2,
            "linecolor": "white",
            "showbackground": true,
            "ticks": "",
            "zerolinecolor": "white"
           },
           "yaxis": {
            "backgroundcolor": "#E5ECF6",
            "gridcolor": "white",
            "gridwidth": 2,
            "linecolor": "white",
            "showbackground": true,
            "ticks": "",
            "zerolinecolor": "white"
           },
           "zaxis": {
            "backgroundcolor": "#E5ECF6",
            "gridcolor": "white",
            "gridwidth": 2,
            "linecolor": "white",
            "showbackground": true,
            "ticks": "",
            "zerolinecolor": "white"
           }
          },
          "shapedefaults": {
           "line": {
            "color": "#2a3f5f"
           }
          },
          "ternary": {
           "aaxis": {
            "gridcolor": "white",
            "linecolor": "white",
            "ticks": ""
           },
           "baxis": {
            "gridcolor": "white",
            "linecolor": "white",
            "ticks": ""
           },
           "bgcolor": "#E5ECF6",
           "caxis": {
            "gridcolor": "white",
            "linecolor": "white",
            "ticks": ""
           }
          },
          "title": {
           "x": 0.05
          },
          "xaxis": {
           "automargin": true,
           "gridcolor": "white",
           "linecolor": "white",
           "ticks": "",
           "title": {
            "standoff": 15
           },
           "zerolinecolor": "white",
           "zerolinewidth": 2
          },
          "yaxis": {
           "automargin": true,
           "gridcolor": "white",
           "linecolor": "white",
           "ticks": "",
           "title": {
            "standoff": 15
           },
           "zerolinecolor": "white",
           "zerolinewidth": 2
          }
         }
        },
        "title": {
         "text": "Projection 3D des voisins de grecque, latin, oublier, nourriture par PCA"
        },
        "width": 1200
       }
      }
     },
     "metadata": {},
     "output_type": "display_data"
    },
    {
     "data": {
      "application/vnd.plotly.v1+json": {
       "config": {
        "plotlyServerURL": "https://plot.ly"
       },
       "data": [
        {
         "marker": {
          "color": "rgba(255, 0, 0, 0.8)",
          "size": 5
         },
         "mode": "markers+text",
         "text": [
          "langue_vulgaire",
          "iiie_siècle_av_jésus-christ",
          "latin",
          "latiniser",
          "grec",
          "pas",
          "hellénique",
          "toujours",
          "ne",
          "dire",
          "greque",
          "mais",
          "ration_quotidien",
          "proie_vivant",
          "grecquer",
          "rien",
          "mot_latin",
          "hellènes",
          "ionien",
          "latiniste",
          "là",
          "nourrir",
          "affamer",
          "verbe_latin",
          "oublier",
          "étymologie",
          "nouriture",
          "falloir",
          "gréco-",
          "quand",
          "nourriture_sain",
          "vivres",
          "grecs",
          "latin_médiéval",
          "jamais",
          "grammairien",
          "ve_siècle_av_jésus-christ",
          "pâtée",
          "aliment",
          "manger",
          "grecque",
          "nourriture",
          "racine_grec"
         ],
         "textposition": "top center",
         "type": "scatter3d",
         "x": [
          -10.751925915979843,
          2.867943566781277,
          -15.010949618598245,
          -4.472040869562572,
          -2.3761835124225397,
          -3.5778818765754776,
          3.9781321797551854,
          1.9347112559245918,
          -4.08823082921361,
          -8.066982732855598,
          -0.7773117665672648,
          -2.8730660382695596,
          5.931985388612408,
          2.3333281395330125,
          -0.5568258552190178,
          -5.5124675147778905,
          -13.883905065259002,
          1.1872176020850727,
          2.9583858202080586,
          -9.918606352579499,
          -0.6453298616704194,
          13.750981786186692,
          19.22613577873393,
          -5.353375570523755,
          -5.658161411258432,
          -13.906794539016502,
          0.5908632372868658,
          1.334589012452999,
          0.25401194646013137,
          -0.6806883774323731,
          5.761829230785566,
          22.450959230447733,
          9.396629177983264,
          -7.883940913007827,
          2.204170167485584,
          -18.311274340472686,
          1.9001207482613123,
          15.675669404806285,
          2.2677893134921234,
          4.997467514054891,
          2.73109271003106,
          15.912430971011748,
          -5.340501221117691
         ],
         "y": [
          4.652449589782823,
          -3.534763012006691,
          -7.793060850281587,
          0.35469967672289654,
          -15.510347809334512,
          1.7065565423901967,
          -16.740187217198276,
          -0.054542686876585283,
          -1.6084856209836282,
          2.4564425137755084,
          0.5975975926276637,
          -0.5662535868395192,
          4.0054294801455415,
          6.756472872228563,
          -2.8506684858055804,
          5.573152664991887,
          -11.308114236062412,
          -1.5694816642669973,
          -8.680989835997755,
          4.524952175710785,
          -3.847971703297172,
          -5.971566777853852,
          0.6130572177017082,
          -0.6264797208809846,
          8.41623265096929,
          -18.753482887787676,
          12.576372395038844,
          4.9902956509969725,
          -5.95110581152509,
          6.193249044157402,
          7.044420353885174,
          5.58084894584294,
          -15.285152273741161,
          -0.8864764293349656,
          -1.7339680539416384,
          -0.16295006727630754,
          -1.4340913432681832,
          6.2469544381473545,
          19.491451710934875,
          18.41790883376969,
          -4.5682244783497135,
          15.036226549629783,
          -5.796406346539613
         ],
         "z": [
          -5.62595548192018,
          -4.738722208771688,
          -12.393760870667897,
          -5.822565979442082,
          -10.322398077732414,
          13.244105188700301,
          -2.934665370389667,
          9.488084679454875,
          14.31806840892219,
          10.735528056874108,
          -2.2408869981389463,
          11.070116268522247,
          -0.6710254593082479,
          -2.6452246173344194,
          -8.107977401456887,
          12.11018200929524,
          -3.1091284292584627,
          -1.0746441146681078,
          -5.720034731627954,
          -15.269720168471968,
          11.874976986097986,
          7.196214151064042,
          8.381788162586513,
          -0.9162653777126737,
          6.851857444447183,
          0.8699237095651304,
          -0.9001636991438674,
          14.18599220077337,
          -1.8866488955589433,
          10.366188664431892,
          -4.324825665098458,
          -12.784316092421461,
          -6.278466755448286,
          -8.249985654536856,
          12.899555294694379,
          -3.4726197610380547,
          -5.578275739294049,
          1.8518424128870474,
          -10.14712214018835,
          7.980337740577367,
          -14.81847024975902,
          -1.315921317050716,
          -2.0749701224542
         ]
        }
       ],
       "layout": {
        "height": 1000,
        "scene": {
         "xaxis": {
          "title": {
           "text": "Composante 1"
          }
         },
         "yaxis": {
          "title": {
           "text": "Composante 2"
          }
         },
         "zaxis": {
          "title": {
           "text": "Composante 3"
          }
         }
        },
        "showlegend": false,
        "template": {
         "data": {
          "bar": [
           {
            "error_x": {
             "color": "#2a3f5f"
            },
            "error_y": {
             "color": "#2a3f5f"
            },
            "marker": {
             "line": {
              "color": "#E5ECF6",
              "width": 0.5
             },
             "pattern": {
              "fillmode": "overlay",
              "size": 10,
              "solidity": 0.2
             }
            },
            "type": "bar"
           }
          ],
          "barpolar": [
           {
            "marker": {
             "line": {
              "color": "#E5ECF6",
              "width": 0.5
             },
             "pattern": {
              "fillmode": "overlay",
              "size": 10,
              "solidity": 0.2
             }
            },
            "type": "barpolar"
           }
          ],
          "carpet": [
           {
            "aaxis": {
             "endlinecolor": "#2a3f5f",
             "gridcolor": "white",
             "linecolor": "white",
             "minorgridcolor": "white",
             "startlinecolor": "#2a3f5f"
            },
            "baxis": {
             "endlinecolor": "#2a3f5f",
             "gridcolor": "white",
             "linecolor": "white",
             "minorgridcolor": "white",
             "startlinecolor": "#2a3f5f"
            },
            "type": "carpet"
           }
          ],
          "choropleth": [
           {
            "colorbar": {
             "outlinewidth": 0,
             "ticks": ""
            },
            "type": "choropleth"
           }
          ],
          "contour": [
           {
            "colorbar": {
             "outlinewidth": 0,
             "ticks": ""
            },
            "colorscale": [
             [
              0,
              "#0d0887"
             ],
             [
              0.1111111111111111,
              "#46039f"
             ],
             [
              0.2222222222222222,
              "#7201a8"
             ],
             [
              0.3333333333333333,
              "#9c179e"
             ],
             [
              0.4444444444444444,
              "#bd3786"
             ],
             [
              0.5555555555555556,
              "#d8576b"
             ],
             [
              0.6666666666666666,
              "#ed7953"
             ],
             [
              0.7777777777777778,
              "#fb9f3a"
             ],
             [
              0.8888888888888888,
              "#fdca26"
             ],
             [
              1,
              "#f0f921"
             ]
            ],
            "type": "contour"
           }
          ],
          "contourcarpet": [
           {
            "colorbar": {
             "outlinewidth": 0,
             "ticks": ""
            },
            "type": "contourcarpet"
           }
          ],
          "heatmap": [
           {
            "colorbar": {
             "outlinewidth": 0,
             "ticks": ""
            },
            "colorscale": [
             [
              0,
              "#0d0887"
             ],
             [
              0.1111111111111111,
              "#46039f"
             ],
             [
              0.2222222222222222,
              "#7201a8"
             ],
             [
              0.3333333333333333,
              "#9c179e"
             ],
             [
              0.4444444444444444,
              "#bd3786"
             ],
             [
              0.5555555555555556,
              "#d8576b"
             ],
             [
              0.6666666666666666,
              "#ed7953"
             ],
             [
              0.7777777777777778,
              "#fb9f3a"
             ],
             [
              0.8888888888888888,
              "#fdca26"
             ],
             [
              1,
              "#f0f921"
             ]
            ],
            "type": "heatmap"
           }
          ],
          "heatmapgl": [
           {
            "colorbar": {
             "outlinewidth": 0,
             "ticks": ""
            },
            "colorscale": [
             [
              0,
              "#0d0887"
             ],
             [
              0.1111111111111111,
              "#46039f"
             ],
             [
              0.2222222222222222,
              "#7201a8"
             ],
             [
              0.3333333333333333,
              "#9c179e"
             ],
             [
              0.4444444444444444,
              "#bd3786"
             ],
             [
              0.5555555555555556,
              "#d8576b"
             ],
             [
              0.6666666666666666,
              "#ed7953"
             ],
             [
              0.7777777777777778,
              "#fb9f3a"
             ],
             [
              0.8888888888888888,
              "#fdca26"
             ],
             [
              1,
              "#f0f921"
             ]
            ],
            "type": "heatmapgl"
           }
          ],
          "histogram": [
           {
            "marker": {
             "pattern": {
              "fillmode": "overlay",
              "size": 10,
              "solidity": 0.2
             }
            },
            "type": "histogram"
           }
          ],
          "histogram2d": [
           {
            "colorbar": {
             "outlinewidth": 0,
             "ticks": ""
            },
            "colorscale": [
             [
              0,
              "#0d0887"
             ],
             [
              0.1111111111111111,
              "#46039f"
             ],
             [
              0.2222222222222222,
              "#7201a8"
             ],
             [
              0.3333333333333333,
              "#9c179e"
             ],
             [
              0.4444444444444444,
              "#bd3786"
             ],
             [
              0.5555555555555556,
              "#d8576b"
             ],
             [
              0.6666666666666666,
              "#ed7953"
             ],
             [
              0.7777777777777778,
              "#fb9f3a"
             ],
             [
              0.8888888888888888,
              "#fdca26"
             ],
             [
              1,
              "#f0f921"
             ]
            ],
            "type": "histogram2d"
           }
          ],
          "histogram2dcontour": [
           {
            "colorbar": {
             "outlinewidth": 0,
             "ticks": ""
            },
            "colorscale": [
             [
              0,
              "#0d0887"
             ],
             [
              0.1111111111111111,
              "#46039f"
             ],
             [
              0.2222222222222222,
              "#7201a8"
             ],
             [
              0.3333333333333333,
              "#9c179e"
             ],
             [
              0.4444444444444444,
              "#bd3786"
             ],
             [
              0.5555555555555556,
              "#d8576b"
             ],
             [
              0.6666666666666666,
              "#ed7953"
             ],
             [
              0.7777777777777778,
              "#fb9f3a"
             ],
             [
              0.8888888888888888,
              "#fdca26"
             ],
             [
              1,
              "#f0f921"
             ]
            ],
            "type": "histogram2dcontour"
           }
          ],
          "mesh3d": [
           {
            "colorbar": {
             "outlinewidth": 0,
             "ticks": ""
            },
            "type": "mesh3d"
           }
          ],
          "parcoords": [
           {
            "line": {
             "colorbar": {
              "outlinewidth": 0,
              "ticks": ""
             }
            },
            "type": "parcoords"
           }
          ],
          "pie": [
           {
            "automargin": true,
            "type": "pie"
           }
          ],
          "scatter": [
           {
            "fillpattern": {
             "fillmode": "overlay",
             "size": 10,
             "solidity": 0.2
            },
            "type": "scatter"
           }
          ],
          "scatter3d": [
           {
            "line": {
             "colorbar": {
              "outlinewidth": 0,
              "ticks": ""
             }
            },
            "marker": {
             "colorbar": {
              "outlinewidth": 0,
              "ticks": ""
             }
            },
            "type": "scatter3d"
           }
          ],
          "scattercarpet": [
           {
            "marker": {
             "colorbar": {
              "outlinewidth": 0,
              "ticks": ""
             }
            },
            "type": "scattercarpet"
           }
          ],
          "scattergeo": [
           {
            "marker": {
             "colorbar": {
              "outlinewidth": 0,
              "ticks": ""
             }
            },
            "type": "scattergeo"
           }
          ],
          "scattergl": [
           {
            "marker": {
             "colorbar": {
              "outlinewidth": 0,
              "ticks": ""
             }
            },
            "type": "scattergl"
           }
          ],
          "scattermapbox": [
           {
            "marker": {
             "colorbar": {
              "outlinewidth": 0,
              "ticks": ""
             }
            },
            "type": "scattermapbox"
           }
          ],
          "scatterpolar": [
           {
            "marker": {
             "colorbar": {
              "outlinewidth": 0,
              "ticks": ""
             }
            },
            "type": "scatterpolar"
           }
          ],
          "scatterpolargl": [
           {
            "marker": {
             "colorbar": {
              "outlinewidth": 0,
              "ticks": ""
             }
            },
            "type": "scatterpolargl"
           }
          ],
          "scatterternary": [
           {
            "marker": {
             "colorbar": {
              "outlinewidth": 0,
              "ticks": ""
             }
            },
            "type": "scatterternary"
           }
          ],
          "surface": [
           {
            "colorbar": {
             "outlinewidth": 0,
             "ticks": ""
            },
            "colorscale": [
             [
              0,
              "#0d0887"
             ],
             [
              0.1111111111111111,
              "#46039f"
             ],
             [
              0.2222222222222222,
              "#7201a8"
             ],
             [
              0.3333333333333333,
              "#9c179e"
             ],
             [
              0.4444444444444444,
              "#bd3786"
             ],
             [
              0.5555555555555556,
              "#d8576b"
             ],
             [
              0.6666666666666666,
              "#ed7953"
             ],
             [
              0.7777777777777778,
              "#fb9f3a"
             ],
             [
              0.8888888888888888,
              "#fdca26"
             ],
             [
              1,
              "#f0f921"
             ]
            ],
            "type": "surface"
           }
          ],
          "table": [
           {
            "cells": {
             "fill": {
              "color": "#EBF0F8"
             },
             "line": {
              "color": "white"
             }
            },
            "header": {
             "fill": {
              "color": "#C8D4E3"
             },
             "line": {
              "color": "white"
             }
            },
            "type": "table"
           }
          ]
         },
         "layout": {
          "annotationdefaults": {
           "arrowcolor": "#2a3f5f",
           "arrowhead": 0,
           "arrowwidth": 1
          },
          "autotypenumbers": "strict",
          "coloraxis": {
           "colorbar": {
            "outlinewidth": 0,
            "ticks": ""
           }
          },
          "colorscale": {
           "diverging": [
            [
             0,
             "#8e0152"
            ],
            [
             0.1,
             "#c51b7d"
            ],
            [
             0.2,
             "#de77ae"
            ],
            [
             0.3,
             "#f1b6da"
            ],
            [
             0.4,
             "#fde0ef"
            ],
            [
             0.5,
             "#f7f7f7"
            ],
            [
             0.6,
             "#e6f5d0"
            ],
            [
             0.7,
             "#b8e186"
            ],
            [
             0.8,
             "#7fbc41"
            ],
            [
             0.9,
             "#4d9221"
            ],
            [
             1,
             "#276419"
            ]
           ],
           "sequential": [
            [
             0,
             "#0d0887"
            ],
            [
             0.1111111111111111,
             "#46039f"
            ],
            [
             0.2222222222222222,
             "#7201a8"
            ],
            [
             0.3333333333333333,
             "#9c179e"
            ],
            [
             0.4444444444444444,
             "#bd3786"
            ],
            [
             0.5555555555555556,
             "#d8576b"
            ],
            [
             0.6666666666666666,
             "#ed7953"
            ],
            [
             0.7777777777777778,
             "#fb9f3a"
            ],
            [
             0.8888888888888888,
             "#fdca26"
            ],
            [
             1,
             "#f0f921"
            ]
           ],
           "sequentialminus": [
            [
             0,
             "#0d0887"
            ],
            [
             0.1111111111111111,
             "#46039f"
            ],
            [
             0.2222222222222222,
             "#7201a8"
            ],
            [
             0.3333333333333333,
             "#9c179e"
            ],
            [
             0.4444444444444444,
             "#bd3786"
            ],
            [
             0.5555555555555556,
             "#d8576b"
            ],
            [
             0.6666666666666666,
             "#ed7953"
            ],
            [
             0.7777777777777778,
             "#fb9f3a"
            ],
            [
             0.8888888888888888,
             "#fdca26"
            ],
            [
             1,
             "#f0f921"
            ]
           ]
          },
          "colorway": [
           "#636efa",
           "#EF553B",
           "#00cc96",
           "#ab63fa",
           "#FFA15A",
           "#19d3f3",
           "#FF6692",
           "#B6E880",
           "#FF97FF",
           "#FECB52"
          ],
          "font": {
           "color": "#2a3f5f"
          },
          "geo": {
           "bgcolor": "white",
           "lakecolor": "white",
           "landcolor": "#E5ECF6",
           "showlakes": true,
           "showland": true,
           "subunitcolor": "white"
          },
          "hoverlabel": {
           "align": "left"
          },
          "hovermode": "closest",
          "mapbox": {
           "style": "light"
          },
          "paper_bgcolor": "white",
          "plot_bgcolor": "#E5ECF6",
          "polar": {
           "angularaxis": {
            "gridcolor": "white",
            "linecolor": "white",
            "ticks": ""
           },
           "bgcolor": "#E5ECF6",
           "radialaxis": {
            "gridcolor": "white",
            "linecolor": "white",
            "ticks": ""
           }
          },
          "scene": {
           "xaxis": {
            "backgroundcolor": "#E5ECF6",
            "gridcolor": "white",
            "gridwidth": 2,
            "linecolor": "white",
            "showbackground": true,
            "ticks": "",
            "zerolinecolor": "white"
           },
           "yaxis": {
            "backgroundcolor": "#E5ECF6",
            "gridcolor": "white",
            "gridwidth": 2,
            "linecolor": "white",
            "showbackground": true,
            "ticks": "",
            "zerolinecolor": "white"
           },
           "zaxis": {
            "backgroundcolor": "#E5ECF6",
            "gridcolor": "white",
            "gridwidth": 2,
            "linecolor": "white",
            "showbackground": true,
            "ticks": "",
            "zerolinecolor": "white"
           }
          },
          "shapedefaults": {
           "line": {
            "color": "#2a3f5f"
           }
          },
          "ternary": {
           "aaxis": {
            "gridcolor": "white",
            "linecolor": "white",
            "ticks": ""
           },
           "baxis": {
            "gridcolor": "white",
            "linecolor": "white",
            "ticks": ""
           },
           "bgcolor": "#E5ECF6",
           "caxis": {
            "gridcolor": "white",
            "linecolor": "white",
            "ticks": ""
           }
          },
          "title": {
           "x": 0.05
          },
          "xaxis": {
           "automargin": true,
           "gridcolor": "white",
           "linecolor": "white",
           "ticks": "",
           "title": {
            "standoff": 15
           },
           "zerolinecolor": "white",
           "zerolinewidth": 2
          },
          "yaxis": {
           "automargin": true,
           "gridcolor": "white",
           "linecolor": "white",
           "ticks": "",
           "title": {
            "standoff": 15
           },
           "zerolinecolor": "white",
           "zerolinewidth": 2
          }
         }
        },
        "title": {
         "text": "Projection 3D des voisins de grecque, latin, oublier, nourriture par MDS"
        },
        "width": 1200
       }
      }
     },
     "metadata": {},
     "output_type": "display_data"
    },
    {
     "data": {
      "text/plain": [
       "['langue_vulgaire',\n",
       " 'iiie_siècle_av_jésus-christ',\n",
       " 'latin',\n",
       " 'latiniser',\n",
       " 'grec',\n",
       " 'pas',\n",
       " 'hellénique',\n",
       " 'toujours',\n",
       " 'ne',\n",
       " 'dire',\n",
       " 'greque',\n",
       " 'mais',\n",
       " 'ration_quotidien',\n",
       " 'proie_vivant',\n",
       " 'grecquer',\n",
       " 'rien',\n",
       " 'mot_latin',\n",
       " 'hellènes',\n",
       " 'ionien',\n",
       " 'latiniste',\n",
       " 'là',\n",
       " 'nourrir',\n",
       " 'affamer',\n",
       " 'verbe_latin',\n",
       " 'oublier',\n",
       " 'étymologie',\n",
       " 'nouriture',\n",
       " 'falloir',\n",
       " 'gréco-',\n",
       " 'quand',\n",
       " 'nourriture_sain',\n",
       " 'vivres',\n",
       " 'grecs',\n",
       " 'latin_médiéval',\n",
       " 'jamais',\n",
       " 'grammairien',\n",
       " 've_siècle_av_jésus-christ',\n",
       " 'pâtée',\n",
       " 'aliment',\n",
       " 'manger',\n",
       " 'grecque',\n",
       " 'nourriture',\n",
       " 'racine_grec']"
      ]
     },
     "execution_count": 51,
     "metadata": {},
     "output_type": "execute_result"
    }
   ],
   "source": [
    "# Question 4a\n",
    "display_dimred_neighbors(model, mots, n_components=3, topn=10, method='pca', n_neighbors=10)\n",
    "display_dimred_neighbors(model, mots, n_components=3, topn=10, method='mds', n_neighbors=10)\n",
    "#\n",
    "# En utilisant la méthode PCA, on peut voir que les mots 'latin' et 'grecque' sont proches l'un de l'autre (meme cluster)\n",
    "# Nous observons également un cluster différent pour 'nourriture' et 'oublier'\n",
    "# En revanche pour la méthode MDS, les mots 'latin' et 'grecque' sont plus éloignés l'un de l'autre ainsi que la densité en plus homogène, les clusters ne sont plus évidents de manière visuelle.\n",
    "# A noter que la position des différents cluster reste la même pour les deux méthodes.\n",
    "\n"
   ]
  },
  {
   "cell_type": "code",
   "execution_count": 52,
   "id": "328fd322",
   "metadata": {},
   "outputs": [
    {
     "name": "stderr",
     "output_type": "stream",
     "text": [
      "c:\\Users\\Julien\\miniconda3\\envs\\PCD\\Lib\\site-packages\\sklearn\\manifold\\_t_sne.py:1162: FutureWarning:\n",
      "\n",
      "'n_iter' was renamed to 'max_iter' in version 1.5 and will be removed in 1.7.\n",
      "\n"
     ]
    },
    {
     "data": {
      "application/vnd.plotly.v1+json": {
       "config": {
        "plotlyServerURL": "https://plot.ly"
       },
       "data": [
        {
         "marker": {
          "color": "rgba(255, 0, 0, 0.8)",
          "size": 5
         },
         "mode": "markers+text",
         "text": [
          "langue_vulgaire",
          "iiie_siècle_av_jésus-christ",
          "latin",
          "latiniser",
          "grec",
          "pas",
          "hellénique",
          "toujours",
          "ne",
          "dire",
          "greque",
          "mais",
          "ration_quotidien",
          "proie_vivant",
          "grecquer",
          "rien",
          "mot_latin",
          "hellènes",
          "ionien",
          "latiniste",
          "là",
          "nourrir",
          "affamer",
          "verbe_latin",
          "oublier",
          "étymologie",
          "nouriture",
          "falloir",
          "gréco-",
          "quand",
          "nourriture_sain",
          "vivres",
          "grecs",
          "latin_médiéval",
          "jamais",
          "grammairien",
          "ve_siècle_av_jésus-christ",
          "pâtée",
          "aliment",
          "manger",
          "grecque",
          "nourriture",
          "racine_grec"
         ],
         "textposition": "top center",
         "type": "scatter3d",
         "x": [
          24.914825439453125,
          11.466614723205566,
          66.63288116455078,
          0.8099113702774048,
          -27.425779342651367,
          13.219781875610352,
          25.553544998168945,
          26.500171661376953,
          -7.473560810089111,
          -5.815185546875,
          -22.853084564208984,
          10.796454429626465,
          -12.65760326385498,
          1.417694330215454,
          1.0795148611068726,
          16.716209411621094,
          60.30986404418945,
          -8.795042991638184,
          32.32085418701172,
          -1.9665096998214722,
          -6.0732879638671875,
          -58.61981964111328,
          -22.216190338134766,
          -28.192222595214844,
          25.65496826171875,
          -28.204614639282227,
          -15.4890718460083,
          1.1432799100875854,
          9.698627471923828,
          -15.025202751159668,
          3.0181031227111816,
          13.075213432312012,
          -48.99118423461914,
          38.45486831665039,
          -41.94397735595703,
          -43.62635040283203,
          -4.620420932769775,
          -56.53895950317383,
          29.55421257019043,
          -23.251991271972656,
          5.952891826629639,
          -32.08897018432617,
          3.7534937858581543
         ],
         "y": [
          13.074810028076172,
          -6.652823448181152,
          24.51958656311035,
          18.84544563293457,
          19.79108238220215,
          27.334829330444336,
          -35.54417419433594,
          47.608367919921875,
          1.0810238122940063,
          36.7609748840332,
          -39.726524353027344,
          40.82148361206055,
          -17.061246871948242,
          -18.602380752563477,
          -51.366065979003906,
          -85.59256744384766,
          43.688934326171875,
          -31.506542205810547,
          -12.48694133758545,
          -69.73372650146484,
          42.06760787963867,
          -5.5055646896362305,
          -19.708942413330078,
          -30.789188385009766,
          47.054927825927734,
          -4.592578887939453,
          1.646098017692566,
          67.29631042480469,
          -36.98024368286133,
          35.18471145629883,
          -16.014738082885742,
          -15.311676979064941,
          -36.57166290283203,
          -55.5327033996582,
          27.254186630249023,
          15.439135551452637,
          -11.016221046447754,
          36.00087356567383,
          -12.133312225341797,
          14.389643669128418,
          -52.91481018066406,
          -21.417743682861328,
          71.95344543457031
         ],
         "z": [
          57.30046081542969,
          23.753753662109375,
          2.057497501373291,
          44.055519104003906,
          -84.75516510009766,
          -35.03336715698242,
          43.32493591308594,
          -12.92430591583252,
          116.6778793334961,
          -43.12019729614258,
          12.86103343963623,
          -21.922151565551758,
          -32.23667526245117,
          -42.82963180541992,
          2.7590463161468506,
          -19.671762466430664,
          -1.7205193042755127,
          16.251209259033203,
          26.30742645263672,
          15.033211708068848,
          -9.8538818359375,
          -20.678987503051758,
          -53.8928337097168,
          33.97947692871094,
          9.520928382873535,
          68.47811889648438,
          -18.801769256591797,
          -24.063400268554688,
          25.25980567932129,
          6.2817583084106445,
          -19.769243240356445,
          82.62620544433594,
          -154.9073486328125,
          19.38909149169922,
          -38.557987213134766,
          40.00838851928711,
          29.3564453125,
          -1.5350044965744019,
          -25.21219825744629,
          4.005378723144531,
          -18.30769920349121,
          -10.980782508850098,
          26.09486198425293
         ]
        }
       ],
       "layout": {
        "height": 1000,
        "scene": {
         "xaxis": {
          "title": {
           "text": "Composante 1"
          }
         },
         "yaxis": {
          "title": {
           "text": "Composante 2"
          }
         },
         "zaxis": {
          "title": {
           "text": "Composante 3"
          }
         }
        },
        "showlegend": false,
        "template": {
         "data": {
          "bar": [
           {
            "error_x": {
             "color": "#2a3f5f"
            },
            "error_y": {
             "color": "#2a3f5f"
            },
            "marker": {
             "line": {
              "color": "#E5ECF6",
              "width": 0.5
             },
             "pattern": {
              "fillmode": "overlay",
              "size": 10,
              "solidity": 0.2
             }
            },
            "type": "bar"
           }
          ],
          "barpolar": [
           {
            "marker": {
             "line": {
              "color": "#E5ECF6",
              "width": 0.5
             },
             "pattern": {
              "fillmode": "overlay",
              "size": 10,
              "solidity": 0.2
             }
            },
            "type": "barpolar"
           }
          ],
          "carpet": [
           {
            "aaxis": {
             "endlinecolor": "#2a3f5f",
             "gridcolor": "white",
             "linecolor": "white",
             "minorgridcolor": "white",
             "startlinecolor": "#2a3f5f"
            },
            "baxis": {
             "endlinecolor": "#2a3f5f",
             "gridcolor": "white",
             "linecolor": "white",
             "minorgridcolor": "white",
             "startlinecolor": "#2a3f5f"
            },
            "type": "carpet"
           }
          ],
          "choropleth": [
           {
            "colorbar": {
             "outlinewidth": 0,
             "ticks": ""
            },
            "type": "choropleth"
           }
          ],
          "contour": [
           {
            "colorbar": {
             "outlinewidth": 0,
             "ticks": ""
            },
            "colorscale": [
             [
              0,
              "#0d0887"
             ],
             [
              0.1111111111111111,
              "#46039f"
             ],
             [
              0.2222222222222222,
              "#7201a8"
             ],
             [
              0.3333333333333333,
              "#9c179e"
             ],
             [
              0.4444444444444444,
              "#bd3786"
             ],
             [
              0.5555555555555556,
              "#d8576b"
             ],
             [
              0.6666666666666666,
              "#ed7953"
             ],
             [
              0.7777777777777778,
              "#fb9f3a"
             ],
             [
              0.8888888888888888,
              "#fdca26"
             ],
             [
              1,
              "#f0f921"
             ]
            ],
            "type": "contour"
           }
          ],
          "contourcarpet": [
           {
            "colorbar": {
             "outlinewidth": 0,
             "ticks": ""
            },
            "type": "contourcarpet"
           }
          ],
          "heatmap": [
           {
            "colorbar": {
             "outlinewidth": 0,
             "ticks": ""
            },
            "colorscale": [
             [
              0,
              "#0d0887"
             ],
             [
              0.1111111111111111,
              "#46039f"
             ],
             [
              0.2222222222222222,
              "#7201a8"
             ],
             [
              0.3333333333333333,
              "#9c179e"
             ],
             [
              0.4444444444444444,
              "#bd3786"
             ],
             [
              0.5555555555555556,
              "#d8576b"
             ],
             [
              0.6666666666666666,
              "#ed7953"
             ],
             [
              0.7777777777777778,
              "#fb9f3a"
             ],
             [
              0.8888888888888888,
              "#fdca26"
             ],
             [
              1,
              "#f0f921"
             ]
            ],
            "type": "heatmap"
           }
          ],
          "heatmapgl": [
           {
            "colorbar": {
             "outlinewidth": 0,
             "ticks": ""
            },
            "colorscale": [
             [
              0,
              "#0d0887"
             ],
             [
              0.1111111111111111,
              "#46039f"
             ],
             [
              0.2222222222222222,
              "#7201a8"
             ],
             [
              0.3333333333333333,
              "#9c179e"
             ],
             [
              0.4444444444444444,
              "#bd3786"
             ],
             [
              0.5555555555555556,
              "#d8576b"
             ],
             [
              0.6666666666666666,
              "#ed7953"
             ],
             [
              0.7777777777777778,
              "#fb9f3a"
             ],
             [
              0.8888888888888888,
              "#fdca26"
             ],
             [
              1,
              "#f0f921"
             ]
            ],
            "type": "heatmapgl"
           }
          ],
          "histogram": [
           {
            "marker": {
             "pattern": {
              "fillmode": "overlay",
              "size": 10,
              "solidity": 0.2
             }
            },
            "type": "histogram"
           }
          ],
          "histogram2d": [
           {
            "colorbar": {
             "outlinewidth": 0,
             "ticks": ""
            },
            "colorscale": [
             [
              0,
              "#0d0887"
             ],
             [
              0.1111111111111111,
              "#46039f"
             ],
             [
              0.2222222222222222,
              "#7201a8"
             ],
             [
              0.3333333333333333,
              "#9c179e"
             ],
             [
              0.4444444444444444,
              "#bd3786"
             ],
             [
              0.5555555555555556,
              "#d8576b"
             ],
             [
              0.6666666666666666,
              "#ed7953"
             ],
             [
              0.7777777777777778,
              "#fb9f3a"
             ],
             [
              0.8888888888888888,
              "#fdca26"
             ],
             [
              1,
              "#f0f921"
             ]
            ],
            "type": "histogram2d"
           }
          ],
          "histogram2dcontour": [
           {
            "colorbar": {
             "outlinewidth": 0,
             "ticks": ""
            },
            "colorscale": [
             [
              0,
              "#0d0887"
             ],
             [
              0.1111111111111111,
              "#46039f"
             ],
             [
              0.2222222222222222,
              "#7201a8"
             ],
             [
              0.3333333333333333,
              "#9c179e"
             ],
             [
              0.4444444444444444,
              "#bd3786"
             ],
             [
              0.5555555555555556,
              "#d8576b"
             ],
             [
              0.6666666666666666,
              "#ed7953"
             ],
             [
              0.7777777777777778,
              "#fb9f3a"
             ],
             [
              0.8888888888888888,
              "#fdca26"
             ],
             [
              1,
              "#f0f921"
             ]
            ],
            "type": "histogram2dcontour"
           }
          ],
          "mesh3d": [
           {
            "colorbar": {
             "outlinewidth": 0,
             "ticks": ""
            },
            "type": "mesh3d"
           }
          ],
          "parcoords": [
           {
            "line": {
             "colorbar": {
              "outlinewidth": 0,
              "ticks": ""
             }
            },
            "type": "parcoords"
           }
          ],
          "pie": [
           {
            "automargin": true,
            "type": "pie"
           }
          ],
          "scatter": [
           {
            "fillpattern": {
             "fillmode": "overlay",
             "size": 10,
             "solidity": 0.2
            },
            "type": "scatter"
           }
          ],
          "scatter3d": [
           {
            "line": {
             "colorbar": {
              "outlinewidth": 0,
              "ticks": ""
             }
            },
            "marker": {
             "colorbar": {
              "outlinewidth": 0,
              "ticks": ""
             }
            },
            "type": "scatter3d"
           }
          ],
          "scattercarpet": [
           {
            "marker": {
             "colorbar": {
              "outlinewidth": 0,
              "ticks": ""
             }
            },
            "type": "scattercarpet"
           }
          ],
          "scattergeo": [
           {
            "marker": {
             "colorbar": {
              "outlinewidth": 0,
              "ticks": ""
             }
            },
            "type": "scattergeo"
           }
          ],
          "scattergl": [
           {
            "marker": {
             "colorbar": {
              "outlinewidth": 0,
              "ticks": ""
             }
            },
            "type": "scattergl"
           }
          ],
          "scattermapbox": [
           {
            "marker": {
             "colorbar": {
              "outlinewidth": 0,
              "ticks": ""
             }
            },
            "type": "scattermapbox"
           }
          ],
          "scatterpolar": [
           {
            "marker": {
             "colorbar": {
              "outlinewidth": 0,
              "ticks": ""
             }
            },
            "type": "scatterpolar"
           }
          ],
          "scatterpolargl": [
           {
            "marker": {
             "colorbar": {
              "outlinewidth": 0,
              "ticks": ""
             }
            },
            "type": "scatterpolargl"
           }
          ],
          "scatterternary": [
           {
            "marker": {
             "colorbar": {
              "outlinewidth": 0,
              "ticks": ""
             }
            },
            "type": "scatterternary"
           }
          ],
          "surface": [
           {
            "colorbar": {
             "outlinewidth": 0,
             "ticks": ""
            },
            "colorscale": [
             [
              0,
              "#0d0887"
             ],
             [
              0.1111111111111111,
              "#46039f"
             ],
             [
              0.2222222222222222,
              "#7201a8"
             ],
             [
              0.3333333333333333,
              "#9c179e"
             ],
             [
              0.4444444444444444,
              "#bd3786"
             ],
             [
              0.5555555555555556,
              "#d8576b"
             ],
             [
              0.6666666666666666,
              "#ed7953"
             ],
             [
              0.7777777777777778,
              "#fb9f3a"
             ],
             [
              0.8888888888888888,
              "#fdca26"
             ],
             [
              1,
              "#f0f921"
             ]
            ],
            "type": "surface"
           }
          ],
          "table": [
           {
            "cells": {
             "fill": {
              "color": "#EBF0F8"
             },
             "line": {
              "color": "white"
             }
            },
            "header": {
             "fill": {
              "color": "#C8D4E3"
             },
             "line": {
              "color": "white"
             }
            },
            "type": "table"
           }
          ]
         },
         "layout": {
          "annotationdefaults": {
           "arrowcolor": "#2a3f5f",
           "arrowhead": 0,
           "arrowwidth": 1
          },
          "autotypenumbers": "strict",
          "coloraxis": {
           "colorbar": {
            "outlinewidth": 0,
            "ticks": ""
           }
          },
          "colorscale": {
           "diverging": [
            [
             0,
             "#8e0152"
            ],
            [
             0.1,
             "#c51b7d"
            ],
            [
             0.2,
             "#de77ae"
            ],
            [
             0.3,
             "#f1b6da"
            ],
            [
             0.4,
             "#fde0ef"
            ],
            [
             0.5,
             "#f7f7f7"
            ],
            [
             0.6,
             "#e6f5d0"
            ],
            [
             0.7,
             "#b8e186"
            ],
            [
             0.8,
             "#7fbc41"
            ],
            [
             0.9,
             "#4d9221"
            ],
            [
             1,
             "#276419"
            ]
           ],
           "sequential": [
            [
             0,
             "#0d0887"
            ],
            [
             0.1111111111111111,
             "#46039f"
            ],
            [
             0.2222222222222222,
             "#7201a8"
            ],
            [
             0.3333333333333333,
             "#9c179e"
            ],
            [
             0.4444444444444444,
             "#bd3786"
            ],
            [
             0.5555555555555556,
             "#d8576b"
            ],
            [
             0.6666666666666666,
             "#ed7953"
            ],
            [
             0.7777777777777778,
             "#fb9f3a"
            ],
            [
             0.8888888888888888,
             "#fdca26"
            ],
            [
             1,
             "#f0f921"
            ]
           ],
           "sequentialminus": [
            [
             0,
             "#0d0887"
            ],
            [
             0.1111111111111111,
             "#46039f"
            ],
            [
             0.2222222222222222,
             "#7201a8"
            ],
            [
             0.3333333333333333,
             "#9c179e"
            ],
            [
             0.4444444444444444,
             "#bd3786"
            ],
            [
             0.5555555555555556,
             "#d8576b"
            ],
            [
             0.6666666666666666,
             "#ed7953"
            ],
            [
             0.7777777777777778,
             "#fb9f3a"
            ],
            [
             0.8888888888888888,
             "#fdca26"
            ],
            [
             1,
             "#f0f921"
            ]
           ]
          },
          "colorway": [
           "#636efa",
           "#EF553B",
           "#00cc96",
           "#ab63fa",
           "#FFA15A",
           "#19d3f3",
           "#FF6692",
           "#B6E880",
           "#FF97FF",
           "#FECB52"
          ],
          "font": {
           "color": "#2a3f5f"
          },
          "geo": {
           "bgcolor": "white",
           "lakecolor": "white",
           "landcolor": "#E5ECF6",
           "showlakes": true,
           "showland": true,
           "subunitcolor": "white"
          },
          "hoverlabel": {
           "align": "left"
          },
          "hovermode": "closest",
          "mapbox": {
           "style": "light"
          },
          "paper_bgcolor": "white",
          "plot_bgcolor": "#E5ECF6",
          "polar": {
           "angularaxis": {
            "gridcolor": "white",
            "linecolor": "white",
            "ticks": ""
           },
           "bgcolor": "#E5ECF6",
           "radialaxis": {
            "gridcolor": "white",
            "linecolor": "white",
            "ticks": ""
           }
          },
          "scene": {
           "xaxis": {
            "backgroundcolor": "#E5ECF6",
            "gridcolor": "white",
            "gridwidth": 2,
            "linecolor": "white",
            "showbackground": true,
            "ticks": "",
            "zerolinecolor": "white"
           },
           "yaxis": {
            "backgroundcolor": "#E5ECF6",
            "gridcolor": "white",
            "gridwidth": 2,
            "linecolor": "white",
            "showbackground": true,
            "ticks": "",
            "zerolinecolor": "white"
           },
           "zaxis": {
            "backgroundcolor": "#E5ECF6",
            "gridcolor": "white",
            "gridwidth": 2,
            "linecolor": "white",
            "showbackground": true,
            "ticks": "",
            "zerolinecolor": "white"
           }
          },
          "shapedefaults": {
           "line": {
            "color": "#2a3f5f"
           }
          },
          "ternary": {
           "aaxis": {
            "gridcolor": "white",
            "linecolor": "white",
            "ticks": ""
           },
           "baxis": {
            "gridcolor": "white",
            "linecolor": "white",
            "ticks": ""
           },
           "bgcolor": "#E5ECF6",
           "caxis": {
            "gridcolor": "white",
            "linecolor": "white",
            "ticks": ""
           }
          },
          "title": {
           "x": 0.05
          },
          "xaxis": {
           "automargin": true,
           "gridcolor": "white",
           "linecolor": "white",
           "ticks": "",
           "title": {
            "standoff": 15
           },
           "zerolinecolor": "white",
           "zerolinewidth": 2
          },
          "yaxis": {
           "automargin": true,
           "gridcolor": "white",
           "linecolor": "white",
           "ticks": "",
           "title": {
            "standoff": 15
           },
           "zerolinecolor": "white",
           "zerolinewidth": 2
          }
         }
        },
        "title": {
         "text": "Projection 3D des voisins de grecque, latin, oublier, nourriture par TSNE"
        },
        "width": 1200
       }
      }
     },
     "metadata": {},
     "output_type": "display_data"
    },
    {
     "data": {
      "application/vnd.plotly.v1+json": {
       "config": {
        "plotlyServerURL": "https://plot.ly"
       },
       "data": [
        {
         "marker": {
          "color": "rgba(255, 0, 0, 0.8)",
          "size": 5
         },
         "mode": "markers+text",
         "text": [
          "langue_vulgaire",
          "iiie_siècle_av_jésus-christ",
          "latin",
          "latiniser",
          "grec",
          "pas",
          "hellénique",
          "toujours",
          "ne",
          "dire",
          "greque",
          "mais",
          "ration_quotidien",
          "proie_vivant",
          "grecquer",
          "rien",
          "mot_latin",
          "hellènes",
          "ionien",
          "latiniste",
          "là",
          "nourrir",
          "affamer",
          "verbe_latin",
          "oublier",
          "étymologie",
          "nouriture",
          "falloir",
          "gréco-",
          "quand",
          "nourriture_sain",
          "vivres",
          "grecs",
          "latin_médiéval",
          "jamais",
          "grammairien",
          "ve_siècle_av_jésus-christ",
          "pâtée",
          "aliment",
          "manger",
          "grecque",
          "nourriture",
          "racine_grec"
         ],
         "textposition": "top center",
         "type": "scatter3d",
         "x": [
          -30.348073959350586,
          -19.313037872314453,
          -46.62671661376953,
          -21.00568389892578,
          -34.8768424987793,
          61.0587272644043,
          -30.192310333251953,
          50.751808166503906,
          67.85997772216797,
          50.01517105102539,
          -18.627578735351562,
          58.95473861694336,
          -2.542019844055176,
          -10.621000289916992,
          -20.24921989440918,
          71.25511169433594,
          -32.5072135925293,
          -13.259258270263672,
          -27.610605239868164,
          -32.70845413208008,
          49.72137451171875,
          -10.20652961730957,
          -10.459506034851074,
          -19.907642364501953,
          61.79582977294922,
          -36.24907684326172,
          2.950686454772949,
          60.73740005493164,
          -19.494461059570312,
          40.06684494018555,
          -9.978923797607422,
          -11.642300605773926,
          -33.35824203491211,
          -28.74825096130371,
          60.5461311340332,
          -34.24859619140625,
          -18.849205017089844,
          -9.209027290344238,
          -10.320548057556152,
          19.124284744262695,
          -30.38449478149414,
          -10.490553855895996,
          -20.80259132385254
         ],
         "y": [
          -8.696433067321777,
          -4.341487884521484,
          -17.842870712280273,
          -4.927231788635254,
          -14.516751289367676,
          -5.191014289855957,
          -5.951550006866455,
          -3.2603471279144287,
          -6.56341552734375,
          -2.8175570964813232,
          -0.5268540382385254,
          -4.724977016448975,
          7.152716159820557,
          9.487289428710938,
          -4.719457149505615,
          -7.185608863830566,
          -11.829472541809082,
          -2.0368378162384033,
          -8.712029457092285,
          -7.169035911560059,
          -2.927541494369507,
          23.053163528442383,
          25.807933807373047,
          -4.7546515464782715,
          -4.740581512451172,
          -12.206595420837402,
          9.505722999572754,
          -4.62550687789917,
          -4.245529651641846,
          -1.2539054155349731,
          12.394774436950684,
          35.62387466430664,
          -10.061906814575195,
          -4.83024787902832,
          -4.802900314331055,
          -9.286258697509766,
          -3.34138560295105,
          20.065624237060547,
          24.230146408081055,
          2.9429075717926025,
          -6.915886402130127,
          29.177785873413086,
          -4.436118125915527
         ],
         "z": [
          14.083642959594727,
          -6.002608299255371,
          17.148359298706055,
          3.3364505767822266,
          -13.15869140625,
          0.19494809210300446,
          -21.639699935913086,
          0.2474975287914276,
          0.16867558658123016,
          0.22848746180534363,
          1.818498134613037,
          0.2057872861623764,
          0.46691545844078064,
          1.740702509880066,
          -9.540778160095215,
          0.1423572152853012,
          23.36014747619629,
          -0.21952436864376068,
          -15.378228187561035,
          -21.317922592163086,
          0.25050950050354004,
          2.0248467922210693,
          1.9580529928207397,
          8.34875774383545,
          0.14911001920700073,
          23.80785369873047,
          2.271239995956421,
          0.1579487919807434,
          -9.65896987915039,
          0.31477275490760803,
          0.015251381322741508,
          -1.4739097356796265,
          -21.93711280822754,
          12.700121879577637,
          0.160257950425148,
          14.852261543273926,
          -5.635563373565674,
          1.7885453701019287,
          1.865087628364563,
          0.41110891103744507,
          -18.2733097076416,
          1.5286356210708618,
          8.489699363708496
         ]
        }
       ],
       "layout": {
        "height": 1000,
        "scene": {
         "xaxis": {
          "title": {
           "text": "Composante 1"
          }
         },
         "yaxis": {
          "title": {
           "text": "Composante 2"
          }
         },
         "zaxis": {
          "title": {
           "text": "Composante 3"
          }
         }
        },
        "showlegend": false,
        "template": {
         "data": {
          "bar": [
           {
            "error_x": {
             "color": "#2a3f5f"
            },
            "error_y": {
             "color": "#2a3f5f"
            },
            "marker": {
             "line": {
              "color": "#E5ECF6",
              "width": 0.5
             },
             "pattern": {
              "fillmode": "overlay",
              "size": 10,
              "solidity": 0.2
             }
            },
            "type": "bar"
           }
          ],
          "barpolar": [
           {
            "marker": {
             "line": {
              "color": "#E5ECF6",
              "width": 0.5
             },
             "pattern": {
              "fillmode": "overlay",
              "size": 10,
              "solidity": 0.2
             }
            },
            "type": "barpolar"
           }
          ],
          "carpet": [
           {
            "aaxis": {
             "endlinecolor": "#2a3f5f",
             "gridcolor": "white",
             "linecolor": "white",
             "minorgridcolor": "white",
             "startlinecolor": "#2a3f5f"
            },
            "baxis": {
             "endlinecolor": "#2a3f5f",
             "gridcolor": "white",
             "linecolor": "white",
             "minorgridcolor": "white",
             "startlinecolor": "#2a3f5f"
            },
            "type": "carpet"
           }
          ],
          "choropleth": [
           {
            "colorbar": {
             "outlinewidth": 0,
             "ticks": ""
            },
            "type": "choropleth"
           }
          ],
          "contour": [
           {
            "colorbar": {
             "outlinewidth": 0,
             "ticks": ""
            },
            "colorscale": [
             [
              0,
              "#0d0887"
             ],
             [
              0.1111111111111111,
              "#46039f"
             ],
             [
              0.2222222222222222,
              "#7201a8"
             ],
             [
              0.3333333333333333,
              "#9c179e"
             ],
             [
              0.4444444444444444,
              "#bd3786"
             ],
             [
              0.5555555555555556,
              "#d8576b"
             ],
             [
              0.6666666666666666,
              "#ed7953"
             ],
             [
              0.7777777777777778,
              "#fb9f3a"
             ],
             [
              0.8888888888888888,
              "#fdca26"
             ],
             [
              1,
              "#f0f921"
             ]
            ],
            "type": "contour"
           }
          ],
          "contourcarpet": [
           {
            "colorbar": {
             "outlinewidth": 0,
             "ticks": ""
            },
            "type": "contourcarpet"
           }
          ],
          "heatmap": [
           {
            "colorbar": {
             "outlinewidth": 0,
             "ticks": ""
            },
            "colorscale": [
             [
              0,
              "#0d0887"
             ],
             [
              0.1111111111111111,
              "#46039f"
             ],
             [
              0.2222222222222222,
              "#7201a8"
             ],
             [
              0.3333333333333333,
              "#9c179e"
             ],
             [
              0.4444444444444444,
              "#bd3786"
             ],
             [
              0.5555555555555556,
              "#d8576b"
             ],
             [
              0.6666666666666666,
              "#ed7953"
             ],
             [
              0.7777777777777778,
              "#fb9f3a"
             ],
             [
              0.8888888888888888,
              "#fdca26"
             ],
             [
              1,
              "#f0f921"
             ]
            ],
            "type": "heatmap"
           }
          ],
          "heatmapgl": [
           {
            "colorbar": {
             "outlinewidth": 0,
             "ticks": ""
            },
            "colorscale": [
             [
              0,
              "#0d0887"
             ],
             [
              0.1111111111111111,
              "#46039f"
             ],
             [
              0.2222222222222222,
              "#7201a8"
             ],
             [
              0.3333333333333333,
              "#9c179e"
             ],
             [
              0.4444444444444444,
              "#bd3786"
             ],
             [
              0.5555555555555556,
              "#d8576b"
             ],
             [
              0.6666666666666666,
              "#ed7953"
             ],
             [
              0.7777777777777778,
              "#fb9f3a"
             ],
             [
              0.8888888888888888,
              "#fdca26"
             ],
             [
              1,
              "#f0f921"
             ]
            ],
            "type": "heatmapgl"
           }
          ],
          "histogram": [
           {
            "marker": {
             "pattern": {
              "fillmode": "overlay",
              "size": 10,
              "solidity": 0.2
             }
            },
            "type": "histogram"
           }
          ],
          "histogram2d": [
           {
            "colorbar": {
             "outlinewidth": 0,
             "ticks": ""
            },
            "colorscale": [
             [
              0,
              "#0d0887"
             ],
             [
              0.1111111111111111,
              "#46039f"
             ],
             [
              0.2222222222222222,
              "#7201a8"
             ],
             [
              0.3333333333333333,
              "#9c179e"
             ],
             [
              0.4444444444444444,
              "#bd3786"
             ],
             [
              0.5555555555555556,
              "#d8576b"
             ],
             [
              0.6666666666666666,
              "#ed7953"
             ],
             [
              0.7777777777777778,
              "#fb9f3a"
             ],
             [
              0.8888888888888888,
              "#fdca26"
             ],
             [
              1,
              "#f0f921"
             ]
            ],
            "type": "histogram2d"
           }
          ],
          "histogram2dcontour": [
           {
            "colorbar": {
             "outlinewidth": 0,
             "ticks": ""
            },
            "colorscale": [
             [
              0,
              "#0d0887"
             ],
             [
              0.1111111111111111,
              "#46039f"
             ],
             [
              0.2222222222222222,
              "#7201a8"
             ],
             [
              0.3333333333333333,
              "#9c179e"
             ],
             [
              0.4444444444444444,
              "#bd3786"
             ],
             [
              0.5555555555555556,
              "#d8576b"
             ],
             [
              0.6666666666666666,
              "#ed7953"
             ],
             [
              0.7777777777777778,
              "#fb9f3a"
             ],
             [
              0.8888888888888888,
              "#fdca26"
             ],
             [
              1,
              "#f0f921"
             ]
            ],
            "type": "histogram2dcontour"
           }
          ],
          "mesh3d": [
           {
            "colorbar": {
             "outlinewidth": 0,
             "ticks": ""
            },
            "type": "mesh3d"
           }
          ],
          "parcoords": [
           {
            "line": {
             "colorbar": {
              "outlinewidth": 0,
              "ticks": ""
             }
            },
            "type": "parcoords"
           }
          ],
          "pie": [
           {
            "automargin": true,
            "type": "pie"
           }
          ],
          "scatter": [
           {
            "fillpattern": {
             "fillmode": "overlay",
             "size": 10,
             "solidity": 0.2
            },
            "type": "scatter"
           }
          ],
          "scatter3d": [
           {
            "line": {
             "colorbar": {
              "outlinewidth": 0,
              "ticks": ""
             }
            },
            "marker": {
             "colorbar": {
              "outlinewidth": 0,
              "ticks": ""
             }
            },
            "type": "scatter3d"
           }
          ],
          "scattercarpet": [
           {
            "marker": {
             "colorbar": {
              "outlinewidth": 0,
              "ticks": ""
             }
            },
            "type": "scattercarpet"
           }
          ],
          "scattergeo": [
           {
            "marker": {
             "colorbar": {
              "outlinewidth": 0,
              "ticks": ""
             }
            },
            "type": "scattergeo"
           }
          ],
          "scattergl": [
           {
            "marker": {
             "colorbar": {
              "outlinewidth": 0,
              "ticks": ""
             }
            },
            "type": "scattergl"
           }
          ],
          "scattermapbox": [
           {
            "marker": {
             "colorbar": {
              "outlinewidth": 0,
              "ticks": ""
             }
            },
            "type": "scattermapbox"
           }
          ],
          "scatterpolar": [
           {
            "marker": {
             "colorbar": {
              "outlinewidth": 0,
              "ticks": ""
             }
            },
            "type": "scatterpolar"
           }
          ],
          "scatterpolargl": [
           {
            "marker": {
             "colorbar": {
              "outlinewidth": 0,
              "ticks": ""
             }
            },
            "type": "scatterpolargl"
           }
          ],
          "scatterternary": [
           {
            "marker": {
             "colorbar": {
              "outlinewidth": 0,
              "ticks": ""
             }
            },
            "type": "scatterternary"
           }
          ],
          "surface": [
           {
            "colorbar": {
             "outlinewidth": 0,
             "ticks": ""
            },
            "colorscale": [
             [
              0,
              "#0d0887"
             ],
             [
              0.1111111111111111,
              "#46039f"
             ],
             [
              0.2222222222222222,
              "#7201a8"
             ],
             [
              0.3333333333333333,
              "#9c179e"
             ],
             [
              0.4444444444444444,
              "#bd3786"
             ],
             [
              0.5555555555555556,
              "#d8576b"
             ],
             [
              0.6666666666666666,
              "#ed7953"
             ],
             [
              0.7777777777777778,
              "#fb9f3a"
             ],
             [
              0.8888888888888888,
              "#fdca26"
             ],
             [
              1,
              "#f0f921"
             ]
            ],
            "type": "surface"
           }
          ],
          "table": [
           {
            "cells": {
             "fill": {
              "color": "#EBF0F8"
             },
             "line": {
              "color": "white"
             }
            },
            "header": {
             "fill": {
              "color": "#C8D4E3"
             },
             "line": {
              "color": "white"
             }
            },
            "type": "table"
           }
          ]
         },
         "layout": {
          "annotationdefaults": {
           "arrowcolor": "#2a3f5f",
           "arrowhead": 0,
           "arrowwidth": 1
          },
          "autotypenumbers": "strict",
          "coloraxis": {
           "colorbar": {
            "outlinewidth": 0,
            "ticks": ""
           }
          },
          "colorscale": {
           "diverging": [
            [
             0,
             "#8e0152"
            ],
            [
             0.1,
             "#c51b7d"
            ],
            [
             0.2,
             "#de77ae"
            ],
            [
             0.3,
             "#f1b6da"
            ],
            [
             0.4,
             "#fde0ef"
            ],
            [
             0.5,
             "#f7f7f7"
            ],
            [
             0.6,
             "#e6f5d0"
            ],
            [
             0.7,
             "#b8e186"
            ],
            [
             0.8,
             "#7fbc41"
            ],
            [
             0.9,
             "#4d9221"
            ],
            [
             1,
             "#276419"
            ]
           ],
           "sequential": [
            [
             0,
             "#0d0887"
            ],
            [
             0.1111111111111111,
             "#46039f"
            ],
            [
             0.2222222222222222,
             "#7201a8"
            ],
            [
             0.3333333333333333,
             "#9c179e"
            ],
            [
             0.4444444444444444,
             "#bd3786"
            ],
            [
             0.5555555555555556,
             "#d8576b"
            ],
            [
             0.6666666666666666,
             "#ed7953"
            ],
            [
             0.7777777777777778,
             "#fb9f3a"
            ],
            [
             0.8888888888888888,
             "#fdca26"
            ],
            [
             1,
             "#f0f921"
            ]
           ],
           "sequentialminus": [
            [
             0,
             "#0d0887"
            ],
            [
             0.1111111111111111,
             "#46039f"
            ],
            [
             0.2222222222222222,
             "#7201a8"
            ],
            [
             0.3333333333333333,
             "#9c179e"
            ],
            [
             0.4444444444444444,
             "#bd3786"
            ],
            [
             0.5555555555555556,
             "#d8576b"
            ],
            [
             0.6666666666666666,
             "#ed7953"
            ],
            [
             0.7777777777777778,
             "#fb9f3a"
            ],
            [
             0.8888888888888888,
             "#fdca26"
            ],
            [
             1,
             "#f0f921"
            ]
           ]
          },
          "colorway": [
           "#636efa",
           "#EF553B",
           "#00cc96",
           "#ab63fa",
           "#FFA15A",
           "#19d3f3",
           "#FF6692",
           "#B6E880",
           "#FF97FF",
           "#FECB52"
          ],
          "font": {
           "color": "#2a3f5f"
          },
          "geo": {
           "bgcolor": "white",
           "lakecolor": "white",
           "landcolor": "#E5ECF6",
           "showlakes": true,
           "showland": true,
           "subunitcolor": "white"
          },
          "hoverlabel": {
           "align": "left"
          },
          "hovermode": "closest",
          "mapbox": {
           "style": "light"
          },
          "paper_bgcolor": "white",
          "plot_bgcolor": "#E5ECF6",
          "polar": {
           "angularaxis": {
            "gridcolor": "white",
            "linecolor": "white",
            "ticks": ""
           },
           "bgcolor": "#E5ECF6",
           "radialaxis": {
            "gridcolor": "white",
            "linecolor": "white",
            "ticks": ""
           }
          },
          "scene": {
           "xaxis": {
            "backgroundcolor": "#E5ECF6",
            "gridcolor": "white",
            "gridwidth": 2,
            "linecolor": "white",
            "showbackground": true,
            "ticks": "",
            "zerolinecolor": "white"
           },
           "yaxis": {
            "backgroundcolor": "#E5ECF6",
            "gridcolor": "white",
            "gridwidth": 2,
            "linecolor": "white",
            "showbackground": true,
            "ticks": "",
            "zerolinecolor": "white"
           },
           "zaxis": {
            "backgroundcolor": "#E5ECF6",
            "gridcolor": "white",
            "gridwidth": 2,
            "linecolor": "white",
            "showbackground": true,
            "ticks": "",
            "zerolinecolor": "white"
           }
          },
          "shapedefaults": {
           "line": {
            "color": "#2a3f5f"
           }
          },
          "ternary": {
           "aaxis": {
            "gridcolor": "white",
            "linecolor": "white",
            "ticks": ""
           },
           "baxis": {
            "gridcolor": "white",
            "linecolor": "white",
            "ticks": ""
           },
           "bgcolor": "#E5ECF6",
           "caxis": {
            "gridcolor": "white",
            "linecolor": "white",
            "ticks": ""
           }
          },
          "title": {
           "x": 0.05
          },
          "xaxis": {
           "automargin": true,
           "gridcolor": "white",
           "linecolor": "white",
           "ticks": "",
           "title": {
            "standoff": 15
           },
           "zerolinecolor": "white",
           "zerolinewidth": 2
          },
          "yaxis": {
           "automargin": true,
           "gridcolor": "white",
           "linecolor": "white",
           "ticks": "",
           "title": {
            "standoff": 15
           },
           "zerolinecolor": "white",
           "zerolinewidth": 2
          }
         }
        },
        "title": {
         "text": "Projection 3D des voisins de grecque, latin, oublier, nourriture par ISOMAP"
        },
        "width": 1200
       }
      }
     },
     "metadata": {},
     "output_type": "display_data"
    },
    {
     "name": "stderr",
     "output_type": "stream",
     "text": [
      "c:\\Users\\Julien\\miniconda3\\envs\\PCD\\Lib\\site-packages\\umap\\umap_.py:1952: UserWarning:\n",
      "\n",
      "n_jobs value 1 overridden to 1 by setting random_state. Use no seed for parallelism.\n",
      "\n"
     ]
    },
    {
     "data": {
      "application/vnd.plotly.v1+json": {
       "config": {
        "plotlyServerURL": "https://plot.ly"
       },
       "data": [
        {
         "marker": {
          "color": "rgba(255, 0, 0, 0.8)",
          "size": 5
         },
         "mode": "markers+text",
         "text": [
          "langue_vulgaire",
          "iiie_siècle_av_jésus-christ",
          "latin",
          "latiniser",
          "grec",
          "pas",
          "hellénique",
          "toujours",
          "ne",
          "dire",
          "greque",
          "mais",
          "ration_quotidien",
          "proie_vivant",
          "grecquer",
          "rien",
          "mot_latin",
          "hellènes",
          "ionien",
          "latiniste",
          "là",
          "nourrir",
          "affamer",
          "verbe_latin",
          "oublier",
          "étymologie",
          "nouriture",
          "falloir",
          "gréco-",
          "quand",
          "nourriture_sain",
          "vivres",
          "grecs",
          "latin_médiéval",
          "jamais",
          "grammairien",
          "ve_siècle_av_jésus-christ",
          "pâtée",
          "aliment",
          "manger",
          "grecque",
          "nourriture",
          "racine_grec"
         ],
         "textposition": "top center",
         "type": "scatter3d",
         "x": [
          13.227141380310059,
          13.161803245544434,
          12.644099235534668,
          13.336803436279297,
          12.846223831176758,
          2.488205671310425,
          13.361798286437988,
          1.8665462732315063,
          2.436004877090454,
          2.431994915008545,
          13.522987365722656,
          2.220492124557495,
          0.07715477794408798,
          -0.4349624812602997,
          14.064057350158691,
          2.3349406719207764,
          12.7911376953125,
          13.694625854492188,
          13.068253517150879,
          13.853296279907227,
          1.8752336502075195,
          -0.2541481852531433,
          -0.03615880757570267,
          13.418642044067383,
          1.688889741897583,
          12.919109344482422,
          -0.20631860196590424,
          2.6716108322143555,
          13.582491874694824,
          1.9518840312957764,
          0.17685629427433014,
          0.7287485599517822,
          12.941926956176758,
          13.371269226074219,
          1.9777241945266724,
          13.195021629333496,
          13.257309913635254,
          -0.5326922535896301,
          0.22484219074249268,
          1.787665605545044,
          14.21114444732666,
          0.5807015895843506,
          13.250768661499023
         ],
         "y": [
          0.4288499355316162,
          0.48330554366111755,
          -0.698512852191925,
          0.5854645371437073,
          -0.3694668114185333,
          0.1596640646457672,
          0.5808312892913818,
          0.30910107493400574,
          0.0780482068657875,
          0.7039541006088257,
          0.3909227252006531,
          0.4321906864643097,
          6.070096969604492,
          6.339910984039307,
          0.6490463018417358,
          -0.33519086241722107,
          -0.6005790829658508,
          0.16040301322937012,
          0.2381245642900467,
          0.8634489178657532,
          0.8433184623718262,
          6.670554161071777,
          6.389804363250732,
          -0.18492034077644348,
          0.08559148013591766,
          -0.554523766040802,
          5.920828819274902,
          0.03370954096317291,
          0.5447580218315125,
          1.2849704027175903,
          6.150107383728027,
          6.249740123748779,
          -0.2910504937171936,
          0.27112478017807007,
          -0.28066539764404297,
          0.560005784034729,
          0.6332929730415344,
          6.63133430480957,
          6.365139961242676,
          1.622008204460144,
          0.8590549826622009,
          6.0770392417907715,
          -0.4769185483455658
         ],
         "z": [
          5.8281025886535645,
          4.2139739990234375,
          4.907445430755615,
          5.426014423370361,
          3.8329055309295654,
          5.356518745422363,
          3.6504106521606445,
          5.591786861419678,
          5.298674583435059,
          5.2024335861206055,
          4.982922554016113,
          5.307074546813965,
          4.8706440925598145,
          4.864713668823242,
          4.263829708099365,
          5.689498424530029,
          5.178837299346924,
          4.604129791259766,
          3.7052505016326904,
          3.901745080947876,
          5.305572032928467,
          5.186087131500244,
          4.6698079109191895,
          5.363077640533447,
          5.834725379943848,
          5.344487190246582,
          4.632835388183594,
          5.406986713409424,
          3.8234124183654785,
          5.079579830169678,
          5.276797294616699,
          5.270712852478027,
          3.690504312515259,
          6.0054707527160645,
          5.86054801940918,
          6.086851596832275,
          4.564499855041504,
          4.8569135665893555,
          5.160573482513428,
          4.964899063110352,
          3.956988573074341,
          5.184013843536377,
          5.242472171783447
         ]
        }
       ],
       "layout": {
        "height": 1000,
        "scene": {
         "xaxis": {
          "title": {
           "text": "Composante 1"
          }
         },
         "yaxis": {
          "title": {
           "text": "Composante 2"
          }
         },
         "zaxis": {
          "title": {
           "text": "Composante 3"
          }
         }
        },
        "showlegend": false,
        "template": {
         "data": {
          "bar": [
           {
            "error_x": {
             "color": "#2a3f5f"
            },
            "error_y": {
             "color": "#2a3f5f"
            },
            "marker": {
             "line": {
              "color": "#E5ECF6",
              "width": 0.5
             },
             "pattern": {
              "fillmode": "overlay",
              "size": 10,
              "solidity": 0.2
             }
            },
            "type": "bar"
           }
          ],
          "barpolar": [
           {
            "marker": {
             "line": {
              "color": "#E5ECF6",
              "width": 0.5
             },
             "pattern": {
              "fillmode": "overlay",
              "size": 10,
              "solidity": 0.2
             }
            },
            "type": "barpolar"
           }
          ],
          "carpet": [
           {
            "aaxis": {
             "endlinecolor": "#2a3f5f",
             "gridcolor": "white",
             "linecolor": "white",
             "minorgridcolor": "white",
             "startlinecolor": "#2a3f5f"
            },
            "baxis": {
             "endlinecolor": "#2a3f5f",
             "gridcolor": "white",
             "linecolor": "white",
             "minorgridcolor": "white",
             "startlinecolor": "#2a3f5f"
            },
            "type": "carpet"
           }
          ],
          "choropleth": [
           {
            "colorbar": {
             "outlinewidth": 0,
             "ticks": ""
            },
            "type": "choropleth"
           }
          ],
          "contour": [
           {
            "colorbar": {
             "outlinewidth": 0,
             "ticks": ""
            },
            "colorscale": [
             [
              0,
              "#0d0887"
             ],
             [
              0.1111111111111111,
              "#46039f"
             ],
             [
              0.2222222222222222,
              "#7201a8"
             ],
             [
              0.3333333333333333,
              "#9c179e"
             ],
             [
              0.4444444444444444,
              "#bd3786"
             ],
             [
              0.5555555555555556,
              "#d8576b"
             ],
             [
              0.6666666666666666,
              "#ed7953"
             ],
             [
              0.7777777777777778,
              "#fb9f3a"
             ],
             [
              0.8888888888888888,
              "#fdca26"
             ],
             [
              1,
              "#f0f921"
             ]
            ],
            "type": "contour"
           }
          ],
          "contourcarpet": [
           {
            "colorbar": {
             "outlinewidth": 0,
             "ticks": ""
            },
            "type": "contourcarpet"
           }
          ],
          "heatmap": [
           {
            "colorbar": {
             "outlinewidth": 0,
             "ticks": ""
            },
            "colorscale": [
             [
              0,
              "#0d0887"
             ],
             [
              0.1111111111111111,
              "#46039f"
             ],
             [
              0.2222222222222222,
              "#7201a8"
             ],
             [
              0.3333333333333333,
              "#9c179e"
             ],
             [
              0.4444444444444444,
              "#bd3786"
             ],
             [
              0.5555555555555556,
              "#d8576b"
             ],
             [
              0.6666666666666666,
              "#ed7953"
             ],
             [
              0.7777777777777778,
              "#fb9f3a"
             ],
             [
              0.8888888888888888,
              "#fdca26"
             ],
             [
              1,
              "#f0f921"
             ]
            ],
            "type": "heatmap"
           }
          ],
          "heatmapgl": [
           {
            "colorbar": {
             "outlinewidth": 0,
             "ticks": ""
            },
            "colorscale": [
             [
              0,
              "#0d0887"
             ],
             [
              0.1111111111111111,
              "#46039f"
             ],
             [
              0.2222222222222222,
              "#7201a8"
             ],
             [
              0.3333333333333333,
              "#9c179e"
             ],
             [
              0.4444444444444444,
              "#bd3786"
             ],
             [
              0.5555555555555556,
              "#d8576b"
             ],
             [
              0.6666666666666666,
              "#ed7953"
             ],
             [
              0.7777777777777778,
              "#fb9f3a"
             ],
             [
              0.8888888888888888,
              "#fdca26"
             ],
             [
              1,
              "#f0f921"
             ]
            ],
            "type": "heatmapgl"
           }
          ],
          "histogram": [
           {
            "marker": {
             "pattern": {
              "fillmode": "overlay",
              "size": 10,
              "solidity": 0.2
             }
            },
            "type": "histogram"
           }
          ],
          "histogram2d": [
           {
            "colorbar": {
             "outlinewidth": 0,
             "ticks": ""
            },
            "colorscale": [
             [
              0,
              "#0d0887"
             ],
             [
              0.1111111111111111,
              "#46039f"
             ],
             [
              0.2222222222222222,
              "#7201a8"
             ],
             [
              0.3333333333333333,
              "#9c179e"
             ],
             [
              0.4444444444444444,
              "#bd3786"
             ],
             [
              0.5555555555555556,
              "#d8576b"
             ],
             [
              0.6666666666666666,
              "#ed7953"
             ],
             [
              0.7777777777777778,
              "#fb9f3a"
             ],
             [
              0.8888888888888888,
              "#fdca26"
             ],
             [
              1,
              "#f0f921"
             ]
            ],
            "type": "histogram2d"
           }
          ],
          "histogram2dcontour": [
           {
            "colorbar": {
             "outlinewidth": 0,
             "ticks": ""
            },
            "colorscale": [
             [
              0,
              "#0d0887"
             ],
             [
              0.1111111111111111,
              "#46039f"
             ],
             [
              0.2222222222222222,
              "#7201a8"
             ],
             [
              0.3333333333333333,
              "#9c179e"
             ],
             [
              0.4444444444444444,
              "#bd3786"
             ],
             [
              0.5555555555555556,
              "#d8576b"
             ],
             [
              0.6666666666666666,
              "#ed7953"
             ],
             [
              0.7777777777777778,
              "#fb9f3a"
             ],
             [
              0.8888888888888888,
              "#fdca26"
             ],
             [
              1,
              "#f0f921"
             ]
            ],
            "type": "histogram2dcontour"
           }
          ],
          "mesh3d": [
           {
            "colorbar": {
             "outlinewidth": 0,
             "ticks": ""
            },
            "type": "mesh3d"
           }
          ],
          "parcoords": [
           {
            "line": {
             "colorbar": {
              "outlinewidth": 0,
              "ticks": ""
             }
            },
            "type": "parcoords"
           }
          ],
          "pie": [
           {
            "automargin": true,
            "type": "pie"
           }
          ],
          "scatter": [
           {
            "fillpattern": {
             "fillmode": "overlay",
             "size": 10,
             "solidity": 0.2
            },
            "type": "scatter"
           }
          ],
          "scatter3d": [
           {
            "line": {
             "colorbar": {
              "outlinewidth": 0,
              "ticks": ""
             }
            },
            "marker": {
             "colorbar": {
              "outlinewidth": 0,
              "ticks": ""
             }
            },
            "type": "scatter3d"
           }
          ],
          "scattercarpet": [
           {
            "marker": {
             "colorbar": {
              "outlinewidth": 0,
              "ticks": ""
             }
            },
            "type": "scattercarpet"
           }
          ],
          "scattergeo": [
           {
            "marker": {
             "colorbar": {
              "outlinewidth": 0,
              "ticks": ""
             }
            },
            "type": "scattergeo"
           }
          ],
          "scattergl": [
           {
            "marker": {
             "colorbar": {
              "outlinewidth": 0,
              "ticks": ""
             }
            },
            "type": "scattergl"
           }
          ],
          "scattermapbox": [
           {
            "marker": {
             "colorbar": {
              "outlinewidth": 0,
              "ticks": ""
             }
            },
            "type": "scattermapbox"
           }
          ],
          "scatterpolar": [
           {
            "marker": {
             "colorbar": {
              "outlinewidth": 0,
              "ticks": ""
             }
            },
            "type": "scatterpolar"
           }
          ],
          "scatterpolargl": [
           {
            "marker": {
             "colorbar": {
              "outlinewidth": 0,
              "ticks": ""
             }
            },
            "type": "scatterpolargl"
           }
          ],
          "scatterternary": [
           {
            "marker": {
             "colorbar": {
              "outlinewidth": 0,
              "ticks": ""
             }
            },
            "type": "scatterternary"
           }
          ],
          "surface": [
           {
            "colorbar": {
             "outlinewidth": 0,
             "ticks": ""
            },
            "colorscale": [
             [
              0,
              "#0d0887"
             ],
             [
              0.1111111111111111,
              "#46039f"
             ],
             [
              0.2222222222222222,
              "#7201a8"
             ],
             [
              0.3333333333333333,
              "#9c179e"
             ],
             [
              0.4444444444444444,
              "#bd3786"
             ],
             [
              0.5555555555555556,
              "#d8576b"
             ],
             [
              0.6666666666666666,
              "#ed7953"
             ],
             [
              0.7777777777777778,
              "#fb9f3a"
             ],
             [
              0.8888888888888888,
              "#fdca26"
             ],
             [
              1,
              "#f0f921"
             ]
            ],
            "type": "surface"
           }
          ],
          "table": [
           {
            "cells": {
             "fill": {
              "color": "#EBF0F8"
             },
             "line": {
              "color": "white"
             }
            },
            "header": {
             "fill": {
              "color": "#C8D4E3"
             },
             "line": {
              "color": "white"
             }
            },
            "type": "table"
           }
          ]
         },
         "layout": {
          "annotationdefaults": {
           "arrowcolor": "#2a3f5f",
           "arrowhead": 0,
           "arrowwidth": 1
          },
          "autotypenumbers": "strict",
          "coloraxis": {
           "colorbar": {
            "outlinewidth": 0,
            "ticks": ""
           }
          },
          "colorscale": {
           "diverging": [
            [
             0,
             "#8e0152"
            ],
            [
             0.1,
             "#c51b7d"
            ],
            [
             0.2,
             "#de77ae"
            ],
            [
             0.3,
             "#f1b6da"
            ],
            [
             0.4,
             "#fde0ef"
            ],
            [
             0.5,
             "#f7f7f7"
            ],
            [
             0.6,
             "#e6f5d0"
            ],
            [
             0.7,
             "#b8e186"
            ],
            [
             0.8,
             "#7fbc41"
            ],
            [
             0.9,
             "#4d9221"
            ],
            [
             1,
             "#276419"
            ]
           ],
           "sequential": [
            [
             0,
             "#0d0887"
            ],
            [
             0.1111111111111111,
             "#46039f"
            ],
            [
             0.2222222222222222,
             "#7201a8"
            ],
            [
             0.3333333333333333,
             "#9c179e"
            ],
            [
             0.4444444444444444,
             "#bd3786"
            ],
            [
             0.5555555555555556,
             "#d8576b"
            ],
            [
             0.6666666666666666,
             "#ed7953"
            ],
            [
             0.7777777777777778,
             "#fb9f3a"
            ],
            [
             0.8888888888888888,
             "#fdca26"
            ],
            [
             1,
             "#f0f921"
            ]
           ],
           "sequentialminus": [
            [
             0,
             "#0d0887"
            ],
            [
             0.1111111111111111,
             "#46039f"
            ],
            [
             0.2222222222222222,
             "#7201a8"
            ],
            [
             0.3333333333333333,
             "#9c179e"
            ],
            [
             0.4444444444444444,
             "#bd3786"
            ],
            [
             0.5555555555555556,
             "#d8576b"
            ],
            [
             0.6666666666666666,
             "#ed7953"
            ],
            [
             0.7777777777777778,
             "#fb9f3a"
            ],
            [
             0.8888888888888888,
             "#fdca26"
            ],
            [
             1,
             "#f0f921"
            ]
           ]
          },
          "colorway": [
           "#636efa",
           "#EF553B",
           "#00cc96",
           "#ab63fa",
           "#FFA15A",
           "#19d3f3",
           "#FF6692",
           "#B6E880",
           "#FF97FF",
           "#FECB52"
          ],
          "font": {
           "color": "#2a3f5f"
          },
          "geo": {
           "bgcolor": "white",
           "lakecolor": "white",
           "landcolor": "#E5ECF6",
           "showlakes": true,
           "showland": true,
           "subunitcolor": "white"
          },
          "hoverlabel": {
           "align": "left"
          },
          "hovermode": "closest",
          "mapbox": {
           "style": "light"
          },
          "paper_bgcolor": "white",
          "plot_bgcolor": "#E5ECF6",
          "polar": {
           "angularaxis": {
            "gridcolor": "white",
            "linecolor": "white",
            "ticks": ""
           },
           "bgcolor": "#E5ECF6",
           "radialaxis": {
            "gridcolor": "white",
            "linecolor": "white",
            "ticks": ""
           }
          },
          "scene": {
           "xaxis": {
            "backgroundcolor": "#E5ECF6",
            "gridcolor": "white",
            "gridwidth": 2,
            "linecolor": "white",
            "showbackground": true,
            "ticks": "",
            "zerolinecolor": "white"
           },
           "yaxis": {
            "backgroundcolor": "#E5ECF6",
            "gridcolor": "white",
            "gridwidth": 2,
            "linecolor": "white",
            "showbackground": true,
            "ticks": "",
            "zerolinecolor": "white"
           },
           "zaxis": {
            "backgroundcolor": "#E5ECF6",
            "gridcolor": "white",
            "gridwidth": 2,
            "linecolor": "white",
            "showbackground": true,
            "ticks": "",
            "zerolinecolor": "white"
           }
          },
          "shapedefaults": {
           "line": {
            "color": "#2a3f5f"
           }
          },
          "ternary": {
           "aaxis": {
            "gridcolor": "white",
            "linecolor": "white",
            "ticks": ""
           },
           "baxis": {
            "gridcolor": "white",
            "linecolor": "white",
            "ticks": ""
           },
           "bgcolor": "#E5ECF6",
           "caxis": {
            "gridcolor": "white",
            "linecolor": "white",
            "ticks": ""
           }
          },
          "title": {
           "x": 0.05
          },
          "xaxis": {
           "automargin": true,
           "gridcolor": "white",
           "linecolor": "white",
           "ticks": "",
           "title": {
            "standoff": 15
           },
           "zerolinecolor": "white",
           "zerolinewidth": 2
          },
          "yaxis": {
           "automargin": true,
           "gridcolor": "white",
           "linecolor": "white",
           "ticks": "",
           "title": {
            "standoff": 15
           },
           "zerolinecolor": "white",
           "zerolinewidth": 2
          }
         }
        },
        "title": {
         "text": "Projection 3D des voisins de grecque, latin, oublier, nourriture par UMAP"
        },
        "width": 1200
       }
      }
     },
     "metadata": {},
     "output_type": "display_data"
    },
    {
     "data": {
      "text/plain": [
       "['langue_vulgaire',\n",
       " 'iiie_siècle_av_jésus-christ',\n",
       " 'latin',\n",
       " 'latiniser',\n",
       " 'grec',\n",
       " 'pas',\n",
       " 'hellénique',\n",
       " 'toujours',\n",
       " 'ne',\n",
       " 'dire',\n",
       " 'greque',\n",
       " 'mais',\n",
       " 'ration_quotidien',\n",
       " 'proie_vivant',\n",
       " 'grecquer',\n",
       " 'rien',\n",
       " 'mot_latin',\n",
       " 'hellènes',\n",
       " 'ionien',\n",
       " 'latiniste',\n",
       " 'là',\n",
       " 'nourrir',\n",
       " 'affamer',\n",
       " 'verbe_latin',\n",
       " 'oublier',\n",
       " 'étymologie',\n",
       " 'nouriture',\n",
       " 'falloir',\n",
       " 'gréco-',\n",
       " 'quand',\n",
       " 'nourriture_sain',\n",
       " 'vivres',\n",
       " 'grecs',\n",
       " 'latin_médiéval',\n",
       " 'jamais',\n",
       " 'grammairien',\n",
       " 've_siècle_av_jésus-christ',\n",
       " 'pâtée',\n",
       " 'aliment',\n",
       " 'manger',\n",
       " 'grecque',\n",
       " 'nourriture',\n",
       " 'racine_grec']"
      ]
     },
     "execution_count": 52,
     "metadata": {},
     "output_type": "execute_result"
    }
   ],
   "source": [
    "# Question 4b\n",
    "display_dimred_neighbors(model, mots, n_components=3, topn=10, method='tsne', n_neighbors=3)\n",
    "display_dimred_neighbors(model, mots, n_components=3, topn=10, method='isomap', n_neighbors=3)\n",
    "display_dimred_neighbors(model, mots, n_components=3, topn=10, method='umap', n_neighbors=3)\n",
    "# Avec la méthode TSNE, on observe que les clusters sont très proches les uns des autres, même les mots dont la distance sémantique est grande.\n",
    "# Avec la méthode Isomap, on observe que les clusters sont plus éloignés les uns des autres, mais les mots 'latin' et 'grecque' sont plus proches l'un de l'autre. Nous observons\n",
    "# également un 'point' de contact entre les 3 mots.\n",
    "# Avec la méthode UMAP, on observe que les clusters sont plus éloignés les uns des autres, nous obtenons de vrais clusters distincts pour chaque mot."
   ]
  },
  {
   "cell_type": "code",
   "execution_count": 53,
   "id": "ff07e3ab",
   "metadata": {},
   "outputs": [
    {
     "name": "stderr",
     "output_type": "stream",
     "text": [
      "c:\\Users\\Julien\\miniconda3\\envs\\PCD\\Lib\\site-packages\\umap\\umap_.py:1952: UserWarning:\n",
      "\n",
      "n_jobs value 1 overridden to 1 by setting random_state. Use no seed for parallelism.\n",
      "\n"
     ]
    },
    {
     "data": {
      "application/vnd.plotly.v1+json": {
       "config": {
        "plotlyServerURL": "https://plot.ly"
       },
       "data": [
        {
         "marker": {
          "color": "rgba(255, 0, 0, 0.8)",
          "size": 5
         },
         "mode": "markers+text",
         "text": [
          "latins",
          "latin",
          "latiniser",
          "greque",
          "proie_vivant",
          "grecquer",
          "rien",
          "mot_latin",
          "caput",
          "excrément",
          "grecques",
          "là",
          "étymologie",
          "falloir",
          "ration_alimentaire",
          "quand",
          "lui",
          "ménandre",
          "latin_vulgaire",
          "nourriture",
          "nourriture_abondant",
          "régime_alimentaire",
          "iiie_siècle_av_jésus-christ",
          "etymologie",
          "toujours",
          "denrée",
          "juste",
          "hellénistique",
          "sinon",
          "hellènes",
          "origine_germanique",
          "vouloir",
          "époque_mycénien",
          "car",
          "nourrir",
          "oublier",
          "racine_indo-_européen",
          "dorien",
          "peut-être",
          "nouriture",
          "clitophon",
          "gréco-_latin",
          "latin_médiéval",
          "grammairien",
          "pâtée",
          "croire",
          "ration_journalier",
          "achille_tatius",
          "grec",
          "pas",
          "ne",
          "dire",
          "latin_grec",
          "ionien",
          "latiniste",
          "affamer",
          "verbe_latin",
          "gréco-",
          "vivres",
          "traduction_latin",
          "héraclée",
          "grecs",
          "aliment",
          "frugal",
          "ve_siècle_av_jésus-christ",
          "grecque",
          "racine_grec",
          "gaffiot",
          "langue_vulgaire",
          "heureusement",
          "perses",
          "poème_homérique",
          "hellénique",
          "ration_quotidien",
          "mais",
          "nourrissage",
          "tellement",
          "victuaille",
          "nourrir_exclusivement",
          "nourriture_sain",
          "penser",
          "jamais",
          "manger"
         ],
         "textposition": "top center",
         "type": "scatter3d",
         "x": [
          7.173137187957764,
          7.9599995613098145,
          7.744317531585693,
          7.348782539367676,
          6.684902667999268,
          7.107522487640381,
          -5.364495277404785,
          8.17394733428955,
          7.638230323791504,
          6.9249114990234375,
          7.605538845062256,
          -5.0173492431640625,
          8.272845268249512,
          -4.7070159912109375,
          7.513148784637451,
          -5.123054027557373,
          -5.144446849822998,
          7.3982439041137695,
          7.819728851318359,
          7.163156986236572,
          6.674001216888428,
          7.437723159790039,
          6.580508708953857,
          8.433903694152832,
          -5.271960735321045,
          7.275270938873291,
          -4.7433762550354,
          6.376522541046143,
          -4.5342020988464355,
          6.954524517059326,
          8.291587829589844,
          -4.986382484436035,
          7.038415431976318,
          -4.784403324127197,
          6.782538890838623,
          -5.244548320770264,
          8.416569709777832,
          6.1258111000061035,
          -4.634119987487793,
          7.339438438415527,
          7.788441181182861,
          6.750150680541992,
          7.825497150421143,
          7.4029541015625,
          6.898439884185791,
          -4.831445693969727,
          7.317780494689941,
          7.624316692352295,
          6.0589985847473145,
          -5.1816301345825195,
          -5.079344272613525,
          -4.932467460632324,
          7.970639705657959,
          6.188447952270508,
          7.9933857917785645,
          6.636067867279053,
          7.983809947967529,
          6.450605869293213,
          7.230842590332031,
          7.540605068206787,
          7.0571465492248535,
          5.881790637969971,
          7.609872817993164,
          7.2104644775390625,
          6.50209379196167,
          6.856645584106445,
          8.604768753051758,
          8.155752182006836,
          7.557353496551514,
          -5.044844627380371,
          6.782163619995117,
          6.748345375061035,
          6.125316143035889,
          6.946432590484619,
          -4.926989555358887,
          6.508882999420166,
          -5.299400329589844,
          7.284539222717285,
          6.772830009460449,
          7.525350093841553,
          -4.638019561767578,
          -5.4204511642456055,
          7.430276870727539
         ],
         "y": [
          13.09177017211914,
          12.298693656921387,
          12.887359619140625,
          13.52868938446045,
          14.967979431152344,
          13.147626876831055,
          8.40896224975586,
          12.425073623657227,
          12.999656677246094,
          15.095141410827637,
          13.443300247192383,
          8.66845989227295,
          12.530253410339355,
          8.763854026794434,
          14.918174743652344,
          8.699763298034668,
          8.296184539794922,
          13.01400089263916,
          13.431404113769531,
          15.30092716217041,
          15.01478385925293,
          14.998564720153809,
          12.98869514465332,
          12.721972465515137,
          8.833135604858398,
          15.206243515014648,
          8.87588119506836,
          12.828761100769043,
          8.727669715881348,
          13.540064811706543,
          13.108396530151367,
          8.140045166015625,
          13.011360168457031,
          8.384332656860352,
          15.618921279907227,
          8.95470905303955,
          13.129752159118652,
          12.72680950164795,
          8.171725273132324,
          15.659791946411133,
          13.149163246154785,
          12.639199256896973,
          12.503190994262695,
          12.430805206298828,
          15.058116912841797,
          8.060702323913574,
          14.832385063171387,
          13.528618812561035,
          12.408308029174805,
          8.533004760742188,
          8.327868461608887,
          7.992142677307129,
          13.253098487854004,
          12.574033737182617,
          12.789741516113281,
          15.469563484191895,
          13.00436019897461,
          12.984029769897461,
          15.53956127166748,
          13.204689025878906,
          13.1161470413208,
          12.489706993103027,
          14.952970504760742,
          15.76778507232666,
          13.303092956542969,
          13.15613079071045,
          12.864307403564453,
          12.889291763305664,
          12.558385848999023,
          9.05212116241455,
          13.400243759155273,
          12.689277648925781,
          12.813371658325195,
          15.378071784973145,
          8.297887802124023,
          14.934915542602539,
          8.827458381652832,
          15.805402755737305,
          15.316280364990234,
          15.379817008972168,
          8.123464584350586,
          8.693257331848145,
          16.027475357055664
         ],
         "z": [
          5.301458358764648,
          4.855003356933594,
          5.73962926864624,
          6.013003349304199,
          6.509944915771484,
          6.744462490081787,
          0.39744043350219727,
          4.905195236206055,
          5.043951034545898,
          6.330435276031494,
          6.176262855529785,
          0.5825096368789673,
          4.8335795402526855,
          0.1394243836402893,
          6.590876579284668,
          1.016284704208374,
          0.7587167620658875,
          6.463787078857422,
          5.517162322998047,
          6.317686080932617,
          6.006871700286865,
          6.743719577789307,
          6.571213245391846,
          5.049628257751465,
          0.2940426468849182,
          6.031369686126709,
          0.7665660381317139,
          6.763946533203125,
          0.30769848823547363,
          5.856588363647461,
          5.311002731323242,
          0.7545257210731506,
          6.175928115844727,
          0.10356154292821884,
          6.836385250091553,
          0.1598731428384781,
          5.062275409698486,
          6.4868927001953125,
          0.4414578378200531,
          5.904325485229492,
          6.443753242492676,
          5.602968692779541,
          5.278833866119385,
          5.397282600402832,
          6.7101898193359375,
          0.8595037460327148,
          6.218267917633057,
          6.464540004730225,
          6.0054240226745605,
          -0.1012224480509758,
          -0.021214380860328674,
          0.9594526886940002,
          5.999319076538086,
          6.463770866394043,
          6.241579532623291,
          6.447653770446777,
          4.97080659866333,
          5.792868137359619,
          6.17755651473999,
          5.480362892150879,
          6.304443836212158,
          6.229265213012695,
          6.425332546234131,
          6.626225471496582,
          6.531384468078613,
          6.784068584442139,
          5.249246597290039,
          5.804541110992432,
          5.1616926193237305,
          0.60062575340271,
          6.049202919006348,
          6.288094997406006,
          6.13174295425415,
          6.066282272338867,
          0.2964175343513489,
          6.446329593658447,
          0.9742344617843628,
          6.747824668884277,
          6.760617733001709,
          6.247046947479248,
          0.6812648177146912,
          0.23061485588550568,
          6.350611686706543
         ]
        }
       ],
       "layout": {
        "height": 1000,
        "scene": {
         "xaxis": {
          "title": {
           "text": "Composante 1"
          }
         },
         "yaxis": {
          "title": {
           "text": "Composante 2"
          }
         },
         "zaxis": {
          "title": {
           "text": "Composante 3"
          }
         }
        },
        "showlegend": false,
        "template": {
         "data": {
          "bar": [
           {
            "error_x": {
             "color": "#2a3f5f"
            },
            "error_y": {
             "color": "#2a3f5f"
            },
            "marker": {
             "line": {
              "color": "#E5ECF6",
              "width": 0.5
             },
             "pattern": {
              "fillmode": "overlay",
              "size": 10,
              "solidity": 0.2
             }
            },
            "type": "bar"
           }
          ],
          "barpolar": [
           {
            "marker": {
             "line": {
              "color": "#E5ECF6",
              "width": 0.5
             },
             "pattern": {
              "fillmode": "overlay",
              "size": 10,
              "solidity": 0.2
             }
            },
            "type": "barpolar"
           }
          ],
          "carpet": [
           {
            "aaxis": {
             "endlinecolor": "#2a3f5f",
             "gridcolor": "white",
             "linecolor": "white",
             "minorgridcolor": "white",
             "startlinecolor": "#2a3f5f"
            },
            "baxis": {
             "endlinecolor": "#2a3f5f",
             "gridcolor": "white",
             "linecolor": "white",
             "minorgridcolor": "white",
             "startlinecolor": "#2a3f5f"
            },
            "type": "carpet"
           }
          ],
          "choropleth": [
           {
            "colorbar": {
             "outlinewidth": 0,
             "ticks": ""
            },
            "type": "choropleth"
           }
          ],
          "contour": [
           {
            "colorbar": {
             "outlinewidth": 0,
             "ticks": ""
            },
            "colorscale": [
             [
              0,
              "#0d0887"
             ],
             [
              0.1111111111111111,
              "#46039f"
             ],
             [
              0.2222222222222222,
              "#7201a8"
             ],
             [
              0.3333333333333333,
              "#9c179e"
             ],
             [
              0.4444444444444444,
              "#bd3786"
             ],
             [
              0.5555555555555556,
              "#d8576b"
             ],
             [
              0.6666666666666666,
              "#ed7953"
             ],
             [
              0.7777777777777778,
              "#fb9f3a"
             ],
             [
              0.8888888888888888,
              "#fdca26"
             ],
             [
              1,
              "#f0f921"
             ]
            ],
            "type": "contour"
           }
          ],
          "contourcarpet": [
           {
            "colorbar": {
             "outlinewidth": 0,
             "ticks": ""
            },
            "type": "contourcarpet"
           }
          ],
          "heatmap": [
           {
            "colorbar": {
             "outlinewidth": 0,
             "ticks": ""
            },
            "colorscale": [
             [
              0,
              "#0d0887"
             ],
             [
              0.1111111111111111,
              "#46039f"
             ],
             [
              0.2222222222222222,
              "#7201a8"
             ],
             [
              0.3333333333333333,
              "#9c179e"
             ],
             [
              0.4444444444444444,
              "#bd3786"
             ],
             [
              0.5555555555555556,
              "#d8576b"
             ],
             [
              0.6666666666666666,
              "#ed7953"
             ],
             [
              0.7777777777777778,
              "#fb9f3a"
             ],
             [
              0.8888888888888888,
              "#fdca26"
             ],
             [
              1,
              "#f0f921"
             ]
            ],
            "type": "heatmap"
           }
          ],
          "heatmapgl": [
           {
            "colorbar": {
             "outlinewidth": 0,
             "ticks": ""
            },
            "colorscale": [
             [
              0,
              "#0d0887"
             ],
             [
              0.1111111111111111,
              "#46039f"
             ],
             [
              0.2222222222222222,
              "#7201a8"
             ],
             [
              0.3333333333333333,
              "#9c179e"
             ],
             [
              0.4444444444444444,
              "#bd3786"
             ],
             [
              0.5555555555555556,
              "#d8576b"
             ],
             [
              0.6666666666666666,
              "#ed7953"
             ],
             [
              0.7777777777777778,
              "#fb9f3a"
             ],
             [
              0.8888888888888888,
              "#fdca26"
             ],
             [
              1,
              "#f0f921"
             ]
            ],
            "type": "heatmapgl"
           }
          ],
          "histogram": [
           {
            "marker": {
             "pattern": {
              "fillmode": "overlay",
              "size": 10,
              "solidity": 0.2
             }
            },
            "type": "histogram"
           }
          ],
          "histogram2d": [
           {
            "colorbar": {
             "outlinewidth": 0,
             "ticks": ""
            },
            "colorscale": [
             [
              0,
              "#0d0887"
             ],
             [
              0.1111111111111111,
              "#46039f"
             ],
             [
              0.2222222222222222,
              "#7201a8"
             ],
             [
              0.3333333333333333,
              "#9c179e"
             ],
             [
              0.4444444444444444,
              "#bd3786"
             ],
             [
              0.5555555555555556,
              "#d8576b"
             ],
             [
              0.6666666666666666,
              "#ed7953"
             ],
             [
              0.7777777777777778,
              "#fb9f3a"
             ],
             [
              0.8888888888888888,
              "#fdca26"
             ],
             [
              1,
              "#f0f921"
             ]
            ],
            "type": "histogram2d"
           }
          ],
          "histogram2dcontour": [
           {
            "colorbar": {
             "outlinewidth": 0,
             "ticks": ""
            },
            "colorscale": [
             [
              0,
              "#0d0887"
             ],
             [
              0.1111111111111111,
              "#46039f"
             ],
             [
              0.2222222222222222,
              "#7201a8"
             ],
             [
              0.3333333333333333,
              "#9c179e"
             ],
             [
              0.4444444444444444,
              "#bd3786"
             ],
             [
              0.5555555555555556,
              "#d8576b"
             ],
             [
              0.6666666666666666,
              "#ed7953"
             ],
             [
              0.7777777777777778,
              "#fb9f3a"
             ],
             [
              0.8888888888888888,
              "#fdca26"
             ],
             [
              1,
              "#f0f921"
             ]
            ],
            "type": "histogram2dcontour"
           }
          ],
          "mesh3d": [
           {
            "colorbar": {
             "outlinewidth": 0,
             "ticks": ""
            },
            "type": "mesh3d"
           }
          ],
          "parcoords": [
           {
            "line": {
             "colorbar": {
              "outlinewidth": 0,
              "ticks": ""
             }
            },
            "type": "parcoords"
           }
          ],
          "pie": [
           {
            "automargin": true,
            "type": "pie"
           }
          ],
          "scatter": [
           {
            "fillpattern": {
             "fillmode": "overlay",
             "size": 10,
             "solidity": 0.2
            },
            "type": "scatter"
           }
          ],
          "scatter3d": [
           {
            "line": {
             "colorbar": {
              "outlinewidth": 0,
              "ticks": ""
             }
            },
            "marker": {
             "colorbar": {
              "outlinewidth": 0,
              "ticks": ""
             }
            },
            "type": "scatter3d"
           }
          ],
          "scattercarpet": [
           {
            "marker": {
             "colorbar": {
              "outlinewidth": 0,
              "ticks": ""
             }
            },
            "type": "scattercarpet"
           }
          ],
          "scattergeo": [
           {
            "marker": {
             "colorbar": {
              "outlinewidth": 0,
              "ticks": ""
             }
            },
            "type": "scattergeo"
           }
          ],
          "scattergl": [
           {
            "marker": {
             "colorbar": {
              "outlinewidth": 0,
              "ticks": ""
             }
            },
            "type": "scattergl"
           }
          ],
          "scattermapbox": [
           {
            "marker": {
             "colorbar": {
              "outlinewidth": 0,
              "ticks": ""
             }
            },
            "type": "scattermapbox"
           }
          ],
          "scatterpolar": [
           {
            "marker": {
             "colorbar": {
              "outlinewidth": 0,
              "ticks": ""
             }
            },
            "type": "scatterpolar"
           }
          ],
          "scatterpolargl": [
           {
            "marker": {
             "colorbar": {
              "outlinewidth": 0,
              "ticks": ""
             }
            },
            "type": "scatterpolargl"
           }
          ],
          "scatterternary": [
           {
            "marker": {
             "colorbar": {
              "outlinewidth": 0,
              "ticks": ""
             }
            },
            "type": "scatterternary"
           }
          ],
          "surface": [
           {
            "colorbar": {
             "outlinewidth": 0,
             "ticks": ""
            },
            "colorscale": [
             [
              0,
              "#0d0887"
             ],
             [
              0.1111111111111111,
              "#46039f"
             ],
             [
              0.2222222222222222,
              "#7201a8"
             ],
             [
              0.3333333333333333,
              "#9c179e"
             ],
             [
              0.4444444444444444,
              "#bd3786"
             ],
             [
              0.5555555555555556,
              "#d8576b"
             ],
             [
              0.6666666666666666,
              "#ed7953"
             ],
             [
              0.7777777777777778,
              "#fb9f3a"
             ],
             [
              0.8888888888888888,
              "#fdca26"
             ],
             [
              1,
              "#f0f921"
             ]
            ],
            "type": "surface"
           }
          ],
          "table": [
           {
            "cells": {
             "fill": {
              "color": "#EBF0F8"
             },
             "line": {
              "color": "white"
             }
            },
            "header": {
             "fill": {
              "color": "#C8D4E3"
             },
             "line": {
              "color": "white"
             }
            },
            "type": "table"
           }
          ]
         },
         "layout": {
          "annotationdefaults": {
           "arrowcolor": "#2a3f5f",
           "arrowhead": 0,
           "arrowwidth": 1
          },
          "autotypenumbers": "strict",
          "coloraxis": {
           "colorbar": {
            "outlinewidth": 0,
            "ticks": ""
           }
          },
          "colorscale": {
           "diverging": [
            [
             0,
             "#8e0152"
            ],
            [
             0.1,
             "#c51b7d"
            ],
            [
             0.2,
             "#de77ae"
            ],
            [
             0.3,
             "#f1b6da"
            ],
            [
             0.4,
             "#fde0ef"
            ],
            [
             0.5,
             "#f7f7f7"
            ],
            [
             0.6,
             "#e6f5d0"
            ],
            [
             0.7,
             "#b8e186"
            ],
            [
             0.8,
             "#7fbc41"
            ],
            [
             0.9,
             "#4d9221"
            ],
            [
             1,
             "#276419"
            ]
           ],
           "sequential": [
            [
             0,
             "#0d0887"
            ],
            [
             0.1111111111111111,
             "#46039f"
            ],
            [
             0.2222222222222222,
             "#7201a8"
            ],
            [
             0.3333333333333333,
             "#9c179e"
            ],
            [
             0.4444444444444444,
             "#bd3786"
            ],
            [
             0.5555555555555556,
             "#d8576b"
            ],
            [
             0.6666666666666666,
             "#ed7953"
            ],
            [
             0.7777777777777778,
             "#fb9f3a"
            ],
            [
             0.8888888888888888,
             "#fdca26"
            ],
            [
             1,
             "#f0f921"
            ]
           ],
           "sequentialminus": [
            [
             0,
             "#0d0887"
            ],
            [
             0.1111111111111111,
             "#46039f"
            ],
            [
             0.2222222222222222,
             "#7201a8"
            ],
            [
             0.3333333333333333,
             "#9c179e"
            ],
            [
             0.4444444444444444,
             "#bd3786"
            ],
            [
             0.5555555555555556,
             "#d8576b"
            ],
            [
             0.6666666666666666,
             "#ed7953"
            ],
            [
             0.7777777777777778,
             "#fb9f3a"
            ],
            [
             0.8888888888888888,
             "#fdca26"
            ],
            [
             1,
             "#f0f921"
            ]
           ]
          },
          "colorway": [
           "#636efa",
           "#EF553B",
           "#00cc96",
           "#ab63fa",
           "#FFA15A",
           "#19d3f3",
           "#FF6692",
           "#B6E880",
           "#FF97FF",
           "#FECB52"
          ],
          "font": {
           "color": "#2a3f5f"
          },
          "geo": {
           "bgcolor": "white",
           "lakecolor": "white",
           "landcolor": "#E5ECF6",
           "showlakes": true,
           "showland": true,
           "subunitcolor": "white"
          },
          "hoverlabel": {
           "align": "left"
          },
          "hovermode": "closest",
          "mapbox": {
           "style": "light"
          },
          "paper_bgcolor": "white",
          "plot_bgcolor": "#E5ECF6",
          "polar": {
           "angularaxis": {
            "gridcolor": "white",
            "linecolor": "white",
            "ticks": ""
           },
           "bgcolor": "#E5ECF6",
           "radialaxis": {
            "gridcolor": "white",
            "linecolor": "white",
            "ticks": ""
           }
          },
          "scene": {
           "xaxis": {
            "backgroundcolor": "#E5ECF6",
            "gridcolor": "white",
            "gridwidth": 2,
            "linecolor": "white",
            "showbackground": true,
            "ticks": "",
            "zerolinecolor": "white"
           },
           "yaxis": {
            "backgroundcolor": "#E5ECF6",
            "gridcolor": "white",
            "gridwidth": 2,
            "linecolor": "white",
            "showbackground": true,
            "ticks": "",
            "zerolinecolor": "white"
           },
           "zaxis": {
            "backgroundcolor": "#E5ECF6",
            "gridcolor": "white",
            "gridwidth": 2,
            "linecolor": "white",
            "showbackground": true,
            "ticks": "",
            "zerolinecolor": "white"
           }
          },
          "shapedefaults": {
           "line": {
            "color": "#2a3f5f"
           }
          },
          "ternary": {
           "aaxis": {
            "gridcolor": "white",
            "linecolor": "white",
            "ticks": ""
           },
           "baxis": {
            "gridcolor": "white",
            "linecolor": "white",
            "ticks": ""
           },
           "bgcolor": "#E5ECF6",
           "caxis": {
            "gridcolor": "white",
            "linecolor": "white",
            "ticks": ""
           }
          },
          "title": {
           "x": 0.05
          },
          "xaxis": {
           "automargin": true,
           "gridcolor": "white",
           "linecolor": "white",
           "ticks": "",
           "title": {
            "standoff": 15
           },
           "zerolinecolor": "white",
           "zerolinewidth": 2
          },
          "yaxis": {
           "automargin": true,
           "gridcolor": "white",
           "linecolor": "white",
           "ticks": "",
           "title": {
            "standoff": 15
           },
           "zerolinecolor": "white",
           "zerolinewidth": 2
          }
         }
        },
        "title": {
         "text": "Projection 3D des voisins de grecque, latin, oublier, nourriture par UMAP"
        },
        "width": 1200
       }
      }
     },
     "metadata": {},
     "output_type": "display_data"
    },
    {
     "data": {
      "text/plain": [
       "['latins',\n",
       " 'latin',\n",
       " 'latiniser',\n",
       " 'greque',\n",
       " 'proie_vivant',\n",
       " 'grecquer',\n",
       " 'rien',\n",
       " 'mot_latin',\n",
       " 'caput',\n",
       " 'excrément',\n",
       " 'grecques',\n",
       " 'là',\n",
       " 'étymologie',\n",
       " 'falloir',\n",
       " 'ration_alimentaire',\n",
       " 'quand',\n",
       " 'lui',\n",
       " 'ménandre',\n",
       " 'latin_vulgaire',\n",
       " 'nourriture',\n",
       " 'nourriture_abondant',\n",
       " 'régime_alimentaire',\n",
       " 'iiie_siècle_av_jésus-christ',\n",
       " 'etymologie',\n",
       " 'toujours',\n",
       " 'denrée',\n",
       " 'juste',\n",
       " 'hellénistique',\n",
       " 'sinon',\n",
       " 'hellènes',\n",
       " 'origine_germanique',\n",
       " 'vouloir',\n",
       " 'époque_mycénien',\n",
       " 'car',\n",
       " 'nourrir',\n",
       " 'oublier',\n",
       " 'racine_indo-_européen',\n",
       " 'dorien',\n",
       " 'peut-être',\n",
       " 'nouriture',\n",
       " 'clitophon',\n",
       " 'gréco-_latin',\n",
       " 'latin_médiéval',\n",
       " 'grammairien',\n",
       " 'pâtée',\n",
       " 'croire',\n",
       " 'ration_journalier',\n",
       " 'achille_tatius',\n",
       " 'grec',\n",
       " 'pas',\n",
       " 'ne',\n",
       " 'dire',\n",
       " 'latin_grec',\n",
       " 'ionien',\n",
       " 'latiniste',\n",
       " 'affamer',\n",
       " 'verbe_latin',\n",
       " 'gréco-',\n",
       " 'vivres',\n",
       " 'traduction_latin',\n",
       " 'héraclée',\n",
       " 'grecs',\n",
       " 'aliment',\n",
       " 'frugal',\n",
       " 've_siècle_av_jésus-christ',\n",
       " 'grecque',\n",
       " 'racine_grec',\n",
       " 'gaffiot',\n",
       " 'langue_vulgaire',\n",
       " 'heureusement',\n",
       " 'perses',\n",
       " 'poème_homérique',\n",
       " 'hellénique',\n",
       " 'ration_quotidien',\n",
       " 'mais',\n",
       " 'nourrissage',\n",
       " 'tellement',\n",
       " 'victuaille',\n",
       " 'nourrir_exclusivement',\n",
       " 'nourriture_sain',\n",
       " 'penser',\n",
       " 'jamais',\n",
       " 'manger']"
      ]
     },
     "execution_count": 53,
     "metadata": {},
     "output_type": "execute_result"
    }
   ],
   "source": [
    "# Question 4c\n",
    "display_dimred_neighbors(model, mots, n_components=3, topn=20, method='umap', n_neighbors=10)\n",
    "# obtenons un cluster plus grand pour les mots 'latin' et 'grecque' avec cette méthode. Nous pourrions considérer que celui ci forme deux sous cluster distincts.\n",
    "# Par exemple des noms d'auteurs et des concepts grammaticaux\n",
    "# "
   ]
  },
  {
   "cell_type": "markdown",
   "id": "6b7f9433",
   "metadata": {},
   "source": [
    "## 5. Outil d'assistance pour le jeu Cémantix\n",
    "\n",
    "Le jeu en ligne [Cémantix](https://cemantix.certitudes.org/) (aussi proposé sur le site [Dictaly](https://www.dictaly.com/semantiques/))  demande de deviner le *mot du jour* en l'approchant peu à peu par des mots candidats.  Pour chacun, le système indique pour sa similarité word2vec avec le *mot du jour*, ce qui permet de se rapprocher graduellement de la solution.  Expérimentez d'abord un court instant avec le jeu 😀.\n",
    "\n",
    "L'objectif de cette question est de visualiser les voisinages de mots, pour vous aider à proposer des mots candidats et trouver plus vite la solution.  La procédure est la suivante :\n",
    "* essayez trois mots au hasard dans Cémantix\n",
    "* affichez 20-30 mots voisins de ces trois mots grâce à la fonction `display_dimred_neighbors`\n",
    "* à l'aide des mots affichés, essayez des mots candidats dans Cémantix\n",
    "* changez l'affichage en remplaçant les trois mots par de meilleurs mots\n",
    "* continuez jusqu'à trouver le *mot du jour*\n",
    "\n",
    "**Notes**\n",
    "* si vous le souhaitez, vous pouvez utiliser le modèle word2vec identique à celui de Cémantix, qui est frWac_no_postag_phrase_500_cbow_cut10.bin fourni par [J.-Ph. Fauconnier](https://fauconnier.github.io/#data)\n",
    "* ce modèle fait environ 2.3 Go et contient aussi des expressions de plusieurs mots (séparés par '_')\n",
    "* vous pouvez choisir d'utiliser le petit ou le grand modèle, sachant qu'avec le premier, les suggestions sont moins pertinentes\n",
    "* Cémantix ignore les expressions de plusieurs mots présentes dans le grand modèle -- vous pouvez choisir de le faire ou non."
   ]
  },
  {
   "cell_type": "markdown",
   "id": "1f8589ce",
   "metadata": {},
   "source": []
  },
  {
   "cell_type": "code",
   "execution_count": 54,
   "id": "0acf3589",
   "metadata": {
    "scrolled": false
   },
   "outputs": [
    {
     "data": {
      "application/vnd.plotly.v1+json": {
       "config": {
        "plotlyServerURL": "https://plot.ly"
       },
       "data": [
        {
         "marker": {
          "color": "rgba(255, 0, 0, 0.8)",
          "size": 5
         },
         "mode": "markers+text",
         "text": [
          "raidillon",
          "route",
          "grimpette",
          "goudronner",
          "bifurquer",
          "route_carrossable",
          "traverser",
          "d+",
          "raide",
          "route_forestier",
          "frayer",
          "longer",
          "route_goudronner",
          "sentier",
          "redescente",
          "dénivelé",
          "assez_raide",
          "chemin_caillouteux",
          "chemin",
          "route_sinueux",
          "descente_vertigineux",
          "jusqu'au_col",
          "descente",
          "carrossable",
          "chemin_creux",
          "descente_raide",
          "autoroute",
          "route_longer"
         ],
         "textposition": "top center",
         "type": "scatter3d",
         "x": [
          1.9396573305130005,
          -6.1832404136657715,
          5.085381507873535,
          -5.848470211029053,
          -3.0630297660827637,
          -1.7595067024230957,
          -5.113943099975586,
          9.667216300964355,
          8.555148124694824,
          0.10548204183578491,
          -6.907155990600586,
          -4.378418922424316,
          -2.381596565246582,
          1.2896161079406738,
          5.915053367614746,
          13.103996276855469,
          1.4336267709732056,
          -1.1901907920837402,
          -6.336921691894531,
          -1.5774234533309937,
          0.8414673805236816,
          5.176428318023682,
          12.457488059997559,
          -2.8147332668304443,
          -2.9803683757781982,
          0.794765293598175,
          -12.30974292755127,
          -3.5205719470977783
         ],
         "y": [
          1.9817184209823608,
          1.7065403461456299,
          1.5258185863494873,
          2.3559374809265137,
          -5.040291786193848,
          4.071312427520752,
          -2.196042537689209,
          3.6164352893829346,
          -1.016258716583252,
          -3.5059399604797363,
          -4.325840473175049,
          -9.518404006958008,
          -2.869664430618286,
          -12.593052864074707,
          2.3276047706604004,
          1.0787180662155151,
          2.6597723960876465,
          3.16652512550354,
          -6.676333904266357,
          3.2861015796661377,
          5.031977653503418,
          -3.2567193508148193,
          0.027771638706326485,
          1.7031171321868896,
          -1.9638973474502563,
          4.039265155792236,
          11.519636154174805,
          2.8641810417175293
         ],
         "z": [
          -2.1862173080444336,
          3.333016872406006,
          -1.3838597536087036,
          2.7538654804229736,
          0.21381008625030518,
          -2.968479633331299,
          -3.2931318283081055,
          1.59062659740448,
          -3.329195499420166,
          5.415902137756348,
          -13.168981552124023,
          3.132594585418701,
          7.189062595367432,
          4.891002655029297,
          -1.4543859958648682,
          5.232593059539795,
          -2.9037482738494873,
          -3.5822415351867676,
          -2.0187251567840576,
          -0.8138744235038757,
          -4.966944694519043,
          4.187779903411865,
          0.5890238285064697,
          -0.9145969748497009,
          -1.7641034126281738,
          -3.7782115936279297,
          10.9138765335083,
          -0.9164749383926392
         ]
        }
       ],
       "layout": {
        "height": 1000,
        "scene": {
         "xaxis": {
          "title": {
           "text": "Composante 1"
          }
         },
         "yaxis": {
          "title": {
           "text": "Composante 2"
          }
         },
         "zaxis": {
          "title": {
           "text": "Composante 3"
          }
         }
        },
        "showlegend": false,
        "template": {
         "data": {
          "bar": [
           {
            "error_x": {
             "color": "#2a3f5f"
            },
            "error_y": {
             "color": "#2a3f5f"
            },
            "marker": {
             "line": {
              "color": "#E5ECF6",
              "width": 0.5
             },
             "pattern": {
              "fillmode": "overlay",
              "size": 10,
              "solidity": 0.2
             }
            },
            "type": "bar"
           }
          ],
          "barpolar": [
           {
            "marker": {
             "line": {
              "color": "#E5ECF6",
              "width": 0.5
             },
             "pattern": {
              "fillmode": "overlay",
              "size": 10,
              "solidity": 0.2
             }
            },
            "type": "barpolar"
           }
          ],
          "carpet": [
           {
            "aaxis": {
             "endlinecolor": "#2a3f5f",
             "gridcolor": "white",
             "linecolor": "white",
             "minorgridcolor": "white",
             "startlinecolor": "#2a3f5f"
            },
            "baxis": {
             "endlinecolor": "#2a3f5f",
             "gridcolor": "white",
             "linecolor": "white",
             "minorgridcolor": "white",
             "startlinecolor": "#2a3f5f"
            },
            "type": "carpet"
           }
          ],
          "choropleth": [
           {
            "colorbar": {
             "outlinewidth": 0,
             "ticks": ""
            },
            "type": "choropleth"
           }
          ],
          "contour": [
           {
            "colorbar": {
             "outlinewidth": 0,
             "ticks": ""
            },
            "colorscale": [
             [
              0,
              "#0d0887"
             ],
             [
              0.1111111111111111,
              "#46039f"
             ],
             [
              0.2222222222222222,
              "#7201a8"
             ],
             [
              0.3333333333333333,
              "#9c179e"
             ],
             [
              0.4444444444444444,
              "#bd3786"
             ],
             [
              0.5555555555555556,
              "#d8576b"
             ],
             [
              0.6666666666666666,
              "#ed7953"
             ],
             [
              0.7777777777777778,
              "#fb9f3a"
             ],
             [
              0.8888888888888888,
              "#fdca26"
             ],
             [
              1,
              "#f0f921"
             ]
            ],
            "type": "contour"
           }
          ],
          "contourcarpet": [
           {
            "colorbar": {
             "outlinewidth": 0,
             "ticks": ""
            },
            "type": "contourcarpet"
           }
          ],
          "heatmap": [
           {
            "colorbar": {
             "outlinewidth": 0,
             "ticks": ""
            },
            "colorscale": [
             [
              0,
              "#0d0887"
             ],
             [
              0.1111111111111111,
              "#46039f"
             ],
             [
              0.2222222222222222,
              "#7201a8"
             ],
             [
              0.3333333333333333,
              "#9c179e"
             ],
             [
              0.4444444444444444,
              "#bd3786"
             ],
             [
              0.5555555555555556,
              "#d8576b"
             ],
             [
              0.6666666666666666,
              "#ed7953"
             ],
             [
              0.7777777777777778,
              "#fb9f3a"
             ],
             [
              0.8888888888888888,
              "#fdca26"
             ],
             [
              1,
              "#f0f921"
             ]
            ],
            "type": "heatmap"
           }
          ],
          "heatmapgl": [
           {
            "colorbar": {
             "outlinewidth": 0,
             "ticks": ""
            },
            "colorscale": [
             [
              0,
              "#0d0887"
             ],
             [
              0.1111111111111111,
              "#46039f"
             ],
             [
              0.2222222222222222,
              "#7201a8"
             ],
             [
              0.3333333333333333,
              "#9c179e"
             ],
             [
              0.4444444444444444,
              "#bd3786"
             ],
             [
              0.5555555555555556,
              "#d8576b"
             ],
             [
              0.6666666666666666,
              "#ed7953"
             ],
             [
              0.7777777777777778,
              "#fb9f3a"
             ],
             [
              0.8888888888888888,
              "#fdca26"
             ],
             [
              1,
              "#f0f921"
             ]
            ],
            "type": "heatmapgl"
           }
          ],
          "histogram": [
           {
            "marker": {
             "pattern": {
              "fillmode": "overlay",
              "size": 10,
              "solidity": 0.2
             }
            },
            "type": "histogram"
           }
          ],
          "histogram2d": [
           {
            "colorbar": {
             "outlinewidth": 0,
             "ticks": ""
            },
            "colorscale": [
             [
              0,
              "#0d0887"
             ],
             [
              0.1111111111111111,
              "#46039f"
             ],
             [
              0.2222222222222222,
              "#7201a8"
             ],
             [
              0.3333333333333333,
              "#9c179e"
             ],
             [
              0.4444444444444444,
              "#bd3786"
             ],
             [
              0.5555555555555556,
              "#d8576b"
             ],
             [
              0.6666666666666666,
              "#ed7953"
             ],
             [
              0.7777777777777778,
              "#fb9f3a"
             ],
             [
              0.8888888888888888,
              "#fdca26"
             ],
             [
              1,
              "#f0f921"
             ]
            ],
            "type": "histogram2d"
           }
          ],
          "histogram2dcontour": [
           {
            "colorbar": {
             "outlinewidth": 0,
             "ticks": ""
            },
            "colorscale": [
             [
              0,
              "#0d0887"
             ],
             [
              0.1111111111111111,
              "#46039f"
             ],
             [
              0.2222222222222222,
              "#7201a8"
             ],
             [
              0.3333333333333333,
              "#9c179e"
             ],
             [
              0.4444444444444444,
              "#bd3786"
             ],
             [
              0.5555555555555556,
              "#d8576b"
             ],
             [
              0.6666666666666666,
              "#ed7953"
             ],
             [
              0.7777777777777778,
              "#fb9f3a"
             ],
             [
              0.8888888888888888,
              "#fdca26"
             ],
             [
              1,
              "#f0f921"
             ]
            ],
            "type": "histogram2dcontour"
           }
          ],
          "mesh3d": [
           {
            "colorbar": {
             "outlinewidth": 0,
             "ticks": ""
            },
            "type": "mesh3d"
           }
          ],
          "parcoords": [
           {
            "line": {
             "colorbar": {
              "outlinewidth": 0,
              "ticks": ""
             }
            },
            "type": "parcoords"
           }
          ],
          "pie": [
           {
            "automargin": true,
            "type": "pie"
           }
          ],
          "scatter": [
           {
            "fillpattern": {
             "fillmode": "overlay",
             "size": 10,
             "solidity": 0.2
            },
            "type": "scatter"
           }
          ],
          "scatter3d": [
           {
            "line": {
             "colorbar": {
              "outlinewidth": 0,
              "ticks": ""
             }
            },
            "marker": {
             "colorbar": {
              "outlinewidth": 0,
              "ticks": ""
             }
            },
            "type": "scatter3d"
           }
          ],
          "scattercarpet": [
           {
            "marker": {
             "colorbar": {
              "outlinewidth": 0,
              "ticks": ""
             }
            },
            "type": "scattercarpet"
           }
          ],
          "scattergeo": [
           {
            "marker": {
             "colorbar": {
              "outlinewidth": 0,
              "ticks": ""
             }
            },
            "type": "scattergeo"
           }
          ],
          "scattergl": [
           {
            "marker": {
             "colorbar": {
              "outlinewidth": 0,
              "ticks": ""
             }
            },
            "type": "scattergl"
           }
          ],
          "scattermapbox": [
           {
            "marker": {
             "colorbar": {
              "outlinewidth": 0,
              "ticks": ""
             }
            },
            "type": "scattermapbox"
           }
          ],
          "scatterpolar": [
           {
            "marker": {
             "colorbar": {
              "outlinewidth": 0,
              "ticks": ""
             }
            },
            "type": "scatterpolar"
           }
          ],
          "scatterpolargl": [
           {
            "marker": {
             "colorbar": {
              "outlinewidth": 0,
              "ticks": ""
             }
            },
            "type": "scatterpolargl"
           }
          ],
          "scatterternary": [
           {
            "marker": {
             "colorbar": {
              "outlinewidth": 0,
              "ticks": ""
             }
            },
            "type": "scatterternary"
           }
          ],
          "surface": [
           {
            "colorbar": {
             "outlinewidth": 0,
             "ticks": ""
            },
            "colorscale": [
             [
              0,
              "#0d0887"
             ],
             [
              0.1111111111111111,
              "#46039f"
             ],
             [
              0.2222222222222222,
              "#7201a8"
             ],
             [
              0.3333333333333333,
              "#9c179e"
             ],
             [
              0.4444444444444444,
              "#bd3786"
             ],
             [
              0.5555555555555556,
              "#d8576b"
             ],
             [
              0.6666666666666666,
              "#ed7953"
             ],
             [
              0.7777777777777778,
              "#fb9f3a"
             ],
             [
              0.8888888888888888,
              "#fdca26"
             ],
             [
              1,
              "#f0f921"
             ]
            ],
            "type": "surface"
           }
          ],
          "table": [
           {
            "cells": {
             "fill": {
              "color": "#EBF0F8"
             },
             "line": {
              "color": "white"
             }
            },
            "header": {
             "fill": {
              "color": "#C8D4E3"
             },
             "line": {
              "color": "white"
             }
            },
            "type": "table"
           }
          ]
         },
         "layout": {
          "annotationdefaults": {
           "arrowcolor": "#2a3f5f",
           "arrowhead": 0,
           "arrowwidth": 1
          },
          "autotypenumbers": "strict",
          "coloraxis": {
           "colorbar": {
            "outlinewidth": 0,
            "ticks": ""
           }
          },
          "colorscale": {
           "diverging": [
            [
             0,
             "#8e0152"
            ],
            [
             0.1,
             "#c51b7d"
            ],
            [
             0.2,
             "#de77ae"
            ],
            [
             0.3,
             "#f1b6da"
            ],
            [
             0.4,
             "#fde0ef"
            ],
            [
             0.5,
             "#f7f7f7"
            ],
            [
             0.6,
             "#e6f5d0"
            ],
            [
             0.7,
             "#b8e186"
            ],
            [
             0.8,
             "#7fbc41"
            ],
            [
             0.9,
             "#4d9221"
            ],
            [
             1,
             "#276419"
            ]
           ],
           "sequential": [
            [
             0,
             "#0d0887"
            ],
            [
             0.1111111111111111,
             "#46039f"
            ],
            [
             0.2222222222222222,
             "#7201a8"
            ],
            [
             0.3333333333333333,
             "#9c179e"
            ],
            [
             0.4444444444444444,
             "#bd3786"
            ],
            [
             0.5555555555555556,
             "#d8576b"
            ],
            [
             0.6666666666666666,
             "#ed7953"
            ],
            [
             0.7777777777777778,
             "#fb9f3a"
            ],
            [
             0.8888888888888888,
             "#fdca26"
            ],
            [
             1,
             "#f0f921"
            ]
           ],
           "sequentialminus": [
            [
             0,
             "#0d0887"
            ],
            [
             0.1111111111111111,
             "#46039f"
            ],
            [
             0.2222222222222222,
             "#7201a8"
            ],
            [
             0.3333333333333333,
             "#9c179e"
            ],
            [
             0.4444444444444444,
             "#bd3786"
            ],
            [
             0.5555555555555556,
             "#d8576b"
            ],
            [
             0.6666666666666666,
             "#ed7953"
            ],
            [
             0.7777777777777778,
             "#fb9f3a"
            ],
            [
             0.8888888888888888,
             "#fdca26"
            ],
            [
             1,
             "#f0f921"
            ]
           ]
          },
          "colorway": [
           "#636efa",
           "#EF553B",
           "#00cc96",
           "#ab63fa",
           "#FFA15A",
           "#19d3f3",
           "#FF6692",
           "#B6E880",
           "#FF97FF",
           "#FECB52"
          ],
          "font": {
           "color": "#2a3f5f"
          },
          "geo": {
           "bgcolor": "white",
           "lakecolor": "white",
           "landcolor": "#E5ECF6",
           "showlakes": true,
           "showland": true,
           "subunitcolor": "white"
          },
          "hoverlabel": {
           "align": "left"
          },
          "hovermode": "closest",
          "mapbox": {
           "style": "light"
          },
          "paper_bgcolor": "white",
          "plot_bgcolor": "#E5ECF6",
          "polar": {
           "angularaxis": {
            "gridcolor": "white",
            "linecolor": "white",
            "ticks": ""
           },
           "bgcolor": "#E5ECF6",
           "radialaxis": {
            "gridcolor": "white",
            "linecolor": "white",
            "ticks": ""
           }
          },
          "scene": {
           "xaxis": {
            "backgroundcolor": "#E5ECF6",
            "gridcolor": "white",
            "gridwidth": 2,
            "linecolor": "white",
            "showbackground": true,
            "ticks": "",
            "zerolinecolor": "white"
           },
           "yaxis": {
            "backgroundcolor": "#E5ECF6",
            "gridcolor": "white",
            "gridwidth": 2,
            "linecolor": "white",
            "showbackground": true,
            "ticks": "",
            "zerolinecolor": "white"
           },
           "zaxis": {
            "backgroundcolor": "#E5ECF6",
            "gridcolor": "white",
            "gridwidth": 2,
            "linecolor": "white",
            "showbackground": true,
            "ticks": "",
            "zerolinecolor": "white"
           }
          },
          "shapedefaults": {
           "line": {
            "color": "#2a3f5f"
           }
          },
          "ternary": {
           "aaxis": {
            "gridcolor": "white",
            "linecolor": "white",
            "ticks": ""
           },
           "baxis": {
            "gridcolor": "white",
            "linecolor": "white",
            "ticks": ""
           },
           "bgcolor": "#E5ECF6",
           "caxis": {
            "gridcolor": "white",
            "linecolor": "white",
            "ticks": ""
           }
          },
          "title": {
           "x": 0.05
          },
          "xaxis": {
           "automargin": true,
           "gridcolor": "white",
           "linecolor": "white",
           "ticks": "",
           "title": {
            "standoff": 15
           },
           "zerolinecolor": "white",
           "zerolinewidth": 2
          },
          "yaxis": {
           "automargin": true,
           "gridcolor": "white",
           "linecolor": "white",
           "ticks": "",
           "title": {
            "standoff": 15
           },
           "zerolinecolor": "white",
           "zerolinewidth": 2
          }
         }
        },
        "title": {
         "text": "Projection 3D des voisins de chemin, route, descente par PCA"
        },
        "width": 1200
       }
      }
     },
     "metadata": {},
     "output_type": "display_data"
    }
   ],
   "source": [
    "# candidate_words = ['homme', 'rouge', 'étudier']\n",
    "candidate_words = [ 'chemin', 'route', 'descente']\n",
    "m = display_dimred_neighbors(model, candidate_words, n_components=3, topn=10, method='pca', n_neighbors=20)\n"
   ]
  },
  {
   "cell_type": "code",
   "execution_count": 55,
   "id": "2a38eb56",
   "metadata": {},
   "outputs": [
    {
     "data": {
      "text/plain": [
       "['raidillon',\n",
       " 'route',\n",
       " 'grimpette',\n",
       " 'goudronner',\n",
       " 'bifurquer',\n",
       " 'route_carrossable',\n",
       " 'traverser',\n",
       " 'd+',\n",
       " 'raide',\n",
       " 'route_forestier',\n",
       " 'frayer',\n",
       " 'longer',\n",
       " 'route_goudronner',\n",
       " 'sentier',\n",
       " 'redescente',\n",
       " 'dénivelé',\n",
       " 'assez_raide',\n",
       " 'chemin_caillouteux',\n",
       " 'chemin',\n",
       " 'route_sinueux',\n",
       " 'descente_vertigineux',\n",
       " \"jusqu'au_col\",\n",
       " 'descente',\n",
       " 'carrossable',\n",
       " 'chemin_creux',\n",
       " 'descente_raide',\n",
       " 'autoroute',\n",
       " 'route_longer']"
      ]
     },
     "execution_count": 55,
     "metadata": {},
     "output_type": "execute_result"
    }
   ],
   "source": [
    "'atelier' in m\n",
    "# afficher les voisin de atelier\n",
    "m"
   ]
  },
  {
   "cell_type": "markdown",
   "id": "ee8813d7",
   "metadata": {},
   "source": [
    "Veuillez noter ici vos observations sur la procédure, et coller un extrait montrant votre meilleure performance au jeu."
   ]
  },
  {
   "cell_type": "markdown",
   "id": "e1e46ceb",
   "metadata": {},
   "source": [
    "La visualisation des voisins en pca nous aide à démarrer le jeu avec très peu de mots découverts. En ajustant le nombre de points et le nombre de voisins les plus proche nous obtenons des\n",
    "suggestions intéressantes pour le jeu. Nous avons commencé à obtenir des bons résultats après les mots blanc ainsi que neige.\n",
    "\n",
    "En utilisant la visualisation des voisins, nous avons pu trouver le mot du jour en 40 essais. A noter que certaines fois la progression dans le jeu est venue d'initiatives personnelles les suggestions de la fonction ne sont donc pas toujours pertinentes.\n",
    "\n",
    "Si nous nous limitons au cluster que nous visualisons nous risquons de rester dans celui-ci et de ne pas nous rapprocher du mot mystère. Il est donc important de prendre en compte les suggestions de la fonction mais aussi de faire des propositions personnelles.\n",
    "\n",
    "![img](./col.png)\n",
    "\n"
   ]
  },
  {
   "cell_type": "markdown",
   "id": "154d3b12",
   "metadata": {},
   "source": []
  },
  {
   "cell_type": "markdown",
   "id": "1539000b",
   "metadata": {},
   "source": [
    "**Fin du Labo.**  Veuillez nettoyer ce notebook en gardant seulement les résultats désirés, l'enregistrer, et le soumettre comme devoir sur Cyberlearn."
   ]
  }
 ],
 "metadata": {
  "kernelspec": {
   "display_name": "PCD",
   "language": "python",
   "name": "python3"
  },
  "language_info": {
   "codemirror_mode": {
    "name": "ipython",
    "version": 3
   },
   "file_extension": ".py",
   "mimetype": "text/x-python",
   "name": "python",
   "nbconvert_exporter": "python",
   "pygments_lexer": "ipython3",
   "version": "3.11.7"
  }
 },
 "nbformat": 4,
 "nbformat_minor": 5
}
