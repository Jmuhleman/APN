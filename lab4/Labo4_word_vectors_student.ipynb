{
 "cells": [
  {
   "cell_type": "markdown",
   "id": "ac5975ff",
   "metadata": {},
   "source": [
    "<img src=\"https://heig-vd.ch/docs/default-source/doc-global-newsletter/2020-slim.svg\" alt=\"Logo HEIG-VD\" style=\"width: 80px;\" align=\"right\"/>\n",
    "\n",
    "# Cours APN - Labo 4 : Visualisation de vecteurs de mots\n",
    "\n",
    "## Résumé\n",
    "Le but de ce laboratoire est de visualiser des vecteurs de mots grâce à des méthodes de réduction de dimensionnalité.  La visualisation permettra de deviner plus facilement le \"mot du jour\" dans le jeu en ligne [Cémantix](https://cemantix.certitudes.org/)."
   ]
  },
  {
   "cell_type": "markdown",
   "id": "b142169f",
   "metadata": {},
   "source": [
    "## 1. Prise en main de word2vec\n",
    "\n",
    "Le modèle Word2vec contient des _embeddings_ des mots qui sont appris automatiquement à partir de textes.  Chaque mot est donc représenté par un vecteur dans un espace avec plusieurs centaines de dimensions (p.ex. 300 ou 500).  Dans cet espace, les mots de sens ou d'usage proches ont des vecteurs proches (les _embeddings_ capturent la similarité entre mots).  Mais la dimensionnalité de l'espace fait qu'il est difficile de visualiser les vecteurs de mots.\n",
    "\n",
    "La librairie [Gensim](https://radimrehurek.com/gensim/index.html) permet de charger un modèle Word2vec existant (avec la fonction `load_word2vec_format(...)`) et de manipuler les vecteurs de mots (instances de la classe `KeyedVectors`).  On peut notamment utiliser la fonction `similarity(w1, w2)` qui retourne le cosinus des vecteurs correspondant aux mots `w1` et `w2`, à condition que ceux-ci soient connus du modèle.  On peut aussi utiliser la fonction `most_similar([w])` qui retourne les mots voisins d'un ou plusieurs mots.  La [documentation de KeyedVectors](https://radimrehurek.com/gensim/models/keyedvectors.html) fournit des exemples utiles.\n",
    "\n",
    "Veuillez télécharger l'_un des deux_ modèles word2vec suivants, déjà entraînés, mis à disposition par [J.-Ph. Fauconnier](https://fauconnier.github.io/#data):\n",
    "- [frWac_no_postag_no_phrase_500_cbow_cut100.bin](https://embeddings.net/embeddings/frWac_no_postag_no_phrase_500_cbow_cut100.bin) - plus petit (229 Mo), mais pas identique au modèle utilisé pour Cémantix ;\n",
    "- [frWac_no_postag_phrase_500_cbow_cut10.bin](https://embeddings.net/embeddings/frWac_no_postag_phrase_500_cbow_cut10.bin) - bien plus grand (2 Go) donc assez gourmand en mémoire, mais qui est exactement celui utilisé pour Cémantix.\n",
    "Veuillez placer le modèle choisi dans le dossier `gensim-data` de votre dossier utilisateur."
   ]
  },
  {
   "cell_type": "code",
   "execution_count": 2,
   "id": "d1ec9fe2",
   "metadata": {},
   "outputs": [],
   "source": [
    "# Téléchargement, si nécessaire.\n",
    "# import wget\n",
    "# url = 'https://embeddings.net/embeddings/frWac_no_postag_no_phrase_500_cbow_cut100.bin'\n",
    "# wget.download(url, path_to_model)"
   ]
  },
  {
   "cell_type": "code",
   "execution_count": 3,
   "id": "e84d558a",
   "metadata": {},
   "outputs": [],
   "source": [
    "from gensim.models import KeyedVectors"
   ]
  },
  {
   "cell_type": "code",
   "execution_count": 4,
   "id": "3711012d",
   "metadata": {},
   "outputs": [],
   "source": [
    "path_to_model = \"C:\\\\Users\\\\Julien\\\\Documents\\\\HEIG-VD\\\\S5_2024\\\\APN\\\\APN\\\\lab4\\\\frWac_no_postag_phrase_500_cbow_cut10.bin\" # à adapter"
   ]
  },
  {
   "cell_type": "code",
   "execution_count": 5,
   "id": "114bdda7",
   "metadata": {},
   "outputs": [],
   "source": [
    "model = KeyedVectors.load_word2vec_format(path_to_model, binary=True, unicode_errors=\"ignore\")"
   ]
  },
  {
   "cell_type": "markdown",
   "id": "86c45ba9",
   "metadata": {},
   "source": [
    "a. Choisissez deux mots de sens proches `w1` et `w2`, et un autre plus différent noté `w3`. Affichez la similarité selon word2vec (cosinus) entre chaque paire de mots.  Ces valeurs correspondent-elles à vos intuitions ?"
   ]
  },
  {
   "cell_type": "code",
   "execution_count": 6,
   "id": "a7170b8a",
   "metadata": {},
   "outputs": [
    {
     "name": "stdout",
     "output_type": "stream",
     "text": [
      "Similarité entre 'chat' et 'félin': 0.5748\n",
      "Similarité entre 'chat' et 'lapper': 0.1546\n",
      "Similarité entre 'félin' et 'lapper': 0.1847\n"
     ]
    }
   ],
   "source": [
    "w1 = 'chat'\n",
    "w2 = 'félin'\n",
    "w3 = 'lapper'\n",
    "\n",
    "sim_w1_w2 = model.similarity(w1, w2)\n",
    "sim_w1_w3 = model.similarity(w1, w3)\n",
    "sim_w2_w3 = model.similarity(w2, w3)\n",
    "\n",
    "print(f\"Similarité entre '{w1}' et '{w2}': {sim_w1_w2:.4f}\")\n",
    "print(f\"Similarité entre '{w1}' et '{w3}': {sim_w1_w3:.4f}\")\n",
    "print(f\"Similarité entre '{w2}' et '{w3}': {sim_w2_w3:.4f}\")\n"
   ]
  },
  {
   "cell_type": "markdown",
   "id": "b9ac52e3",
   "metadata": {},
   "source": [
    "b. Affichez les 10 mots les plus proches de `w1` selon word2vec avec pour chacun sa similarité avec `w1`. "
   ]
  },
  {
   "cell_type": "code",
   "execution_count": 7,
   "id": "0919678c",
   "metadata": {},
   "outputs": [
    {
     "name": "stdout",
     "output_type": "stream",
     "text": [
      "Les 10 mots les plus proches de 'chat\n",
      "minou: 0.6335\n",
      "matou: 0.6266\n",
      "petit_chatte: 0.6141\n",
      "chatte: 0.5922\n",
      "miauler: 0.5909\n",
      "chaton: 0.5889\n",
      "quoi_fouetter: 0.5832\n",
      "félin: 0.5748\n",
      "chien: 0.5650\n",
      "chats: 0.5555\n"
     ]
    }
   ],
   "source": [
    "w1 = 'chat'\n",
    "#mots voisins\n",
    "neighbour_words = model.most_similar(w1, topn=10)\n",
    "print(f\"Les 10 mots les plus proches de '{w1}\")\n",
    "\n",
    "for word, similarity in neighbour_words:\n",
    "    print(f\"{word}: {similarity:.4f}\")"
   ]
  },
  {
   "cell_type": "markdown",
   "id": "e763f4aa",
   "metadata": {},
   "source": [
    "c. Quels sont les 15 premiers coefficients du vecteur (_embedding_) du mot `w1` ? Quelle est la dimension de ce vecteur ?  Quelle est la taille du vocabulaire connu du modèle ?  Vous pouvez simplement écrire les commandes répondant à ces questions."
   ]
  },
  {
   "cell_type": "code",
   "execution_count": 8,
   "id": "a373edde",
   "metadata": {},
   "outputs": [
    {
     "name": "stdout",
     "output_type": "stream",
     "text": [
      "Les 15 premiers coefficients pour 'chat':\n",
      "[-0.5510563  -0.22379288  0.72409904 -0.82713395 -0.68234926  2.0828469\n",
      " -0.30507645  0.400353    0.9901076  -1.2962811   1.2319442   1.5554144\n",
      "  0.3478864  -1.6153904  -0.585831  ]\n",
      "La dimension du vecteur'chat': 500\n",
      "Taille du vocabulaire du modèle : 1081995\n"
     ]
    }
   ],
   "source": [
    "w1 = 'chat'\n",
    "print(f\"Les 15 premiers coefficients pour '{w1}':\")\n",
    "print(model[w1][:15])\n",
    "\n",
    "print(f\"La dimension du vecteur'{w1}': {len(model[w1])}\")\n",
    "\n",
    "print(f\"Taille du vocabulaire du modèle : {len(model.index_to_key)}\")\n"
   ]
  },
  {
   "cell_type": "markdown",
   "id": "136d3ca3",
   "metadata": {},
   "source": [
    "d. Veuillez écrire une fonction appelée `neighbors` selon les spécifications suivantes.  Cette fonction servira plus loin pour l'affichage.\n",
    "* input : modèle, liste de mots, nombre de voisins (`topn`) ;\n",
    "* output : liste de mots voisins de chacun des mots de l'input, représentés par un dictionnaire expliqué ci-après ;\n",
    "* fonctionnement : pour _chacun_ des mots donnés en input, la fonction teste si le mot est dans le vocabulaire du modèle word2vec (sinon elle ne le considère pas), puis demande au modèle la liste des `topn` mots voisins ; pour chacun de ces mots, la fonction construit un `dict` à 4 champs : \n",
    "  - mot voisin\n",
    "  - similarité\n",
    "  - mot de départ\n",
    "  - code de couleur associé au mot de départ : 1, 2, etc.\n",
    "\n",
    "**Exemple** : si on appelle la fonction avec \\['école'\\], le début du résultat sera :\n",
    "```\n",
    "[{'neighbor': 'scolaire',\n",
    "  'similarity': 0.7114928364753723,\n",
    "  'ref_word': 'école',\n",
    "  'color_code': 1}, ...\n",
    "```"
   ]
  },
  {
   "cell_type": "code",
   "execution_count": 9,
   "id": "60b01480",
   "metadata": {},
   "outputs": [],
   "source": [
    "def neighbors(model, word_list, topn = 5):\n",
    "    results = []\n",
    "    for idx, word in enumerate(word_list):\n",
    "        if word in model:\n",
    "\n",
    "            similar_words = model.most_similar(word, topn=topn)\n",
    "            \n",
    "            for neighbor, similarity in similar_words:\n",
    "                results.append({\n",
    "                    'neighbor': neighbor,\n",
    "                    'similarity': similarity,\n",
    "                    'ref_word': word,\n",
    "                    'color_code': idx + 1})\n",
    "        else:\n",
    "            print(f\"Le mot '{word}' n'est pas dans le vocabulaire du modèle.\")\n",
    "    \n",
    "    return results"
   ]
  },
  {
   "cell_type": "code",
   "execution_count": 10,
   "id": "28cd119b",
   "metadata": {},
   "outputs": [
    {
     "name": "stdout",
     "output_type": "stream",
     "text": [
      "[{'neighbor': 'minou', 'similarity': 0.6334686875343323, 'ref_word': 'chat', 'color_code': 1}, {'neighbor': 'matou', 'similarity': 0.626587450504303, 'ref_word': 'chat', 'color_code': 1}, {'neighbor': 'petit_chatte', 'similarity': 0.6141418218612671, 'ref_word': 'chat', 'color_code': 1}, {'neighbor': 'étude', 'similarity': 0.6593688726425171, 'ref_word': 'étudier', 'color_code': 2}, {'neighbor': 'analyser', 'similarity': 0.6340749263763428, 'ref_word': 'étudier', 'color_code': 2}, {'neighbor': 'approfondir', 'similarity': 0.5609511733055115, 'ref_word': 'étudier', 'color_code': 2}]\n"
     ]
    }
   ],
   "source": [
    "# Tester avec cet appel :\n",
    "print(neighbors(model, ['chat', 'étudier'], 3))"
   ]
  },
  {
   "cell_type": "markdown",
   "id": "11d19cd5",
   "metadata": {},
   "source": [
    "## 2. Affichage simple des voisins d'un mot\n",
    "\n",
    "Pour commencer, veuillez étudier et exécuter le code fourni en exemple : `Labo4_plotly.ipynb`.  Cela vous montrera comment utiliser l'affichage 2D/3D avec `plotly.js`, et vous permettra de traiter les questions suivantes.\n",
    "\n",
    "Veuillez écrire et exécuter une fonction qui effectue les opérations suivantes, étant donné un mot en entrée :\n",
    "* obtenir les vecteurs word2vec du mot et de ses `topn` plus proches voisins ;\n",
    "* transformer ces vecteurs en 2D par l'ACP ;\n",
    "* afficher en 2D chaque points correspondant à un mot, avec comme étiquette le mot lui-même.\n",
    "\n",
    "**Notes:** cette fonction sert de version préliminaire à une fonction plus générique demandée ci-dessous.  Il n'est pas demandé de distinguer le mot entré des mots voisins, dans l'affichage (même type de points).  Il n'est pas nécessaire pour l'instant d'utiliser la fonction `neighbors`."
   ]
  },
  {
   "cell_type": "code",
   "execution_count": 11,
   "id": "c35a4625",
   "metadata": {},
   "outputs": [],
   "source": [
    "import plotly\n",
    "import numpy as np\n",
    "import plotly.graph_objs as go\n",
    "from sklearn.decomposition import PCA"
   ]
  },
  {
   "cell_type": "code",
   "execution_count": 12,
   "id": "0cd4156a",
   "metadata": {},
   "outputs": [],
   "source": [
    "def display_PCA_2D_neighbors(model, word, topn = 5):\n",
    "    if word not in model:\n",
    "        print(f\"Le mot '{word}' n'est pas dans le vocabulaire du modèle.\")\n",
    "        return\n",
    "    \n",
    "    similar_words = model.most_similar(word, topn=topn)\n",
    "    words = [word] + [w[0] for w in similar_words]  # Liste de mots incluant le mot de départ\n",
    "    vectors = np.array([model[w] for w in words])   # Récupérer les vecteurs correspondants\n",
    "    \n",
    "    pca = PCA(n_components=2)\n",
    "    vectors_2d = pca.fit_transform(vectors)\n",
    "    \n",
    "    trace = go.Scatter(\n",
    "        x=vectors_2d[:, 0],\n",
    "        y=vectors_2d[:, 1],\n",
    "        mode='markers+text',\n",
    "        text=words,\n",
    "        textposition='top center',\n",
    "        marker=dict(size=10, color='blue')\n",
    "    )\n",
    "    layout = go.Layout(\n",
    "        title=f\"Projection 2D de '{word}' et de ses voisins\",\n",
    "        xaxis=dict(title='CP 1'),\n",
    "        yaxis=dict(title='CP 2'),\n",
    "        showlegend=False\n",
    "    )\n",
    "\n",
    "    fig = go.Figure(data=[trace], layout=layout)\n",
    "    fig.show()"
   ]
  },
  {
   "cell_type": "code",
   "execution_count": 13,
   "id": "ba143b79",
   "metadata": {},
   "outputs": [
    {
     "data": {
      "application/vnd.plotly.v1+json": {
       "config": {
        "plotlyServerURL": "https://plot.ly"
       },
       "data": [
        {
         "marker": {
          "color": "blue",
          "size": 10
         },
         "mode": "markers+text",
         "text": [
          "chat",
          "minou",
          "matou",
          "petit_chatte",
          "chatte",
          "miauler",
          "chaton",
          "quoi_fouetter",
          "félin",
          "chien",
          "chats",
          "comportementaliste_spécialiste",
          "miaulement",
          "toutou",
          "ragdoll",
          "chien_chat",
          "chiens",
          "souris_danser",
          "chat_tigré",
          "blogs_profile_ou",
          "gros_matou"
         ],
         "textposition": "top center",
         "type": "scatter",
         "x": [
          -3.652456521987915,
          -2.796438455581665,
          -0.4063856899738312,
          -0.9731664061546326,
          -3.177701950073242,
          0.854726254940033,
          -7.152242660522461,
          6.4975810050964355,
          2.0853521823883057,
          -10.021227836608887,
          -0.3510477840900421,
          7.817939281463623,
          2.773651599884033,
          -9.08459758758545,
          3.410712957382202,
          -4.905318737030029,
          -9.659889221191406,
          7.545124530792236,
          6.625531196594238,
          8.972261428833008,
          5.597592830657959
         ],
         "y": [
          3.0976104736328125,
          3.9720664024353027,
          3.7613883018493652,
          5.506980895996094,
          10.872886657714844,
          3.2924959659576416,
          11.369356155395508,
          -1.8319326639175415,
          3.619497299194336,
          -6.61375617980957,
          -5.566887855529785,
          -3.2381670475006104,
          1.7369621992111206,
          -3.2057437896728516,
          -0.9900428652763367,
          -7.601845741271973,
          -10.14073657989502,
          -2.3084921836853027,
          -1.8173397779464722,
          -3.1532862186431885,
          -0.7610011696815491
         ]
        }
       ],
       "layout": {
        "showlegend": false,
        "template": {
         "data": {
          "bar": [
           {
            "error_x": {
             "color": "#2a3f5f"
            },
            "error_y": {
             "color": "#2a3f5f"
            },
            "marker": {
             "line": {
              "color": "#E5ECF6",
              "width": 0.5
             },
             "pattern": {
              "fillmode": "overlay",
              "size": 10,
              "solidity": 0.2
             }
            },
            "type": "bar"
           }
          ],
          "barpolar": [
           {
            "marker": {
             "line": {
              "color": "#E5ECF6",
              "width": 0.5
             },
             "pattern": {
              "fillmode": "overlay",
              "size": 10,
              "solidity": 0.2
             }
            },
            "type": "barpolar"
           }
          ],
          "carpet": [
           {
            "aaxis": {
             "endlinecolor": "#2a3f5f",
             "gridcolor": "white",
             "linecolor": "white",
             "minorgridcolor": "white",
             "startlinecolor": "#2a3f5f"
            },
            "baxis": {
             "endlinecolor": "#2a3f5f",
             "gridcolor": "white",
             "linecolor": "white",
             "minorgridcolor": "white",
             "startlinecolor": "#2a3f5f"
            },
            "type": "carpet"
           }
          ],
          "choropleth": [
           {
            "colorbar": {
             "outlinewidth": 0,
             "ticks": ""
            },
            "type": "choropleth"
           }
          ],
          "contour": [
           {
            "colorbar": {
             "outlinewidth": 0,
             "ticks": ""
            },
            "colorscale": [
             [
              0,
              "#0d0887"
             ],
             [
              0.1111111111111111,
              "#46039f"
             ],
             [
              0.2222222222222222,
              "#7201a8"
             ],
             [
              0.3333333333333333,
              "#9c179e"
             ],
             [
              0.4444444444444444,
              "#bd3786"
             ],
             [
              0.5555555555555556,
              "#d8576b"
             ],
             [
              0.6666666666666666,
              "#ed7953"
             ],
             [
              0.7777777777777778,
              "#fb9f3a"
             ],
             [
              0.8888888888888888,
              "#fdca26"
             ],
             [
              1,
              "#f0f921"
             ]
            ],
            "type": "contour"
           }
          ],
          "contourcarpet": [
           {
            "colorbar": {
             "outlinewidth": 0,
             "ticks": ""
            },
            "type": "contourcarpet"
           }
          ],
          "heatmap": [
           {
            "colorbar": {
             "outlinewidth": 0,
             "ticks": ""
            },
            "colorscale": [
             [
              0,
              "#0d0887"
             ],
             [
              0.1111111111111111,
              "#46039f"
             ],
             [
              0.2222222222222222,
              "#7201a8"
             ],
             [
              0.3333333333333333,
              "#9c179e"
             ],
             [
              0.4444444444444444,
              "#bd3786"
             ],
             [
              0.5555555555555556,
              "#d8576b"
             ],
             [
              0.6666666666666666,
              "#ed7953"
             ],
             [
              0.7777777777777778,
              "#fb9f3a"
             ],
             [
              0.8888888888888888,
              "#fdca26"
             ],
             [
              1,
              "#f0f921"
             ]
            ],
            "type": "heatmap"
           }
          ],
          "heatmapgl": [
           {
            "colorbar": {
             "outlinewidth": 0,
             "ticks": ""
            },
            "colorscale": [
             [
              0,
              "#0d0887"
             ],
             [
              0.1111111111111111,
              "#46039f"
             ],
             [
              0.2222222222222222,
              "#7201a8"
             ],
             [
              0.3333333333333333,
              "#9c179e"
             ],
             [
              0.4444444444444444,
              "#bd3786"
             ],
             [
              0.5555555555555556,
              "#d8576b"
             ],
             [
              0.6666666666666666,
              "#ed7953"
             ],
             [
              0.7777777777777778,
              "#fb9f3a"
             ],
             [
              0.8888888888888888,
              "#fdca26"
             ],
             [
              1,
              "#f0f921"
             ]
            ],
            "type": "heatmapgl"
           }
          ],
          "histogram": [
           {
            "marker": {
             "pattern": {
              "fillmode": "overlay",
              "size": 10,
              "solidity": 0.2
             }
            },
            "type": "histogram"
           }
          ],
          "histogram2d": [
           {
            "colorbar": {
             "outlinewidth": 0,
             "ticks": ""
            },
            "colorscale": [
             [
              0,
              "#0d0887"
             ],
             [
              0.1111111111111111,
              "#46039f"
             ],
             [
              0.2222222222222222,
              "#7201a8"
             ],
             [
              0.3333333333333333,
              "#9c179e"
             ],
             [
              0.4444444444444444,
              "#bd3786"
             ],
             [
              0.5555555555555556,
              "#d8576b"
             ],
             [
              0.6666666666666666,
              "#ed7953"
             ],
             [
              0.7777777777777778,
              "#fb9f3a"
             ],
             [
              0.8888888888888888,
              "#fdca26"
             ],
             [
              1,
              "#f0f921"
             ]
            ],
            "type": "histogram2d"
           }
          ],
          "histogram2dcontour": [
           {
            "colorbar": {
             "outlinewidth": 0,
             "ticks": ""
            },
            "colorscale": [
             [
              0,
              "#0d0887"
             ],
             [
              0.1111111111111111,
              "#46039f"
             ],
             [
              0.2222222222222222,
              "#7201a8"
             ],
             [
              0.3333333333333333,
              "#9c179e"
             ],
             [
              0.4444444444444444,
              "#bd3786"
             ],
             [
              0.5555555555555556,
              "#d8576b"
             ],
             [
              0.6666666666666666,
              "#ed7953"
             ],
             [
              0.7777777777777778,
              "#fb9f3a"
             ],
             [
              0.8888888888888888,
              "#fdca26"
             ],
             [
              1,
              "#f0f921"
             ]
            ],
            "type": "histogram2dcontour"
           }
          ],
          "mesh3d": [
           {
            "colorbar": {
             "outlinewidth": 0,
             "ticks": ""
            },
            "type": "mesh3d"
           }
          ],
          "parcoords": [
           {
            "line": {
             "colorbar": {
              "outlinewidth": 0,
              "ticks": ""
             }
            },
            "type": "parcoords"
           }
          ],
          "pie": [
           {
            "automargin": true,
            "type": "pie"
           }
          ],
          "scatter": [
           {
            "fillpattern": {
             "fillmode": "overlay",
             "size": 10,
             "solidity": 0.2
            },
            "type": "scatter"
           }
          ],
          "scatter3d": [
           {
            "line": {
             "colorbar": {
              "outlinewidth": 0,
              "ticks": ""
             }
            },
            "marker": {
             "colorbar": {
              "outlinewidth": 0,
              "ticks": ""
             }
            },
            "type": "scatter3d"
           }
          ],
          "scattercarpet": [
           {
            "marker": {
             "colorbar": {
              "outlinewidth": 0,
              "ticks": ""
             }
            },
            "type": "scattercarpet"
           }
          ],
          "scattergeo": [
           {
            "marker": {
             "colorbar": {
              "outlinewidth": 0,
              "ticks": ""
             }
            },
            "type": "scattergeo"
           }
          ],
          "scattergl": [
           {
            "marker": {
             "colorbar": {
              "outlinewidth": 0,
              "ticks": ""
             }
            },
            "type": "scattergl"
           }
          ],
          "scattermapbox": [
           {
            "marker": {
             "colorbar": {
              "outlinewidth": 0,
              "ticks": ""
             }
            },
            "type": "scattermapbox"
           }
          ],
          "scatterpolar": [
           {
            "marker": {
             "colorbar": {
              "outlinewidth": 0,
              "ticks": ""
             }
            },
            "type": "scatterpolar"
           }
          ],
          "scatterpolargl": [
           {
            "marker": {
             "colorbar": {
              "outlinewidth": 0,
              "ticks": ""
             }
            },
            "type": "scatterpolargl"
           }
          ],
          "scatterternary": [
           {
            "marker": {
             "colorbar": {
              "outlinewidth": 0,
              "ticks": ""
             }
            },
            "type": "scatterternary"
           }
          ],
          "surface": [
           {
            "colorbar": {
             "outlinewidth": 0,
             "ticks": ""
            },
            "colorscale": [
             [
              0,
              "#0d0887"
             ],
             [
              0.1111111111111111,
              "#46039f"
             ],
             [
              0.2222222222222222,
              "#7201a8"
             ],
             [
              0.3333333333333333,
              "#9c179e"
             ],
             [
              0.4444444444444444,
              "#bd3786"
             ],
             [
              0.5555555555555556,
              "#d8576b"
             ],
             [
              0.6666666666666666,
              "#ed7953"
             ],
             [
              0.7777777777777778,
              "#fb9f3a"
             ],
             [
              0.8888888888888888,
              "#fdca26"
             ],
             [
              1,
              "#f0f921"
             ]
            ],
            "type": "surface"
           }
          ],
          "table": [
           {
            "cells": {
             "fill": {
              "color": "#EBF0F8"
             },
             "line": {
              "color": "white"
             }
            },
            "header": {
             "fill": {
              "color": "#C8D4E3"
             },
             "line": {
              "color": "white"
             }
            },
            "type": "table"
           }
          ]
         },
         "layout": {
          "annotationdefaults": {
           "arrowcolor": "#2a3f5f",
           "arrowhead": 0,
           "arrowwidth": 1
          },
          "autotypenumbers": "strict",
          "coloraxis": {
           "colorbar": {
            "outlinewidth": 0,
            "ticks": ""
           }
          },
          "colorscale": {
           "diverging": [
            [
             0,
             "#8e0152"
            ],
            [
             0.1,
             "#c51b7d"
            ],
            [
             0.2,
             "#de77ae"
            ],
            [
             0.3,
             "#f1b6da"
            ],
            [
             0.4,
             "#fde0ef"
            ],
            [
             0.5,
             "#f7f7f7"
            ],
            [
             0.6,
             "#e6f5d0"
            ],
            [
             0.7,
             "#b8e186"
            ],
            [
             0.8,
             "#7fbc41"
            ],
            [
             0.9,
             "#4d9221"
            ],
            [
             1,
             "#276419"
            ]
           ],
           "sequential": [
            [
             0,
             "#0d0887"
            ],
            [
             0.1111111111111111,
             "#46039f"
            ],
            [
             0.2222222222222222,
             "#7201a8"
            ],
            [
             0.3333333333333333,
             "#9c179e"
            ],
            [
             0.4444444444444444,
             "#bd3786"
            ],
            [
             0.5555555555555556,
             "#d8576b"
            ],
            [
             0.6666666666666666,
             "#ed7953"
            ],
            [
             0.7777777777777778,
             "#fb9f3a"
            ],
            [
             0.8888888888888888,
             "#fdca26"
            ],
            [
             1,
             "#f0f921"
            ]
           ],
           "sequentialminus": [
            [
             0,
             "#0d0887"
            ],
            [
             0.1111111111111111,
             "#46039f"
            ],
            [
             0.2222222222222222,
             "#7201a8"
            ],
            [
             0.3333333333333333,
             "#9c179e"
            ],
            [
             0.4444444444444444,
             "#bd3786"
            ],
            [
             0.5555555555555556,
             "#d8576b"
            ],
            [
             0.6666666666666666,
             "#ed7953"
            ],
            [
             0.7777777777777778,
             "#fb9f3a"
            ],
            [
             0.8888888888888888,
             "#fdca26"
            ],
            [
             1,
             "#f0f921"
            ]
           ]
          },
          "colorway": [
           "#636efa",
           "#EF553B",
           "#00cc96",
           "#ab63fa",
           "#FFA15A",
           "#19d3f3",
           "#FF6692",
           "#B6E880",
           "#FF97FF",
           "#FECB52"
          ],
          "font": {
           "color": "#2a3f5f"
          },
          "geo": {
           "bgcolor": "white",
           "lakecolor": "white",
           "landcolor": "#E5ECF6",
           "showlakes": true,
           "showland": true,
           "subunitcolor": "white"
          },
          "hoverlabel": {
           "align": "left"
          },
          "hovermode": "closest",
          "mapbox": {
           "style": "light"
          },
          "paper_bgcolor": "white",
          "plot_bgcolor": "#E5ECF6",
          "polar": {
           "angularaxis": {
            "gridcolor": "white",
            "linecolor": "white",
            "ticks": ""
           },
           "bgcolor": "#E5ECF6",
           "radialaxis": {
            "gridcolor": "white",
            "linecolor": "white",
            "ticks": ""
           }
          },
          "scene": {
           "xaxis": {
            "backgroundcolor": "#E5ECF6",
            "gridcolor": "white",
            "gridwidth": 2,
            "linecolor": "white",
            "showbackground": true,
            "ticks": "",
            "zerolinecolor": "white"
           },
           "yaxis": {
            "backgroundcolor": "#E5ECF6",
            "gridcolor": "white",
            "gridwidth": 2,
            "linecolor": "white",
            "showbackground": true,
            "ticks": "",
            "zerolinecolor": "white"
           },
           "zaxis": {
            "backgroundcolor": "#E5ECF6",
            "gridcolor": "white",
            "gridwidth": 2,
            "linecolor": "white",
            "showbackground": true,
            "ticks": "",
            "zerolinecolor": "white"
           }
          },
          "shapedefaults": {
           "line": {
            "color": "#2a3f5f"
           }
          },
          "ternary": {
           "aaxis": {
            "gridcolor": "white",
            "linecolor": "white",
            "ticks": ""
           },
           "baxis": {
            "gridcolor": "white",
            "linecolor": "white",
            "ticks": ""
           },
           "bgcolor": "#E5ECF6",
           "caxis": {
            "gridcolor": "white",
            "linecolor": "white",
            "ticks": ""
           }
          },
          "title": {
           "x": 0.05
          },
          "xaxis": {
           "automargin": true,
           "gridcolor": "white",
           "linecolor": "white",
           "ticks": "",
           "title": {
            "standoff": 15
           },
           "zerolinecolor": "white",
           "zerolinewidth": 2
          },
          "yaxis": {
           "automargin": true,
           "gridcolor": "white",
           "linecolor": "white",
           "ticks": "",
           "title": {
            "standoff": 15
           },
           "zerolinecolor": "white",
           "zerolinewidth": 2
          }
         }
        },
        "title": {
         "text": "Projection 2D de 'chat' et de ses voisins"
        },
        "xaxis": {
         "title": {
          "text": "CP 1"
         }
        },
        "yaxis": {
         "title": {
          "text": "CP 2"
         }
        }
       }
      }
     },
     "metadata": {},
     "output_type": "display_data"
    }
   ],
   "source": [
    "display_PCA_2D_neighbors(model, 'chat', 20)"
   ]
  },
  {
   "cell_type": "markdown",
   "id": "82f594e0",
   "metadata": {},
   "source": [
    "## 3. Affichage configurable des voisins de plusieurs mots\n",
    "\n",
    "Le but maintenant est d'écrire une fonction `display_dimred_neighbors` qui affiche sur un seul graphique les mots voisins de chaque mot d'une liste de mots donnés.  Vous utiliserez ici la fonction auxiliaire `neighbors` définie plus haut  Les paramètres suivants seront passés à la fonction `display_dimred_neighbors` :\n",
    "\n",
    "* `model` - le nom du modèle word2vec\n",
    "* `word_list` - liste de mots dont on veut afficher les voisins (s'ils existent dans `model`)\n",
    "* `n_components` - dimensionnalité de l'affichage, 2 ou 3\n",
    "* `topn` - nombre de voisins à afficher pour chaque mot \n",
    "* `method` - **méthode de réduction de dimensionnalité : pca, mds, isomap, tsne, ou umap**\n",
    "* `n_neighbors`- nombre de voisins considérés par la méthode (applicable à isomap, umap, et tsne (appelé alors `perplexity`)).\n",
    "\n",
    "Trois tests sont demandés à la question 4, mais vous pouvez en exécuter d'autres et les inclure ici."
   ]
  },
  {
   "cell_type": "code",
   "execution_count": 14,
   "id": "9fcd5af4",
   "metadata": {},
   "outputs": [],
   "source": [
    "from sklearn.decomposition import PCA\n",
    "from sklearn.manifold import MDS\n",
    "from sklearn.manifold import Isomap\n",
    "from sklearn.manifold import TSNE\n",
    "from umap import UMAP # Attention, installer le module nommé 'umap-learn' (avec conda install)."
   ]
  },
  {
   "cell_type": "code",
   "execution_count": 62,
   "id": "84c9d33f",
   "metadata": {},
   "outputs": [
    {
     "name": "stderr",
     "output_type": "stream",
     "text": [
      "c:\\Users\\Julien\\miniconda3\\envs\\PCD\\Lib\\site-packages\\umap\\umap_.py:1952: UserWarning:\n",
      "\n",
      "n_jobs value 1 overridden to 1 by setting random_state. Use no seed for parallelism.\n",
      "\n"
     ]
    },
    {
     "data": {
      "application/vnd.plotly.v1+json": {
       "config": {
        "plotlyServerURL": "https://plot.ly"
       },
       "data": [
        {
         "marker": {
          "color": "rgba(93, 164, 214, 0.8)",
          "size": 10
         },
         "mode": "markers+text",
         "text": [
          "chien",
          "minou",
          "petit_chatte",
          "aboyer",
          "chat",
          "toutou",
          "chiens",
          "matou",
          "cocker",
          "chienne",
          "chatte",
          "miauler"
         ],
         "textposition": "top center",
         "type": "scatter",
         "x": [
          5.5268049240112305,
          9.518691062927246,
          9.247085571289062,
          5.795844554901123,
          9.123507499694824,
          5.091268062591553,
          4.973935127258301,
          8.730151176452637,
          6.520998001098633,
          6.083415985107422,
          8.757946968078613,
          8.020922660827637
         ],
         "y": [
          2.948380470275879,
          1.1387149095535278,
          2.4001145362854004,
          2.232943058013916,
          1.6778532266616821,
          3.5409038066864014,
          2.6964755058288574,
          1.0678021907806396,
          2.9403064250946045,
          3.5681638717651367,
          2.153280019760132,
          0.9417107105255127
         ]
        }
       ],
       "layout": {
        "height": 1000,
        "scene": {
         "xaxis": {
          "title": {
           "text": "Composante 1"
          }
         },
         "yaxis": {
          "title": {
           "text": "Composante 2"
          }
         }
        },
        "showlegend": false,
        "template": {
         "data": {
          "bar": [
           {
            "error_x": {
             "color": "#2a3f5f"
            },
            "error_y": {
             "color": "#2a3f5f"
            },
            "marker": {
             "line": {
              "color": "#E5ECF6",
              "width": 0.5
             },
             "pattern": {
              "fillmode": "overlay",
              "size": 10,
              "solidity": 0.2
             }
            },
            "type": "bar"
           }
          ],
          "barpolar": [
           {
            "marker": {
             "line": {
              "color": "#E5ECF6",
              "width": 0.5
             },
             "pattern": {
              "fillmode": "overlay",
              "size": 10,
              "solidity": 0.2
             }
            },
            "type": "barpolar"
           }
          ],
          "carpet": [
           {
            "aaxis": {
             "endlinecolor": "#2a3f5f",
             "gridcolor": "white",
             "linecolor": "white",
             "minorgridcolor": "white",
             "startlinecolor": "#2a3f5f"
            },
            "baxis": {
             "endlinecolor": "#2a3f5f",
             "gridcolor": "white",
             "linecolor": "white",
             "minorgridcolor": "white",
             "startlinecolor": "#2a3f5f"
            },
            "type": "carpet"
           }
          ],
          "choropleth": [
           {
            "colorbar": {
             "outlinewidth": 0,
             "ticks": ""
            },
            "type": "choropleth"
           }
          ],
          "contour": [
           {
            "colorbar": {
             "outlinewidth": 0,
             "ticks": ""
            },
            "colorscale": [
             [
              0,
              "#0d0887"
             ],
             [
              0.1111111111111111,
              "#46039f"
             ],
             [
              0.2222222222222222,
              "#7201a8"
             ],
             [
              0.3333333333333333,
              "#9c179e"
             ],
             [
              0.4444444444444444,
              "#bd3786"
             ],
             [
              0.5555555555555556,
              "#d8576b"
             ],
             [
              0.6666666666666666,
              "#ed7953"
             ],
             [
              0.7777777777777778,
              "#fb9f3a"
             ],
             [
              0.8888888888888888,
              "#fdca26"
             ],
             [
              1,
              "#f0f921"
             ]
            ],
            "type": "contour"
           }
          ],
          "contourcarpet": [
           {
            "colorbar": {
             "outlinewidth": 0,
             "ticks": ""
            },
            "type": "contourcarpet"
           }
          ],
          "heatmap": [
           {
            "colorbar": {
             "outlinewidth": 0,
             "ticks": ""
            },
            "colorscale": [
             [
              0,
              "#0d0887"
             ],
             [
              0.1111111111111111,
              "#46039f"
             ],
             [
              0.2222222222222222,
              "#7201a8"
             ],
             [
              0.3333333333333333,
              "#9c179e"
             ],
             [
              0.4444444444444444,
              "#bd3786"
             ],
             [
              0.5555555555555556,
              "#d8576b"
             ],
             [
              0.6666666666666666,
              "#ed7953"
             ],
             [
              0.7777777777777778,
              "#fb9f3a"
             ],
             [
              0.8888888888888888,
              "#fdca26"
             ],
             [
              1,
              "#f0f921"
             ]
            ],
            "type": "heatmap"
           }
          ],
          "heatmapgl": [
           {
            "colorbar": {
             "outlinewidth": 0,
             "ticks": ""
            },
            "colorscale": [
             [
              0,
              "#0d0887"
             ],
             [
              0.1111111111111111,
              "#46039f"
             ],
             [
              0.2222222222222222,
              "#7201a8"
             ],
             [
              0.3333333333333333,
              "#9c179e"
             ],
             [
              0.4444444444444444,
              "#bd3786"
             ],
             [
              0.5555555555555556,
              "#d8576b"
             ],
             [
              0.6666666666666666,
              "#ed7953"
             ],
             [
              0.7777777777777778,
              "#fb9f3a"
             ],
             [
              0.8888888888888888,
              "#fdca26"
             ],
             [
              1,
              "#f0f921"
             ]
            ],
            "type": "heatmapgl"
           }
          ],
          "histogram": [
           {
            "marker": {
             "pattern": {
              "fillmode": "overlay",
              "size": 10,
              "solidity": 0.2
             }
            },
            "type": "histogram"
           }
          ],
          "histogram2d": [
           {
            "colorbar": {
             "outlinewidth": 0,
             "ticks": ""
            },
            "colorscale": [
             [
              0,
              "#0d0887"
             ],
             [
              0.1111111111111111,
              "#46039f"
             ],
             [
              0.2222222222222222,
              "#7201a8"
             ],
             [
              0.3333333333333333,
              "#9c179e"
             ],
             [
              0.4444444444444444,
              "#bd3786"
             ],
             [
              0.5555555555555556,
              "#d8576b"
             ],
             [
              0.6666666666666666,
              "#ed7953"
             ],
             [
              0.7777777777777778,
              "#fb9f3a"
             ],
             [
              0.8888888888888888,
              "#fdca26"
             ],
             [
              1,
              "#f0f921"
             ]
            ],
            "type": "histogram2d"
           }
          ],
          "histogram2dcontour": [
           {
            "colorbar": {
             "outlinewidth": 0,
             "ticks": ""
            },
            "colorscale": [
             [
              0,
              "#0d0887"
             ],
             [
              0.1111111111111111,
              "#46039f"
             ],
             [
              0.2222222222222222,
              "#7201a8"
             ],
             [
              0.3333333333333333,
              "#9c179e"
             ],
             [
              0.4444444444444444,
              "#bd3786"
             ],
             [
              0.5555555555555556,
              "#d8576b"
             ],
             [
              0.6666666666666666,
              "#ed7953"
             ],
             [
              0.7777777777777778,
              "#fb9f3a"
             ],
             [
              0.8888888888888888,
              "#fdca26"
             ],
             [
              1,
              "#f0f921"
             ]
            ],
            "type": "histogram2dcontour"
           }
          ],
          "mesh3d": [
           {
            "colorbar": {
             "outlinewidth": 0,
             "ticks": ""
            },
            "type": "mesh3d"
           }
          ],
          "parcoords": [
           {
            "line": {
             "colorbar": {
              "outlinewidth": 0,
              "ticks": ""
             }
            },
            "type": "parcoords"
           }
          ],
          "pie": [
           {
            "automargin": true,
            "type": "pie"
           }
          ],
          "scatter": [
           {
            "fillpattern": {
             "fillmode": "overlay",
             "size": 10,
             "solidity": 0.2
            },
            "type": "scatter"
           }
          ],
          "scatter3d": [
           {
            "line": {
             "colorbar": {
              "outlinewidth": 0,
              "ticks": ""
             }
            },
            "marker": {
             "colorbar": {
              "outlinewidth": 0,
              "ticks": ""
             }
            },
            "type": "scatter3d"
           }
          ],
          "scattercarpet": [
           {
            "marker": {
             "colorbar": {
              "outlinewidth": 0,
              "ticks": ""
             }
            },
            "type": "scattercarpet"
           }
          ],
          "scattergeo": [
           {
            "marker": {
             "colorbar": {
              "outlinewidth": 0,
              "ticks": ""
             }
            },
            "type": "scattergeo"
           }
          ],
          "scattergl": [
           {
            "marker": {
             "colorbar": {
              "outlinewidth": 0,
              "ticks": ""
             }
            },
            "type": "scattergl"
           }
          ],
          "scattermapbox": [
           {
            "marker": {
             "colorbar": {
              "outlinewidth": 0,
              "ticks": ""
             }
            },
            "type": "scattermapbox"
           }
          ],
          "scatterpolar": [
           {
            "marker": {
             "colorbar": {
              "outlinewidth": 0,
              "ticks": ""
             }
            },
            "type": "scatterpolar"
           }
          ],
          "scatterpolargl": [
           {
            "marker": {
             "colorbar": {
              "outlinewidth": 0,
              "ticks": ""
             }
            },
            "type": "scatterpolargl"
           }
          ],
          "scatterternary": [
           {
            "marker": {
             "colorbar": {
              "outlinewidth": 0,
              "ticks": ""
             }
            },
            "type": "scatterternary"
           }
          ],
          "surface": [
           {
            "colorbar": {
             "outlinewidth": 0,
             "ticks": ""
            },
            "colorscale": [
             [
              0,
              "#0d0887"
             ],
             [
              0.1111111111111111,
              "#46039f"
             ],
             [
              0.2222222222222222,
              "#7201a8"
             ],
             [
              0.3333333333333333,
              "#9c179e"
             ],
             [
              0.4444444444444444,
              "#bd3786"
             ],
             [
              0.5555555555555556,
              "#d8576b"
             ],
             [
              0.6666666666666666,
              "#ed7953"
             ],
             [
              0.7777777777777778,
              "#fb9f3a"
             ],
             [
              0.8888888888888888,
              "#fdca26"
             ],
             [
              1,
              "#f0f921"
             ]
            ],
            "type": "surface"
           }
          ],
          "table": [
           {
            "cells": {
             "fill": {
              "color": "#EBF0F8"
             },
             "line": {
              "color": "white"
             }
            },
            "header": {
             "fill": {
              "color": "#C8D4E3"
             },
             "line": {
              "color": "white"
             }
            },
            "type": "table"
           }
          ]
         },
         "layout": {
          "annotationdefaults": {
           "arrowcolor": "#2a3f5f",
           "arrowhead": 0,
           "arrowwidth": 1
          },
          "autotypenumbers": "strict",
          "coloraxis": {
           "colorbar": {
            "outlinewidth": 0,
            "ticks": ""
           }
          },
          "colorscale": {
           "diverging": [
            [
             0,
             "#8e0152"
            ],
            [
             0.1,
             "#c51b7d"
            ],
            [
             0.2,
             "#de77ae"
            ],
            [
             0.3,
             "#f1b6da"
            ],
            [
             0.4,
             "#fde0ef"
            ],
            [
             0.5,
             "#f7f7f7"
            ],
            [
             0.6,
             "#e6f5d0"
            ],
            [
             0.7,
             "#b8e186"
            ],
            [
             0.8,
             "#7fbc41"
            ],
            [
             0.9,
             "#4d9221"
            ],
            [
             1,
             "#276419"
            ]
           ],
           "sequential": [
            [
             0,
             "#0d0887"
            ],
            [
             0.1111111111111111,
             "#46039f"
            ],
            [
             0.2222222222222222,
             "#7201a8"
            ],
            [
             0.3333333333333333,
             "#9c179e"
            ],
            [
             0.4444444444444444,
             "#bd3786"
            ],
            [
             0.5555555555555556,
             "#d8576b"
            ],
            [
             0.6666666666666666,
             "#ed7953"
            ],
            [
             0.7777777777777778,
             "#fb9f3a"
            ],
            [
             0.8888888888888888,
             "#fdca26"
            ],
            [
             1,
             "#f0f921"
            ]
           ],
           "sequentialminus": [
            [
             0,
             "#0d0887"
            ],
            [
             0.1111111111111111,
             "#46039f"
            ],
            [
             0.2222222222222222,
             "#7201a8"
            ],
            [
             0.3333333333333333,
             "#9c179e"
            ],
            [
             0.4444444444444444,
             "#bd3786"
            ],
            [
             0.5555555555555556,
             "#d8576b"
            ],
            [
             0.6666666666666666,
             "#ed7953"
            ],
            [
             0.7777777777777778,
             "#fb9f3a"
            ],
            [
             0.8888888888888888,
             "#fdca26"
            ],
            [
             1,
             "#f0f921"
            ]
           ]
          },
          "colorway": [
           "#636efa",
           "#EF553B",
           "#00cc96",
           "#ab63fa",
           "#FFA15A",
           "#19d3f3",
           "#FF6692",
           "#B6E880",
           "#FF97FF",
           "#FECB52"
          ],
          "font": {
           "color": "#2a3f5f"
          },
          "geo": {
           "bgcolor": "white",
           "lakecolor": "white",
           "landcolor": "#E5ECF6",
           "showlakes": true,
           "showland": true,
           "subunitcolor": "white"
          },
          "hoverlabel": {
           "align": "left"
          },
          "hovermode": "closest",
          "mapbox": {
           "style": "light"
          },
          "paper_bgcolor": "white",
          "plot_bgcolor": "#E5ECF6",
          "polar": {
           "angularaxis": {
            "gridcolor": "white",
            "linecolor": "white",
            "ticks": ""
           },
           "bgcolor": "#E5ECF6",
           "radialaxis": {
            "gridcolor": "white",
            "linecolor": "white",
            "ticks": ""
           }
          },
          "scene": {
           "xaxis": {
            "backgroundcolor": "#E5ECF6",
            "gridcolor": "white",
            "gridwidth": 2,
            "linecolor": "white",
            "showbackground": true,
            "ticks": "",
            "zerolinecolor": "white"
           },
           "yaxis": {
            "backgroundcolor": "#E5ECF6",
            "gridcolor": "white",
            "gridwidth": 2,
            "linecolor": "white",
            "showbackground": true,
            "ticks": "",
            "zerolinecolor": "white"
           },
           "zaxis": {
            "backgroundcolor": "#E5ECF6",
            "gridcolor": "white",
            "gridwidth": 2,
            "linecolor": "white",
            "showbackground": true,
            "ticks": "",
            "zerolinecolor": "white"
           }
          },
          "shapedefaults": {
           "line": {
            "color": "#2a3f5f"
           }
          },
          "ternary": {
           "aaxis": {
            "gridcolor": "white",
            "linecolor": "white",
            "ticks": ""
           },
           "baxis": {
            "gridcolor": "white",
            "linecolor": "white",
            "ticks": ""
           },
           "bgcolor": "#E5ECF6",
           "caxis": {
            "gridcolor": "white",
            "linecolor": "white",
            "ticks": ""
           }
          },
          "title": {
           "x": 0.05
          },
          "xaxis": {
           "automargin": true,
           "gridcolor": "white",
           "linecolor": "white",
           "ticks": "",
           "title": {
            "standoff": 15
           },
           "zerolinecolor": "white",
           "zerolinewidth": 2
          },
          "yaxis": {
           "automargin": true,
           "gridcolor": "white",
           "linecolor": "white",
           "ticks": "",
           "title": {
            "standoff": 15
           },
           "zerolinecolor": "white",
           "zerolinewidth": 2
          }
         }
        },
        "title": {
         "text": "Projection 2D des voisins de chat, chien par UMAP"
        },
        "width": 1200,
        "xaxis": {
         "title": {
          "text": "Composante 1"
         }
        },
        "yaxis": {
         "title": {
          "text": "Composante 2"
         }
        }
       }
      }
     },
     "metadata": {},
     "output_type": "display_data"
    },
    {
     "data": {
      "text/plain": [
       "['chien',\n",
       " 'minou',\n",
       " 'petit_chatte',\n",
       " 'aboyer',\n",
       " 'chat',\n",
       " 'toutou',\n",
       " 'chiens',\n",
       " 'matou',\n",
       " 'cocker',\n",
       " 'chienne',\n",
       " 'chatte',\n",
       " 'miauler']"
      ]
     },
     "execution_count": 62,
     "metadata": {},
     "output_type": "execute_result"
    }
   ],
   "source": [
    "def display_dimred_neighbors(model, word_list, n_components = 3, topn = 5, method = 'pca', n_neighbors = 5):\n",
    "    # Obtenir les voisins pour chaque mot à partir de la fonction `neighbors`\n",
    "    all_neighbors = neighbors(model, word_list, topn=topn)\n",
    "    \n",
    "    # Vérifier si des voisins ont été trouvés\n",
    "    if not all_neighbors:\n",
    "        print(\"Aucun mot voisin n'a été trouvé.\")\n",
    "        return\n",
    "    \n",
    "    # Récupérer les vecteurs et les étiquettes\n",
    "    words = [entry['neighbor'] for entry in all_neighbors] + [entry['ref_word'] for entry in all_neighbors]\n",
    "    unique_words = list(set(words))  # Eliminer les doublons\n",
    "    vectors = np.array([model[word] for word in unique_words])\n",
    "\n",
    "    \n",
    "    # Choisir la méthode de réduction de dimensionnalité\n",
    "    if method == 'pca':\n",
    "        reducer = PCA(n_components=n_components)\n",
    "    elif method == 'mds':\n",
    "        reducer = MDS(n_components=n_components, n_init=4, max_iter=300)\n",
    "    elif method == 'isomap':\n",
    "        reducer = Isomap(n_components=n_components, n_neighbors=n_neighbors)\n",
    "    elif method == 'tsne':\n",
    "        reducer = TSNE(n_components=n_components, perplexity=n_neighbors, n_iter=500, random_state=42)\n",
    "    elif method == 'umap':\n",
    "        reducer = UMAP(n_components=n_components, n_neighbors=n_neighbors, random_state=42)\n",
    "    else:\n",
    "        raise ValueError(\"Méthode de réduction de dimensionnalité non reconnue.\")\n",
    "    \n",
    "    # Réduction des vecteurs en n dimensions\n",
    "    vectors_reduced = reducer.fit_transform(vectors)\n",
    "    \n",
    "    # Création des traces pour l'affichage\n",
    "    if n_components == 2:\n",
    "        trace = go.Scatter(\n",
    "            x=vectors_reduced[:, 0],\n",
    "            y=vectors_reduced[:, 1],\n",
    "            mode='markers+text',\n",
    "            text=unique_words,\n",
    "            marker=dict(size=10, color='rgba(93, 164, 214, 0.8)'),\n",
    "            textposition='top center'\n",
    "        )\n",
    "    elif n_components == 3:\n",
    "        trace = go.Scatter3d(\n",
    "            x=vectors_reduced[:, 0],\n",
    "            y=vectors_reduced[:, 1],\n",
    "            z=vectors_reduced[:, 2],\n",
    "            mode='markers+text',\n",
    "            text=unique_words,\n",
    "            marker=dict(size=5, color='rgba(255, 0, 0, 0.8)'),\n",
    "            textposition='top center'\n",
    "        )\n",
    "    \n",
    "    # Définir le layout\n",
    "    layout = go.Layout(\n",
    "        title=f\"Projection {n_components}D des voisins de {', '.join(word_list)} par {method.upper()}\",\n",
    "        width=1200,\n",
    "        height=1000,\n",
    "        scene=dict(\n",
    "            xaxis=dict(title='Composante 1'),\n",
    "            yaxis=dict(title='Composante 2'),\n",
    "            zaxis=dict(title='Composante 3') if n_components == 3 else None\n",
    "        ),\n",
    "        xaxis=dict(title='Composante 1') if n_components == 2 else None,\n",
    "        yaxis=dict(title='Composante 2') if n_components == 2 else None,\n",
    "        showlegend=False\n",
    "    )\n",
    "    \n",
    "    # Créer et afficher la figure\n",
    "    fig = go.Figure(data=[trace], layout=layout)\n",
    "    fig.show()\n",
    "    return unique_words\n",
    "\n",
    "# Exemple d'utilisation\n",
    "display_dimred_neighbors(model, ['chat', 'chien'], n_components=2, topn=5, method='umap')"
   ]
  },
  {
   "cell_type": "markdown",
   "id": "85bab949",
   "metadata": {},
   "source": [
    "## 4. Application à l'étude des mots voisins dans word2vec\n",
    "\n",
    "Veuillez choisir quatre mots (`word_list = [m1, m2, m3, m4]`) de façon à ce que m1 et m2 soient très proches par leur sens ou leur usage, m3 un peu plus éloigné, et m4 très éloigné.  L'objectif de cette question est d'étudier la distribution des mots voisins de ces quatre mots (entre 10 et 50) par une visualisation en 2D ou en 3D des vecteurs de mots.  \n",
    "\n",
    "En expérimentant avec plusieurs configurations (méthode de réduction de dimensionnalité, valeur de `n_neighbors`, nombre de voisins `topn`), veuillez répondre aux questions suivantes, à l'aide d'un ou plusieurs graphiques par question :\n",
    "\n",
    "**a.** si on utilise une méthode de réduction de dimensionnalité linéaire (PCA ou MDS métrique), les quatre groupes de mots sont-ils clairement séparés dans word2vec ?\n",
    "\n",
    "**b.** si on utilise une méthode de réduction de dimensionnalité non-linéaire (Isomap, t-SNE ou UMAP), peut-on mieux mettre en évidence les quatre groupes de mots ?  Quels sont les meilleurs paramètres que vous avez trouvés permettant de bien identifier les quatre ensembles ?\n",
    "\n",
    "**c.** inversement, trouvez-vous des paramètres qui aboutissent à cinq clusters ? ou à trois ?"
   ]
  },
  {
   "cell_type": "code",
   "execution_count": 43,
   "id": "e1ad49f1",
   "metadata": {},
   "outputs": [],
   "source": [
    "# Insérer ici la liste de mots.\n",
    "mots = ['grecque', 'latin', 'oublier', 'nourriture']"
   ]
  },
  {
   "cell_type": "code",
   "execution_count": null,
   "id": "f6879e09",
   "metadata": {},
   "outputs": [
    {
     "data": {
      "application/vnd.plotly.v1+json": {
       "config": {
        "plotlyServerURL": "https://plot.ly"
       },
       "data": [
        {
         "marker": {
          "color": "rgba(255, 0, 0, 0.8)",
          "size": 5
         },
         "mode": "markers+text",
         "text": [
          "dire",
          "nouriture",
          "là",
          "nourrir",
          "jamais",
          "hellènes",
          "ration_quotidien",
          "ne",
          "gréco-",
          "latin_médiéval",
          "greque",
          "ve_siècle_av_jésus-christ",
          "ionien",
          "grecquer",
          "falloir",
          "oublier",
          "vivres",
          "grecs",
          "hellénique",
          "iiie_siècle_av_jésus-christ",
          "mot_latin",
          "proie_vivant",
          "latiniser",
          "pâtée",
          "langue_vulgaire",
          "rien",
          "étymologie",
          "racine_grec",
          "grammairien",
          "grec",
          "verbe_latin",
          "affamer",
          "nourriture",
          "aliment",
          "mais",
          "nourriture_sain",
          "manger",
          "latiniste",
          "pas",
          "latin",
          "toujours",
          "grecque",
          "quand"
         ],
         "textposition": "top center",
         "type": "scatter3d",
         "x": [
          -6.288455486297607,
          -5.442409038543701,
          -6.703448295593262,
          -6.284543037414551,
          -7.161020278930664,
          1.638086199760437,
          -3.06010103225708,
          -7.532951831817627,
          4.505522727966309,
          7.411875247955322,
          1.9810558557510376,
          3.692758798599243,
          6.546274185180664,
          5.517796993255615,
          -8.357555389404297,
          -6.13130521774292,
          -8.151331901550293,
          7.552677631378174,
          9.239381790161133,
          4.0279083251953125,
          11.915115356445312,
          -2.542842388153076,
          5.146373271942139,
          -6.778570175170898,
          6.2802958488464355,
          -7.865640163421631,
          13.980607032775879,
          5.694478511810303,
          10.09306812286377,
          12.216920852661133,
          3.236905097961426,
          -9.446356773376465,
          -10.839452743530273,
          -5.704153060913086,
          -6.574577331542969,
          -3.3607709407806396,
          -10.755138397216797,
          8.787592887878418,
          -7.872262477874756,
          13.868159294128418,
          -6.171847343444824,
          7.416886806488037,
          -7.72498893737793
         ],
         "y": [
          -9.01242733001709,
          4.348903179168701,
          -8.016894340515137,
          5.016504287719727,
          -7.815266132354736,
          0.8008767366409302,
          4.22847318649292,
          -9.203022956848145,
          0.9845223426818848,
          0.6180983781814575,
          0.6821199655532837,
          1.5519458055496216,
          1.6066381931304932,
          1.3400158882141113,
          -7.904649257659912,
          -5.585824966430664,
          15.028264999389648,
          1.1890745162963867,
          3.1955502033233643,
          2.0043537616729736,
          -1.2378489971160889,
          4.102285385131836,
          0.34496769309043884,
          6.505963325500488,
          -0.20986032485961914,
          -8.67934513092041,
          -2.257075786590576,
          0.5091220736503601,
          -2.895627975463867,
          -0.3339369297027588,
          -0.22885805368423462,
          8.511950492858887,
          13.634064674377441,
          10.399107933044434,
          -8.024170875549316,
          5.372861862182617,
          3.6785197257995605,
          -1.7541347742080688,
          -9.06733512878418,
          -2.195955991744995,
          -6.183528900146484,
          1.6955745220184326,
          -6.743989944458008
         ],
         "z": [
          -1.2179630994796753,
          -0.49382078647613525,
          0.4484778046607971,
          -0.4191596806049347,
          1.071492314338684,
          3.625786066055298,
          0.14040033519268036,
          0.18680644035339355,
          3.5025792121887207,
          -1.7899705171585083,
          2.413987874984741,
          4.202081680297852,
          5.664351463317871,
          4.1190185546875,
          0.29653099179267883,
          0.8783338069915771,
          0.32840415835380554,
          7.135518550872803,
          10.087748527526855,
          4.288639068603516,
          -7.783528804779053,
          0.26172003149986267,
          0.26489925384521484,
          -3.2977726459503174,
          -2.211205244064331,
          -0.14545440673828125,
          -12.348910331726074,
          -1.3506494760513306,
          -3.9325742721557617,
          3.219172239303589,
          -1.7033203840255737,
          0.6882144808769226,
          -3.8013997077941895,
          -5.228117942810059,
          0.49779120087623596,
          -0.2789742350578308,
          -4.655823230743408,
          -0.6330344080924988,
          -0.2782623767852783,
          -8.562822341918945,
          1.1994502544403076,
          5.705904960632324,
          -0.09456471353769302
         ]
        }
       ],
       "layout": {
        "height": 1000,
        "scene": {
         "xaxis": {
          "title": {
           "text": "Composante 1"
          }
         },
         "yaxis": {
          "title": {
           "text": "Composante 2"
          }
         },
         "zaxis": {
          "title": {
           "text": "Composante 3"
          }
         }
        },
        "showlegend": false,
        "template": {
         "data": {
          "bar": [
           {
            "error_x": {
             "color": "#2a3f5f"
            },
            "error_y": {
             "color": "#2a3f5f"
            },
            "marker": {
             "line": {
              "color": "#E5ECF6",
              "width": 0.5
             },
             "pattern": {
              "fillmode": "overlay",
              "size": 10,
              "solidity": 0.2
             }
            },
            "type": "bar"
           }
          ],
          "barpolar": [
           {
            "marker": {
             "line": {
              "color": "#E5ECF6",
              "width": 0.5
             },
             "pattern": {
              "fillmode": "overlay",
              "size": 10,
              "solidity": 0.2
             }
            },
            "type": "barpolar"
           }
          ],
          "carpet": [
           {
            "aaxis": {
             "endlinecolor": "#2a3f5f",
             "gridcolor": "white",
             "linecolor": "white",
             "minorgridcolor": "white",
             "startlinecolor": "#2a3f5f"
            },
            "baxis": {
             "endlinecolor": "#2a3f5f",
             "gridcolor": "white",
             "linecolor": "white",
             "minorgridcolor": "white",
             "startlinecolor": "#2a3f5f"
            },
            "type": "carpet"
           }
          ],
          "choropleth": [
           {
            "colorbar": {
             "outlinewidth": 0,
             "ticks": ""
            },
            "type": "choropleth"
           }
          ],
          "contour": [
           {
            "colorbar": {
             "outlinewidth": 0,
             "ticks": ""
            },
            "colorscale": [
             [
              0,
              "#0d0887"
             ],
             [
              0.1111111111111111,
              "#46039f"
             ],
             [
              0.2222222222222222,
              "#7201a8"
             ],
             [
              0.3333333333333333,
              "#9c179e"
             ],
             [
              0.4444444444444444,
              "#bd3786"
             ],
             [
              0.5555555555555556,
              "#d8576b"
             ],
             [
              0.6666666666666666,
              "#ed7953"
             ],
             [
              0.7777777777777778,
              "#fb9f3a"
             ],
             [
              0.8888888888888888,
              "#fdca26"
             ],
             [
              1,
              "#f0f921"
             ]
            ],
            "type": "contour"
           }
          ],
          "contourcarpet": [
           {
            "colorbar": {
             "outlinewidth": 0,
             "ticks": ""
            },
            "type": "contourcarpet"
           }
          ],
          "heatmap": [
           {
            "colorbar": {
             "outlinewidth": 0,
             "ticks": ""
            },
            "colorscale": [
             [
              0,
              "#0d0887"
             ],
             [
              0.1111111111111111,
              "#46039f"
             ],
             [
              0.2222222222222222,
              "#7201a8"
             ],
             [
              0.3333333333333333,
              "#9c179e"
             ],
             [
              0.4444444444444444,
              "#bd3786"
             ],
             [
              0.5555555555555556,
              "#d8576b"
             ],
             [
              0.6666666666666666,
              "#ed7953"
             ],
             [
              0.7777777777777778,
              "#fb9f3a"
             ],
             [
              0.8888888888888888,
              "#fdca26"
             ],
             [
              1,
              "#f0f921"
             ]
            ],
            "type": "heatmap"
           }
          ],
          "heatmapgl": [
           {
            "colorbar": {
             "outlinewidth": 0,
             "ticks": ""
            },
            "colorscale": [
             [
              0,
              "#0d0887"
             ],
             [
              0.1111111111111111,
              "#46039f"
             ],
             [
              0.2222222222222222,
              "#7201a8"
             ],
             [
              0.3333333333333333,
              "#9c179e"
             ],
             [
              0.4444444444444444,
              "#bd3786"
             ],
             [
              0.5555555555555556,
              "#d8576b"
             ],
             [
              0.6666666666666666,
              "#ed7953"
             ],
             [
              0.7777777777777778,
              "#fb9f3a"
             ],
             [
              0.8888888888888888,
              "#fdca26"
             ],
             [
              1,
              "#f0f921"
             ]
            ],
            "type": "heatmapgl"
           }
          ],
          "histogram": [
           {
            "marker": {
             "pattern": {
              "fillmode": "overlay",
              "size": 10,
              "solidity": 0.2
             }
            },
            "type": "histogram"
           }
          ],
          "histogram2d": [
           {
            "colorbar": {
             "outlinewidth": 0,
             "ticks": ""
            },
            "colorscale": [
             [
              0,
              "#0d0887"
             ],
             [
              0.1111111111111111,
              "#46039f"
             ],
             [
              0.2222222222222222,
              "#7201a8"
             ],
             [
              0.3333333333333333,
              "#9c179e"
             ],
             [
              0.4444444444444444,
              "#bd3786"
             ],
             [
              0.5555555555555556,
              "#d8576b"
             ],
             [
              0.6666666666666666,
              "#ed7953"
             ],
             [
              0.7777777777777778,
              "#fb9f3a"
             ],
             [
              0.8888888888888888,
              "#fdca26"
             ],
             [
              1,
              "#f0f921"
             ]
            ],
            "type": "histogram2d"
           }
          ],
          "histogram2dcontour": [
           {
            "colorbar": {
             "outlinewidth": 0,
             "ticks": ""
            },
            "colorscale": [
             [
              0,
              "#0d0887"
             ],
             [
              0.1111111111111111,
              "#46039f"
             ],
             [
              0.2222222222222222,
              "#7201a8"
             ],
             [
              0.3333333333333333,
              "#9c179e"
             ],
             [
              0.4444444444444444,
              "#bd3786"
             ],
             [
              0.5555555555555556,
              "#d8576b"
             ],
             [
              0.6666666666666666,
              "#ed7953"
             ],
             [
              0.7777777777777778,
              "#fb9f3a"
             ],
             [
              0.8888888888888888,
              "#fdca26"
             ],
             [
              1,
              "#f0f921"
             ]
            ],
            "type": "histogram2dcontour"
           }
          ],
          "mesh3d": [
           {
            "colorbar": {
             "outlinewidth": 0,
             "ticks": ""
            },
            "type": "mesh3d"
           }
          ],
          "parcoords": [
           {
            "line": {
             "colorbar": {
              "outlinewidth": 0,
              "ticks": ""
             }
            },
            "type": "parcoords"
           }
          ],
          "pie": [
           {
            "automargin": true,
            "type": "pie"
           }
          ],
          "scatter": [
           {
            "fillpattern": {
             "fillmode": "overlay",
             "size": 10,
             "solidity": 0.2
            },
            "type": "scatter"
           }
          ],
          "scatter3d": [
           {
            "line": {
             "colorbar": {
              "outlinewidth": 0,
              "ticks": ""
             }
            },
            "marker": {
             "colorbar": {
              "outlinewidth": 0,
              "ticks": ""
             }
            },
            "type": "scatter3d"
           }
          ],
          "scattercarpet": [
           {
            "marker": {
             "colorbar": {
              "outlinewidth": 0,
              "ticks": ""
             }
            },
            "type": "scattercarpet"
           }
          ],
          "scattergeo": [
           {
            "marker": {
             "colorbar": {
              "outlinewidth": 0,
              "ticks": ""
             }
            },
            "type": "scattergeo"
           }
          ],
          "scattergl": [
           {
            "marker": {
             "colorbar": {
              "outlinewidth": 0,
              "ticks": ""
             }
            },
            "type": "scattergl"
           }
          ],
          "scattermapbox": [
           {
            "marker": {
             "colorbar": {
              "outlinewidth": 0,
              "ticks": ""
             }
            },
            "type": "scattermapbox"
           }
          ],
          "scatterpolar": [
           {
            "marker": {
             "colorbar": {
              "outlinewidth": 0,
              "ticks": ""
             }
            },
            "type": "scatterpolar"
           }
          ],
          "scatterpolargl": [
           {
            "marker": {
             "colorbar": {
              "outlinewidth": 0,
              "ticks": ""
             }
            },
            "type": "scatterpolargl"
           }
          ],
          "scatterternary": [
           {
            "marker": {
             "colorbar": {
              "outlinewidth": 0,
              "ticks": ""
             }
            },
            "type": "scatterternary"
           }
          ],
          "surface": [
           {
            "colorbar": {
             "outlinewidth": 0,
             "ticks": ""
            },
            "colorscale": [
             [
              0,
              "#0d0887"
             ],
             [
              0.1111111111111111,
              "#46039f"
             ],
             [
              0.2222222222222222,
              "#7201a8"
             ],
             [
              0.3333333333333333,
              "#9c179e"
             ],
             [
              0.4444444444444444,
              "#bd3786"
             ],
             [
              0.5555555555555556,
              "#d8576b"
             ],
             [
              0.6666666666666666,
              "#ed7953"
             ],
             [
              0.7777777777777778,
              "#fb9f3a"
             ],
             [
              0.8888888888888888,
              "#fdca26"
             ],
             [
              1,
              "#f0f921"
             ]
            ],
            "type": "surface"
           }
          ],
          "table": [
           {
            "cells": {
             "fill": {
              "color": "#EBF0F8"
             },
             "line": {
              "color": "white"
             }
            },
            "header": {
             "fill": {
              "color": "#C8D4E3"
             },
             "line": {
              "color": "white"
             }
            },
            "type": "table"
           }
          ]
         },
         "layout": {
          "annotationdefaults": {
           "arrowcolor": "#2a3f5f",
           "arrowhead": 0,
           "arrowwidth": 1
          },
          "autotypenumbers": "strict",
          "coloraxis": {
           "colorbar": {
            "outlinewidth": 0,
            "ticks": ""
           }
          },
          "colorscale": {
           "diverging": [
            [
             0,
             "#8e0152"
            ],
            [
             0.1,
             "#c51b7d"
            ],
            [
             0.2,
             "#de77ae"
            ],
            [
             0.3,
             "#f1b6da"
            ],
            [
             0.4,
             "#fde0ef"
            ],
            [
             0.5,
             "#f7f7f7"
            ],
            [
             0.6,
             "#e6f5d0"
            ],
            [
             0.7,
             "#b8e186"
            ],
            [
             0.8,
             "#7fbc41"
            ],
            [
             0.9,
             "#4d9221"
            ],
            [
             1,
             "#276419"
            ]
           ],
           "sequential": [
            [
             0,
             "#0d0887"
            ],
            [
             0.1111111111111111,
             "#46039f"
            ],
            [
             0.2222222222222222,
             "#7201a8"
            ],
            [
             0.3333333333333333,
             "#9c179e"
            ],
            [
             0.4444444444444444,
             "#bd3786"
            ],
            [
             0.5555555555555556,
             "#d8576b"
            ],
            [
             0.6666666666666666,
             "#ed7953"
            ],
            [
             0.7777777777777778,
             "#fb9f3a"
            ],
            [
             0.8888888888888888,
             "#fdca26"
            ],
            [
             1,
             "#f0f921"
            ]
           ],
           "sequentialminus": [
            [
             0,
             "#0d0887"
            ],
            [
             0.1111111111111111,
             "#46039f"
            ],
            [
             0.2222222222222222,
             "#7201a8"
            ],
            [
             0.3333333333333333,
             "#9c179e"
            ],
            [
             0.4444444444444444,
             "#bd3786"
            ],
            [
             0.5555555555555556,
             "#d8576b"
            ],
            [
             0.6666666666666666,
             "#ed7953"
            ],
            [
             0.7777777777777778,
             "#fb9f3a"
            ],
            [
             0.8888888888888888,
             "#fdca26"
            ],
            [
             1,
             "#f0f921"
            ]
           ]
          },
          "colorway": [
           "#636efa",
           "#EF553B",
           "#00cc96",
           "#ab63fa",
           "#FFA15A",
           "#19d3f3",
           "#FF6692",
           "#B6E880",
           "#FF97FF",
           "#FECB52"
          ],
          "font": {
           "color": "#2a3f5f"
          },
          "geo": {
           "bgcolor": "white",
           "lakecolor": "white",
           "landcolor": "#E5ECF6",
           "showlakes": true,
           "showland": true,
           "subunitcolor": "white"
          },
          "hoverlabel": {
           "align": "left"
          },
          "hovermode": "closest",
          "mapbox": {
           "style": "light"
          },
          "paper_bgcolor": "white",
          "plot_bgcolor": "#E5ECF6",
          "polar": {
           "angularaxis": {
            "gridcolor": "white",
            "linecolor": "white",
            "ticks": ""
           },
           "bgcolor": "#E5ECF6",
           "radialaxis": {
            "gridcolor": "white",
            "linecolor": "white",
            "ticks": ""
           }
          },
          "scene": {
           "xaxis": {
            "backgroundcolor": "#E5ECF6",
            "gridcolor": "white",
            "gridwidth": 2,
            "linecolor": "white",
            "showbackground": true,
            "ticks": "",
            "zerolinecolor": "white"
           },
           "yaxis": {
            "backgroundcolor": "#E5ECF6",
            "gridcolor": "white",
            "gridwidth": 2,
            "linecolor": "white",
            "showbackground": true,
            "ticks": "",
            "zerolinecolor": "white"
           },
           "zaxis": {
            "backgroundcolor": "#E5ECF6",
            "gridcolor": "white",
            "gridwidth": 2,
            "linecolor": "white",
            "showbackground": true,
            "ticks": "",
            "zerolinecolor": "white"
           }
          },
          "shapedefaults": {
           "line": {
            "color": "#2a3f5f"
           }
          },
          "ternary": {
           "aaxis": {
            "gridcolor": "white",
            "linecolor": "white",
            "ticks": ""
           },
           "baxis": {
            "gridcolor": "white",
            "linecolor": "white",
            "ticks": ""
           },
           "bgcolor": "#E5ECF6",
           "caxis": {
            "gridcolor": "white",
            "linecolor": "white",
            "ticks": ""
           }
          },
          "title": {
           "x": 0.05
          },
          "xaxis": {
           "automargin": true,
           "gridcolor": "white",
           "linecolor": "white",
           "ticks": "",
           "title": {
            "standoff": 15
           },
           "zerolinecolor": "white",
           "zerolinewidth": 2
          },
          "yaxis": {
           "automargin": true,
           "gridcolor": "white",
           "linecolor": "white",
           "ticks": "",
           "title": {
            "standoff": 15
           },
           "zerolinecolor": "white",
           "zerolinewidth": 2
          }
         }
        },
        "title": {
         "text": "Projection 3D des voisins de grecque, latin, oublier, nourriture par PCA"
        },
        "width": 1200
       }
      }
     },
     "metadata": {},
     "output_type": "display_data"
    },
    {
     "data": {
      "application/vnd.plotly.v1+json": {
       "config": {
        "plotlyServerURL": "https://plot.ly"
       },
       "data": [
        {
         "marker": {
          "color": "rgba(255, 0, 0, 0.8)",
          "size": 5
         },
         "mode": "markers+text",
         "text": [
          "dire",
          "nouriture",
          "là",
          "nourrir",
          "jamais",
          "hellènes",
          "ration_quotidien",
          "ne",
          "gréco-",
          "latin_médiéval",
          "greque",
          "ve_siècle_av_jésus-christ",
          "ionien",
          "grecquer",
          "falloir",
          "oublier",
          "vivres",
          "grecs",
          "hellénique",
          "iiie_siècle_av_jésus-christ",
          "mot_latin",
          "proie_vivant",
          "latiniser",
          "pâtée",
          "langue_vulgaire",
          "rien",
          "étymologie",
          "racine_grec",
          "grammairien",
          "grec",
          "verbe_latin",
          "affamer",
          "nourriture",
          "aliment",
          "mais",
          "nourriture_sain",
          "manger",
          "latiniste",
          "pas",
          "latin",
          "toujours",
          "grecque",
          "quand"
         ],
         "textposition": "top center",
         "type": "scatter3d",
         "x": [
          9.969547482939989,
          -8.66417200328333,
          6.681710932825138,
          -3.691451990601777,
          10.98402130932322,
          -0.5857650858818122,
          -6.283337480878152,
          11.467474793703111,
          2.601645789996604,
          -2.2141695296970134,
          -1.000856834742366,
          -1.1555039234113889,
          1.1810940374072239,
          -1.2239063583997467,
          5.266854205352118,
          3.9277529911545064,
          -22.087241529825622,
          6.213598511299665,
          -3.1724529884984025,
          -3.168638916907799,
          -1.246005493997538,
          -6.081701290973676,
          3.236865011754718,
          -10.637886161003646,
          2.2155084523688218,
          8.792928885918522,
          2.8676732620837546,
          -3.2137757514715806,
          12.759848593528718,
          6.4142997533089785,
          0.4440498568283771,
          -9.182622007089694,
          -18.237356411132303,
          -20.44544351102185,
          7.979871589493241,
          -9.678048148797338,
          -6.925799111612762,
          15.580429091877841,
          9.292862511123971,
          9.89689828812778,
          4.7885265121869605,
          -7.398437062439106,
          3.7311097290636326
         ],
         "y": [
          -8.008052586498362,
          -7.639239480314356,
          -9.883637813374152,
          -7.3674538289423595,
          -7.195888016584778,
          1.5865155282001395,
          -2.8662416918085287,
          -7.920241341961503,
          5.318750293248901,
          7.392130471866211,
          1.5956749516253776,
          4.345671596752784,
          8.614841597951465,
          8.285592167293432,
          -13.009534898479979,
          -8.95666581572466,
          -3.833295477115252,
          9.590094269792992,
          13.823346800644702,
          5.459779857201535,
          15.436097857290784,
          -2.1516271879775597,
          5.691431292272535,
          -6.532010253949399,
          3.7532743022932293,
          -11.196578162825679,
          13.248207501738506,
          6.1770589147530695,
          7.411755303324214,
          16.759427158263794,
          1.732166356725559,
          -13.129468340991906,
          -11.822612617227776,
          0.9385184263459325,
          -6.926719500871194,
          -1.8301641455772644,
          -19.341990130690082,
          9.898160468965957,
          -9.592917908611794,
          16.94810952112783,
          -6.861597222851342,
          13.664063200409148,
          -11.604731415710129
         ],
         "z": [
          4.381038104079288,
          2.343251199930228,
          -0.24928054410580952,
          -15.039994483484495,
          -0.13076006233741383,
          -1.6467121733899008,
          2.257573357354628,
          -5.426215075020532,
          -2.3656625209015165,
          8.23598849321025,
          0.8116503783239483,
          -4.604743072180318,
          -6.99473380633704,
          -0.9804972495699946,
          -5.548376522736111,
          6.8389416690802145,
          13.816988306636713,
          -15.544662892020128,
          -11.119029911681713,
          -2.4649803194378674,
          9.883624281927682,
          -4.5075299106204785,
          2.9864774517998898,
          -12.714800280722967,
          11.596731323674451,
          2.791838839646984,
          18.965506216832615,
          4.37765237694399,
          10.7718431690067,
          -5.946320631324884,
          5.141182495699368,
          13.076093049079937,
          -3.2640693828439513,
          -8.05706764696827,
          -5.403622169009445,
          -0.9934153086850359,
          0.941069607014082,
          -1.6017235458935415,
          -3.8516813328195236,
          6.7844624622286736,
          -5.890237045596071,
          -2.5753885195822663,
          0.9195916247996369
         ]
        }
       ],
       "layout": {
        "height": 1000,
        "scene": {
         "xaxis": {
          "title": {
           "text": "Composante 1"
          }
         },
         "yaxis": {
          "title": {
           "text": "Composante 2"
          }
         },
         "zaxis": {
          "title": {
           "text": "Composante 3"
          }
         }
        },
        "showlegend": false,
        "template": {
         "data": {
          "bar": [
           {
            "error_x": {
             "color": "#2a3f5f"
            },
            "error_y": {
             "color": "#2a3f5f"
            },
            "marker": {
             "line": {
              "color": "#E5ECF6",
              "width": 0.5
             },
             "pattern": {
              "fillmode": "overlay",
              "size": 10,
              "solidity": 0.2
             }
            },
            "type": "bar"
           }
          ],
          "barpolar": [
           {
            "marker": {
             "line": {
              "color": "#E5ECF6",
              "width": 0.5
             },
             "pattern": {
              "fillmode": "overlay",
              "size": 10,
              "solidity": 0.2
             }
            },
            "type": "barpolar"
           }
          ],
          "carpet": [
           {
            "aaxis": {
             "endlinecolor": "#2a3f5f",
             "gridcolor": "white",
             "linecolor": "white",
             "minorgridcolor": "white",
             "startlinecolor": "#2a3f5f"
            },
            "baxis": {
             "endlinecolor": "#2a3f5f",
             "gridcolor": "white",
             "linecolor": "white",
             "minorgridcolor": "white",
             "startlinecolor": "#2a3f5f"
            },
            "type": "carpet"
           }
          ],
          "choropleth": [
           {
            "colorbar": {
             "outlinewidth": 0,
             "ticks": ""
            },
            "type": "choropleth"
           }
          ],
          "contour": [
           {
            "colorbar": {
             "outlinewidth": 0,
             "ticks": ""
            },
            "colorscale": [
             [
              0,
              "#0d0887"
             ],
             [
              0.1111111111111111,
              "#46039f"
             ],
             [
              0.2222222222222222,
              "#7201a8"
             ],
             [
              0.3333333333333333,
              "#9c179e"
             ],
             [
              0.4444444444444444,
              "#bd3786"
             ],
             [
              0.5555555555555556,
              "#d8576b"
             ],
             [
              0.6666666666666666,
              "#ed7953"
             ],
             [
              0.7777777777777778,
              "#fb9f3a"
             ],
             [
              0.8888888888888888,
              "#fdca26"
             ],
             [
              1,
              "#f0f921"
             ]
            ],
            "type": "contour"
           }
          ],
          "contourcarpet": [
           {
            "colorbar": {
             "outlinewidth": 0,
             "ticks": ""
            },
            "type": "contourcarpet"
           }
          ],
          "heatmap": [
           {
            "colorbar": {
             "outlinewidth": 0,
             "ticks": ""
            },
            "colorscale": [
             [
              0,
              "#0d0887"
             ],
             [
              0.1111111111111111,
              "#46039f"
             ],
             [
              0.2222222222222222,
              "#7201a8"
             ],
             [
              0.3333333333333333,
              "#9c179e"
             ],
             [
              0.4444444444444444,
              "#bd3786"
             ],
             [
              0.5555555555555556,
              "#d8576b"
             ],
             [
              0.6666666666666666,
              "#ed7953"
             ],
             [
              0.7777777777777778,
              "#fb9f3a"
             ],
             [
              0.8888888888888888,
              "#fdca26"
             ],
             [
              1,
              "#f0f921"
             ]
            ],
            "type": "heatmap"
           }
          ],
          "heatmapgl": [
           {
            "colorbar": {
             "outlinewidth": 0,
             "ticks": ""
            },
            "colorscale": [
             [
              0,
              "#0d0887"
             ],
             [
              0.1111111111111111,
              "#46039f"
             ],
             [
              0.2222222222222222,
              "#7201a8"
             ],
             [
              0.3333333333333333,
              "#9c179e"
             ],
             [
              0.4444444444444444,
              "#bd3786"
             ],
             [
              0.5555555555555556,
              "#d8576b"
             ],
             [
              0.6666666666666666,
              "#ed7953"
             ],
             [
              0.7777777777777778,
              "#fb9f3a"
             ],
             [
              0.8888888888888888,
              "#fdca26"
             ],
             [
              1,
              "#f0f921"
             ]
            ],
            "type": "heatmapgl"
           }
          ],
          "histogram": [
           {
            "marker": {
             "pattern": {
              "fillmode": "overlay",
              "size": 10,
              "solidity": 0.2
             }
            },
            "type": "histogram"
           }
          ],
          "histogram2d": [
           {
            "colorbar": {
             "outlinewidth": 0,
             "ticks": ""
            },
            "colorscale": [
             [
              0,
              "#0d0887"
             ],
             [
              0.1111111111111111,
              "#46039f"
             ],
             [
              0.2222222222222222,
              "#7201a8"
             ],
             [
              0.3333333333333333,
              "#9c179e"
             ],
             [
              0.4444444444444444,
              "#bd3786"
             ],
             [
              0.5555555555555556,
              "#d8576b"
             ],
             [
              0.6666666666666666,
              "#ed7953"
             ],
             [
              0.7777777777777778,
              "#fb9f3a"
             ],
             [
              0.8888888888888888,
              "#fdca26"
             ],
             [
              1,
              "#f0f921"
             ]
            ],
            "type": "histogram2d"
           }
          ],
          "histogram2dcontour": [
           {
            "colorbar": {
             "outlinewidth": 0,
             "ticks": ""
            },
            "colorscale": [
             [
              0,
              "#0d0887"
             ],
             [
              0.1111111111111111,
              "#46039f"
             ],
             [
              0.2222222222222222,
              "#7201a8"
             ],
             [
              0.3333333333333333,
              "#9c179e"
             ],
             [
              0.4444444444444444,
              "#bd3786"
             ],
             [
              0.5555555555555556,
              "#d8576b"
             ],
             [
              0.6666666666666666,
              "#ed7953"
             ],
             [
              0.7777777777777778,
              "#fb9f3a"
             ],
             [
              0.8888888888888888,
              "#fdca26"
             ],
             [
              1,
              "#f0f921"
             ]
            ],
            "type": "histogram2dcontour"
           }
          ],
          "mesh3d": [
           {
            "colorbar": {
             "outlinewidth": 0,
             "ticks": ""
            },
            "type": "mesh3d"
           }
          ],
          "parcoords": [
           {
            "line": {
             "colorbar": {
              "outlinewidth": 0,
              "ticks": ""
             }
            },
            "type": "parcoords"
           }
          ],
          "pie": [
           {
            "automargin": true,
            "type": "pie"
           }
          ],
          "scatter": [
           {
            "fillpattern": {
             "fillmode": "overlay",
             "size": 10,
             "solidity": 0.2
            },
            "type": "scatter"
           }
          ],
          "scatter3d": [
           {
            "line": {
             "colorbar": {
              "outlinewidth": 0,
              "ticks": ""
             }
            },
            "marker": {
             "colorbar": {
              "outlinewidth": 0,
              "ticks": ""
             }
            },
            "type": "scatter3d"
           }
          ],
          "scattercarpet": [
           {
            "marker": {
             "colorbar": {
              "outlinewidth": 0,
              "ticks": ""
             }
            },
            "type": "scattercarpet"
           }
          ],
          "scattergeo": [
           {
            "marker": {
             "colorbar": {
              "outlinewidth": 0,
              "ticks": ""
             }
            },
            "type": "scattergeo"
           }
          ],
          "scattergl": [
           {
            "marker": {
             "colorbar": {
              "outlinewidth": 0,
              "ticks": ""
             }
            },
            "type": "scattergl"
           }
          ],
          "scattermapbox": [
           {
            "marker": {
             "colorbar": {
              "outlinewidth": 0,
              "ticks": ""
             }
            },
            "type": "scattermapbox"
           }
          ],
          "scatterpolar": [
           {
            "marker": {
             "colorbar": {
              "outlinewidth": 0,
              "ticks": ""
             }
            },
            "type": "scatterpolar"
           }
          ],
          "scatterpolargl": [
           {
            "marker": {
             "colorbar": {
              "outlinewidth": 0,
              "ticks": ""
             }
            },
            "type": "scatterpolargl"
           }
          ],
          "scatterternary": [
           {
            "marker": {
             "colorbar": {
              "outlinewidth": 0,
              "ticks": ""
             }
            },
            "type": "scatterternary"
           }
          ],
          "surface": [
           {
            "colorbar": {
             "outlinewidth": 0,
             "ticks": ""
            },
            "colorscale": [
             [
              0,
              "#0d0887"
             ],
             [
              0.1111111111111111,
              "#46039f"
             ],
             [
              0.2222222222222222,
              "#7201a8"
             ],
             [
              0.3333333333333333,
              "#9c179e"
             ],
             [
              0.4444444444444444,
              "#bd3786"
             ],
             [
              0.5555555555555556,
              "#d8576b"
             ],
             [
              0.6666666666666666,
              "#ed7953"
             ],
             [
              0.7777777777777778,
              "#fb9f3a"
             ],
             [
              0.8888888888888888,
              "#fdca26"
             ],
             [
              1,
              "#f0f921"
             ]
            ],
            "type": "surface"
           }
          ],
          "table": [
           {
            "cells": {
             "fill": {
              "color": "#EBF0F8"
             },
             "line": {
              "color": "white"
             }
            },
            "header": {
             "fill": {
              "color": "#C8D4E3"
             },
             "line": {
              "color": "white"
             }
            },
            "type": "table"
           }
          ]
         },
         "layout": {
          "annotationdefaults": {
           "arrowcolor": "#2a3f5f",
           "arrowhead": 0,
           "arrowwidth": 1
          },
          "autotypenumbers": "strict",
          "coloraxis": {
           "colorbar": {
            "outlinewidth": 0,
            "ticks": ""
           }
          },
          "colorscale": {
           "diverging": [
            [
             0,
             "#8e0152"
            ],
            [
             0.1,
             "#c51b7d"
            ],
            [
             0.2,
             "#de77ae"
            ],
            [
             0.3,
             "#f1b6da"
            ],
            [
             0.4,
             "#fde0ef"
            ],
            [
             0.5,
             "#f7f7f7"
            ],
            [
             0.6,
             "#e6f5d0"
            ],
            [
             0.7,
             "#b8e186"
            ],
            [
             0.8,
             "#7fbc41"
            ],
            [
             0.9,
             "#4d9221"
            ],
            [
             1,
             "#276419"
            ]
           ],
           "sequential": [
            [
             0,
             "#0d0887"
            ],
            [
             0.1111111111111111,
             "#46039f"
            ],
            [
             0.2222222222222222,
             "#7201a8"
            ],
            [
             0.3333333333333333,
             "#9c179e"
            ],
            [
             0.4444444444444444,
             "#bd3786"
            ],
            [
             0.5555555555555556,
             "#d8576b"
            ],
            [
             0.6666666666666666,
             "#ed7953"
            ],
            [
             0.7777777777777778,
             "#fb9f3a"
            ],
            [
             0.8888888888888888,
             "#fdca26"
            ],
            [
             1,
             "#f0f921"
            ]
           ],
           "sequentialminus": [
            [
             0,
             "#0d0887"
            ],
            [
             0.1111111111111111,
             "#46039f"
            ],
            [
             0.2222222222222222,
             "#7201a8"
            ],
            [
             0.3333333333333333,
             "#9c179e"
            ],
            [
             0.4444444444444444,
             "#bd3786"
            ],
            [
             0.5555555555555556,
             "#d8576b"
            ],
            [
             0.6666666666666666,
             "#ed7953"
            ],
            [
             0.7777777777777778,
             "#fb9f3a"
            ],
            [
             0.8888888888888888,
             "#fdca26"
            ],
            [
             1,
             "#f0f921"
            ]
           ]
          },
          "colorway": [
           "#636efa",
           "#EF553B",
           "#00cc96",
           "#ab63fa",
           "#FFA15A",
           "#19d3f3",
           "#FF6692",
           "#B6E880",
           "#FF97FF",
           "#FECB52"
          ],
          "font": {
           "color": "#2a3f5f"
          },
          "geo": {
           "bgcolor": "white",
           "lakecolor": "white",
           "landcolor": "#E5ECF6",
           "showlakes": true,
           "showland": true,
           "subunitcolor": "white"
          },
          "hoverlabel": {
           "align": "left"
          },
          "hovermode": "closest",
          "mapbox": {
           "style": "light"
          },
          "paper_bgcolor": "white",
          "plot_bgcolor": "#E5ECF6",
          "polar": {
           "angularaxis": {
            "gridcolor": "white",
            "linecolor": "white",
            "ticks": ""
           },
           "bgcolor": "#E5ECF6",
           "radialaxis": {
            "gridcolor": "white",
            "linecolor": "white",
            "ticks": ""
           }
          },
          "scene": {
           "xaxis": {
            "backgroundcolor": "#E5ECF6",
            "gridcolor": "white",
            "gridwidth": 2,
            "linecolor": "white",
            "showbackground": true,
            "ticks": "",
            "zerolinecolor": "white"
           },
           "yaxis": {
            "backgroundcolor": "#E5ECF6",
            "gridcolor": "white",
            "gridwidth": 2,
            "linecolor": "white",
            "showbackground": true,
            "ticks": "",
            "zerolinecolor": "white"
           },
           "zaxis": {
            "backgroundcolor": "#E5ECF6",
            "gridcolor": "white",
            "gridwidth": 2,
            "linecolor": "white",
            "showbackground": true,
            "ticks": "",
            "zerolinecolor": "white"
           }
          },
          "shapedefaults": {
           "line": {
            "color": "#2a3f5f"
           }
          },
          "ternary": {
           "aaxis": {
            "gridcolor": "white",
            "linecolor": "white",
            "ticks": ""
           },
           "baxis": {
            "gridcolor": "white",
            "linecolor": "white",
            "ticks": ""
           },
           "bgcolor": "#E5ECF6",
           "caxis": {
            "gridcolor": "white",
            "linecolor": "white",
            "ticks": ""
           }
          },
          "title": {
           "x": 0.05
          },
          "xaxis": {
           "automargin": true,
           "gridcolor": "white",
           "linecolor": "white",
           "ticks": "",
           "title": {
            "standoff": 15
           },
           "zerolinecolor": "white",
           "zerolinewidth": 2
          },
          "yaxis": {
           "automargin": true,
           "gridcolor": "white",
           "linecolor": "white",
           "ticks": "",
           "title": {
            "standoff": 15
           },
           "zerolinecolor": "white",
           "zerolinewidth": 2
          }
         }
        },
        "title": {
         "text": "Projection 3D des voisins de grecque, latin, oublier, nourriture par MDS"
        },
        "width": 1200
       }
      }
     },
     "metadata": {},
     "output_type": "display_data"
    },
    {
     "data": {
      "text/plain": [
       "['dire',\n",
       " 'nouriture',\n",
       " 'là',\n",
       " 'nourrir',\n",
       " 'jamais',\n",
       " 'hellènes',\n",
       " 'ration_quotidien',\n",
       " 'ne',\n",
       " 'gréco-',\n",
       " 'latin_médiéval',\n",
       " 'greque',\n",
       " 've_siècle_av_jésus-christ',\n",
       " 'ionien',\n",
       " 'grecquer',\n",
       " 'falloir',\n",
       " 'oublier',\n",
       " 'vivres',\n",
       " 'grecs',\n",
       " 'hellénique',\n",
       " 'iiie_siècle_av_jésus-christ',\n",
       " 'mot_latin',\n",
       " 'proie_vivant',\n",
       " 'latiniser',\n",
       " 'pâtée',\n",
       " 'langue_vulgaire',\n",
       " 'rien',\n",
       " 'étymologie',\n",
       " 'racine_grec',\n",
       " 'grammairien',\n",
       " 'grec',\n",
       " 'verbe_latin',\n",
       " 'affamer',\n",
       " 'nourriture',\n",
       " 'aliment',\n",
       " 'mais',\n",
       " 'nourriture_sain',\n",
       " 'manger',\n",
       " 'latiniste',\n",
       " 'pas',\n",
       " 'latin',\n",
       " 'toujours',\n",
       " 'grecque',\n",
       " 'quand']"
      ]
     },
     "execution_count": 137,
     "metadata": {},
     "output_type": "execute_result"
    }
   ],
   "source": [
    "# Question 4a\n",
    "display_dimred_neighbors(model, mots, n_components=3, topn=10, method='pca', n_neighbors=10)\n",
    "display_dimred_neighbors(model, mots, n_components=3, topn=10, method='mds', n_neighbors=10)\n",
    "#\n",
    "# En utilisant la méthode PCA, on peut voir que les mots 'latin' et 'grecque' sont proches l'un de l'autre (meme cluster)\n",
    "# Nous observons également un cluster différent pour 'nourriture' et 'oublier'\n",
    "# En revanche pour la méthode MDS, les mots 'latin' et 'grecque' sont plus éloignés l'un de l'autre ainsi que la densité en plus homogène, les clusters ne sont plus évidents de manière visuelle.\n",
    "# A noter que la position des différents cluster reste la même pour les deux méthodes.\n",
    "\n"
   ]
  },
  {
   "cell_type": "code",
   "execution_count": null,
   "id": "328fd322",
   "metadata": {},
   "outputs": [],
   "source": [
    "# Question 4b\n",
    "display_dimred_neighbors(model, mots, n_components=3, topn=10, method='tsne')\n",
    "display_dimred_neighbors(model, mots, n_components=3, topn=10, method='isomap')\n",
    "display_dimred_neighbors(model, mots, n_components=3, topn=10, method='umap')\n"
   ]
  },
  {
   "cell_type": "code",
   "execution_count": null,
   "id": "ff07e3ab",
   "metadata": {},
   "outputs": [
    {
     "data": {
      "application/vnd.plotly.v1+json": {
       "config": {
        "plotlyServerURL": "https://plot.ly"
       },
       "data": [
        {
         "marker": {
          "color": "rgba(255, 0, 0, 0.8)",
          "size": 5
         },
         "mode": "markers+text",
         "text": [
          "dire",
          "excrément",
          "là",
          "nourrir",
          "jamais",
          "lui",
          "régime_alimentaire",
          "ne",
          "vouloir",
          "latin_médiéval",
          "ve_siècle_av_jésus-christ",
          "ionien",
          "achille_tatius",
          "grecquer",
          "proie_vivant",
          "iiie_siècle_av_jésus-christ",
          "hellénistique",
          "latiniser",
          "pâtée",
          "époque_mycénien",
          "etymologie",
          "affamer",
          "verbe_latin",
          "aliment",
          "car",
          "latiniste",
          "origine_germanique",
          "toujours",
          "nouriture",
          "penser",
          "ration_quotidien",
          "gréco-",
          "peut-être",
          "caput",
          "nourriture_abondant",
          "racine_indo-_européen",
          "vivres",
          "hellénique",
          "nourriture",
          "héraclée",
          "mais",
          "pas",
          "latin",
          "grecques",
          "perses",
          "quand",
          "juste",
          "greque",
          "victuaille",
          "nourrir_exclusivement",
          "tellement",
          "rien",
          "étymologie",
          "racine_grec",
          "grec",
          "dorien",
          "croire",
          "heureusement",
          "frugal",
          "poème_homérique",
          "sinon",
          "grecque",
          "ménandre",
          "hellènes",
          "clitophon",
          "ration_alimentaire",
          "denrée",
          "gréco-_latin",
          "gaffiot",
          "traduction_latin",
          "falloir",
          "oublier",
          "grecs",
          "mot_latin",
          "langue_vulgaire",
          "latin_grec",
          "grammairien",
          "latins",
          "nourriture_sain",
          "manger",
          "latin_vulgaire",
          "ration_journalier",
          "nourrissage"
         ],
         "textposition": "top center",
         "type": "scatter3d",
         "x": [
          -8.389333724975586,
          -3.21801495552063,
          -8.443330764770508,
          -4.673566818237305,
          -8.564329147338867,
          -8.00771427154541,
          -2.186349868774414,
          -9.489346504211426,
          -8.22604751586914,
          7.65973424911499,
          4.582363128662109,
          7.233945846557617,
          2.889225721359253,
          6.222778797149658,
          -1.026410698890686,
          5.089496612548828,
          10.3751859664917,
          5.451101303100586,
          -4.973478317260742,
          2.997131586074829,
          7.371905326843262,
          -6.8209662437438965,
          3.4048333168029785,
          -2.988487482070923,
          -8.567713737487793,
          7.942919731140137,
          5.293432235717773,
          -7.265028953552246,
          -3.8251607418060303,
          -8.650346755981445,
          -1.426577091217041,
          5.038711071014404,
          -7.057138442993164,
          4.635619640350342,
          -0.801605761051178,
          4.099644184112549,
          -4.232123851776123,
          9.948888778686523,
          -7.576624870300293,
          3.8121824264526367,
          -8.409286499023438,
          -9.800629615783691,
          12.01711654663086,
          3.52679443359375,
          3.426480770111084,
          -9.026063919067383,
          -7.6041693687438965,
          2.6168384552001953,
          -3.2878174781799316,
          -1.1038309335708618,
          -10.251575469970703,
          -9.641664505004883,
          11.829689979553223,
          5.772356033325195,
          11.119935035705566,
          5.646918296813965,
          -8.75754451751709,
          -8.402429580688477,
          -1.5203229188919067,
          4.2669501304626465,
          -8.163872718811035,
          7.730687618255615,
          3.728275775909424,
          2.451587438583374,
          2.704029083251953,
          -1.9200862646102905,
          -2.682798385620117,
          6.638006210327148,
          3.8010270595550537,
          7.534486770629883,
          -9.869500160217285,
          -6.966914653778076,
          7.11350679397583,
          10.742186546325684,
          6.396453380584717,
          6.689662933349609,
          8.949468612670898,
          6.222254753112793,
          -1.5905895233154297,
          -9.844244956970215,
          2.732163667678833,
          -0.29327917098999023,
          -2.1596598625183105
         ],
         "y": [
          -7.711031913757324,
          8.33680248260498,
          -6.3329176902771,
          6.083465099334717,
          -6.08872652053833,
          -5.376166820526123,
          11.92886734008789,
          -6.68113374710083,
          -6.36970853805542,
          -1.294028639793396,
          0.3562690019607544,
          -0.7176297307014465,
          0.2930484414100647,
          -0.6134020090103149,
          5.035168170928955,
          0.6447506546974182,
          -1.6114745140075684,
          -1.0227264165878296,
          8.029706954956055,
          0.3532542586326599,
          -1.643242359161377,
          9.046833992004395,
          -0.9950352311134338,
          12.3157958984375,
          -4.49159574508667,
          -4.001287460327148,
          -1.6105233430862427,
          -4.523470401763916,
          5.04402494430542,
          -7.099850654602051,
          5.17709493637085,
          -0.6841620206832886,
          -6.343163967132568,
          -0.5967592000961304,
          4.445254325866699,
          -0.1436883509159088,
          14.166109085083008,
          -0.3506181240081787,
          15.214659690856934,
          0.2853223383426666,
          -6.208925247192383,
          -6.56157922744751,
          -5.613283634185791,
          0.6894322037696838,
          0.3216375708580017,
          -5.030101776123047,
          -5.640905857086182,
          -0.12287519872188568,
          8.39319896697998,
          5.391379356384277,
          -5.761641025543213,
          -6.680238723754883,
          -5.431390285491943,
          -1.108660340309143,
          -4.47994327545166,
          -0.3510994017124176,
          -7.186128616333008,
          -3.376728057861328,
          5.075571537017822,
          -0.4668096899986267,
          -5.438469886779785,
          -1.3798868656158447,
          -0.01370505802333355,
          0.18719537556171417,
          0.15395407378673553,
          6.899652481079102,
          12.879387855529785,
          -1.644093632698059,
          -0.7262516021728516,
          -1.2754634618759155,
          -5.5542402267456055,
          -4.014001369476318,
          -1.9772592782974243,
          -4.123981475830078,
          -1.6361099481582642,
          -0.6306068897247314,
          -5.225063800811768,
          -0.8961195945739746,
          6.256176471710205,
          5.400819301605225,
          0.19424980878829956,
          5.540651321411133,
          10.718170166015625
         ],
         "z": [
          -1.7279589176177979,
          -5.186203956604004,
          -0.09460082650184631,
          -1.3348349332809448,
          0.5504751205444336,
          0.16669952869415283,
          -4.036207675933838,
          -0.7198389768600464,
          0.2949391007423401,
          -1.547230839729309,
          3.958997964859009,
          4.180253505706787,
          3.4293055534362793,
          3.4923911094665527,
          0.9233512878417969,
          4.099110126495361,
          5.7085185050964355,
          -0.012166927568614483,
          -3.287033796310425,
          3.85433292388916,
          -4.46243143081665,
          0.36177363991737366,
          -1.4381340742111206,
          -4.569718360900879,
          -0.3526746928691864,
          -1.5560063123703003,
          -0.7443081140518188,
          1.1591994762420654,
          0.5837175250053406,
          0.0690089762210846,
          1.0324333906173706,
          2.7836194038391113,
          -0.5999428033828735,
          -0.4057590961456299,
          2.5361053943634033,
          -1.1992448568344116,
          1.5881842374801636,
          6.626611709594727,
          -4.586301803588867,
          3.8286139965057373,
          -0.08498145639896393,
          -0.8425095081329346,
          -11.147884368896484,
          3.520080804824829,
          4.166344165802002,
          -0.34930330514907837,
          1.1023005247116089,
          2.659942150115967,
          -0.766937255859375,
          0.4992745518684387,
          -0.022437959909439087,
          -0.561271607875824,
          -14.367019653320312,
          -1.7423516511917114,
          -1.9445934295654297,
          2.7257096767425537,
          -0.2815205752849579,
          0.7756960391998291,
          -0.3175519108772278,
          3.1286425590515137,
          0.014663838781416416,
          2.975224018096924,
          3.2184762954711914,
          3.874697208404541,
          3.130394697189331,
          -0.24137818813323975,
          -0.22449788451194763,
          0.3696771562099457,
          0.16777794063091278,
          0.6737801432609558,
          0.13649709522724152,
          1.024497151374817,
          1.4946544170379639,
          -9.138240814208984,
          -1.931553840637207,
          0.9300763010978699,
          -5.459115505218506,
          1.3832305669784546,
          0.5261827707290649,
          -5.647449016571045,
          1.9433445930480957,
          1.3316295146942139,
          -0.06926017999649048
         ]
        }
       ],
       "layout": {
        "height": 800,
        "scene": {
         "xaxis": {
          "title": {
           "text": "Composante 1"
          }
         },
         "yaxis": {
          "title": {
           "text": "Composante 2"
          }
         },
         "zaxis": {
          "title": {
           "text": "Composante 3"
          }
         }
        },
        "showlegend": false,
        "template": {
         "data": {
          "bar": [
           {
            "error_x": {
             "color": "#2a3f5f"
            },
            "error_y": {
             "color": "#2a3f5f"
            },
            "marker": {
             "line": {
              "color": "#E5ECF6",
              "width": 0.5
             },
             "pattern": {
              "fillmode": "overlay",
              "size": 10,
              "solidity": 0.2
             }
            },
            "type": "bar"
           }
          ],
          "barpolar": [
           {
            "marker": {
             "line": {
              "color": "#E5ECF6",
              "width": 0.5
             },
             "pattern": {
              "fillmode": "overlay",
              "size": 10,
              "solidity": 0.2
             }
            },
            "type": "barpolar"
           }
          ],
          "carpet": [
           {
            "aaxis": {
             "endlinecolor": "#2a3f5f",
             "gridcolor": "white",
             "linecolor": "white",
             "minorgridcolor": "white",
             "startlinecolor": "#2a3f5f"
            },
            "baxis": {
             "endlinecolor": "#2a3f5f",
             "gridcolor": "white",
             "linecolor": "white",
             "minorgridcolor": "white",
             "startlinecolor": "#2a3f5f"
            },
            "type": "carpet"
           }
          ],
          "choropleth": [
           {
            "colorbar": {
             "outlinewidth": 0,
             "ticks": ""
            },
            "type": "choropleth"
           }
          ],
          "contour": [
           {
            "colorbar": {
             "outlinewidth": 0,
             "ticks": ""
            },
            "colorscale": [
             [
              0,
              "#0d0887"
             ],
             [
              0.1111111111111111,
              "#46039f"
             ],
             [
              0.2222222222222222,
              "#7201a8"
             ],
             [
              0.3333333333333333,
              "#9c179e"
             ],
             [
              0.4444444444444444,
              "#bd3786"
             ],
             [
              0.5555555555555556,
              "#d8576b"
             ],
             [
              0.6666666666666666,
              "#ed7953"
             ],
             [
              0.7777777777777778,
              "#fb9f3a"
             ],
             [
              0.8888888888888888,
              "#fdca26"
             ],
             [
              1,
              "#f0f921"
             ]
            ],
            "type": "contour"
           }
          ],
          "contourcarpet": [
           {
            "colorbar": {
             "outlinewidth": 0,
             "ticks": ""
            },
            "type": "contourcarpet"
           }
          ],
          "heatmap": [
           {
            "colorbar": {
             "outlinewidth": 0,
             "ticks": ""
            },
            "colorscale": [
             [
              0,
              "#0d0887"
             ],
             [
              0.1111111111111111,
              "#46039f"
             ],
             [
              0.2222222222222222,
              "#7201a8"
             ],
             [
              0.3333333333333333,
              "#9c179e"
             ],
             [
              0.4444444444444444,
              "#bd3786"
             ],
             [
              0.5555555555555556,
              "#d8576b"
             ],
             [
              0.6666666666666666,
              "#ed7953"
             ],
             [
              0.7777777777777778,
              "#fb9f3a"
             ],
             [
              0.8888888888888888,
              "#fdca26"
             ],
             [
              1,
              "#f0f921"
             ]
            ],
            "type": "heatmap"
           }
          ],
          "heatmapgl": [
           {
            "colorbar": {
             "outlinewidth": 0,
             "ticks": ""
            },
            "colorscale": [
             [
              0,
              "#0d0887"
             ],
             [
              0.1111111111111111,
              "#46039f"
             ],
             [
              0.2222222222222222,
              "#7201a8"
             ],
             [
              0.3333333333333333,
              "#9c179e"
             ],
             [
              0.4444444444444444,
              "#bd3786"
             ],
             [
              0.5555555555555556,
              "#d8576b"
             ],
             [
              0.6666666666666666,
              "#ed7953"
             ],
             [
              0.7777777777777778,
              "#fb9f3a"
             ],
             [
              0.8888888888888888,
              "#fdca26"
             ],
             [
              1,
              "#f0f921"
             ]
            ],
            "type": "heatmapgl"
           }
          ],
          "histogram": [
           {
            "marker": {
             "pattern": {
              "fillmode": "overlay",
              "size": 10,
              "solidity": 0.2
             }
            },
            "type": "histogram"
           }
          ],
          "histogram2d": [
           {
            "colorbar": {
             "outlinewidth": 0,
             "ticks": ""
            },
            "colorscale": [
             [
              0,
              "#0d0887"
             ],
             [
              0.1111111111111111,
              "#46039f"
             ],
             [
              0.2222222222222222,
              "#7201a8"
             ],
             [
              0.3333333333333333,
              "#9c179e"
             ],
             [
              0.4444444444444444,
              "#bd3786"
             ],
             [
              0.5555555555555556,
              "#d8576b"
             ],
             [
              0.6666666666666666,
              "#ed7953"
             ],
             [
              0.7777777777777778,
              "#fb9f3a"
             ],
             [
              0.8888888888888888,
              "#fdca26"
             ],
             [
              1,
              "#f0f921"
             ]
            ],
            "type": "histogram2d"
           }
          ],
          "histogram2dcontour": [
           {
            "colorbar": {
             "outlinewidth": 0,
             "ticks": ""
            },
            "colorscale": [
             [
              0,
              "#0d0887"
             ],
             [
              0.1111111111111111,
              "#46039f"
             ],
             [
              0.2222222222222222,
              "#7201a8"
             ],
             [
              0.3333333333333333,
              "#9c179e"
             ],
             [
              0.4444444444444444,
              "#bd3786"
             ],
             [
              0.5555555555555556,
              "#d8576b"
             ],
             [
              0.6666666666666666,
              "#ed7953"
             ],
             [
              0.7777777777777778,
              "#fb9f3a"
             ],
             [
              0.8888888888888888,
              "#fdca26"
             ],
             [
              1,
              "#f0f921"
             ]
            ],
            "type": "histogram2dcontour"
           }
          ],
          "mesh3d": [
           {
            "colorbar": {
             "outlinewidth": 0,
             "ticks": ""
            },
            "type": "mesh3d"
           }
          ],
          "parcoords": [
           {
            "line": {
             "colorbar": {
              "outlinewidth": 0,
              "ticks": ""
             }
            },
            "type": "parcoords"
           }
          ],
          "pie": [
           {
            "automargin": true,
            "type": "pie"
           }
          ],
          "scatter": [
           {
            "fillpattern": {
             "fillmode": "overlay",
             "size": 10,
             "solidity": 0.2
            },
            "type": "scatter"
           }
          ],
          "scatter3d": [
           {
            "line": {
             "colorbar": {
              "outlinewidth": 0,
              "ticks": ""
             }
            },
            "marker": {
             "colorbar": {
              "outlinewidth": 0,
              "ticks": ""
             }
            },
            "type": "scatter3d"
           }
          ],
          "scattercarpet": [
           {
            "marker": {
             "colorbar": {
              "outlinewidth": 0,
              "ticks": ""
             }
            },
            "type": "scattercarpet"
           }
          ],
          "scattergeo": [
           {
            "marker": {
             "colorbar": {
              "outlinewidth": 0,
              "ticks": ""
             }
            },
            "type": "scattergeo"
           }
          ],
          "scattergl": [
           {
            "marker": {
             "colorbar": {
              "outlinewidth": 0,
              "ticks": ""
             }
            },
            "type": "scattergl"
           }
          ],
          "scattermapbox": [
           {
            "marker": {
             "colorbar": {
              "outlinewidth": 0,
              "ticks": ""
             }
            },
            "type": "scattermapbox"
           }
          ],
          "scatterpolar": [
           {
            "marker": {
             "colorbar": {
              "outlinewidth": 0,
              "ticks": ""
             }
            },
            "type": "scatterpolar"
           }
          ],
          "scatterpolargl": [
           {
            "marker": {
             "colorbar": {
              "outlinewidth": 0,
              "ticks": ""
             }
            },
            "type": "scatterpolargl"
           }
          ],
          "scatterternary": [
           {
            "marker": {
             "colorbar": {
              "outlinewidth": 0,
              "ticks": ""
             }
            },
            "type": "scatterternary"
           }
          ],
          "surface": [
           {
            "colorbar": {
             "outlinewidth": 0,
             "ticks": ""
            },
            "colorscale": [
             [
              0,
              "#0d0887"
             ],
             [
              0.1111111111111111,
              "#46039f"
             ],
             [
              0.2222222222222222,
              "#7201a8"
             ],
             [
              0.3333333333333333,
              "#9c179e"
             ],
             [
              0.4444444444444444,
              "#bd3786"
             ],
             [
              0.5555555555555556,
              "#d8576b"
             ],
             [
              0.6666666666666666,
              "#ed7953"
             ],
             [
              0.7777777777777778,
              "#fb9f3a"
             ],
             [
              0.8888888888888888,
              "#fdca26"
             ],
             [
              1,
              "#f0f921"
             ]
            ],
            "type": "surface"
           }
          ],
          "table": [
           {
            "cells": {
             "fill": {
              "color": "#EBF0F8"
             },
             "line": {
              "color": "white"
             }
            },
            "header": {
             "fill": {
              "color": "#C8D4E3"
             },
             "line": {
              "color": "white"
             }
            },
            "type": "table"
           }
          ]
         },
         "layout": {
          "annotationdefaults": {
           "arrowcolor": "#2a3f5f",
           "arrowhead": 0,
           "arrowwidth": 1
          },
          "autotypenumbers": "strict",
          "coloraxis": {
           "colorbar": {
            "outlinewidth": 0,
            "ticks": ""
           }
          },
          "colorscale": {
           "diverging": [
            [
             0,
             "#8e0152"
            ],
            [
             0.1,
             "#c51b7d"
            ],
            [
             0.2,
             "#de77ae"
            ],
            [
             0.3,
             "#f1b6da"
            ],
            [
             0.4,
             "#fde0ef"
            ],
            [
             0.5,
             "#f7f7f7"
            ],
            [
             0.6,
             "#e6f5d0"
            ],
            [
             0.7,
             "#b8e186"
            ],
            [
             0.8,
             "#7fbc41"
            ],
            [
             0.9,
             "#4d9221"
            ],
            [
             1,
             "#276419"
            ]
           ],
           "sequential": [
            [
             0,
             "#0d0887"
            ],
            [
             0.1111111111111111,
             "#46039f"
            ],
            [
             0.2222222222222222,
             "#7201a8"
            ],
            [
             0.3333333333333333,
             "#9c179e"
            ],
            [
             0.4444444444444444,
             "#bd3786"
            ],
            [
             0.5555555555555556,
             "#d8576b"
            ],
            [
             0.6666666666666666,
             "#ed7953"
            ],
            [
             0.7777777777777778,
             "#fb9f3a"
            ],
            [
             0.8888888888888888,
             "#fdca26"
            ],
            [
             1,
             "#f0f921"
            ]
           ],
           "sequentialminus": [
            [
             0,
             "#0d0887"
            ],
            [
             0.1111111111111111,
             "#46039f"
            ],
            [
             0.2222222222222222,
             "#7201a8"
            ],
            [
             0.3333333333333333,
             "#9c179e"
            ],
            [
             0.4444444444444444,
             "#bd3786"
            ],
            [
             0.5555555555555556,
             "#d8576b"
            ],
            [
             0.6666666666666666,
             "#ed7953"
            ],
            [
             0.7777777777777778,
             "#fb9f3a"
            ],
            [
             0.8888888888888888,
             "#fdca26"
            ],
            [
             1,
             "#f0f921"
            ]
           ]
          },
          "colorway": [
           "#636efa",
           "#EF553B",
           "#00cc96",
           "#ab63fa",
           "#FFA15A",
           "#19d3f3",
           "#FF6692",
           "#B6E880",
           "#FF97FF",
           "#FECB52"
          ],
          "font": {
           "color": "#2a3f5f"
          },
          "geo": {
           "bgcolor": "white",
           "lakecolor": "white",
           "landcolor": "#E5ECF6",
           "showlakes": true,
           "showland": true,
           "subunitcolor": "white"
          },
          "hoverlabel": {
           "align": "left"
          },
          "hovermode": "closest",
          "mapbox": {
           "style": "light"
          },
          "paper_bgcolor": "white",
          "plot_bgcolor": "#E5ECF6",
          "polar": {
           "angularaxis": {
            "gridcolor": "white",
            "linecolor": "white",
            "ticks": ""
           },
           "bgcolor": "#E5ECF6",
           "radialaxis": {
            "gridcolor": "white",
            "linecolor": "white",
            "ticks": ""
           }
          },
          "scene": {
           "xaxis": {
            "backgroundcolor": "#E5ECF6",
            "gridcolor": "white",
            "gridwidth": 2,
            "linecolor": "white",
            "showbackground": true,
            "ticks": "",
            "zerolinecolor": "white"
           },
           "yaxis": {
            "backgroundcolor": "#E5ECF6",
            "gridcolor": "white",
            "gridwidth": 2,
            "linecolor": "white",
            "showbackground": true,
            "ticks": "",
            "zerolinecolor": "white"
           },
           "zaxis": {
            "backgroundcolor": "#E5ECF6",
            "gridcolor": "white",
            "gridwidth": 2,
            "linecolor": "white",
            "showbackground": true,
            "ticks": "",
            "zerolinecolor": "white"
           }
          },
          "shapedefaults": {
           "line": {
            "color": "#2a3f5f"
           }
          },
          "ternary": {
           "aaxis": {
            "gridcolor": "white",
            "linecolor": "white",
            "ticks": ""
           },
           "baxis": {
            "gridcolor": "white",
            "linecolor": "white",
            "ticks": ""
           },
           "bgcolor": "#E5ECF6",
           "caxis": {
            "gridcolor": "white",
            "linecolor": "white",
            "ticks": ""
           }
          },
          "title": {
           "x": 0.05
          },
          "xaxis": {
           "automargin": true,
           "gridcolor": "white",
           "linecolor": "white",
           "ticks": "",
           "title": {
            "standoff": 15
           },
           "zerolinecolor": "white",
           "zerolinewidth": 2
          },
          "yaxis": {
           "automargin": true,
           "gridcolor": "white",
           "linecolor": "white",
           "ticks": "",
           "title": {
            "standoff": 15
           },
           "zerolinecolor": "white",
           "zerolinewidth": 2
          }
         }
        },
        "title": {
         "text": "Projection 3D des voisins de grecque, latin, oublier, nourriture par PCA"
        },
        "width": 800
       }
      }
     },
     "metadata": {},
     "output_type": "display_data"
    }
   ],
   "source": [
    "# Question 4c\n",
    "display_dimred_neighbors(model, mots, n_components=3, topn=20, method='tsne', n_neighbors=10)\n"
   ]
  },
  {
   "cell_type": "markdown",
   "id": "6b7f9433",
   "metadata": {},
   "source": [
    "## 5. Outil d'assistance pour le jeu Cémantix\n",
    "\n",
    "Le jeu en ligne [Cémantix](https://cemantix.certitudes.org/) (aussi proposé sur le site [Dictaly](https://www.dictaly.com/semantiques/))  demande de deviner le *mot du jour* en l'approchant peu à peu par des mots candidats.  Pour chacun, le système indique pour sa similarité word2vec avec le *mot du jour*, ce qui permet de se rapprocher graduellement de la solution.  Expérimentez d'abord un court instant avec le jeu 😀.\n",
    "\n",
    "L'objectif de cette question est de visualiser les voisinages de mots, pour vous aider à proposer des mots candidats et trouver plus vite la solution.  La procédure est la suivante :\n",
    "* essayez trois mots au hasard dans Cémantix\n",
    "* affichez 20-30 mots voisins de ces trois mots grâce à la fonction `display_dimred_neighbors`\n",
    "* à l'aide des mots affichés, essayez des mots candidats dans Cémantix\n",
    "* changez l'affichage en remplaçant les trois mots par de meilleurs mots\n",
    "* continuez jusqu'à trouver le *mot du jour*\n",
    "\n",
    "**Notes**\n",
    "* si vous le souhaitez, vous pouvez utiliser le modèle word2vec identique à celui de Cémantix, qui est frWac_no_postag_phrase_500_cbow_cut10.bin fourni par [J.-Ph. Fauconnier](https://fauconnier.github.io/#data)\n",
    "* ce modèle fait environ 2.3 Go et contient aussi des expressions de plusieurs mots (séparés par '_')\n",
    "* vous pouvez choisir d'utiliser le petit ou le grand modèle, sachant qu'avec le premier, les suggestions sont moins pertinentes\n",
    "* Cémantix ignore les expressions de plusieurs mots présentes dans le grand modèle -- vous pouvez choisir de le faire ou non."
   ]
  },
  {
   "cell_type": "markdown",
   "id": "1f8589ce",
   "metadata": {},
   "source": []
  },
  {
   "cell_type": "code",
   "execution_count": 133,
   "id": "0acf3589",
   "metadata": {
    "scrolled": false
   },
   "outputs": [
    {
     "name": "stderr",
     "output_type": "stream",
     "text": [
      "c:\\Users\\Julien\\miniconda3\\envs\\PCD\\Lib\\site-packages\\umap\\umap_.py:1952: UserWarning:\n",
      "\n",
      "n_jobs value 1 overridden to 1 by setting random_state. Use no seed for parallelism.\n",
      "\n"
     ]
    },
    {
     "data": {
      "application/vnd.plotly.v1+json": {
       "config": {
        "plotlyServerURL": "https://plot.ly"
       },
       "data": [
        {
         "marker": {
          "color": "rgba(93, 164, 214, 0.8)",
          "size": 10
         },
         "mode": "markers+text",
         "text": [
          "spectacle_vivant",
          "video-_projecteur",
          "olivier_debré",
          "discipline_artistique",
          "conférencier",
          "télévision_magnétoscope",
          "peinture_sculpture",
          "livre-catalogue",
          "table-ronde",
          "alaplage",
          "université_paris-xiii",
          "musculation_animation",
          "espace_urbaniser",
          "fluxus",
          "large_baie_vitrer",
          "salle-à-manger",
          "cimaise",
          "sculpture_peinture",
          "musical",
          "hall",
          "culturel",
          "démocratisation_culturel",
          "processus_créatif",
          "exposition_inaugural",
          "colloque_international",
          "séance_inaugural",
          "élément_structurant",
          "pré-travail",
          "spatialité",
          "spatialement",
          "mezzanine",
          "environnant",
          "dimension_spatial",
          "déroulement_temporel",
          "université",
          "muséographie",
          "danse_contemporain",
          "atrium",
          "vaste",
          "délimiter",
          "créativité",
          "institution_muséal",
          "peinture_gravure",
          "spectacle_vivre",
          "exposition_photographique",
          "cirque_contemporain",
          "vidéo_projecteur",
          "contemporain",
          "audio-_guide",
          "liaison_piétonn",
          "halle_saint-pierre",
          "salle",
          "amphitéâtre",
          "exposition_itinérant",
          "déjeuner-débat",
          "escall",
          "public_numérique_epn",
          "cheminement_piéton",
          "théâtral",
          "parcours_chronologique",
          "aménagement",
          "plasticien",
          "déterritorialisation",
          "cinématographique",
          "c_onférence",
          "esthétique",
          "musée_bourdelle",
          "cafeteria",
          "tissu_urbain",
          "créatif",
          "sensibilité_artistique",
          "co-_organiser",
          "colloque_intituler",
          "intérieur_duquel",
          "e_xposition",
          "marie-jo_lafontaine",
          "paper_board",
          "congrès_annuel",
          "ateliers-débat",
          "spatial",
          "muséal",
          "paysage",
          "intervenant_pressentir",
          "scénographié",
          "urbain_dense",
          "lieux",
          "gradin",
          "panneau_explicatif",
          "urbain",
          "workshop",
          "symposium_international",
          "privilégier",
          "espace_récréatif",
          "centralité",
          "exposition_temporaire",
          "écriture_scénique",
          "séminaire",
          "soirées-débat",
          "conférence_débattre",
          "organiser_conjointement",
          "frac_bretagne",
          "expositions",
          "espace",
          "architectural",
          "cloison_mobile",
          "clairement_délimiter",
          "thème",
          "biennale",
          "exposition-dossier",
          "colloque",
          "symposium",
          "atelier",
          "conférence-débat",
          "plurifonctionnel",
          "entièrement_équiper",
          "rez-de-chaussé",
          "trame_urbain",
          "bain_attenant",
          "frac_lorraine",
          "peinture_sculpture_installation",
          "art_contemporain",
          "étage",
          "expo",
          "musée_carnavalet",
          "géographique",
          "peinture_sculpture_gravure",
          "médiation_culturel",
          "tables-ronde",
          "expostion",
          "table_chaise",
          "locaux",
          "rez-de-jardin",
          "pré-programme",
          "thématique",
          "exposition-vente",
          "peinture_sculpture_photographie",
          "christian_boltanski",
          "muséographique",
          "salle_polyvalent",
          "visite_commenter",
          "organiser",
          "rez-d_chaussée",
          "préau",
          "salles",
          "plénière",
          "repère_spatial",
          "rez-de-chaussée",
          "manifestation_culturel",
          "élément_fédérateur",
          "artothèque",
          "salle_attenant",
          "afaa_association_français",
          "conférence",
          "elena_lasida",
          "amphithéâtre",
          "douche_toilette",
          "éducation_artistique",
          "dimension",
          "scénographie_original",
          "conference",
          "expos",
          "espace_interstitiel",
          "temporalité",
          "exposition_retracer",
          "coorganiser",
          "création",
          "espace_piétonnier",
          "centre_pompidou",
          "arte_povera",
          "soirée-débat",
          "polycentrique",
          "utls",
          "scénique",
          "conférence-débat_organiser",
          "table_rond",
          "salle_modulable",
          "présentation",
          "espace_privatif",
          "table_rond_animer",
          "vidéoprojection",
          "intervenant",
          "journée_francophones",
          "écran_géant",
          "animée_par",
          "matériel_audio-_visuel",
          "mixité_urbain",
          "rotonde",
          "dédier",
          "représentation_spatial",
          "exposer",
          "anne-marie_filaire",
          "conférence_internationale",
          "galerie",
          "patio",
          "colloque_organiser",
          "club_hous",
          "espace-temps",
          "territoire",
          "extérieur",
          "regardeur",
          "théâtre_danse",
          "artistique",
          "rencontre",
          "club-house",
          "exposition_rétrospectif",
          "conférencier_inviter",
          "vernissage",
          "littéraire",
          "salle_climatiser",
          "presse_conjoindre",
          "coprésence",
          "écriture_dramatique",
          "conférence_inaugural",
          "vidéo-_projection",
          "coin_cheminer",
          "baby-foot",
          "paper-board",
          "tabler_rond",
          "urbanité",
          "emboîtement",
          "salon",
          "deuxième_étage",
          "conférences-débat",
          "centre_georges_pompidou",
          "chorégraphique",
          "art_plastique",
          "auditorium",
          "visite_guider",
          "équipement_scénique",
          "culture",
          "espaces",
          "scénographique",
          "conférence_introductif",
          "crédac",
          "lieu",
          "artiste_chorégraphique",
          "création_théâtral",
          "artiste_plasticien",
          "réfectoire",
          "expression_plastique",
          "musée",
          "socio-_spatial",
          "second_étage",
          "er_étage",
          "fondation_cartier",
          "vestiaire_douche",
          "conférence_plénier",
          "donation_albers-honegger",
          "art_visuel",
          "congrès",
          "dîners-débat",
          "modulable",
          "oeuvres",
          "théâtre",
          "tv_magnétoscope",
          "trame_viaire",
          "gymnase",
          "cafétéria",
          "réunion",
          "rencontres-débat",
          "danse_art_plastique",
          "aménager",
          "mini-conférence",
          "atelier_thématique",
          "espace_scénique",
          "attenant",
          "exposition_monographique",
          "pratique_artistique",
          "création_chorégraphique",
          "avant-garde_artistique",
          "symposia",
          "exposition_trésors",
          "art",
          "bain_baignoire",
          "cosec",
          "oeuvres_peinture_sculpture",
          "entrée_libre",
          "exposition",
          "connexion_internet_wifi",
          "vidéo-_projecteur",
          "artiste",
          "artiste_contemporain",
          "conferences",
          "expositon",
          "réticulaire",
          "photoquai",
          "conférences",
          "pictural",
          "vaste_hall",
          "artistiques",
          "enseignement_artistique",
          "exposition_permanent",
          "création_artistique",
          "arts_plastique",
          "expression_artistique",
          "entresol",
          "co-_organisateur",
          "paysager"
         ],
         "textposition": "top center",
         "type": "scatter",
         "x": [
          12.920181274414062,
          17.655881881713867,
          5.733865261077881,
          18.52309799194336,
          1.546741247177124,
          7.014612197875977,
          1.7959805727005005,
          6.475231170654297,
          22.507436752319336,
          2.456317901611328,
          2.0879642963409424,
          9.262970924377441,
          18.311552047729492,
          3.686779499053955,
          8.369272232055664,
          9.170022964477539,
          7.65310001373291,
          1.8023159503936768,
          13.580755233764648,
          8.455251693725586,
          15.882377624511719,
          4.4962005615234375,
          13.640817642211914,
          7.666077613830566,
          -3.446535110473633,
          2.872612476348877,
          18.60382652282715,
          9.32278060913086,
          10.689912796020508,
          6.7094268798828125,
          7.288318634033203,
          18.384159088134766,
          18.647008895874023,
          6.738191604614258,
          2.064481258392334,
          -1.531907320022583,
          13.163141250610352,
          8.480237007141113,
          14.380752563476562,
          14.463985443115234,
          -0.5661563873291016,
          4.423709392547607,
          2.070340871810913,
          12.913365364074707,
          5.206667900085449,
          13.506650924682617,
          12.79381275177002,
          3.919516086578369,
          6.138121128082275,
          13.650744438171387,
          6.41598653793335,
          9.586345672607422,
          10.03278923034668,
          5.065895080566406,
          15.998209953308105,
          10.184821128845215,
          10.07165813446045,
          13.650901794433594,
          2.5470337867736816,
          2.7595160007476807,
          13.630578994750977,
          13.51391887664795,
          10.408588409423828,
          3.9603631496429443,
          2.503509521484375,
          3.6010894775390625,
          7.403014183044434,
          7.49086856842041,
          18.37784194946289,
          -0.5661907196044922,
          13.327298164367676,
          17.72196388244629,
          17.58720588684082,
          14.44680404663086,
          6.337860584259033,
          7.424373149871826,
          17.915267944335938,
          15.42408275604248,
          17.064851760864258,
          18.60175132751465,
          4.394768714904785,
          18.127635955810547,
          2.8153398036956787,
          7.563253402709961,
          14.059943199157715,
          10.181349754333496,
          8.504295349121094,
          6.137860298156738,
          18.768945693969727,
          1.4398925304412842,
          11.917192459106445,
          14.215238571166992,
          10.600706100463867,
          18.22115707397461,
          -1.6590499877929688,
          13.631622314453125,
          3.0103838443756104,
          16.07448387145996,
          2.722445011138916,
          17.707626342773438,
          4.303576946258545,
          5.502285003662109,
          13.99544620513916,
          18.46183204650879,
          9.213688850402832,
          14.332761764526367,
          20.134841918945312,
          8.039207458496094,
          6.339081764221191,
          -3.4469828605651855,
          11.917689323425293,
          17.09039878845215,
          2.727874994277954,
          10.613527297973633,
          7.272792816162109,
          7.43775749206543,
          18.29505157470703,
          7.5184855461120605,
          5.89792537689209,
          3.0058810710906982,
          18.00364875793457,
          4.5162129402160645,
          5.499721527099609,
          7.354784965515137,
          18.585811614990234,
          2.5603432655334473,
          4.426253318786621,
          16.97601890563965,
          7.418049335479736,
          6.876022815704346,
          9.38425064086914,
          9.694853782653809,
          16.921939849853516,
          20.135995864868164,
          6.028059959411621,
          2.5042035579681396,
          5.565886497497559,
          -1.5380871295928955,
          10.606841087341309,
          8.459311485290527,
          17.079509735107422,
          9.66694450378418,
          9.359827041625977,
          9.620634078979492,
          2.8108267784118652,
          6.78090238571167,
          4.516221046447754,
          15.882418632507324,
          14.229252815246582,
          2.4832231998443604,
          9.380599021911621,
          3.0089786052703857,
          2.937286853790283,
          16.050342559814453,
          9.959284782409668,
          7.416436195373535,
          18.575794219970703,
          10.567606925964355,
          2.6848089694976807,
          1.3722662925720215,
          5.507828712463379,
          14.042740821838379,
          10.77638053894043,
          2.825415849685669,
          17.569255828857422,
          3.0661697387695312,
          14.134536743164062,
          8.38431453704834,
          3.627789258956909,
          2.6744091510772705,
          18.225627899169922,
          2.0895681381225586,
          2.547083616256714,
          2.6383697986602783,
          22.507457733154297,
          9.508952140808105,
          16.096662521362305,
          10.635376930236816,
          2.9555633068084717,
          17.59461212158203,
          1.577009916305542,
          15.609846115112305,
          17.88302993774414,
          2.9068405628204346,
          17.71817398071289,
          18.178424835205078,
          8.502729415893555,
          3.0323774814605713,
          6.7001800537109375,
          6.166964530944824,
          5.8443121910095215,
          15.615334510803223,
          5.541149616241455,
          8.315313339233398,
          -3.447140693664551,
          9.890493392944336,
          10.418468475341797,
          18.661094665527344,
          14.377533912658691,
          10.74488639831543,
          13.095071792602539,
          18.41063117980957,
          16.106672286987305,
          9.890335083007812,
          8.135533332824707,
          1.486733078956604,
          5.017970561981201,
          13.895655632019043,
          7.346250534057617,
          2.446901559829712,
          10.579090118408203,
          13.901945114135742,
          2.828516721725464,
          17.62689971923828,
          7.354471683502197,
          7.378385543823242,
          17.871700286865234,
          2.764667510986328,
          18.843151092529297,
          10.62275218963623,
          5.914288520812988,
          10.127340316772461,
          15.907170295715332,
          8.366836547851562,
          13.187707901000977,
          6.319361209869385,
          9.49073600769043,
          8.459330558776855,
          10.293651580810547,
          15.88218879699707,
          18.24078941345215,
          7.629044055938721,
          1.5577788352966309,
          6.355846405029297,
          10.250247955322266,
          13.391607284545898,
          13.944934844970703,
          13.513938903808594,
          10.090507507324219,
          2.4487648010253906,
          -1.5953452587127686,
          18.588314056396484,
          10.069341659545898,
          9.617356300354004,
          8.112374305725098,
          10.484241485595703,
          16.979581832885742,
          6.27472448348999,
          6.3193793296813965,
          15.35467529296875,
          16.091075897216797,
          9.223219871520996,
          18.193073272705078,
          2.546840190887451,
          6.879542827606201,
          14.101798057556152,
          10.636088371276855,
          7.5282392501831055,
          16.909393310546875,
          15.978025436401367,
          13.145503997802734,
          13.560079574584961,
          17.204620361328125,
          16.98651695251465,
          10.300535202026367,
          9.680291175842285,
          8.114584922790527,
          18.53582000732422,
          13.12463665008545,
          3.9370768070220947,
          15.623090744018555,
          7.482075214385986,
          1.7986754179000854,
          7.262139320373535,
          10.56825065612793,
          6.138700008392334,
          9.465899467468262,
          5.052042007446289,
          6.849076271057129,
          12.794242858886719,
          18.20250701904297,
          18.063276290893555,
          1.4034451246261597,
          6.190403461456299,
          10.443607330322266,
          5.460664749145508,
          2.9461750984191895,
          3.660094738006592,
          8.514884948730469,
          13.101899147033691,
          18.574785232543945,
          -1.662558674812317,
          18.450782775878906,
          6.3193464279174805,
          18.36334228515625,
          9.6556396484375,
          17.540199279785156,
          18.09852409362793
         ],
         "y": [
          7.308722019195557,
          -8.085793495178223,
          -6.611172199249268,
          10.705137252807617,
          -1.4420888423919678,
          -1.221187949180603,
          -8.852165222167969,
          -6.535702228546143,
          6.741116046905518,
          -8.906999588012695,
          -1.304315209388733,
          0.8731913566589355,
          3.158362865447998,
          -4.9883809089660645,
          -0.2451028823852539,
          -0.3548353314399719,
          -7.542415142059326,
          -8.851252555847168,
          7.644689559936523,
          -0.16639861464500427,
          -5.525993824005127,
          -5.284236907958984,
          8.038616180419922,
          -7.550788402557373,
          11.896343231201172,
          -0.2639729976654053,
          2.945427656173706,
          0.7985676527023315,
          -2.239210605621338,
          -6.891856670379639,
          -1.9709588289260864,
          3.236389636993408,
          3.8450777530670166,
          -6.876500129699707,
          -1.3111162185668945,
          9.19538402557373,
          7.572281360626221,
          -0.12132145464420319,
          4.595158576965332,
          4.697415351867676,
          4.251106262207031,
          -5.4101409912109375,
          -8.890521049499512,
          7.302036285400391,
          -7.235302448272705,
          7.753713607788086,
          -9.085012435913086,
          -5.133925914764404,
          -5.8893022537231445,
          4.185976982116699,
          -6.497673988342285,
          2.0809242725372314,
          -0.5776581168174744,
          -7.226650714874268,
          -0.45945432782173157,
          -0.6507821679115295,
          -0.694291889667511,
          4.1459150314331055,
          13.813824653625488,
          -9.243575096130371,
          4.184922218322754,
          -11.761300086975098,
          -2.469695568084717,
          -5.171453952789307,
          -1.1394686698913574,
          -4.905577182769775,
          -5.1623430252075195,
          -2.0893096923828125,
          3.1119298934936523,
          4.251107692718506,
          7.967601776123047,
          -0.9191204905509949,
          -0.8311776518821716,
          4.6646952629089355,
          -6.554236888885498,
          -7.370213508605957,
          -8.346574783325195,
          -0.8006243705749512,
          -0.6521815061569214,
          3.884551763534546,
          -5.391200542449951,
          3.449355125427246,
          -0.6279811263084412,
          -5.006439685821533,
          4.026435375213623,
          -0.4728260040283203,
          -0.13305296003818512,
          -5.884135723114014,
          3.8289923667907715,
          -1.5137537717819214,
          10.255948066711426,
          3.7746715545654297,
          -0.288230836391449,
          2.8325681686401367,
          9.322104454040527,
          8.055410385131836,
          0.028680581599473953,
          -0.4990496039390564,
          -1.5320358276367188,
          -0.9134209752082825,
          -5.398439407348633,
          -7.657717227935791,
          4.127560615539551,
          2.9515082836151123,
          -0.3363388776779175,
          4.5156569480896,
          -10.85833740234375,
          -7.866054534912109,
          -6.609138011932373,
          11.896797180175781,
          10.25623893737793,
          -0.6562845706939697,
          -1.5504974126815796,
          -0.3293300271034241,
          -1.9747810363769531,
          -2.0013866424560547,
          3.221907615661621,
          -2.078281879425049,
          -6.711300849914551,
          -8.48000717163086,
          10.618205070495605,
          8.845443725585938,
          -7.67437219619751,
          -5.20585823059082,
          3.888850212097168,
          -8.885083198547363,
          -5.371433734893799,
          -1.0096360445022583,
          -5.147806644439697,
          -1.1305538415908813,
          1.6091245412826538,
          0.8935538530349731,
          -0.503248929977417,
          -10.859367370605469,
          -5.757508277893066,
          -8.940106391906738,
          -6.512766361236572,
          9.201602935791016,
          -1.1098049879074097,
          -12.979963302612305,
          -0.6322976350784302,
          0.8947666883468628,
          1.5406017303466797,
          2.117943525314331,
          -0.6218787431716919,
          -6.926143169403076,
          8.845431327819824,
          -5.526093006134033,
          3.836780309677124,
          -8.921181678771973,
          1.6221202611923218,
          -8.466877937316895,
          -0.07215703278779984,
          -0.4976969361305237,
          -0.5106154084205627,
          -1.9560132026672363,
          10.897046089172363,
          -2.2007710933685303,
          -9.159867286682129,
          -1.612249732017517,
          -7.607563018798828,
          4.124734878540039,
          -2.2207345962524414,
          -9.295619010925293,
          -0.8257882595062256,
          -8.41769790649414,
          4.011173725128174,
          -8.077435493469238,
          -4.929826736450195,
          -1.4181798696517944,
          2.8771018981933594,
          -1.3170887231826782,
          13.813800811767578,
          -1.3420275449752808,
          6.741138935089111,
          1.9621833562850952,
          -0.5549935102462769,
          -0.2797306776046753,
          -0.49850213527679443,
          -8.022910118103027,
          -1.427367925643921,
          -0.7583616971969604,
          -8.314184188842773,
          -0.5440005660057068,
          -8.148419380187988,
          3.285564422607422,
          -0.10001516342163086,
          -8.446043968200684,
          -6.870561599731445,
          -5.919666767120361,
          -6.609374046325684,
          -0.7627052664756775,
          -6.515574932098389,
          -0.29317665100097656,
          11.897004127502441,
          9.671035766601562,
          -2.480639934539795,
          2.8925063610076904,
          4.596640586853027,
          -2.230087995529175,
          8.21190071105957,
          10.964275360107422,
          -0.57068932056427,
          9.671120643615723,
          -7.814837455749512,
          -1.4885104894638062,
          -7.212826251983643,
          8.406363487243652,
          -1.3783867359161377,
          -1.1522725820541382,
          -2.168262481689453,
          8.332606315612793,
          -0.2081150859594345,
          -8.05598258972168,
          -1.383267879486084,
          -1.3990507125854492,
          -8.303011894226074,
          -0.6800180673599243,
          3.83705472946167,
          -2.2280900478363037,
          -5.628632068634033,
          0.8322263956069946,
          -0.31597262620925903,
          -8.069662094116211,
          7.5856547355651855,
          13.576729774475098,
          2.012204885482788,
          -12.979984283447266,
          -0.6081235408782959,
          -5.525511264801025,
          3.1373376846313477,
          -4.936666488647461,
          -1.4482097625732422,
          -6.672399520874023,
          -0.560310959815979,
          8.015077590942383,
          8.348909378051758,
          -11.761305809020996,
          0.8641258478164673,
          -8.901147842407227,
          9.258583068847656,
          3.7892873287200928,
          0.8329196572303772,
          0.9377935528755188,
          -7.859099388122559,
          -1.0068352222442627,
          -1.0550545454025269,
          -6.629499435424805,
          13.57669448852539,
          -0.8083164691925049,
          -0.5721621513366699,
          -0.31846705079078674,
          10.771520614624023,
          13.813821792602539,
          -1.147937297821045,
          4.10719108581543,
          -1.1467252969741821,
          -2.1335256099700928,
          -0.511205792427063,
          -0.38068145513534546,
          8.242588996887207,
          4.2628092765808105,
          -0.6865547299385071,
          -1.037695050239563,
          -0.5518414378166199,
          0.8472213745117188,
          -7.8201775550842285,
          10.927932739257812,
          7.564808368682861,
          -5.148163795471191,
          -0.7610905170440674,
          -5.095632553100586,
          -8.850371360778809,
          -1.939168930053711,
          -1.074406385421753,
          -5.882434368133545,
          2.000168800354004,
          -7.251624584197998,
          -1.144895315170288,
          -9.085063934326172,
          10.788172721862793,
          10.675862312316895,
          -1.592629075050354,
          -6.41188383102417,
          -2.501920223236084,
          -7.372595310211182,
          -0.07348538935184479,
          -4.958370685577393,
          -0.1306324601173401,
          8.24605941772461,
          10.659173965454102,
          9.325666427612305,
          11.046930313110352,
          13.576753616333008,
          10.982149124145508,
          0.9255049824714661,
          -0.7861601114273071,
          3.526684045791626
         ]
        }
       ],
       "layout": {
        "height": 1000,
        "scene": {
         "xaxis": {
          "title": {
           "text": "Composante 1"
          }
         },
         "yaxis": {
          "title": {
           "text": "Composante 2"
          }
         }
        },
        "showlegend": false,
        "template": {
         "data": {
          "bar": [
           {
            "error_x": {
             "color": "#2a3f5f"
            },
            "error_y": {
             "color": "#2a3f5f"
            },
            "marker": {
             "line": {
              "color": "#E5ECF6",
              "width": 0.5
             },
             "pattern": {
              "fillmode": "overlay",
              "size": 10,
              "solidity": 0.2
             }
            },
            "type": "bar"
           }
          ],
          "barpolar": [
           {
            "marker": {
             "line": {
              "color": "#E5ECF6",
              "width": 0.5
             },
             "pattern": {
              "fillmode": "overlay",
              "size": 10,
              "solidity": 0.2
             }
            },
            "type": "barpolar"
           }
          ],
          "carpet": [
           {
            "aaxis": {
             "endlinecolor": "#2a3f5f",
             "gridcolor": "white",
             "linecolor": "white",
             "minorgridcolor": "white",
             "startlinecolor": "#2a3f5f"
            },
            "baxis": {
             "endlinecolor": "#2a3f5f",
             "gridcolor": "white",
             "linecolor": "white",
             "minorgridcolor": "white",
             "startlinecolor": "#2a3f5f"
            },
            "type": "carpet"
           }
          ],
          "choropleth": [
           {
            "colorbar": {
             "outlinewidth": 0,
             "ticks": ""
            },
            "type": "choropleth"
           }
          ],
          "contour": [
           {
            "colorbar": {
             "outlinewidth": 0,
             "ticks": ""
            },
            "colorscale": [
             [
              0,
              "#0d0887"
             ],
             [
              0.1111111111111111,
              "#46039f"
             ],
             [
              0.2222222222222222,
              "#7201a8"
             ],
             [
              0.3333333333333333,
              "#9c179e"
             ],
             [
              0.4444444444444444,
              "#bd3786"
             ],
             [
              0.5555555555555556,
              "#d8576b"
             ],
             [
              0.6666666666666666,
              "#ed7953"
             ],
             [
              0.7777777777777778,
              "#fb9f3a"
             ],
             [
              0.8888888888888888,
              "#fdca26"
             ],
             [
              1,
              "#f0f921"
             ]
            ],
            "type": "contour"
           }
          ],
          "contourcarpet": [
           {
            "colorbar": {
             "outlinewidth": 0,
             "ticks": ""
            },
            "type": "contourcarpet"
           }
          ],
          "heatmap": [
           {
            "colorbar": {
             "outlinewidth": 0,
             "ticks": ""
            },
            "colorscale": [
             [
              0,
              "#0d0887"
             ],
             [
              0.1111111111111111,
              "#46039f"
             ],
             [
              0.2222222222222222,
              "#7201a8"
             ],
             [
              0.3333333333333333,
              "#9c179e"
             ],
             [
              0.4444444444444444,
              "#bd3786"
             ],
             [
              0.5555555555555556,
              "#d8576b"
             ],
             [
              0.6666666666666666,
              "#ed7953"
             ],
             [
              0.7777777777777778,
              "#fb9f3a"
             ],
             [
              0.8888888888888888,
              "#fdca26"
             ],
             [
              1,
              "#f0f921"
             ]
            ],
            "type": "heatmap"
           }
          ],
          "heatmapgl": [
           {
            "colorbar": {
             "outlinewidth": 0,
             "ticks": ""
            },
            "colorscale": [
             [
              0,
              "#0d0887"
             ],
             [
              0.1111111111111111,
              "#46039f"
             ],
             [
              0.2222222222222222,
              "#7201a8"
             ],
             [
              0.3333333333333333,
              "#9c179e"
             ],
             [
              0.4444444444444444,
              "#bd3786"
             ],
             [
              0.5555555555555556,
              "#d8576b"
             ],
             [
              0.6666666666666666,
              "#ed7953"
             ],
             [
              0.7777777777777778,
              "#fb9f3a"
             ],
             [
              0.8888888888888888,
              "#fdca26"
             ],
             [
              1,
              "#f0f921"
             ]
            ],
            "type": "heatmapgl"
           }
          ],
          "histogram": [
           {
            "marker": {
             "pattern": {
              "fillmode": "overlay",
              "size": 10,
              "solidity": 0.2
             }
            },
            "type": "histogram"
           }
          ],
          "histogram2d": [
           {
            "colorbar": {
             "outlinewidth": 0,
             "ticks": ""
            },
            "colorscale": [
             [
              0,
              "#0d0887"
             ],
             [
              0.1111111111111111,
              "#46039f"
             ],
             [
              0.2222222222222222,
              "#7201a8"
             ],
             [
              0.3333333333333333,
              "#9c179e"
             ],
             [
              0.4444444444444444,
              "#bd3786"
             ],
             [
              0.5555555555555556,
              "#d8576b"
             ],
             [
              0.6666666666666666,
              "#ed7953"
             ],
             [
              0.7777777777777778,
              "#fb9f3a"
             ],
             [
              0.8888888888888888,
              "#fdca26"
             ],
             [
              1,
              "#f0f921"
             ]
            ],
            "type": "histogram2d"
           }
          ],
          "histogram2dcontour": [
           {
            "colorbar": {
             "outlinewidth": 0,
             "ticks": ""
            },
            "colorscale": [
             [
              0,
              "#0d0887"
             ],
             [
              0.1111111111111111,
              "#46039f"
             ],
             [
              0.2222222222222222,
              "#7201a8"
             ],
             [
              0.3333333333333333,
              "#9c179e"
             ],
             [
              0.4444444444444444,
              "#bd3786"
             ],
             [
              0.5555555555555556,
              "#d8576b"
             ],
             [
              0.6666666666666666,
              "#ed7953"
             ],
             [
              0.7777777777777778,
              "#fb9f3a"
             ],
             [
              0.8888888888888888,
              "#fdca26"
             ],
             [
              1,
              "#f0f921"
             ]
            ],
            "type": "histogram2dcontour"
           }
          ],
          "mesh3d": [
           {
            "colorbar": {
             "outlinewidth": 0,
             "ticks": ""
            },
            "type": "mesh3d"
           }
          ],
          "parcoords": [
           {
            "line": {
             "colorbar": {
              "outlinewidth": 0,
              "ticks": ""
             }
            },
            "type": "parcoords"
           }
          ],
          "pie": [
           {
            "automargin": true,
            "type": "pie"
           }
          ],
          "scatter": [
           {
            "fillpattern": {
             "fillmode": "overlay",
             "size": 10,
             "solidity": 0.2
            },
            "type": "scatter"
           }
          ],
          "scatter3d": [
           {
            "line": {
             "colorbar": {
              "outlinewidth": 0,
              "ticks": ""
             }
            },
            "marker": {
             "colorbar": {
              "outlinewidth": 0,
              "ticks": ""
             }
            },
            "type": "scatter3d"
           }
          ],
          "scattercarpet": [
           {
            "marker": {
             "colorbar": {
              "outlinewidth": 0,
              "ticks": ""
             }
            },
            "type": "scattercarpet"
           }
          ],
          "scattergeo": [
           {
            "marker": {
             "colorbar": {
              "outlinewidth": 0,
              "ticks": ""
             }
            },
            "type": "scattergeo"
           }
          ],
          "scattergl": [
           {
            "marker": {
             "colorbar": {
              "outlinewidth": 0,
              "ticks": ""
             }
            },
            "type": "scattergl"
           }
          ],
          "scattermapbox": [
           {
            "marker": {
             "colorbar": {
              "outlinewidth": 0,
              "ticks": ""
             }
            },
            "type": "scattermapbox"
           }
          ],
          "scatterpolar": [
           {
            "marker": {
             "colorbar": {
              "outlinewidth": 0,
              "ticks": ""
             }
            },
            "type": "scatterpolar"
           }
          ],
          "scatterpolargl": [
           {
            "marker": {
             "colorbar": {
              "outlinewidth": 0,
              "ticks": ""
             }
            },
            "type": "scatterpolargl"
           }
          ],
          "scatterternary": [
           {
            "marker": {
             "colorbar": {
              "outlinewidth": 0,
              "ticks": ""
             }
            },
            "type": "scatterternary"
           }
          ],
          "surface": [
           {
            "colorbar": {
             "outlinewidth": 0,
             "ticks": ""
            },
            "colorscale": [
             [
              0,
              "#0d0887"
             ],
             [
              0.1111111111111111,
              "#46039f"
             ],
             [
              0.2222222222222222,
              "#7201a8"
             ],
             [
              0.3333333333333333,
              "#9c179e"
             ],
             [
              0.4444444444444444,
              "#bd3786"
             ],
             [
              0.5555555555555556,
              "#d8576b"
             ],
             [
              0.6666666666666666,
              "#ed7953"
             ],
             [
              0.7777777777777778,
              "#fb9f3a"
             ],
             [
              0.8888888888888888,
              "#fdca26"
             ],
             [
              1,
              "#f0f921"
             ]
            ],
            "type": "surface"
           }
          ],
          "table": [
           {
            "cells": {
             "fill": {
              "color": "#EBF0F8"
             },
             "line": {
              "color": "white"
             }
            },
            "header": {
             "fill": {
              "color": "#C8D4E3"
             },
             "line": {
              "color": "white"
             }
            },
            "type": "table"
           }
          ]
         },
         "layout": {
          "annotationdefaults": {
           "arrowcolor": "#2a3f5f",
           "arrowhead": 0,
           "arrowwidth": 1
          },
          "autotypenumbers": "strict",
          "coloraxis": {
           "colorbar": {
            "outlinewidth": 0,
            "ticks": ""
           }
          },
          "colorscale": {
           "diverging": [
            [
             0,
             "#8e0152"
            ],
            [
             0.1,
             "#c51b7d"
            ],
            [
             0.2,
             "#de77ae"
            ],
            [
             0.3,
             "#f1b6da"
            ],
            [
             0.4,
             "#fde0ef"
            ],
            [
             0.5,
             "#f7f7f7"
            ],
            [
             0.6,
             "#e6f5d0"
            ],
            [
             0.7,
             "#b8e186"
            ],
            [
             0.8,
             "#7fbc41"
            ],
            [
             0.9,
             "#4d9221"
            ],
            [
             1,
             "#276419"
            ]
           ],
           "sequential": [
            [
             0,
             "#0d0887"
            ],
            [
             0.1111111111111111,
             "#46039f"
            ],
            [
             0.2222222222222222,
             "#7201a8"
            ],
            [
             0.3333333333333333,
             "#9c179e"
            ],
            [
             0.4444444444444444,
             "#bd3786"
            ],
            [
             0.5555555555555556,
             "#d8576b"
            ],
            [
             0.6666666666666666,
             "#ed7953"
            ],
            [
             0.7777777777777778,
             "#fb9f3a"
            ],
            [
             0.8888888888888888,
             "#fdca26"
            ],
            [
             1,
             "#f0f921"
            ]
           ],
           "sequentialminus": [
            [
             0,
             "#0d0887"
            ],
            [
             0.1111111111111111,
             "#46039f"
            ],
            [
             0.2222222222222222,
             "#7201a8"
            ],
            [
             0.3333333333333333,
             "#9c179e"
            ],
            [
             0.4444444444444444,
             "#bd3786"
            ],
            [
             0.5555555555555556,
             "#d8576b"
            ],
            [
             0.6666666666666666,
             "#ed7953"
            ],
            [
             0.7777777777777778,
             "#fb9f3a"
            ],
            [
             0.8888888888888888,
             "#fdca26"
            ],
            [
             1,
             "#f0f921"
            ]
           ]
          },
          "colorway": [
           "#636efa",
           "#EF553B",
           "#00cc96",
           "#ab63fa",
           "#FFA15A",
           "#19d3f3",
           "#FF6692",
           "#B6E880",
           "#FF97FF",
           "#FECB52"
          ],
          "font": {
           "color": "#2a3f5f"
          },
          "geo": {
           "bgcolor": "white",
           "lakecolor": "white",
           "landcolor": "#E5ECF6",
           "showlakes": true,
           "showland": true,
           "subunitcolor": "white"
          },
          "hoverlabel": {
           "align": "left"
          },
          "hovermode": "closest",
          "mapbox": {
           "style": "light"
          },
          "paper_bgcolor": "white",
          "plot_bgcolor": "#E5ECF6",
          "polar": {
           "angularaxis": {
            "gridcolor": "white",
            "linecolor": "white",
            "ticks": ""
           },
           "bgcolor": "#E5ECF6",
           "radialaxis": {
            "gridcolor": "white",
            "linecolor": "white",
            "ticks": ""
           }
          },
          "scene": {
           "xaxis": {
            "backgroundcolor": "#E5ECF6",
            "gridcolor": "white",
            "gridwidth": 2,
            "linecolor": "white",
            "showbackground": true,
            "ticks": "",
            "zerolinecolor": "white"
           },
           "yaxis": {
            "backgroundcolor": "#E5ECF6",
            "gridcolor": "white",
            "gridwidth": 2,
            "linecolor": "white",
            "showbackground": true,
            "ticks": "",
            "zerolinecolor": "white"
           },
           "zaxis": {
            "backgroundcolor": "#E5ECF6",
            "gridcolor": "white",
            "gridwidth": 2,
            "linecolor": "white",
            "showbackground": true,
            "ticks": "",
            "zerolinecolor": "white"
           }
          },
          "shapedefaults": {
           "line": {
            "color": "#2a3f5f"
           }
          },
          "ternary": {
           "aaxis": {
            "gridcolor": "white",
            "linecolor": "white",
            "ticks": ""
           },
           "baxis": {
            "gridcolor": "white",
            "linecolor": "white",
            "ticks": ""
           },
           "bgcolor": "#E5ECF6",
           "caxis": {
            "gridcolor": "white",
            "linecolor": "white",
            "ticks": ""
           }
          },
          "title": {
           "x": 0.05
          },
          "xaxis": {
           "automargin": true,
           "gridcolor": "white",
           "linecolor": "white",
           "ticks": "",
           "title": {
            "standoff": 15
           },
           "zerolinecolor": "white",
           "zerolinewidth": 2
          },
          "yaxis": {
           "automargin": true,
           "gridcolor": "white",
           "linecolor": "white",
           "ticks": "",
           "title": {
            "standoff": 15
           },
           "zerolinecolor": "white",
           "zerolinewidth": 2
          }
         }
        },
        "title": {
         "text": "Projection 2D des voisins de salle, conférence, espace, exposition, artistique par UMAP"
        },
        "width": 1200,
        "xaxis": {
         "title": {
          "text": "Composante 1"
         }
        },
        "yaxis": {
         "title": {
          "text": "Composante 2"
         }
        }
       }
      }
     },
     "metadata": {},
     "output_type": "display_data"
    }
   ],
   "source": [
    "# candidate_words = ['homme', 'rouge', 'étudier']\n",
    "candidate_words = ['salle', 'conférence', 'espace', 'exposition', 'artistique']\n",
    "m = display_dimred_neighbors(model, candidate_words, n_components=2, topn=60, method='umap', n_neighbors=2)\n"
   ]
  },
  {
   "cell_type": "code",
   "execution_count": 134,
   "id": "2a38eb56",
   "metadata": {},
   "outputs": [
    {
     "data": {
      "text/plain": [
       "True"
      ]
     },
     "execution_count": 134,
     "metadata": {},
     "output_type": "execute_result"
    }
   ],
   "source": [
    "'atelier' in m\n",
    "# afficher les voisin de atelier\n"
   ]
  },
  {
   "cell_type": "markdown",
   "id": "ee8813d7",
   "metadata": {},
   "source": [
    "Veuillez noter ici vos observations sur la procédure, et coller un extrait montrant votre meilleure performance au jeu."
   ]
  },
  {
   "cell_type": "markdown",
   "id": "78dc32fe",
   "metadata": {},
   "source": [
    "![ads]c:\\Users\\Julien\\AppData\\Local\\Packages\\5319275A.WhatsAppDesktop_cv1g1gvanyjgm\\TempState\\44E65D3E9BC2F88B2B3D566DE51A5381\\WhatsApp Image 2024-11-11 at 10.38.14_03bd4629.jpg\n"
   ]
  },
  {
   "attachments": {
    "WhatsApp Image 2024-11-11 at 10.38.14_03bd4629.jpg": {
     "image/jpeg": "[encoded data removed]"
    }
   },
   "cell_type": "markdown",
   "id": "6650b2a1",
   "metadata": {},
   "source": [
    " ![Cémantix](![WhatsApp Image 2024-11-11 at 10.38.14_03bd4629.jpg](<attachment:WhatsApp Image 2024-11-11 at 10.38.14_03bd4629.jpg>))"
   ]
  },
  {
   "cell_type": "markdown",
   "id": "1539000b",
   "metadata": {},
   "source": [
    "**Fin du Labo.**  Veuillez nettoyer ce notebook en gardant seulement les résultats désirés, l'enregistrer, et le soumettre comme devoir sur Cyberlearn."
   ]
  }
 ],
 "metadata": {
  "kernelspec": {
   "display_name": "PCD",
   "language": "python",
   "name": "python3"
  },
  "language_info": {
   "codemirror_mode": {
    "name": "ipython",
    "version": 3
   },
   "file_extension": ".py",
   "mimetype": "text/x-python",
   "name": "python",
   "nbconvert_exporter": "python",
   "pygments_lexer": "ipython3",
   "version": "3.11.7"
  }
 },
 "nbformat": 4,
 "nbformat_minor": 5
}
