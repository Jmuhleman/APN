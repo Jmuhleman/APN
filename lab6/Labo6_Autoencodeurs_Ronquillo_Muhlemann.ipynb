{
 "cells": [
  {
   "cell_type": "markdown",
   "id": "3bb73daa",
   "metadata": {},
   "source": [
    "<img src=\"https://heig-vd.ch/docs/default-source/doc-global-newsletter/2020-slim.svg\" alt=\"Logo HEIG-VD\" style=\"width: 80px;\" align=\"right\"/>\n",
    "\n",
    "# Cours APN - Labo 6 : Autoencodeurs et détection de fraudes\n",
    "\n",
    "## Résumé\n",
    "Le but de ce laboratoire est d'entraîner des autoencodeurs sur des données de transactions bancaires, en mode non supervisé.  La fonction de coût sera la capacité de l'autoencodeur à reproduire en sortie les données d'entrée.  Trois réseaux de neurones autoencodeurs seront testés.\n",
    "\n",
    "Ensuite, on considérera que les données mal reconstruites sont atypiques, et on testera l'hypothèse qu'il s'agit de transactions frauduleuses.  On utilisera donc cette information pour évaluer la capacité de l'autoencodeur à détecter les fraudes."
   ]
  },
  {
   "cell_type": "code",
   "execution_count": 20,
   "id": "7c37de1f",
   "metadata": {},
   "outputs": [],
   "source": [
    "import numpy as np\n",
    "import pandas as pd \n",
    "import keras # pour l'installation, \"pip install tensorflow\" suffira"
   ]
  },
  {
   "cell_type": "code",
   "execution_count": 21,
   "id": "da82dfcc",
   "metadata": {},
   "outputs": [],
   "source": [
    "from sklearn.preprocessing import StandardScaler\n",
    "from sklearn.model_selection import train_test_split \n",
    "from sklearn.metrics import PrecisionRecallDisplay, average_precision_score\n",
    "from sklearn.metrics import RocCurveDisplay, roc_auc_score\n",
    "from collections import Counter\n",
    "import matplotlib.pyplot as plt\n",
    "%matplotlib inline"
   ]
  },
  {
   "cell_type": "markdown",
   "id": "ea5768fa",
   "metadata": {},
   "source": [
    "## 1. Données : source\n",
    "\n",
    "Vous utiliserez un jeu de données fourni par le [Groupe ML de l'Université Libre de Bruxelles](http://mlg.ulb.ac.be/), disponible sur Kaggle : https://www.kaggle.com/datasets/mlg-ulb/creditcardfraud.  Pour simplifier, une version vous est fournie sur Switchdrive dans un fichier [creditcard.zip](https://drive.switch.ch/index.php/s/lBqMRsADWrU2S4R).  Voici la description des données par les auteurs :\n",
    "\n",
    "> The dataset contains transactions made by credit cards over two days in September 2013 by European cardholders.  It contains only numerical input variables which are the result of a PCA transformation (due to confidentiality issues).  Features V1, ..., V28 are the principal components.  Two features were not transformed: 'Time' (seconds since the 1st transaction) and 'Amount'.  \n",
    "\n",
    "> The feature 'Class' takes value 1 in case of a fraudulent transaction and 0 otherwise.  There are 492 frauds out of 284,807 transactions (0.17%).  As the dataset is highly unbalanced, we recommend measuring the accuracy using the Area Under the Precision-Recall Curve (AUPRC), not with confusion matrices."
   ]
  },
  {
   "cell_type": "markdown",
   "id": "c067680e",
   "metadata": {},
   "source": [
    "## 1. Charger et préparer les données\n",
    "a. Chargez les données de `creditcard.csv` directement dans une *dataframe* Pandas appelée `data`."
   ]
  },
  {
   "cell_type": "code",
   "execution_count": 22,
   "id": "95608069",
   "metadata": {},
   "outputs": [
    {
     "data": {
      "text/html": [
       "<div>\n",
       "<style scoped>\n",
       "    .dataframe tbody tr th:only-of-type {\n",
       "        vertical-align: middle;\n",
       "    }\n",
       "\n",
       "    .dataframe tbody tr th {\n",
       "        vertical-align: top;\n",
       "    }\n",
       "\n",
       "    .dataframe thead th {\n",
       "        text-align: right;\n",
       "    }\n",
       "</style>\n",
       "<table border=\"1\" class=\"dataframe\">\n",
       "  <thead>\n",
       "    <tr style=\"text-align: right;\">\n",
       "      <th></th>\n",
       "      <th>Time</th>\n",
       "      <th>V1</th>\n",
       "      <th>V2</th>\n",
       "      <th>V3</th>\n",
       "      <th>V4</th>\n",
       "      <th>V5</th>\n",
       "      <th>V6</th>\n",
       "      <th>V7</th>\n",
       "      <th>V8</th>\n",
       "      <th>V9</th>\n",
       "      <th>...</th>\n",
       "      <th>V21</th>\n",
       "      <th>V22</th>\n",
       "      <th>V23</th>\n",
       "      <th>V24</th>\n",
       "      <th>V25</th>\n",
       "      <th>V26</th>\n",
       "      <th>V27</th>\n",
       "      <th>V28</th>\n",
       "      <th>Amount</th>\n",
       "      <th>Class</th>\n",
       "    </tr>\n",
       "  </thead>\n",
       "  <tbody>\n",
       "    <tr>\n",
       "      <th>0</th>\n",
       "      <td>0.0</td>\n",
       "      <td>-1.359807</td>\n",
       "      <td>-0.072781</td>\n",
       "      <td>2.536347</td>\n",
       "      <td>1.378155</td>\n",
       "      <td>-0.338321</td>\n",
       "      <td>0.462388</td>\n",
       "      <td>0.239599</td>\n",
       "      <td>0.098698</td>\n",
       "      <td>0.363787</td>\n",
       "      <td>...</td>\n",
       "      <td>-0.018307</td>\n",
       "      <td>0.277838</td>\n",
       "      <td>-0.110474</td>\n",
       "      <td>0.066928</td>\n",
       "      <td>0.128539</td>\n",
       "      <td>-0.189115</td>\n",
       "      <td>0.133558</td>\n",
       "      <td>-0.021053</td>\n",
       "      <td>149.62</td>\n",
       "      <td>0</td>\n",
       "    </tr>\n",
       "    <tr>\n",
       "      <th>1</th>\n",
       "      <td>0.0</td>\n",
       "      <td>1.191857</td>\n",
       "      <td>0.266151</td>\n",
       "      <td>0.166480</td>\n",
       "      <td>0.448154</td>\n",
       "      <td>0.060018</td>\n",
       "      <td>-0.082361</td>\n",
       "      <td>-0.078803</td>\n",
       "      <td>0.085102</td>\n",
       "      <td>-0.255425</td>\n",
       "      <td>...</td>\n",
       "      <td>-0.225775</td>\n",
       "      <td>-0.638672</td>\n",
       "      <td>0.101288</td>\n",
       "      <td>-0.339846</td>\n",
       "      <td>0.167170</td>\n",
       "      <td>0.125895</td>\n",
       "      <td>-0.008983</td>\n",
       "      <td>0.014724</td>\n",
       "      <td>2.69</td>\n",
       "      <td>0</td>\n",
       "    </tr>\n",
       "    <tr>\n",
       "      <th>2</th>\n",
       "      <td>1.0</td>\n",
       "      <td>-1.358354</td>\n",
       "      <td>-1.340163</td>\n",
       "      <td>1.773209</td>\n",
       "      <td>0.379780</td>\n",
       "      <td>-0.503198</td>\n",
       "      <td>1.800499</td>\n",
       "      <td>0.791461</td>\n",
       "      <td>0.247676</td>\n",
       "      <td>-1.514654</td>\n",
       "      <td>...</td>\n",
       "      <td>0.247998</td>\n",
       "      <td>0.771679</td>\n",
       "      <td>0.909412</td>\n",
       "      <td>-0.689281</td>\n",
       "      <td>-0.327642</td>\n",
       "      <td>-0.139097</td>\n",
       "      <td>-0.055353</td>\n",
       "      <td>-0.059752</td>\n",
       "      <td>378.66</td>\n",
       "      <td>0</td>\n",
       "    </tr>\n",
       "    <tr>\n",
       "      <th>3</th>\n",
       "      <td>1.0</td>\n",
       "      <td>-0.966272</td>\n",
       "      <td>-0.185226</td>\n",
       "      <td>1.792993</td>\n",
       "      <td>-0.863291</td>\n",
       "      <td>-0.010309</td>\n",
       "      <td>1.247203</td>\n",
       "      <td>0.237609</td>\n",
       "      <td>0.377436</td>\n",
       "      <td>-1.387024</td>\n",
       "      <td>...</td>\n",
       "      <td>-0.108300</td>\n",
       "      <td>0.005274</td>\n",
       "      <td>-0.190321</td>\n",
       "      <td>-1.175575</td>\n",
       "      <td>0.647376</td>\n",
       "      <td>-0.221929</td>\n",
       "      <td>0.062723</td>\n",
       "      <td>0.061458</td>\n",
       "      <td>123.50</td>\n",
       "      <td>0</td>\n",
       "    </tr>\n",
       "    <tr>\n",
       "      <th>4</th>\n",
       "      <td>2.0</td>\n",
       "      <td>-1.158233</td>\n",
       "      <td>0.877737</td>\n",
       "      <td>1.548718</td>\n",
       "      <td>0.403034</td>\n",
       "      <td>-0.407193</td>\n",
       "      <td>0.095921</td>\n",
       "      <td>0.592941</td>\n",
       "      <td>-0.270533</td>\n",
       "      <td>0.817739</td>\n",
       "      <td>...</td>\n",
       "      <td>-0.009431</td>\n",
       "      <td>0.798278</td>\n",
       "      <td>-0.137458</td>\n",
       "      <td>0.141267</td>\n",
       "      <td>-0.206010</td>\n",
       "      <td>0.502292</td>\n",
       "      <td>0.219422</td>\n",
       "      <td>0.215153</td>\n",
       "      <td>69.99</td>\n",
       "      <td>0</td>\n",
       "    </tr>\n",
       "  </tbody>\n",
       "</table>\n",
       "<p>5 rows × 31 columns</p>\n",
       "</div>"
      ],
      "text/plain": [
       "   Time        V1        V2        V3        V4        V5        V6        V7  \\\n",
       "0   0.0 -1.359807 -0.072781  2.536347  1.378155 -0.338321  0.462388  0.239599   \n",
       "1   0.0  1.191857  0.266151  0.166480  0.448154  0.060018 -0.082361 -0.078803   \n",
       "2   1.0 -1.358354 -1.340163  1.773209  0.379780 -0.503198  1.800499  0.791461   \n",
       "3   1.0 -0.966272 -0.185226  1.792993 -0.863291 -0.010309  1.247203  0.237609   \n",
       "4   2.0 -1.158233  0.877737  1.548718  0.403034 -0.407193  0.095921  0.592941   \n",
       "\n",
       "         V8        V9  ...       V21       V22       V23       V24       V25  \\\n",
       "0  0.098698  0.363787  ... -0.018307  0.277838 -0.110474  0.066928  0.128539   \n",
       "1  0.085102 -0.255425  ... -0.225775 -0.638672  0.101288 -0.339846  0.167170   \n",
       "2  0.247676 -1.514654  ...  0.247998  0.771679  0.909412 -0.689281 -0.327642   \n",
       "3  0.377436 -1.387024  ... -0.108300  0.005274 -0.190321 -1.175575  0.647376   \n",
       "4 -0.270533  0.817739  ... -0.009431  0.798278 -0.137458  0.141267 -0.206010   \n",
       "\n",
       "        V26       V27       V28  Amount  Class  \n",
       "0 -0.189115  0.133558 -0.021053  149.62      0  \n",
       "1  0.125895 -0.008983  0.014724    2.69      0  \n",
       "2 -0.139097 -0.055353 -0.059752  378.66      0  \n",
       "3 -0.221929  0.062723  0.061458  123.50      0  \n",
       "4  0.502292  0.219422  0.215153   69.99      0  \n",
       "\n",
       "[5 rows x 31 columns]"
      ]
     },
     "execution_count": 22,
     "metadata": {},
     "output_type": "execute_result"
    }
   ],
   "source": [
    "data = pd.read_csv('creditcard.csv')\n",
    "data.head()"
   ]
  },
  {
   "cell_type": "markdown",
   "id": "9e620951",
   "metadata": {},
   "source": [
    "b. Affichez quelques informations sur ces données et leurs caractéristiques."
   ]
  },
  {
   "cell_type": "code",
   "execution_count": 23,
   "id": "a9a7bc3b",
   "metadata": {
    "scrolled": true
   },
   "outputs": [
    {
     "data": {
      "text/plain": [
       "Class\n",
       "0    284315\n",
       "1       492\n",
       "Name: count, dtype: int64"
      ]
     },
     "execution_count": 23,
     "metadata": {},
     "output_type": "execute_result"
    }
   ],
   "source": [
    "data['Class'].value_counts()"
   ]
  },
  {
   "cell_type": "markdown",
   "id": "7c0f164e",
   "metadata": {},
   "source": [
    "c. Construisez une nouvelle *dataframe* appelée `data_labels` contenant seulement l'attribut qui indique si une transaction est frauduleuse ou non (attribut `Class`).  Supprimez les attributs `Time` et `Class` de la *dataframe* initiale `data`."
   ]
  },
  {
   "cell_type": "code",
   "execution_count": 24,
   "id": "c5e9478f",
   "metadata": {},
   "outputs": [],
   "source": [
    "data_labels = data['Class']\n",
    "data.drop('Class', axis=1, inplace=True)\n",
    "data.drop('Time', axis=1, inplace=True)"
   ]
  },
  {
   "cell_type": "markdown",
   "id": "14696b88",
   "metadata": {},
   "source": [
    "d. Normalisez toutes les colonnes de `data` vers des valeurs de moyenne nulle et d'écart-type égal à 1 (distribution centrée réduite). Utilisez pour cela le `StandardScaler` de scikit-learn."
   ]
  },
  {
   "cell_type": "code",
   "execution_count": 25,
   "id": "6845bc63",
   "metadata": {},
   "outputs": [],
   "source": [
    "scaler = StandardScaler()\n",
    "data = scaler.fit_transform(data)\n",
    "\n"
   ]
  },
  {
   "cell_type": "markdown",
   "id": "ebf47400",
   "metadata": {},
   "source": [
    "e. Pourquoi est-il acceptable ici de ne pas diviser `data` en données d'entraînement et de test ?"
   ]
  },
  {
   "cell_type": "code",
   "execution_count": 26,
   "id": "f12aeab4",
   "metadata": {},
   "outputs": [],
   "source": [
    "# Le dataset présente 0.17% de fraudes ce qui nous indique un dataset extrêmement déséquilibré.\n",
    "# En outre, un split en deux ne serait pas très efficace si nous obtenons une répartition très homogène des classes\n"
   ]
  },
  {
   "cell_type": "markdown",
   "id": "2487bf4a",
   "metadata": {},
   "source": [
    "# 2. Définir les fonctions d'évaluation du modèle\n",
    "Veuillez définir deux fonctions qui affichent :\n",
    "   1. la courbe précision-rappel et la précision moyenne (qui est aussi la valeur de retour)\n",
    "   1. la courbe ROC et l'aire sous la courbe (qui est aussi la valeur de retour)\n",
    "\n",
    "Puis, veuillez recopier leur code et écrire une fonction qui affiche les deux courbes ensemble.\n",
    "\n",
    "Ces fonctions, spécifiées ci-dessous, utilisent les classes et fonctions importées de `sklearn.metrics` au début de ce notebook.  Veuillez consulter leur documentation pour savoir comment les utiliser.\n",
    "\n",
    "Une fonction auxiliaire vous est donnée, qui mesure l'erreur de reconstruction entre les données d'origine et celles reconstruites par un autoencodeur."
   ]
  },
  {
   "cell_type": "code",
   "execution_count": 27,
   "id": "b3fd97a1",
   "metadata": {},
   "outputs": [],
   "source": [
    "def reconstruction_error(X_orig, X_pred):\n",
    "    '''\n",
    "    Mesure l'erreur de reconstruction pour l'ensemble des données (compare 2 dataframes).\n",
    "    Retourne une série avec l'erreur de chaque point de données.\n",
    "    '''\n",
    "    loss = np.sum((np.array(X_orig) - np.array(X_pred))**2, axis=1) # carré de l'erreur pour chaque item\n",
    "    loss = pd.Series(data = loss, index = X_orig.index) # transformer en Series\n",
    "    loss = (loss - np.min(loss)) / (np.max(loss) - np.min(loss)) # normalisation sur tous les items vers [0, 1]\n",
    "    return loss\n"
   ]
  },
  {
   "cell_type": "markdown",
   "id": "15f43631",
   "metadata": {},
   "source": [
    "Veuillez écrire une fonction pour afficher la courbe précision-rappel et retourner la précision moyenne.  Veuillez écrire une fonction pour afficher la courbe ROC.  Enfin, veuillez copier le code dans une fonction qui affiche les deux courbes ensemble.  Les paramètres des fonctions sont les étiquettes correctes, les valeurs des erreurs de reconstruction, et en option les valeurs prédites par une méthode baseline, affichant ainsi deux courbes si elles sont fournies.  Leurs valeurs de retour sont respectivement la précision moyenne et l'aire sous la courbe ROC."
   ]
  },
  {
   "cell_type": "code",
   "execution_count": 28,
   "id": "e356a32f",
   "metadata": {},
   "outputs": [],
   "source": [
    "def display_pr_curve(labels, rec_errors, baseline=[]):\n",
    "    display = PrecisionRecallDisplay.from_predictions(\n",
    "        labels, rec_errors, name=f'Précision moyenne = {precision_moyenne:.2f}'\n",
    "    )\n",
    "    plt.title('Courbe Précision-Rappel')\n",
    "    plt.grid(True)\n",
    "    plt.show()\n",
    "    \n",
    "    return precision_moyenne\n"
   ]
  },
  {
   "cell_type": "code",
   "execution_count": 29,
   "id": "3c6d3b69",
   "metadata": {},
   "outputs": [],
   "source": [
    "def display_roc_curve(labels, rec_errors, baseline=[]):\n",
    "    auc = roc_auc_score(labels, rec_errors)\n",
    "    display = RocCurveDisplay.from_predictions(\n",
    "        labels, rec_errors, name=f'AUC = {auc:.2f}'\n",
    "    )\n",
    "    plt.plot([0, 1], [0, 1], color='navy', linestyle='--', label='Aléatoire')\n",
    "    plt.title('Courbe ROC')\n",
    "    plt.grid(True)\n",
    "    plt.legend()\n",
    "    plt.show()\n",
    "    \n",
    "    return auc"
   ]
  },
  {
   "cell_type": "code",
   "execution_count": 30,
   "id": "555145d1",
   "metadata": {},
   "outputs": [],
   "source": [
    "def display_pr_roc(labels, rec_errors, baseline=[]):\n",
    "    fig, (ax1, ax2) = plt.subplots(1, 2, figsize=(16, 6))\n",
    "    \n",
    "    # Courbe Précision-Rappel\n",
    "    PrecisionRecallDisplay.from_predictions(\n",
    "        labels, rec_errors, ax=ax1, name='Précision-Rappel'\n",
    "    )\n",
    "    ax1.set_title('Courbe Précision Rappel')\n",
    "    ax1.grid(True)\n",
    "    \n",
    "    # Courbe ROC\n",
    "    RocCurveDisplay.from_predictions(\n",
    "        labels, rec_errors, ax=ax2, name='ROC'\n",
    "    )\n",
    "    ax2.plot([0, 1], [0, 1], color='navy', linestyle='--', label='Aléatoire')\n",
    "    ax2.set_title('Courbe ROC')\n",
    "    ax2.grid(True)\n",
    "    \n",
    "    plt.show()\n"
   ]
  },
  {
   "cell_type": "markdown",
   "id": "b955072f",
   "metadata": {},
   "source": [
    "## 3. Tester des modèles *baseline*\n",
    "\n",
    "On considère deux modèles *baseline* pour des valeurs de reconstruction:\n",
    "   1. des scores aléatoires dans [0, 1] pour chaque item : `np.random.rand(data.shape[0])`\n",
    "   1. la norme L2 du vecteur d'attributs de chaque transaction, normalisée par colonne entre 0 et 1, qui peut être obtenue simplement ainsi avec la fonction définie plus haut : `reconstruction_error(data, np.zeros(data.shape[0]))`\n",
    "   \n",
    "Veuillez afficher les courbes précision-rappel et ROC pour ces deux *baselines* en même temps, grâce à la fonction précédente."
   ]
  },
  {
   "cell_type": "code",
   "execution_count": 32,
   "id": "1e7aeb6d",
   "metadata": {
    "scrolled": false
   },
   "outputs": [
    {
     "data": {
      "image/png": "[encoded data removed]",
      "text/plain": [
       "<Figure size 1600x600 with 2 Axes>"
      ]
     },
     "metadata": {},
     "output_type": "display_data"
    },
    {
     "data": {
      "image/png": "[encoded data removed]",
      "text/plain": [
       "<Figure size 1600x600 with 2 Axes>"
      ]
     },
     "metadata": {},
     "output_type": "display_data"
    }
   ],
   "source": [
    "#Baseline 1 : Scores aléatoires dans [0, 1]\n",
    "baseline_random_scores = np.random.rand(data.shape[0])\n",
    "\n",
    "#Baseline 2 : Norme L2 des attributs (comparée à un vecteur nul)\n",
    "baseline_l2_scores = reconstruction_error(pd.DataFrame(data), np.zeros(data.shape))\n",
    "display_pr_roc(data_labels, baseline_l2_scores, baseline=baseline_random_scores)\n",
    "display_pr_roc(data_labels, baseline_random_scores, baseline=baseline_l2_scores)"
   ]
  },
  {
   "cell_type": "markdown",
   "id": "715507ec",
   "metadata": {},
   "source": [
    "Sachant que les données proviennent d'une transformation PCA des données de transaction originales (auxquelles nous n'avons pas accès), pouvez-vous tenter d'expliquer le score non-nul obtenu par la 2e baseline ?"
   ]
  },
  {
   "cell_type": "code",
   "execution_count": null,
   "id": "45a21a67",
   "metadata": {},
   "outputs": [],
   "source": [
    "# vu que le dataset contient beaucoup de classes 02. Calcul de la norme L2 :\n",
    "La norme L2 calcule la distance euclidienne entre chaque point de données et l'origine (dans ce cas un vecteur nul).\n",
    "\n",
    "Cela revient à mesurer la \"longueur\" de chaque vecteur représentant une transaction.\n",
    "Dans le cadre de données transformées par PCA, cette mesure capte une notion générale de complexité ou de dispersion des transactions.\n",
    "\n",
    "\n",
    "Le score non-nul de la 2e baseline (norme L2) est expliqué par plusieurs facteurs :\n",
    "\n",
    "Variance capturée : Même dans les données transformées par PCA, les transactions frauduleuses peuvent présenter une structure distincte en termes de variance.\n",
    "Répartition asymétrique des anomalies : La fraude peut se traduire par des distances plus grandes par rapport à des transactions normales. La norme L2 capte donc cette séparation partielle.\n",
    "Réduction de bruit : La PCA filtre une partie du bruit, laissant des signaux exploitables, que la norme L2 pourrait identifier.\n",
    "\n",
    "\n",
    "Le score obtenu montre que même un modèle très simple, comme la norme L2, peut avoir un certain pouvoir prédictif sur des données transformées par PCA. \n",
    "Il ne s'agit pas d'un hasard, mais plutôt d'une preuve que la fraude modifie la distribution des attributs des transactions, ce que la norme L2 peut détecter partiellement.\n",
    "Cependant, le score reste faible, indiquant que des modèles plus sophistiqués sont nécessaires pour une meilleure détection."
   ]
  },
  {
   "cell_type": "code",
   "execution_count": null,
   "id": "1a16fcd2",
   "metadata": {},
   "outputs": [],
   "source": []
  },
  {
   "cell_type": "markdown",
   "id": "d5f6ee3a",
   "metadata": {},
   "source": [
    "## 4. Définir des fonctions pour entraîner, valider, et évaluer des modèles\n",
    "\n",
    "Veuillez définir une fonction `train` qui entraîne un *modèle* (que vous créerez plus bas avec Keras) sur un jeu de *données*, avec l'objectif de reconstruire les données (donc les données d'entrée et de sortie pour un entraînement supervisé sont identiques).  Toutes les *x* époques d'entraînement (`epochs_per_iteration`) la fonction `train` affiche les scores de *précision moyenne* et de *aire sous la courbe ROC*, mais pas les graphiques.  La fonction itère cela *y* fois (`nb_iterations`).\n",
    "\n",
    "Veuillez définir aussi une fonction `evaluate` qui affiche les courbes précision-rappel et ROC pour un modèle, et inclut dans chaque graphique la *baseline* de la norme L2 des données initiales (2e baseline de la section 3).\n",
    "\n",
    "Vous pouvez utiliser ces [méthodes de Keras](https://keras.io/api/models/model_training_apis) :\n",
    "   * [model.fit(...)](https://keras.io/api/models/model_training_apis/#fit-method) pour lancer un certain nombre de pas d'entraînement (*backward pass*)\n",
    "   * [model.predict(...)](https://keras.io/api/models/model_training_apis/#predict-method) pour exécuter le modèle sur des données et obtenir la sortie (*forward pass*)"
   ]
  },
  {
   "cell_type": "code",
   "execution_count": null,
   "id": "79f40f13",
   "metadata": {},
   "outputs": [],
   "source": [
    "def train(model, data, epochs_per_iteration = 10, nb_iterations = 10):\n",
    "    # Initialisation de la variable pour suivre les scores\n",
    "    for iteration in range(nb_iterations):\n",
    "        print(f\"Iteration {iteration + 1}/{nb_iterations}\")\n",
    "        \n",
    "        # Entraînement du modèle sur les données\n",
    "        model.fit(data, data, epochs=epochs_per_iteration, batch_size=32, verbose=0)\n",
    "        \n",
    "        # Prédictions du modèle\n",
    "        reconstructed_data = model.predict(data)\n",
    "        \n",
    "        # Calcul de l'erreur de reconstruction\n",
    "        rec_errors = reconstruction_error(data, reconstructed_data)\n",
    "        \n",
    "        # Calcul de la précision moyenne (AP) et de l'AUC\n",
    "        ap_score = average_precision_score(data_labels, rec_errors)\n",
    "        auc_score = roc_auc_score(data_labels, rec_errors)\n",
    "        \n",
    "        # Affichage des scores\n",
    "        print(f\"Précision Moyenne (AP) : {ap_score:.4f}\")\n",
    "        print(f\"Aire Sous la Courbe ROC (AUC) : {auc_score:.4f}\")\n",
    "        \n",
    "        # Ajouter un petit espace pour la lisibilité\n",
    "        print(\"\\n\")"
   ]
  },
  {
   "cell_type": "code",
   "execution_count": null,
   "id": "4a231cac",
   "metadata": {},
   "outputs": [],
   "source": [
    "def evaluate(model, data, data_labels):\n",
    "    # Prédictions du modèle (reconstruction des données)\n",
    "    reconstructed_data = model.predict(data)\n",
    "    \n",
    "    # Calcul de l'erreur de reconstruction (comme la différence entre les données originales et reconstruites)\n",
    "    rec_errors = reconstruction_error(data, reconstructed_data)\n",
    "    \n",
    "    # Baseline : norme L2 des données (comme mentionné dans la section précédente)\n",
    "    baseline_l2_scores = reconstruction_error(data, np.zeros(data.shape))\n",
    "    \n",
    "    # Affichage des courbes Precision-Recall et ROC\n",
    "    fig, (ax1, ax2) = plt.subplots(1, 2, figsize=(16, 6))\n",
    "    \n",
    "    # 1. Courbe Précision-Rappel\n",
    "    PrecisionRecallDisplay.from_predictions(\n",
    "        data_labels, rec_errors, ax=ax1, name='Modèle (Précision-Rappel)'\n",
    "    )\n",
    "    # Ajouter la baseline L2 sur la même courbe\n",
    "    PrecisionRecallDisplay.from_predictions(\n",
    "        data_labels, baseline_l2_scores, ax=ax1, name='Baseline L2', color='orange', linestyle='--'\n",
    "    )\n",
    "    ax1.set_title('Courbe Précision-Rappel')\n",
    "    ax1.grid(True)\n",
    "\n",
    "    # 2. Courbe ROC\n",
    "    RocCurveDisplay.from_predictions(\n",
    "        data_labels, rec_errors, ax=ax2, name='Modèle (ROC)'\n",
    "    )\n",
    "    # Ajouter la baseline L2 sur la même courbe\n",
    "    RocCurveDisplay.from_predictions(\n",
    "        data_labels, baseline_l2_scores, ax=ax2, name='Baseline L2', color='orange', linestyle='--'\n",
    "    )\n",
    "    ax2.plot([0, 1], [0, 1], color='navy', linestyle='--', label='Aléatoire')\n",
    "    ax2.set_title('Courbe ROC')\n",
    "    ax2.grid(True)\n",
    "    \n",
    "    # Afficher les courbes\n",
    "    plt.show()"
   ]
  },
  {
   "cell_type": "markdown",
   "id": "ec691f74",
   "metadata": {},
   "source": [
    "## 5. Créer, entraîner et évaluer des autoencodeurs \n",
    "\n",
    "### 5.1. Autoencodeur simple à trois couches\n",
    "\n",
    "Veuillez définir en Keras un autoencodeur à trois couches, avec une couche de codage ayant une dimension plus faible que celle d'entrée (*undercomplete autoencoder*).  Utiliser un modèle de type `Sequential()` avec des couches entièrement connectées de type `Dense()`, en vous guidant sur les [exemples de Keras](https://keras.io/api/models/sequential/).  Choisissez une fonction de coût (*loss*) et un optimiseur appropriés.  N'oubliez pas de [compiler le modèle](https://keras.io/api/models/model_training_apis/#compile-method) à la fin."
   ]
  },
  {
   "cell_type": "code",
   "execution_count": null,
   "id": "693f0ce4",
   "metadata": {},
   "outputs": [
    {
     "name": "stderr",
     "output_type": "stream",
     "text": [
      "c:\\Users\\Julien\\miniconda3\\envs\\PCD\\Lib\\site-packages\\keras\\src\\layers\\core\\dense.py:87: UserWarning: Do not pass an `input_shape`/`input_dim` argument to a layer. When using Sequential models, prefer using an `Input(shape)` object as the first layer in the model instead.\n",
      "  super().__init__(activity_regularizer=activity_regularizer, **kwargs)\n"
     ]
    },
    {
     "data": {
      "text/html": [
       "<pre style=\"white-space:pre;overflow-x:auto;line-height:normal;font-family:Menlo,'DejaVu Sans Mono',consolas,'Courier New',monospace\"><span style=\"font-weight: bold\">Model: \"sequential\"</span>\n",
       "</pre>\n"
      ],
      "text/plain": [
       "\u001b[1mModel: \"sequential\"\u001b[0m\n"
      ]
     },
     "metadata": {},
     "output_type": "display_data"
    },
    {
     "data": {
      "text/html": [
       "<pre style=\"white-space:pre;overflow-x:auto;line-height:normal;font-family:Menlo,'DejaVu Sans Mono',consolas,'Courier New',monospace\">┏━━━━━━━━━━━━━━━━━━━━━━━━━━━━━━━━━┳━━━━━━━━━━━━━━━━━━━━━━━━┳━━━━━━━━━━━━━━━┓\n",
       "┃<span style=\"font-weight: bold\"> Layer (type)                    </span>┃<span style=\"font-weight: bold\"> Output Shape           </span>┃<span style=\"font-weight: bold\">       Param # </span>┃\n",
       "┡━━━━━━━━━━━━━━━━━━━━━━━━━━━━━━━━━╇━━━━━━━━━━━━━━━━━━━━━━━━╇━━━━━━━━━━━━━━━┩\n",
       "│ dense (<span style=\"color: #0087ff; text-decoration-color: #0087ff\">Dense</span>)                   │ (<span style=\"color: #00d7ff; text-decoration-color: #00d7ff\">None</span>, <span style=\"color: #00af00; text-decoration-color: #00af00\">128</span>)            │         <span style=\"color: #00af00; text-decoration-color: #00af00\">4,096</span> │\n",
       "├─────────────────────────────────┼────────────────────────┼───────────────┤\n",
       "│ dense_1 (<span style=\"color: #0087ff; text-decoration-color: #0087ff\">Dense</span>)                 │ (<span style=\"color: #00d7ff; text-decoration-color: #00d7ff\">None</span>, <span style=\"color: #00af00; text-decoration-color: #00af00\">64</span>)             │         <span style=\"color: #00af00; text-decoration-color: #00af00\">8,256</span> │\n",
       "├─────────────────────────────────┼────────────────────────┼───────────────┤\n",
       "│ dense_2 (<span style=\"color: #0087ff; text-decoration-color: #0087ff\">Dense</span>)                 │ (<span style=\"color: #00d7ff; text-decoration-color: #00d7ff\">None</span>, <span style=\"color: #00af00; text-decoration-color: #00af00\">31</span>)             │         <span style=\"color: #00af00; text-decoration-color: #00af00\">2,015</span> │\n",
       "└─────────────────────────────────┴────────────────────────┴───────────────┘\n",
       "</pre>\n"
      ],
      "text/plain": [
       "┏━━━━━━━━━━━━━━━━━━━━━━━━━━━━━━━━━┳━━━━━━━━━━━━━━━━━━━━━━━━┳━━━━━━━━━━━━━━━┓\n",
       "┃\u001b[1m \u001b[0m\u001b[1mLayer (type)                   \u001b[0m\u001b[1m \u001b[0m┃\u001b[1m \u001b[0m\u001b[1mOutput Shape          \u001b[0m\u001b[1m \u001b[0m┃\u001b[1m \u001b[0m\u001b[1m      Param #\u001b[0m\u001b[1m \u001b[0m┃\n",
       "┡━━━━━━━━━━━━━━━━━━━━━━━━━━━━━━━━━╇━━━━━━━━━━━━━━━━━━━━━━━━╇━━━━━━━━━━━━━━━┩\n",
       "│ dense (\u001b[38;5;33mDense\u001b[0m)                   │ (\u001b[38;5;45mNone\u001b[0m, \u001b[38;5;34m128\u001b[0m)            │         \u001b[38;5;34m4,096\u001b[0m │\n",
       "├─────────────────────────────────┼────────────────────────┼───────────────┤\n",
       "│ dense_1 (\u001b[38;5;33mDense\u001b[0m)                 │ (\u001b[38;5;45mNone\u001b[0m, \u001b[38;5;34m64\u001b[0m)             │         \u001b[38;5;34m8,256\u001b[0m │\n",
       "├─────────────────────────────────┼────────────────────────┼───────────────┤\n",
       "│ dense_2 (\u001b[38;5;33mDense\u001b[0m)                 │ (\u001b[38;5;45mNone\u001b[0m, \u001b[38;5;34m31\u001b[0m)             │         \u001b[38;5;34m2,015\u001b[0m │\n",
       "└─────────────────────────────────┴────────────────────────┴───────────────┘\n"
      ]
     },
     "metadata": {},
     "output_type": "display_data"
    },
    {
     "data": {
      "text/html": [
       "<pre style=\"white-space:pre;overflow-x:auto;line-height:normal;font-family:Menlo,'DejaVu Sans Mono',consolas,'Courier New',monospace\"><span style=\"font-weight: bold\"> Total params: </span><span style=\"color: #00af00; text-decoration-color: #00af00\">14,367</span> (56.12 KB)\n",
       "</pre>\n"
      ],
      "text/plain": [
       "\u001b[1m Total params: \u001b[0m\u001b[38;5;34m14,367\u001b[0m (56.12 KB)\n"
      ]
     },
     "metadata": {},
     "output_type": "display_data"
    },
    {
     "data": {
      "text/html": [
       "<pre style=\"white-space:pre;overflow-x:auto;line-height:normal;font-family:Menlo,'DejaVu Sans Mono',consolas,'Courier New',monospace\"><span style=\"font-weight: bold\"> Trainable params: </span><span style=\"color: #00af00; text-decoration-color: #00af00\">14,367</span> (56.12 KB)\n",
       "</pre>\n"
      ],
      "text/plain": [
       "\u001b[1m Trainable params: \u001b[0m\u001b[38;5;34m14,367\u001b[0m (56.12 KB)\n"
      ]
     },
     "metadata": {},
     "output_type": "display_data"
    },
    {
     "data": {
      "text/html": [
       "<pre style=\"white-space:pre;overflow-x:auto;line-height:normal;font-family:Menlo,'DejaVu Sans Mono',consolas,'Courier New',monospace\"><span style=\"font-weight: bold\"> Non-trainable params: </span><span style=\"color: #00af00; text-decoration-color: #00af00\">0</span> (0.00 B)\n",
       "</pre>\n"
      ],
      "text/plain": [
       "\u001b[1m Non-trainable params: \u001b[0m\u001b[38;5;34m0\u001b[0m (0.00 B)\n"
      ]
     },
     "metadata": {},
     "output_type": "display_data"
    }
   ],
   "source": [
    "from keras.models import Sequential\n",
    "from keras.layers import Dense\n",
    "from keras.optimizers import Adam\n",
    "\n",
    "def create_autoencoder(input_dim):\n",
    "    # Création du modèle séquentiel\n",
    "    autoencoder = Sequential()\n",
    "\n",
    "    # Couche d'entrée (input layer) -> Couche cachée (encoder)\n",
    "    autoencoder.add(Dense(128, activation='relu', input_dim=input_dim))  # Couche d'entrée avec dimension d'entrée (input_dim)\n",
    "    \n",
    "    # Couche de codage (latent space) - sous-représentation des données\n",
    "    autoencoder.add(Dense(64, activation='relu'))  # Couche cachée avec une dimension plus petite que l'entrée\n",
    "    \n",
    "    # Couche de décodage (reconstruction)\n",
    "    autoencoder.add(Dense(input_dim, activation='sigmoid'))  # La couche de sortie reconstruit les données originales\n",
    "\n",
    "    # Compilation du modèle\n",
    "    autoencoder.compile(optimizer=Adam(), loss='mean_squared_error')\n",
    "\n",
    "    return autoencoder\n",
    "\n",
    "create_autoencoder(data.shape[1]).summary()"
   ]
  },
  {
   "cell_type": "code",
   "execution_count": null,
   "id": "83c9d388",
   "metadata": {},
   "outputs": [],
   "source": [
    "# model.save('modele_1.h5')  # enregistrer le modèle\n",
    "# del model  # supprimer le modèle de la mémoire\n",
    "# model = keras.models.load_model('modele_1.h5') # charger le modèle"
   ]
  },
  {
   "cell_type": "markdown",
   "id": "98c7a590",
   "metadata": {},
   "source": [
    "Veuillez entraîner le modèle avec la fonction `train` que vous avez définie plus haut.  Selon vos résultats intermédiaires, écrivez ici la commande qui semble suffisante pour atteindre le maximum de performance, et affichez ses résultats.  Notez que le modèle est sauvegardé, donc plusieurs appels à `train` permettent de continuer l'entraînement.  Dans votre rapport final, indiquez explicitement la durée totale en nombre d'époques."
   ]
  },
  {
   "cell_type": "code",
   "execution_count": null,
   "id": "7d3c8137",
   "metadata": {},
   "outputs": [],
   "source": [
    "train(model, data, 20, 10)"
   ]
  },
  {
   "cell_type": "markdown",
   "id": "bafa73b3",
   "metadata": {},
   "source": [
    "Veuillez afficher les deux courbes (y compris les *baselines*), et les scores du modèle avec la fonction `evaluate`."
   ]
  },
  {
   "cell_type": "code",
   "execution_count": null,
   "id": "01cb2e96",
   "metadata": {},
   "outputs": [],
   "source": [
    "evaluate(model, data, data_labels)"
   ]
  },
  {
   "cell_type": "markdown",
   "id": "fd6d22d1",
   "metadata": {},
   "source": [
    "**Veuillez discuter vos résultats.**  Comment jugez-vous la capacité du modèle à détecter des transactions frauduleuses, compte tenu du fait qu'il n'a jamais été entraîné de manière supervisée ?  Comment se compare-t-il avec la baseline ?  Quelle est sa précision maximale, et pour quel rappel est-elle atteinte ?  (Approximativement, d'après le graphique.)  Comment interprétez-vous ces valeurs ?"
   ]
  },
  {
   "cell_type": "markdown",
   "id": "5ba05dd7",
   "metadata": {},
   "source": []
  },
  {
   "cell_type": "markdown",
   "id": "788c4450",
   "metadata": {},
   "source": [
    "### 5.2. Autoencodeur à cinq couches\n",
    "\n",
    "Veuillez définir maintenant un autoencodeur à cinq couches, sur le même principe que le précédent, toujours *undercomplete*.  Effectuez son entraînement et son évaluation finale, comme pour le modèle à 3 couches."
   ]
  },
  {
   "cell_type": "code",
   "execution_count": null,
   "id": "9bb54cdd",
   "metadata": {},
   "outputs": [],
   "source": []
  },
  {
   "cell_type": "code",
   "execution_count": null,
   "id": "78c65a71",
   "metadata": {},
   "outputs": [],
   "source": [
    "train(model, data, 10, 10)"
   ]
  },
  {
   "cell_type": "code",
   "execution_count": null,
   "id": "ff966e83",
   "metadata": {},
   "outputs": [],
   "source": [
    "model.save('modele_2.h5')  # enregistrer le modèle\n",
    "# del model  # supprimer le modèle de la mémoire\n",
    "# model = keras.models.load_model('modele_1.h5') # charger le modèle"
   ]
  },
  {
   "cell_type": "code",
   "execution_count": null,
   "id": "97704c8e",
   "metadata": {},
   "outputs": [],
   "source": [
    "evaluate(model, data, data_labels)"
   ]
  },
  {
   "cell_type": "markdown",
   "id": "76c9f29d",
   "metadata": {},
   "source": [
    "Veuillez discuter vos résultats et les comparer avec les précédents."
   ]
  },
  {
   "cell_type": "code",
   "execution_count": null,
   "id": "f07997e4",
   "metadata": {},
   "outputs": [],
   "source": []
  },
  {
   "cell_type": "markdown",
   "id": "a03026d3",
   "metadata": {},
   "source": [
    "### 5.3. Autoencodeur à trois couches, *overcomplete*, avec *sparsity*\n",
    "Veuillez enfin définir un autoencodeur à trois couches, mais avec une couche cachée ayant une dimension supérieure à celle des couches d'entrée et de sortie.  Afin d'éviter la pure copie entrée/sortie, ajoutez une contrainte de régularisation sur la couche cachée, qui limite la somme des valeurs absolues des activations dans cette couche (voir la [documentation](https://keras.io/api/layers/regularizers/) de Keras)."
   ]
  },
  {
   "cell_type": "code",
   "execution_count": null,
   "id": "039a0eea",
   "metadata": {},
   "outputs": [],
   "source": []
  },
  {
   "cell_type": "code",
   "execution_count": null,
   "id": "e93b5795",
   "metadata": {},
   "outputs": [],
   "source": [
    "train(model, data, 10, 10)"
   ]
  },
  {
   "cell_type": "code",
   "execution_count": null,
   "id": "a954c5c3",
   "metadata": {},
   "outputs": [],
   "source": [
    "# model.save('modele_3.h5')  # enregistrer le modèle\n",
    "# del model  # supprimer le modèle de la mémoire\n",
    "# model = keras.models.load_model('modele_1.h5') # charger le modèle"
   ]
  },
  {
   "cell_type": "code",
   "execution_count": null,
   "id": "f0e5b7cc",
   "metadata": {},
   "outputs": [],
   "source": [
    "evaluate(model, data, data_labels)"
   ]
  },
  {
   "cell_type": "markdown",
   "id": "d607dc98",
   "metadata": {},
   "source": [
    "Veuillez discuter vos résultats et les comparer avec les précédents."
   ]
  },
  {
   "cell_type": "markdown",
   "id": "34b619ed",
   "metadata": {},
   "source": []
  },
  {
   "cell_type": "markdown",
   "id": "c03a6c6f",
   "metadata": {},
   "source": [
    "### Fin du laboratoire 6\n",
    "Veuillez nettoyer le *notebook* et y inclure l'affichage des résultats de vos systèmes définitifs.  Ne pas effacer les logs d'entraînement et les graphiques.  Veuillez ensuite soumettre le *notebook* sur Cyberlearn."
   ]
  }
 ],
 "metadata": {
  "kernelspec": {
   "display_name": "PCD",
   "language": "python",
   "name": "python3"
  },
  "language_info": {
   "codemirror_mode": {
    "name": "ipython",
    "version": 3
   },
   "file_extension": ".py",
   "mimetype": "text/x-python",
   "name": "python",
   "nbconvert_exporter": "python",
   "pygments_lexer": "ipython3",
   "version": "3.11.7"
  }
 },
 "nbformat": 4,
 "nbformat_minor": 5
}
