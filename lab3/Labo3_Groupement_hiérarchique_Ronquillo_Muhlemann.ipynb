{
 "cells": [
  {
   "cell_type": "markdown",
   "id": "7a867c73",
   "metadata": {},
   "source": [
    "<img src=\"https://heig-vd.ch/docs/default-source/doc-global-newsletter/2020-slim.svg\" alt=\"Logo HEIG-VD\" style=\"width: 80px;\" align=\"right\"/>\n",
    "\n",
    "# Cours APN - Labo 3 : Groupement hiérarchique de documents\n",
    "\n",
    "## Résumé\n",
    "Le but de ce laboratoire est d'appliquer un algorithme de groupement hiérarchique à des résumés de films.  Vous afficherez les résultats et observerez quels paramètres permettent d'obtenir un groupement convenable, car il n'y a pas de vérité-terrain dans ces données.\n",
    "\n",
    "Les étapes proposées sont les suivantes :\n",
    "  1. Préparation des documents : pré-traitement des textes des résumés\n",
    "  2. Création des représentations vectorielles de chaque résumé\n",
    "  3. Groupement hiérarchique, affichage du dendrogramme, et discussion"
   ]
  },
  {
   "cell_type": "markdown",
   "id": "ace0bfa2",
   "metadata": {},
   "source": [
    "## 1. Préparation des documents\n",
    "\n",
    "Dans ce labo, vous utiliserez les titres et résumés des 100 films classiques (*référence anonymisée*) qui vous sont fournis sur Cyberlearn dans le fichier `movie_data.csv` sur deux colonnes : titres et résumés.\n",
    "\n",
    "Dans cette première partie, vous allez transformer les textes des résumés pour réduire la diversité du vocabulaire.  Un ensemble de fonctions de préparation vous est fourni dans la librairie `utils.py` (également sur Cyberlearn) et il est conseillé de les lire et de les utiliser."
   ]
  },
  {
   "cell_type": "code",
   "execution_count": 36,
   "id": "d78ab77e",
   "metadata": {},
   "outputs": [],
   "source": [
    "import pandas as pd\n",
    "import utils # librairie avec des fonctions de pré-traitement des textes\n",
    "# elle fait appel à la librairie NLTK (ce qui affiche plusieurs messages)\n",
    "\n",
    "movie_data = pd.read_csv(\"movie_data.csv\")"
   ]
  },
  {
   "cell_type": "markdown",
   "id": "8774e7ed",
   "metadata": {},
   "source": [
    "a. Veuillez charger les données des films depuis le fichier `movie_data.csv` dans une _DataFrame_ intitulée `movie_data`.  Combien de lignes et colonnes a-t-elle et quels sont les intitulés des colonnes ?"
   ]
  },
  {
   "cell_type": "code",
   "execution_count": 9,
   "id": "45dd2bed",
   "metadata": {},
   "outputs": [
    {
     "data": {
      "text/plain": [
       "Index(['Title', 'Synopsis'], dtype='object')"
      ]
     },
     "execution_count": 9,
     "metadata": {},
     "output_type": "execute_result"
    }
   ],
   "source": [
    "movie_data.shape\n",
    "movie_data.columns"
   ]
  },
  {
   "cell_type": "markdown",
   "id": "a931118e",
   "metadata": {},
   "source": [
    "b. Veuillez normaliser le texte de chaque résumé en appliquant plusieurs des fonctions fournies dans `utils.py` (pour cela, vous devez examiner ce fichier).  Veuillez stocker les textes normalisés dans une nouvelle colonne de la _DataFrame_.   Il n'est pas nécessaire de tokeniser les textes normalisés, car le _vectorizer_ de sklearn le fera plus loin. "
   ]
  },
  {
   "cell_type": "code",
   "execution_count": 37,
   "id": "4c08d5f1",
   "metadata": {},
   "outputs": [],
   "source": [
    "movie_data['normalized_text'] = movie_data['Synopsis'].apply(utils.lemmatize_text)\n",
    "movie_data['normalized_text'] = movie_data['Synopsis'].apply(utils.remove_punctuation)\n",
    "movie_data['normalized_text'] = movie_data['Synopsis'].apply(utils.remove_stopwords)\n",
    "movie_data['normalized_text'] = movie_data['Synopsis'].apply(utils.remove_non_alphabetic)\n"
   ]
  },
  {
   "cell_type": "code",
   "execution_count": 23,
   "id": "4bde7b7f",
   "metadata": {},
   "outputs": [
    {
     "data": {
      "text/plain": [
       "0     In late summer guests are gathered for the wed...\n",
       "1     In Andy Dufresne Tim Robbins a banker in Maine...\n",
       "2     The relocation of Polish Jews from surrounding...\n",
       "3     The film opens in where an older and fatter Ja...\n",
       "4     In the early years of World War II December th...\n",
       "                            ...                        \n",
       "95    Shortly after moving to Los Angeles with his p...\n",
       "96    L.B Jeff Jeffries James Stewart recuperates fr...\n",
       "97    Sights of Vienna Austria flash across the scre...\n",
       "98    At the end of an ordinary work day advertising...\n",
       "99    A film of the life of the renowned musical com...\n",
       "Name: normalized_text, Length: 100, dtype: object"
      ]
     },
     "execution_count": 23,
     "metadata": {},
     "output_type": "execute_result"
    }
   ],
   "source": [
    "movie_data['normalized_text']"
   ]
  },
  {
   "cell_type": "markdown",
   "id": "65d63ce5",
   "metadata": {},
   "source": [
    "c. Veuillez analyser la longueur des résumés, avant et après le pré-traitement, grâce au _5-number summary_ de chaque distribution.  Veuillez commenter brièvement l'évolution de la distribution suite au pré-traitement."
   ]
  },
  {
   "cell_type": "code",
   "execution_count": 25,
   "id": "19105c2c",
   "metadata": {},
   "outputs": [],
   "source": [
    "movie_data['length_before'] = movie_data['Synopsis'].apply(len)\n",
    "movie_data['length_after'] = movie_data['normalized_text'].apply(len)"
   ]
  },
  {
   "cell_type": "code",
   "execution_count": 32,
   "id": "52aa917e",
   "metadata": {},
   "outputs": [
    {
     "data": {
      "text/plain": [
       "count      100.000000\n",
       "mean      8779.840000\n",
       "std       6603.462185\n",
       "min       1071.000000\n",
       "25%       4378.750000\n",
       "50%       6528.500000\n",
       "75%      11417.500000\n",
       "max      34021.000000\n",
       "Name: length_before, dtype: float64"
      ]
     },
     "execution_count": 32,
     "metadata": {},
     "output_type": "execute_result"
    }
   ],
   "source": [
    "movie_data['length_before'].describe()\n"
   ]
  },
  {
   "cell_type": "code",
   "execution_count": 33,
   "id": "2ebbd954",
   "metadata": {},
   "outputs": [
    {
     "data": {
      "text/plain": [
       "count      100.000000\n",
       "mean      8586.100000\n",
       "std       6465.866851\n",
       "min       1040.000000\n",
       "25%       4284.250000\n",
       "50%       6406.000000\n",
       "75%      11204.250000\n",
       "max      33305.000000\n",
       "Name: length_after, dtype: float64"
      ]
     },
     "execution_count": 33,
     "metadata": {},
     "output_type": "execute_result"
    }
   ],
   "source": [
    "movie_data['length_after'].describe()"
   ]
  },
  {
   "cell_type": "markdown",
   "id": "34ded57b",
   "metadata": {},
   "source": [
    "d. Veuillez afficher un extrait du résumé d'un film *avant* et *après* le pré-traitement et commenter brièvement le résultat."
   ]
  },
  {
   "cell_type": "code",
   "execution_count": 38,
   "id": "0d6e48b8",
   "metadata": {},
   "outputs": [
    {
     "data": {
      "text/plain": [
       "\"In late summer guests are gathered for the wedding reception of Don Vito Corleone 's daughter Connie Talia Shire and Carlo Rizzi Gianni Russo Vito Marlon Brando the head of the Corleone Mafia family is known to friends and associates as Godfather He and Tom Hagen Robert Duvall the Corleone family lawyer are hearing requests for favors because according to Italian tradition no Sicilian can refuse a request on his daughter 's wedding day One of the men who asks the Don for a favor is Amerigo Bonasera a successful mortician and acquaintance of the Don whose daughter was brutally beaten by two young men because she refused their advances the men received minimal punishment The Don is disappointed in Bonasera who 'd avoided most contact with the Don due to Corleone 's nefarious business dealings The Don 's wife is godmother to Bonasera 's shamed daughter a relationship the Don uses to extract new loyalty from the undertaker The Don agrees to have his men punish the young men responsible.Meanwhile the Don 's youngest son Michael Al Pacino a decorated Marine hero returning from World War II service arrives at the wedding and tells his girlfriend Kay Adams Diane Keaton anecdotes about his family informing her about his father 's criminal life he reassures her that he is different from his family and does n't plan to join them in their criminal dealings The wedding scene serves as critical exposition for the remainder of the film as Michael introduces the main characters to Kay Fredo John Cazale Michael 's next older brother is a bit dim-witted and quite drunk by the time he finds Michael at the party Sonny James Caan the Don 's eldest child and next in line to become Don upon his father 's retirement is married but he is a hot-tempered philanderer who sneaks into a bedroom to have sex with one of Connie 's bridesmaids Lucy Mancini Jeannie Linero Tom Hagen is not related to the family by blood but is considered one of the Don 's sons because he was homeless when he befriended Sonny in the Little Italy neighborhood of Manhattan and the Don took him in Now a talented attorney Tom is being groomed for the important position of consigliere counselor to the Don despite his non-Sicilian heritage.Also among the guests at the celebration is the famous singer Johnny Fontane Al Martino Corleone 's godson who has come from Hollywood to petition Vito 's help in landing a movie role that will revitalize his flagging career Jack Woltz John Marley the head of the studio denies Fontane the part a character much like Johnny himself which will make him an even bigger star but Don Corleone explains to Johnny I 'm gon na make him an offer he ca n't refuse The Don also receives congratulatory salutations from Luca Brasi a terrifying enforcer in the criminal underworld and fills a request from the baker who made Connie 's wedding cake who wishes for his nephew Enzo to become an American citizen.After the wedding Hagen is dispatched to Los Angeles to meet with Woltz but Woltz angrily tells him that he will never cast Fontane in the role Woltz holds a grudge because Fontane seduced and ruined a starlet who Woltz had been grooming for stardom and with whom he had a sexual relationship Woltz is persuaded to give Johnny the role however when he wakes up early the next morning and feels something wet in his bed He pulls back the sheets and finds himself in a pool of blood he screams in horror when he discovers the severed head of his prized stud horse Khartoum in the bed with him A deleted scene from the film implies that Luca Brasi Lenny Montana Vito 's top button man or hitman is responsible Upon Hagen 's return the family meets with Virgil The Turk Sollozzo Al Lettieri who is being backed by the rival Tattaglia family He asks Don Corleone for financing as well as political and legal protection for importing and distributing heroin Despite the huge profit to be made Vito Corleone refuses explaining that his political influence would be jeopardized by a move into the narcotics trade The Don 's eldest son Sonny who had earlier urged the family to enter the narcotics trade breaks ranks during the meeting and questions Sollozzo 's assurances as to the Corleone Family 's investment being guaranteed by the Tattaglia Family His father angry at Sonny 's dissension in a non-family member 's presence privately rebukes him later Don Corleone then dispatches Luca Brasi to infiltrate Sollozzo 's organization and report back with information During the meeting while Brasi is bent over to allow Bruno Tattaglia to light his cigarette he is stabbed in the hand by Sollozzo and is subsequently garroted by an assassin.Soon after his meeting with Sollozzo Don Corleone is gunned down in an assassination attempt just outside his office and it is not immediately known whether he has survived Fredo Corleone had been assigned driving and protection duty for his father when Paulie Gatto the Don 's usual bodyguard had called in sick Fredo proves to be ineffectual fumbling with his gun and unable to shoot back When Sonny hears about the Don being shot and Paulie 's absence he orders Clemenza Richard S. Castellano to find Paulie and bring him to the Don 's house.Sollozzo abducts Tom Hagen and persuades him to offer Sonny the deal previously offered to his father Enraged Sonny refuses to consider it and issues an ultimatum to the Tattaglias turn over Sollozzo or face a lengthy bloody and costly for both sides gang war They refuse and instead send Sonny a Sicilian message in the form of two fresh fish wrapped in Luca Brasi 's bullet-proof vest to tell the Corleones that Luca Brasi sleeps with the fishes Clemenza later takes Paulie and one of the family 's hitmen Rocco Lampone for a drive into Manhattan Sonny wants to go to the mattresses set up beds in apartments for Corleone button men to operate out of in the event that the crime war breaks out On their way back from Manhattan Clemenza has Paulie stop the car in a remote area so he can urinate Rocco shoots Paulie dead he and Clemenza leave Paulie and the car behind.Michael whom the other Mafia families consider a civilian uninvolved in mob business visits his father at a small private hospital He is shocked to find that no one is guarding him Realizing that his father is again being set up to be killed he calls Sonny for help moves his father to another room and goes outside to watch the entrance Michael enlists help from Enzo the baker Gabriele Torrei who has come to the hospital to pay his respects Together they bluff away Sollozzo 's men as they drive by Police cars soon appear bringing the corrupt Captain McCluskey Sterling Hayden who viciously punches Michael in the cheek and breaks his jaw when Michael insinuates that Sollozzo paid McCluskey to set up his father Just then Hagen arrives with private detectives licensed to carry guns to protect Don Corleone and he takes the injured Michael home Sonny responds by having Bruno Tattaglia Tony Giorgio the eldest son and underboss of Don Phillip Tattaglia Victor Rendina killed off-camera .Following the attempt on the Don 's life at the hospital Sollozzo requests a meeting with the Corleones which Captain McCluskey will attend as Sollozzo 's bodyguard When Michael volunteers to kill both men during the meeting Sonny and the other senior Family members are amused however Michael convinces them that he is serious and that killing Sollozzo and McCluskey is in the family 's interest It 's not personal It 's strictly business Because Michael is considered a civilian he wo n't be regarded as a suspicious ambassador for the Corleones Although police officers are usually off limits for hits Michael argues that since McCluskey is corrupt and has illegal dealings with Sollozzo he is fair game Michael also implies that newspaper reporters that the Corleones have on their payroll would delight in publishing stories about a corrupt police captain.Michael meets with Clemenza one of his father 's caporegimes captains who prepares a small pistol for him covering the trigger and grip with tape to prevent any fingerprint evidence He instructs Michael about the proper way to perform the assassination and tells him to leave the gun behind He also tells Michael that the family were all very proud of Michael for becoming a war hero during his service in the Marines Clemenza shows great confidence that Michael can perform the job and tells him it will all go smoothly The plan is to have the Corleone 's informers find out the location of the meeting and plant the revolver before Michael Sollozzo and McCluskey arrive.Before the meeting in a small Italian restaurant McCluskey frisks Michael for weapons and finds him clean Michael excuses himself to go to the bathroom where he retrieves the planted revolver Returning to the table he fatally shoots Sollozzo then McCluskey Michael is sent to hide in Sicily while the Corleone family prepares for all-out warfare with the Five Families who are united against the Corleones as well as a general clampdown on the mob by the police and government authorities When the don returns home from the hospital he is distraught to learn that it was Michael who killed Sollozzo and McCluskey.Meanwhile Connie and Carlo 's marriage is disintegrating They argue publicly over Carlo 's suspected infidelity and his possessive behavior toward Connie By Italian tradition nobody not even a high-ranking Mafia don can intervene in a married couple 's personal disputes even if they involve infidelity money or domestic abuse One day Sonny sees a bruise on Connie 's face and she tells him that Carlo hit her after she asked him if he was having an affair Sonny tracks down and severely beats up Carlo Rizzi in the middle of a crowded street for brutalizing the pregnant Connie and threatens to kill Carlo if he ever abuses Connie again An angry Carlo responds by plotting with Tattaglia and Don Emilio Barzini Richard Conte the Corleones chief rivals to have Sonny killed.Later Carlo has one of his mistresses phone his house knowing that Connie will answer The woman asks Connie to tell Carlo not to meet her tonight The very pregnant and distraught Connie assaults Carlo he takes advantage of the altercation to beat Connie in order to lure Sonny out in the open and away from the Corleone compound When Connie phones the compound to tell Sonny that Carlo has beaten her again the furious Sonny drives off alone and unescorted to fulfill his threat against Carlo On the way to Connie and Carlo 's house Sonny is ambushed at a toll booth on the Long Island Causeway and violently shot to death by several carloads of hitmen wielding Thompson sub-machine guns.Tom Hagen relays the news of Sonny 's massacre to the Don who calls in the favor from Bonasera to personally handle the embalming of Sonny 's body Rather than seek revenge for Sonny 's killing Don Corleone meets with the heads of the Five Families to negotiate a cease-fire Not only is the conflict draining all their assets and threatening their survival but ending it is the only way that Michael can return home safely Reversing his previous decision Vito agrees that the Corleone family will provide political protection for Tattaglia 's traffic in heroin as long as it is controlled and not sold to children At the meeting Don Corleone deduces that Don Barzini not Tattaglia was ultimately behind the start of the mob war and Sonny 's death.In Sicily Michael patiently waits out his exile protected by Don Tommasino Corrado Gaipa an old family friend Michael aimlessly wanders the countryside accompanied by his ever-present bodyguards Calo Franco Citti and Fabrizio Angelo Infanti In a small village Michael meets and falls in love with Apollonia Vitelli Simonetta Stefanelli the beautiful young daughter of a bar owner They court and marry in the traditional Sicilian fashion but soon Michael 's presence becomes known to Corleone enemies As the couple is about to be moved to a safer location Apollonia is killed as a result of a rigged car originally intended for Michael exploding on ignition Michael who watched the car blow up spots Fabrizio hurriedly leaving the grounds seconds before the explosion implicating him in the assassination plot In a deleted scene Fabrizio is found years later and killed With his safety guaranteed Michael returns home More than a year later in he reunites with his former girlfriend Kay after a total of four years of separation three in Italy and one in America He tells her he wants them to be married Although Kay is hurt that he waited so long to contact her she accepts his proposal With Don Vito semi-retired Sonny dead and middle brother Fredo considered incapable of running the family business Michael is now in charge he promises Kay he will make the family business completely legitimate within five years.Two years later Clemenza and Salvatore Tessio Abe Vigoda complain that they are being pushed around by the Barzini Family and ask permission to strike back but Michael denies the request He plans to move the family operations to Nevada and after that Clemenza and Tessio may break away to form their own families Michael further promises Connie 's husband Carlo that he will be his right hand man in Nevada Carlo had grown up there unaware of his part in Sonny 's assassination Tom Hagen has been removed as consigliere and is now merely the family 's lawyer with Vito serving as consigliere Privately Hagen inquires about his change in status and also questions Michael about a new regime of soldiers secretly being built under Rocco Lampone Tom Rosqui Don Vito explains to Hagen that Michael is acting on his advice.Another year or so later Michael travels to Las Vegas and meets with Moe Greene Alex Rocco a rich and shrewd casino boss looking to expand his business dealings After the Don 's attempted assassination Fredo had been sent to Las Vegas to learn about the casino business from Greene Michael arrogantly offers to buy out Greene but is rudely rebuffed Greene believes the Corleones are weak and that he can secure a better deal from Barzini As Moe and Michael heatedly negotiate Fredo sides with Moe Afterward Michael warns Fredo to never again take sides with anyone against the family Michael returns home In a private moment Vito explains his expectation that the Family 's enemies will attempt to murder Michael by using a trusted associate to arrange a meeting as a pretext for assassination Vito also reveals that he had never really intended a life of crime for Michael hoping that his youngest son would hold legitimate power as a senator or governor Some months later Vito collapses and dies while playing with his young grandson Anthony Anthony Gounaris in his tomato garden At the burial Tessio conveys a proposal for a meeting with Barzini which identifies Tessio as the traitor that Vito was expecting.Michael arranges for a series of murders to occur simultaneously while he is standing godfather to Connie 's and Carlo 's newborn son at the church Don Stracci Don Costello is gunned down along with his bodyguard in a hotel elevator by a shotgun-wielding Clemenza.Moe Greene is killed while having a massage shot through the eye by an unidentified assassin.Don Cuneo Rudy Bond is trapped in a revolving door at the St. Regis Hotel and shot dead by soldier Willi Cicci Joe Spinell .Don Tattaglia is assassinated in his bed along with a prostitute by Rocco Lampone and an unknown associate.Don Barzini is killed on the steps of his office building along with his bodyguard and driver shot by Al Neri Richard Bright disguised in his old police uniform.After the baptism Tessio believes he and Hagen are on their way to the meeting between Michael and Barzini that he has arranged Instead he is surrounded by Willi Cicci and other button men as Hagen steps away Realizing that Michael has uncovered his betrayal Tessio tells Hagen that he always respected Michael and that his disloyalty was only business He asks if Tom can get him off for old times sake but Tom says he can not Tessio is driven away and never seen again it is implied that Cicci shoots and kills Tessio with his own gun after he disarms him prior to entering the car .Meanwhile Michael confronts Carlo about Sonny 's murder and forces him to admit his role in setting up the ambush having been approached by Barzini himself The hitmen who killed Sonny were the core members of Barzini 's personal bodyguard Michael assures Carlo he will not be killed but his punishment is exclusion from all family business He hands Carlo a plane ticket to exile in Las Vegas However when Carlo gets into a car headed for the airport he is immediately garroted to death by Clemenza on Michael 's orders.Later a hysterical Connie confronts Michael at the Corleone compound as movers carry away the furniture in preparation for the family move to Nevada She accuses him of murdering Carlo in retribution for Carlo 's brutal treatment of her and for Carlo 's suspected involvement in Sonny 's murder After Connie is removed from the house Kay questions Michael about Connie 's accusation but he refuses to answer reminding her to never ask him about his business or what he does for a living She insists and Michael outright lies reassuring his wife that he played no role in Carlo 's death Kay believes him and is relieved The film ends with Clemenza and new caporegimes Rocco Lampone and Al Neri arriving and paying their respects to Michael Clemenza kisses Michael 's hand and greets him as Don Corleone As Kay watches the office door is closed\""
      ]
     },
     "execution_count": 38,
     "metadata": {},
     "output_type": "execute_result"
    }
   ],
   "source": [
    "movie_data['normalized_text'][0]"
   ]
  },
  {
   "cell_type": "markdown",
   "id": "188af344",
   "metadata": {},
   "source": [
    "## 2. Création des représentations vectorielles\n",
    "\n",
    "Dans cette partie, vous allez créer pour chaque film une représentation vectorielle avec les coefficients TF-IDF, comme vous l'avez appris en PCD, en utilisant `TfidfVectorizer`.  Veuillez justifier brièvement votre choix de paramètres.\n",
    "\n",
    "a. Veuillez créer les vecteurs dans un tableau appelé `feature_matrix`, avec autant de lignes que de films."
   ]
  },
  {
   "cell_type": "code",
   "execution_count": 61,
   "id": "28ebfddd",
   "metadata": {},
   "outputs": [],
   "source": [
    "from sklearn.feature_extraction.text import TfidfVectorizer"
   ]
  },
  {
   "cell_type": "code",
   "execution_count": 62,
   "id": "6fd9b771",
   "metadata": {},
   "outputs": [],
   "source": [
    "tfidf_vectorizer=TfidfVectorizer(use_idf=True) \n",
    "\n",
    "feature_matrix = tfidf_vectorizer.fit_transform(movie_data['normalized_text'])\n",
    "\n"
   ]
  },
  {
   "cell_type": "markdown",
   "id": "021fa8d8",
   "metadata": {},
   "source": [
    "b. Quel est le nombre de colonnes du tableau `feature_matrix`. Pourquoi ?"
   ]
  },
  {
   "cell_type": "code",
   "execution_count": 63,
   "id": "415e06d6",
   "metadata": {},
   "outputs": [
    {
     "data": {
      "text/plain": [
       "(100, 13789)"
      ]
     },
     "execution_count": 63,
     "metadata": {},
     "output_type": "execute_result"
    }
   ],
   "source": [
    "feature_matrix.shape"
   ]
  },
  {
   "cell_type": "markdown",
   "id": "fb9b05bc",
   "metadata": {},
   "source": [
    "c. Veuillez afficher les mots correspondant aux 20 premières dimensions de `feature_matrix`.  (Note : les dimensions sont classées par ordre alphabétique des mots.)"
   ]
  },
  {
   "cell_type": "code",
   "execution_count": 72,
   "id": "69415666",
   "metadata": {},
   "outputs": [
    {
     "data": {
      "text/plain": [
       "array(['000', '00am', '101st', '11th', '12', '120', '1300', '13th', '14',\n",
       "       '15', '15th', '16', '16th', '17', '18', '1800s', '1880', '18th',\n",
       "       '1900s', '1920s'], dtype=object)"
      ]
     },
     "execution_count": 72,
     "metadata": {},
     "output_type": "execute_result"
    }
   ],
   "source": [
    "feature_names = tfidf_vectorizer.get_feature_names_out()\n",
    "\n",
    "feature_names[:20]"
   ]
  },
  {
   "cell_type": "markdown",
   "id": "baa470da",
   "metadata": {},
   "source": [
    "## 3. Groupement hiérarchique\n",
    "Dans cette section, vous utiliserez un algorithme de groupement hiérarchique et vous afficherez les résultats sous forme de dendrogramme.  Les fonctions utilisées proviendront de `scipy`, comme recommandé par sklearn sous [Plot Hierarchical Clustering Dendrogram](https://scikit-learn.org/stable/auto_examples/cluster/plot_agglomerative_dendrogram.html).  Merci de suivre les indications et répondre aux questions suivantes."
   ]
  },
  {
   "cell_type": "code",
   "execution_count": null,
   "id": "4da48978",
   "metadata": {},
   "outputs": [],
   "source": [
    "from sklearn.metrics.pairwise import cosine_similarity\n",
    "from scipy.cluster.hierarchy import single, complete, average, ward\n",
    "from scipy.cluster.hierarchy import dendrogram, cut_tree\n",
    "import matplotlib.pyplot as plt\n",
    "%matplotlib inline"
   ]
  },
  {
   "cell_type": "markdown",
   "id": "f6bc100e",
   "metadata": {},
   "source": [
    "a. Générer une matrice des distances entre paires de résumés, en utilisant les représentations vectorielles obtenues ci-dessus et la métrique [sklearn.metrics.pairwise.cosine_similarity](https://scikit-learn.org/stable/modules/generated/sklearn.metrics.pairwise.cosine_similarity.html).  Attention, le cosinus étant une similarité, prendre _1-cosinus_ pour obtenir des distances. "
   ]
  },
  {
   "cell_type": "code",
   "execution_count": null,
   "id": "638e5049",
   "metadata": {},
   "outputs": [],
   "source": []
  },
  {
   "cell_type": "markdown",
   "id": "5f5f946e",
   "metadata": {},
   "source": [
    "b. Veuillez utiliser la méthode **ward** de [scipy.cluster.hierarchy](https://docs.scipy.org/doc/scipy/reference/cluster.hierarchy.html) qui effectue le groupement hiérarchique à partir d'une matrice des distances.  Quel est le résultat retourné par la méthode ?"
   ]
  },
  {
   "cell_type": "code",
   "execution_count": null,
   "id": "ce6aceac",
   "metadata": {},
   "outputs": [],
   "source": []
  },
  {
   "cell_type": "markdown",
   "id": "b461b752",
   "metadata": {},
   "source": [
    "c. Afficher le dendrogramme avec la fonction [scipy.cluster.hierarchy.dendrogram](https://docs.scipy.org/doc/scipy/reference/generated/scipy.cluster.hierarchy.dendrogram.html) qui utilise la matrice de liens.  Utiliser l'exemple donné en bas de la page [dendrogram](https://docs.scipy.org/doc/scipy/reference/generated/scipy.cluster.hierarchy.dendrogram.html).  Veuillez afficher un dendrogramme aussi lisible que possible, et en particulier veuillez étiqueter chaque feuille avec le nom du film correspondant."
   ]
  },
  {
   "cell_type": "code",
   "execution_count": null,
   "id": "34e767e2",
   "metadata": {},
   "outputs": [],
   "source": []
  },
  {
   "cell_type": "markdown",
   "id": "a84be2c0",
   "metadata": {},
   "source": [
    "d. Veuillez essayer une deuxième méthode de groupement hiérarchique et afficher son dendrogramme.  Comment se compare-t-il au précédent ?  Le trouvez-vous meilleur, moins bon, ou similaire ? "
   ]
  },
  {
   "cell_type": "code",
   "execution_count": null,
   "id": "98ec5b46",
   "metadata": {},
   "outputs": [],
   "source": []
  },
  {
   "cell_type": "code",
   "execution_count": null,
   "id": "ccd14579",
   "metadata": {},
   "outputs": [],
   "source": []
  },
  {
   "cell_type": "markdown",
   "id": "ec6419ba",
   "metadata": {},
   "source": [
    "e. Quel est le nombre de groupes qui vous semble optimal, pour la méthode de votre choix ?  Pourquoi ?"
   ]
  },
  {
   "cell_type": "code",
   "execution_count": null,
   "id": "6d49b307",
   "metadata": {},
   "outputs": [],
   "source": []
  },
  {
   "cell_type": "markdown",
   "id": "f1dee5e5",
   "metadata": {},
   "source": [
    "## 4. Affichage des groupes et de leurs mots-clés\n",
    "\n",
    "Dans cette section, vous utiliserez la méthode de groupement et le nombre de groupes choisis dans la section précédente.  Pour obtenir un nombre de groupe fixé à l'avance à partir de la matrice *linkage* obtenue au 3b ou 3d, vous pouvez utiliser la fonction `cut_tree`de Scipy. \n",
    "\n",
    "a. Pour chaque groupe, veuillez afficher :\n",
    "* le numéro du groupe (commençant par 1)\n",
    "* les titres des films du groupe\n",
    "* le nombre de films dans le groupe"
   ]
  },
  {
   "cell_type": "code",
   "execution_count": null,
   "id": "e59d1e74",
   "metadata": {},
   "outputs": [],
   "source": []
  },
  {
   "cell_type": "markdown",
   "id": "8616bceb",
   "metadata": {},
   "source": [
    "b. Pour chacun des groupes précédents, veuillez afficher les six meilleurs mots-clés qui le caractérisent.  On définit les mots-clés comme les mots (donc les dimensions résultant du `TfidfVectorizer`) qui ont les plus grands coefficients dans le centre de gravité du groupe."
   ]
  },
  {
   "cell_type": "code",
   "execution_count": null,
   "id": "47bcad8a",
   "metadata": {},
   "outputs": [],
   "source": []
  },
  {
   "cell_type": "markdown",
   "id": "0da57cbd",
   "metadata": {},
   "source": [
    "c. D'après les titres des films (et vos connaissances), les mots-clés obtenus sont-ils représentatifs des groupes ?"
   ]
  },
  {
   "cell_type": "code",
   "execution_count": null,
   "id": "deeebac9",
   "metadata": {},
   "outputs": [],
   "source": []
  },
  {
   "cell_type": "markdown",
   "id": "2b161c17",
   "metadata": {},
   "source": [
    "**Fin du Labo 3.**  Veuillez nettoyer ce notebook, afficher les résultats et les commentaires demandés, l'enregistrer, et le soumettre comme devoir sur Cyberlearn."
   ]
  }
 ],
 "metadata": {
  "kernelspec": {
   "display_name": "PCD",
   "language": "python",
   "name": "python3"
  },
  "language_info": {
   "codemirror_mode": {
    "name": "ipython",
    "version": 3
   },
   "file_extension": ".py",
   "mimetype": "text/x-python",
   "name": "python",
   "nbconvert_exporter": "python",
   "pygments_lexer": "ipython3",
   "version": "3.11.7"
  }
 },
 "nbformat": 4,
 "nbformat_minor": 5
}
